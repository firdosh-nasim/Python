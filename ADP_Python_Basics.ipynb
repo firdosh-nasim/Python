{
 "cells": [
  {
   "cell_type": "markdown",
   "metadata": {},
   "source": [
    "# ADP: Python Basics"
   ]
  },
  {
   "cell_type": "markdown",
   "metadata": {},
   "source": [
    "## -1. Intro on Jupyter Noteebook and Markdown\n",
    "\n",
    "Types of headers.\n",
    "\n",
    "# Header1\n",
    "## Header2\n",
    "### Header3\n",
    "#### Header4\n",
    "##### Header5\n",
    "###### Header6\n",
    "\n",
    " \n",
    "__This is a BOLD text__\n",
    "\n",
    "* This a line with bullet  \n",
    "\n",
    "\n",
    "Embedding an image\n",
    "\n",
    "![alt text](DellEMC.png \"DellEMC Logo\")\n",
    "\n",
    "\n",
    "\n",
    "[Here](https://github.com/adam-p/markdown-here/wiki/Markdown-Cheatsheet \"Markdown Cheatsheet\") is the link to the obtain more info on __Markdown__\n",
    "\n",
    "\n",
    "And this is the ultimate beauty, LATEX\n",
    "\n",
    "\n",
    "The quadratic equation __$ax^2+bx+c=0$__ has 2\n",
    "roots:   \n",
    "**__$x=\\frac{-b \\pm \\sqrt{b^2-4ac}}{2a}$__**"
   ]
  },
  {
   "cell_type": "markdown",
   "metadata": {},
   "source": [
    "## 0. Some Gyaan"
   ]
  },
  {
   "cell_type": "markdown",
   "metadata": {},
   "source": [
    "![alt text](Guido.png \"Guido van Rossum\")"
   ]
  },
  {
   "cell_type": "markdown",
   "metadata": {},
   "source": [
    "**'Knowledge not shared, is wasted.'** - Clan Jacobs"
   ]
  },
  {
   "cell_type": "markdown",
   "metadata": {},
   "source": [
    "__'Knowledge is of no value unless you put it into practice.'__ - Anton Chekhov"
   ]
  },
  {
   "cell_type": "markdown",
   "metadata": {},
   "source": [
    "## 1. Introduction"
   ]
  },
  {
   "cell_type": "markdown",
   "metadata": {
    "collapsed": true
   },
   "source": [
    "[Here](https://docs.python.org/3/tutorial/index.html \"The Python Tutorial\") is the link for **\"The Python Tutorial\"**  \n",
    "[Here](https://docs.python.org/3/library/index.html \"The Python Standard Library\") is the link for **\"The Python Standard Library\"**  \n",
    "[Here](https://docs.python.org/3/reference/index.html \"The Python Language Reference\") is the link for **\"The Python Language Reference\"**  \n",
    "[Here](https://docs.python.org/3/howto/index.html \"Python HOWTOs\") is the link for **\"Python HOWTOs\"**  \n",
    "[Here](https://docs.python.org/3/contents.html \"Python Documentation contents\") is the link for **\"Python Documentation contents\"**   "
   ]
  },
  {
   "cell_type": "code",
   "execution_count": 9,
   "metadata": {},
   "outputs": [
    {
     "name": "stdout",
     "output_type": "stream",
     "text": [
      "The Zen of Python, by Tim Peters\n",
      "\n",
      "Beautiful is better than ugly.\n",
      "Explicit is better than implicit.\n",
      "Simple is better than complex.\n",
      "Complex is better than complicated.\n",
      "Flat is better than nested.\n",
      "Sparse is better than dense.\n",
      "Readability counts.\n",
      "Special cases aren't special enough to break the rules.\n",
      "Although practicality beats purity.\n",
      "Errors should never pass silently.\n",
      "Unless explicitly silenced.\n",
      "In the face of ambiguity, refuse the temptation to guess.\n",
      "There should be one-- and preferably only one --obvious way to do it.\n",
      "Although that way may not be obvious at first unless you're Dutch.\n",
      "Now is better than never.\n",
      "Although never is often better than *right* now.\n",
      "If the implementation is hard to explain, it's a bad idea.\n",
      "If the implementation is easy to explain, it may be a good idea.\n",
      "Namespaces are one honking great idea -- let's do more of those!\n"
     ]
    }
   ],
   "source": [
    "import this"
   ]
  },
  {
   "cell_type": "markdown",
   "metadata": {
    "collapsed": true
   },
   "source": [
    "### 2.  Basic IO operation\n",
    "#### Read input from user (interactive mode)"
   ]
  },
  {
   "cell_type": "code",
   "execution_count": 10,
   "metadata": {},
   "outputs": [
    {
     "name": "stdout",
     "output_type": "stream",
     "text": [
      "Please enter a number: 11\n",
      "User input: 11\n"
     ]
    }
   ],
   "source": [
    "# Read input from user (interactive mode)\n",
    "\n",
    "user_input = input(\"Please enter a number: \")\n",
    "\n",
    "print (\"User input: \" + user_input)\n"
   ]
  },
  {
   "cell_type": "code",
   "execution_count": 11,
   "metadata": {},
   "outputs": [
    {
     "name": "stdout",
     "output_type": "stream",
     "text": [
      "Please enter a number: 144\n",
      "Input value is of type: 144\n",
      "Input value is of type: <class 'str'>\n"
     ]
    }
   ],
   "source": [
    "# Read input from user (interactive mode)\n",
    "\n",
    "user_input = input(\"Please enter a number: \")\n",
    "\n",
    "#print (\"User input: \" + str(user_input))\n",
    "\n",
    "print (\"Input value is of type: %s\" %(user_input))\n",
    "print (\"Input value is of type: %s\" %(type(user_input)))"
   ]
  },
  {
   "cell_type": "code",
   "execution_count": 12,
   "metadata": {},
   "outputs": [
    {
     "name": "stdout",
     "output_type": "stream",
     "text": [
      "Input value is of type: <class 'str'>\n",
      "Input value is of type: 144 and something else\n",
      "spam and eggs\n",
      "eggs and spam\n",
      "This spam is absolutely horrible.\n"
     ]
    }
   ],
   "source": [
    "# Identify the type of variable\n",
    "print (\"Input value is of type: %s\" %(type(user_input))) # Old approach\n",
    "\n",
    "# Another way\n",
    "print (\"Input value is of type: {0} and {1}\".format((user_input), 'something else'))\n",
    "\n",
    "# One more approach - named param. \n",
    "print('{0} and {1}'.format('spam', 'eggs'))\n",
    "print('{1} and {0}'.format('spam', 'eggs'))\n",
    "# param sequence can be changed.\n",
    "print('This {food} is {adjective}.'.format(adjective='absolutely horrible', food='spam'))\n"
   ]
  },
  {
   "cell_type": "code",
   "execution_count": 13,
   "metadata": {},
   "outputs": [
    {
     "name": "stdout",
     "output_type": "stream",
     "text": [
      "Swaroop was 20 years old when he wrote this book\n",
      "Why is Swaroop playing with that python?\n"
     ]
    }
   ],
   "source": [
    "age = 20\n",
    "name = 'Swaroop'\n",
    "print(f'{name} was {age} years old when he wrote this book') # notice the 'f' before the string\n",
    "print(f'Why is {name} playing with that python?') # notice the 'f' before the string"
   ]
  },
  {
   "cell_type": "code",
   "execution_count": 14,
   "metadata": {},
   "outputs": [
    {
     "name": "stdout",
     "output_type": "stream",
     "text": [
      "0.333333 0.6666666666666666 0.666667\n",
      "_____________________________________hello______________________________________\n",
      "Swaroop wrote A Byte of Python\n"
     ]
    }
   ],
   "source": [
    "# decimal (.) precision of 3 for float '0.333'\n",
    "print('{0:.6f} {1} {1:.6f}'.format(1.0/3, 2/3))\n",
    "# fill with underscores (_) with the text centered\n",
    "# (^) to 11 width '___hello___'\n",
    "print('{0:_^80}'.format('hello'))\n",
    "# keyword-based 'Swaroop wrote A Byte of Python'\n",
    "print('{name} wrote {book}'.format(name='Swaroop', book='A Byte of Python'))"
   ]
  },
  {
   "cell_type": "code",
   "execution_count": 15,
   "metadata": {},
   "outputs": [
    {
     "name": "stdout",
     "output_type": "stream",
     "text": [
      "This is a string. This continues the string.\n"
     ]
    }
   ],
   "source": [
    "# Mutli line break with \\\n",
    "s = 'This is a string. \\\n",
    "This continues the string.'\n",
    "print(s)"
   ]
  },
  {
   "cell_type": "code",
   "execution_count": 16,
   "metadata": {},
   "outputs": [
    {
     "name": "stdout",
     "output_type": "stream",
     "text": [
      "5\n"
     ]
    }
   ],
   "source": [
    "i = \\\n",
    "5\n",
    "print(i)"
   ]
  },
  {
   "cell_type": "code",
   "execution_count": 17,
   "metadata": {},
   "outputs": [
    {
     "name": "stdout",
     "output_type": "stream",
     "text": [
      "11\n"
     ]
    }
   ],
   "source": [
    "ii = 5 + \\\n",
    "6\n",
    "print(ii)"
   ]
  },
  {
   "cell_type": "code",
   "execution_count": 18,
   "metadata": {},
   "outputs": [
    {
     "name": "stdout",
     "output_type": "stream",
     "text": [
      "The value of PI is approximately 3.142.\n"
     ]
    }
   ],
   "source": [
    "import math\n",
    "print('The value of PI is approximately {0:.3f}.'.format(math.pi))"
   ]
  },
  {
   "cell_type": "code",
   "execution_count": 19,
   "metadata": {},
   "outputs": [
    {
     "name": "stdout",
     "output_type": "stream",
     "text": [
      "Please enter a number: 2334\n",
      "User input: 2334, 3434\n"
     ]
    }
   ],
   "source": [
    "# Typecasting user input\n",
    "# Read input from user (interactive mode)\n",
    "\n",
    "user_input = int(input(\"Please enter a number: \"))\n",
    "\n",
    "print (\"User input: {}, {}\".format(user_input, 3434)) # Should this work?"
   ]
  },
  {
   "cell_type": "markdown",
   "metadata": {},
   "source": [
    "#### Read input from file"
   ]
  },
  {
   "cell_type": "code",
   "execution_count": 20,
   "metadata": {},
   "outputs": [
    {
     "name": "stdout",
     "output_type": "stream",
     "text": [
      "It is good practice to use the with keyword when dealing with file objects.\n",
      "The advantage is that the file is properly closed after its suite finishes, even if an exception is raised at some point. \n",
      "Using with is also much shorter than writing equivalent try-finally blocks.\n"
     ]
    }
   ],
   "source": [
    "with open('workfile.txt') as f:\n",
    "    read_data = f.read()\n",
    "#f.close()\n",
    "print(read_data)"
   ]
  },
  {
   "cell_type": "code",
   "execution_count": 21,
   "metadata": {},
   "outputs": [
    {
     "name": "stdout",
     "output_type": "stream",
     "text": [
      "IT IS GOOD PRACTICE TO USE THE WITH KEYWORD WHEN DEALING WITH FILE OBJECTS.\n",
      "THE ADVANTAGE IS THAT THE FILE IS PROPERLY CLOSED AFTER ITS SUITE FINISHES, EVEN IF AN EXCEPTION IS RAISED AT SOME POINT. \n",
      "USING WITH IS ALSO MUCH SHORTER THAN WRITING EQUIVALENT TRY-FINALLY BLOCKS.\n"
     ]
    }
   ],
   "source": [
    "with open('workfile.txt') as f:\n",
    "    read_data = f.read().upper()\n",
    "#f.close()\n",
    "print(read_data)"
   ]
  },
  {
   "cell_type": "code",
   "execution_count": 22,
   "metadata": {},
   "outputs": [
    {
     "name": "stdout",
     "output_type": "stream",
     "text": [
      "['It is good practice to use the with keyword when dealing with file objects.\\n', 'The advantage is that the file is properly closed after its suite finishes, even if an exception is raised at some point. \\n', 'Using with is also much shorter than writing equivalent try-finally blocks.']\n",
      "<class 'list'>\n"
     ]
    }
   ],
   "source": [
    "#TBD\n",
    "with open('workfile.txt') as f:\n",
    "    lines = f.readlines()\n",
    "print(lines)\n",
    "print(type(lines))"
   ]
  },
  {
   "cell_type": "code",
   "execution_count": 23,
   "metadata": {},
   "outputs": [
    {
     "name": "stdout",
     "output_type": "stream",
     "text": [
      "['It Is Good Practice To Use The With Keyword When Dealing With File Objects.', 'The Advantage Is That The File Is Properly Closed After Its Suite Finishes, Even If An Exception Is Raised At Some Point.', 'Using With Is Also Much Shorter Than Writing Equivalent Try-Finally Blocks.']\n",
      "<class 'list'>\n"
     ]
    }
   ],
   "source": [
    "#TBD\n",
    "with open('workfile.txt') as f:\n",
    "    lines = f.readlines()\n",
    "lines = list(map(lambda x: x.rstrip().title(), lines))\n",
    "print(lines)\n",
    "print(type(lines))"
   ]
  },
  {
   "cell_type": "code",
   "execution_count": 24,
   "metadata": {},
   "outputs": [
    {
     "name": "stdout",
     "output_type": "stream",
     "text": [
      "['It Is Good Practice To Use The With Keyword When Dealing With File Objects.', 'The Advantage Is That The File Is Properly Closed After Its Suite Finishes, Even If An Exception Is Raised At Some Point.', 'Using With Is Also Much Shorter Than Writing Equivalent Try-Finally Blocks.']\n",
      "<class 'list'>\n"
     ]
    }
   ],
   "source": [
    "#TBD\n",
    "with open('workfile.txt') as f:\n",
    "    lines = f.readlines()\n",
    "lines = list(map(lambda x: x.rstrip().title(), lines))\n",
    "print(lines)\n",
    "print(type(lines))\n",
    "\n",
    "with open('out_file.txt', 'w') as f1:\n",
    "    f1.write(' '.join(lines))"
   ]
  },
  {
   "cell_type": "code",
   "execution_count": null,
   "metadata": {
    "collapsed": true
   },
   "outputs": [],
   "source": []
  },
  {
   "cell_type": "code",
   "execution_count": 25,
   "metadata": {},
   "outputs": [
    {
     "data": {
      "text/plain": [
       "'It Is Good Practice To Use The With Keyword When Dealing With File Objects.'"
      ]
     },
     "execution_count": 25,
     "metadata": {},
     "output_type": "execute_result"
    }
   ],
   "source": [
    "lines[0].rstrip()"
   ]
  },
  {
   "cell_type": "code",
   "execution_count": 26,
   "metadata": {},
   "outputs": [
    {
     "data": {
      "text/plain": [
       "'It Is Good Practice To Use The With Keyword When Dealing With File Objects.'"
      ]
     },
     "execution_count": 26,
     "metadata": {},
     "output_type": "execute_result"
    }
   ],
   "source": [
    "lines[0]"
   ]
  },
  {
   "cell_type": "code",
   "execution_count": 27,
   "metadata": {},
   "outputs": [
    {
     "name": "stdout",
     "output_type": "stream",
     "text": [
      "It is good\n",
      "<class 'str'>\n"
     ]
    }
   ],
   "source": [
    "#TBD\n",
    "with open('workfile.txt') as f:\n",
    "    lines = f.readline(10)\n",
    "print(lines)\n",
    "print(type(lines))"
   ]
  },
  {
   "cell_type": "code",
   "execution_count": 28,
   "metadata": {},
   "outputs": [
    {
     "name": "stdout",
     "output_type": "stream",
     "text": [
      "Man said :  Is this the right room for an argument?\n",
      "\n",
      "Other Man said :  I've told you once.\n",
      "\n",
      "Man said :  No you haven't!\n",
      "\n",
      "Other Man said :  Yes I have.\n",
      "\n",
      "Man said :  When?\n",
      "\n",
      "Other Man said :  Just now.\n",
      "\n",
      "Man said :  No you didn't!\n",
      "\n",
      "Other Man said :  Yes I did!\n",
      "\n",
      "Man said :  You didn't!\n",
      "\n",
      "Other Man said :  I'm telling you, I did!\n",
      "\n",
      "Man said :  You did not!\n",
      "\n",
      "Other Man said :  Now let's get one thing quite clear: I most definitely told you!\n",
      "\n",
      "Other Man said :  Oh I'm sorry, is this a five minute argument, or the full half hour?\n",
      "\n",
      "Man said :  Ah! (taking out his wallet and paying) Just the five minutes.\n",
      "\n",
      "Other Man said :  Just the five minutes. Thank you.\n",
      "\n",
      "Other Man said :  Anyway, I did.\n",
      "\n",
      "Man said :  You most certainly did not!\n"
     ]
    }
   ],
   "source": [
    "f = open('conversation.txt')\n",
    "for each_line in f:\n",
    "    role, text = each_line.split(':', 1)\n",
    "    print(\"{0} said : {1}\".format(role, text))\n",
    "f.close()"
   ]
  },
  {
   "cell_type": "code",
   "execution_count": 31,
   "metadata": {},
   "outputs": [
    {
     "name": "stdout",
     "output_type": "stream",
     "text": [
      "First time: It is good practice to use the with keyword when dealing with file objects.\n",
      "The advantage is that the file is properly closed after its suite finishes, even if an exception is raised at some point. \n",
      "Using with is also much shorter than writing equivalent try-finally blocks.\n",
      "Second time: \n"
     ]
    }
   ],
   "source": [
    "# Read input from file\n",
    "read_data = ''\n",
    "f = open('workfile.txt', 'r')\n",
    "read_data = f.read()\n",
    "#print(\"First time: \" + read_data)\n",
    "\n",
    "read_again = f.read() # Should reading the same file again fetch the content?\n",
    "f.close()\n",
    "#f.read() # Should this throw error?\n",
    "\n",
    "\n",
    "print(\"First time: \" + read_data)\n",
    "\n",
    "print(\"Second time: \" + read_again)\n"
   ]
  },
  {
   "cell_type": "markdown",
   "metadata": {},
   "source": [
    "#### Read input from file with seek()"
   ]
  },
  {
   "cell_type": "code",
   "execution_count": 32,
   "metadata": {},
   "outputs": [
    {
     "name": "stdout",
     "output_type": "stream",
     "text": [
      "First time: It is good practice to use the with keyword when dealing with file objects.\n",
      "The advantage is that the file is properly closed after its suite finishes, even if an exception is raised at some point. \n",
      "Using with is also much shorter than writing equivalent try-finally blocks.\n",
      "\n",
      "Second time: he file is properly closed after its suite finishes, even if an exception is raised at some point. \n",
      "Using with is also much shorter than writing equivalent try-finally blocks.\n"
     ]
    }
   ],
   "source": [
    "# Read input from file 2nd time\n",
    "#read_data = '' # Pre-declaration not needed\n",
    "f = open('workfile.txt', 'r')\n",
    "read_data = f.read()\n",
    "f.seek(100)\n",
    "read_again = f.read()\n",
    "f.close()\n",
    "\n",
    "print(\"First time: \" + read_data)\n",
    "print()\n",
    "print(\"Second time: \" + read_again)"
   ]
  },
  {
   "cell_type": "markdown",
   "metadata": {},
   "source": [
    "#### Write into the a file"
   ]
  },
  {
   "cell_type": "code",
   "execution_count": 33,
   "metadata": {},
   "outputs": [
    {
     "name": "stdout",
     "output_type": "stream",
     "text": [
      "Inital data: It is good practice to use the with keyword when dealing with file objects.\n",
      "The advantage is that the file is properly closed after its suite finishes, even if an exception is raised at some point. \n",
      "Using with is also much shorter than writing equivalent try-finally blocks.\n",
      "CAP data: iT IS GOOD PRACTICE TO USE THE WITH KEYWORD WHEN DEALING WITH FILE OBJECTS.\n",
      "tHE ADVANTAGE IS THAT THE FILE IS PROPERLY CLOSED AFTER ITS SUITE FINISHES, EVEN IF AN EXCEPTION IS RAISED AT SOME POINT. \n",
      "uSING WITH IS ALSO MUCH SHORTER THAN WRITING EQUIVALENT TRY-FINALLY BLOCKS.\n"
     ]
    }
   ],
   "source": [
    "# Write into a file\n",
    "read_data = ''\n",
    "f = open('workfile.txt')\n",
    "read_data = f.read()\n",
    "f.close()\n",
    "print(\"Inital data: \"+ read_data)\n",
    "# Introduce the approach to use help\n",
    "cap_data = read_data.swapcase()\n",
    "print (\"CAP data: \" + cap_data)\n",
    "\n",
    "f = open('newfile.txt', 'w')\n",
    "f.write(cap_data)\n",
    "f.close()"
   ]
  },
  {
   "cell_type": "markdown",
   "metadata": {},
   "source": [
    "#### Python builtin help functions\n",
    "* Python dir() function  \n",
    "* Python help() function  \n",
    "* Python type() function  \n",
    "* Python \\__doc\\__ function  \n",
    "* Using \\__builtins\\__\n",
    "\n",
    "This [link](https://www.linuxnix.com/python-builtin-helpdir-help-type-and-___doc_-functions/) has good examples on usage of different helps."
   ]
  },
  {
   "cell_type": "code",
   "execution_count": 34,
   "metadata": {},
   "outputs": [
    {
     "name": "stdout",
     "output_type": "stream",
     "text": [
      "['__add__', '__class__', '__contains__', '__delattr__', '__dir__', '__doc__', '__eq__', '__format__', '__ge__', '__getattribute__', '__getitem__', '__getnewargs__', '__gt__', '__hash__', '__init__', '__init_subclass__', '__iter__', '__le__', '__len__', '__lt__', '__mod__', '__mul__', '__ne__', '__new__', '__reduce__', '__reduce_ex__', '__repr__', '__rmod__', '__rmul__', '__setattr__', '__sizeof__', '__str__', '__subclasshook__', 'capitalize', 'casefold', 'center', 'count', 'encode', 'endswith', 'expandtabs', 'find', 'format', 'format_map', 'index', 'isalnum', 'isalpha', 'isdecimal', 'isdigit', 'isidentifier', 'islower', 'isnumeric', 'isprintable', 'isspace', 'istitle', 'isupper', 'join', 'ljust', 'lower', 'lstrip', 'maketrans', 'partition', 'replace', 'rfind', 'rindex', 'rjust', 'rpartition', 'rsplit', 'rstrip', 'split', 'splitlines', 'startswith', 'strip', 'swapcase', 'title', 'translate', 'upper', 'zfill']\n"
     ]
    }
   ],
   "source": [
    "aa = 'abc'\n",
    "print(dir(aa))\n",
    "#dir('5')"
   ]
  },
  {
   "cell_type": "code",
   "execution_count": 35,
   "metadata": {},
   "outputs": [
    {
     "name": "stdout",
     "output_type": "stream",
     "text": [
      "Help on built-in function zfill:\n",
      "\n",
      "zfill(...) method of builtins.str instance\n",
      "    S.zfill(width) -> str\n",
      "    \n",
      "    Pad a numeric string S with zeros on the left, to fill a field\n",
      "    of the specified width. The string S is never truncated.\n",
      "\n"
     ]
    },
    {
     "data": {
      "text/plain": [
       "'0000000abc'"
      ]
     },
     "execution_count": 35,
     "metadata": {},
     "output_type": "execute_result"
    }
   ],
   "source": [
    "aa = 'abc'\n",
    "help(aa.zfill)\n",
    "aa.zfill(10)\n",
    "#help(aa)"
   ]
  },
  {
   "cell_type": "code",
   "execution_count": 36,
   "metadata": {},
   "outputs": [
    {
     "name": "stdout",
     "output_type": "stream",
     "text": [
      "S.zfill(width) -> str\n",
      "\n",
      "Pad a numeric string S with zeros on the left, to fill a field\n",
      "of the specified width. The string S is never truncated.\n"
     ]
    }
   ],
   "source": [
    "aa = 'abc'\n",
    "#print (aa.__doc__)\n",
    "#print('='*80)\n",
    "print (aa.zfill.__doc__)\n"
   ]
  },
  {
   "cell_type": "code",
   "execution_count": 37,
   "metadata": {},
   "outputs": [
    {
     "name": "stdout",
     "output_type": "stream",
     "text": [
      "['ArithmeticError', 'AssertionError', 'AttributeError', 'BaseException', 'BlockingIOError', 'BrokenPipeError', 'BufferError', 'BytesWarning', 'ChildProcessError', 'ConnectionAbortedError', 'ConnectionError', 'ConnectionRefusedError', 'ConnectionResetError', 'DeprecationWarning', 'EOFError', 'Ellipsis', 'EnvironmentError', 'Exception', 'False', 'FileExistsError', 'FileNotFoundError', 'FloatingPointError', 'FutureWarning', 'GeneratorExit', 'IOError', 'ImportError', 'ImportWarning', 'IndentationError', 'IndexError', 'InterruptedError', 'IsADirectoryError', 'KeyError', 'KeyboardInterrupt', 'LookupError', 'MemoryError', 'ModuleNotFoundError', 'NameError', 'None', 'NotADirectoryError', 'NotImplemented', 'NotImplementedError', 'OSError', 'OverflowError', 'PendingDeprecationWarning', 'PermissionError', 'ProcessLookupError', 'RecursionError', 'ReferenceError', 'ResourceWarning', 'RuntimeError', 'RuntimeWarning', 'StopAsyncIteration', 'StopIteration', 'SyntaxError', 'SyntaxWarning', 'SystemError', 'SystemExit', 'TabError', 'TimeoutError', 'True', 'TypeError', 'UnboundLocalError', 'UnicodeDecodeError', 'UnicodeEncodeError', 'UnicodeError', 'UnicodeTranslateError', 'UnicodeWarning', 'UserWarning', 'ValueError', 'Warning', 'WindowsError', 'ZeroDivisionError', '__IPYTHON__', '__build_class__', '__debug__', '__doc__', '__import__', '__loader__', '__name__', '__package__', '__spec__', 'abs', 'all', 'any', 'ascii', 'bin', 'bool', 'bytearray', 'bytes', 'callable', 'chr', 'classmethod', 'compile', 'complex', 'copyright', 'credits', 'delattr', 'dict', 'dir', 'display', 'divmod', 'enumerate', 'eval', 'exec', 'filter', 'float', 'format', 'frozenset', 'get_ipython', 'getattr', 'globals', 'hasattr', 'hash', 'help', 'hex', 'id', 'input', 'int', 'isinstance', 'issubclass', 'iter', 'len', 'license', 'list', 'locals', 'map', 'max', 'memoryview', 'min', 'next', 'object', 'oct', 'open', 'ord', 'pow', 'print', 'property', 'range', 'repr', 'reversed', 'round', 'set', 'setattr', 'slice', 'sorted', 'staticmethod', 'str', 'sum', 'super', 'tuple', 'type', 'vars', 'zip']\n"
     ]
    }
   ],
   "source": [
    "print(dir(__builtins__))"
   ]
  },
  {
   "cell_type": "markdown",
   "metadata": {},
   "source": [
    "#### Process data and write into the a file"
   ]
  },
  {
   "cell_type": "code",
   "execution_count": 38,
   "metadata": {},
   "outputs": [
    {
     "name": "stdout",
     "output_type": "stream",
     "text": [
      "{'It': 1, 'is': 5, 'good': 1, 'practice': 1, 'to': 1, 'use': 1, 'the': 2, 'with': 3, 'keyword': 1, 'when': 1, 'dealing': 1, 'file': 2, 'objects.': 1, 'The': 1, 'advantage': 1, 'that': 1, 'properly': 1, 'closed': 1, 'after': 1, 'its': 1, 'suite': 1, 'finishes,': 1, 'even': 1, 'if': 1, 'an': 1, 'exception': 1, 'raised': 1, 'at': 1, 'some': 1, 'point.': 1, 'Using': 1, 'also': 1, 'much': 1, 'shorter': 1, 'than': 1, 'writing': 1, 'equivalent': 1, 'try-finally': 1, 'blocks.': 1}\n"
     ]
    }
   ],
   "source": [
    "# Read from a file, process the data and then write into the file\n",
    "# Will cover this after data types.\n",
    "read_data = ''\n",
    "f = open('workfile.txt', 'r')\n",
    "read_data = f.read()\n",
    "f.close()\n",
    "\n",
    "# Perform some operation\n",
    "data_dict = {}\n",
    "for ii in read_data.split():\n",
    "    if ii not in data_dict.keys():\n",
    "        data_dict[ii] = 1\n",
    "    else:\n",
    "        data_dict[ii] += 1\n",
    "\n",
    "print (data_dict)\n",
    "\n",
    "f = open('newfile.txt', 'w')\n",
    "f.write(str(data_dict))\n",
    "f.close()"
   ]
  },
  {
   "cell_type": "code",
   "execution_count": 39,
   "metadata": {},
   "outputs": [
    {
     "name": "stdout",
     "output_type": "stream",
     "text": [
      "{'writing': 1, 'blocks.': 1, 'exception': 1, 'even': 1, 'if': 1, 'also': 1, 'after': 1, 'finishes,': 1, 'Using': 1, 'use': 1, 'file': 2, 'an': 1, 'suite': 1, 'objects.': 1, 'equivalent': 1, 'its': 1, 'good': 1, 'the': 2, 'It': 1, 'dealing': 1, 'much': 1, 'to': 1, 'at': 1, 'keyword': 1, 'The': 1, 'advantage': 1, 'with': 3, 'closed': 1, 'raised': 1, 'some': 1, 'shorter': 1, 'practice': 1, 'that': 1, 'point.': 1, 'is': 5, 'when': 1, 'try-finally': 1, 'than': 1, 'properly': 1}\n"
     ]
    }
   ],
   "source": [
    "# Read from a file, process the data and then write into the file\n",
    "# Will cover this after data types.\n",
    "read_data = ''\n",
    "f = open('workfile.txt', 'r')\n",
    "read_data = f.read()\n",
    "f.close()\n",
    "\n",
    "# Perform some operation\n",
    "data_dict = {}\n",
    "for ii in set(read_data.split()):\n",
    "    data_dict[ii] = read_data.split().count(ii)\n",
    "\n",
    "print (data_dict)\n",
    "\n",
    "f = open('newfile.txt', 'w')\n",
    "f.write(str(data_dict))\n",
    "f.close()"
   ]
  },
  {
   "cell_type": "markdown",
   "metadata": {},
   "source": [
    "### 3. An Informal Introduction to Python\n",
    "#### 3.1. Using Python as a Calculator\n",
    "\n",
    "##### 3.1.1. Numbers"
   ]
  },
  {
   "cell_type": "code",
   "execution_count": 40,
   "metadata": {},
   "outputs": [
    {
     "data": {
      "text/plain": [
       "4"
      ]
     },
     "execution_count": 40,
     "metadata": {},
     "output_type": "execute_result"
    }
   ],
   "source": [
    "2 + 2"
   ]
  },
  {
   "cell_type": "code",
   "execution_count": 41,
   "metadata": {},
   "outputs": [
    {
     "ename": "TypeError",
     "evalue": "must be str, not int",
     "output_type": "error",
     "traceback": [
      "\u001b[1;31m---------------------------------------------------------------------------\u001b[0m",
      "\u001b[1;31mTypeError\u001b[0m                                 Traceback (most recent call last)",
      "\u001b[1;32m<ipython-input-41-06418f48f5d8>\u001b[0m in \u001b[0;36m<module>\u001b[1;34m()\u001b[0m\n\u001b[1;32m----> 1\u001b[1;33m \u001b[1;34m'2'\u001b[0m\u001b[1;33m+\u001b[0m\u001b[1;36m2\u001b[0m\u001b[1;33m\u001b[0m\u001b[0m\n\u001b[0m",
      "\u001b[1;31mTypeError\u001b[0m: must be str, not int"
     ]
    }
   ],
   "source": [
    "'2'+2"
   ]
  },
  {
   "cell_type": "code",
   "execution_count": 44,
   "metadata": {},
   "outputs": [
    {
     "ename": "TypeError",
     "evalue": "unsupported operand type(s) for +: 'int' and 'str'",
     "output_type": "error",
     "traceback": [
      "\u001b[1;31m---------------------------------------------------------------------------\u001b[0m",
      "\u001b[1;31mTypeError\u001b[0m                                 Traceback (most recent call last)",
      "\u001b[1;32m<ipython-input-44-520cfc4f4ec7>\u001b[0m in \u001b[0;36m<module>\u001b[1;34m()\u001b[0m\n\u001b[1;32m----> 1\u001b[1;33m \u001b[1;36m2\u001b[0m\u001b[1;33m+\u001b[0m\u001b[1;34m'2'\u001b[0m\u001b[1;33m\u001b[0m\u001b[0m\n\u001b[0m",
      "\u001b[1;31mTypeError\u001b[0m: unsupported operand type(s) for +: 'int' and 'str'"
     ]
    }
   ],
   "source": [
    "2+'2'"
   ]
  },
  {
   "cell_type": "code",
   "execution_count": 45,
   "metadata": {},
   "outputs": [
    {
     "data": {
      "text/plain": [
       "-27.3"
      ]
     },
     "execution_count": 45,
     "metadata": {},
     "output_type": "execute_result"
    }
   ],
   "source": [
    "10/50 + (5/2)- 5*6"
   ]
  },
  {
   "cell_type": "code",
   "execution_count": 46,
   "metadata": {},
   "outputs": [
    {
     "data": {
      "text/plain": [
       "2.5"
      ]
     },
     "execution_count": 46,
     "metadata": {},
     "output_type": "execute_result"
    }
   ],
   "source": [
    "5/2 # Normal division "
   ]
  },
  {
   "cell_type": "code",
   "execution_count": 47,
   "metadata": {},
   "outputs": [
    {
     "data": {
      "text/plain": [
       "2"
      ]
     },
     "execution_count": 47,
     "metadata": {},
     "output_type": "execute_result"
    }
   ],
   "source": [
    "(int)(5/2)"
   ]
  },
  {
   "cell_type": "code",
   "execution_count": 48,
   "metadata": {},
   "outputs": [
    {
     "data": {
      "text/plain": [
       "3.3333333333333335"
      ]
     },
     "execution_count": 48,
     "metadata": {},
     "output_type": "execute_result"
    }
   ],
   "source": [
    "10/3"
   ]
  },
  {
   "cell_type": "code",
   "execution_count": 49,
   "metadata": {},
   "outputs": [
    {
     "data": {
      "text/plain": [
       "2"
      ]
     },
     "execution_count": 49,
     "metadata": {},
     "output_type": "execute_result"
    }
   ],
   "source": [
    "5//2 # Floor division"
   ]
  },
  {
   "cell_type": "code",
   "execution_count": 50,
   "metadata": {},
   "outputs": [
    {
     "data": {
      "text/plain": [
       "0.5"
      ]
     },
     "execution_count": 50,
     "metadata": {},
     "output_type": "execute_result"
    }
   ],
   "source": [
    "aa = 5\n",
    "bb = 10\n",
    "aa/bb\n"
   ]
  },
  {
   "cell_type": "code",
   "execution_count": 51,
   "metadata": {},
   "outputs": [
    {
     "ename": "TypeError",
     "evalue": "unsupported operand type(s) for /: 'str' and 'int'",
     "output_type": "error",
     "traceback": [
      "\u001b[1;31m---------------------------------------------------------------------------\u001b[0m",
      "\u001b[1;31mTypeError\u001b[0m                                 Traceback (most recent call last)",
      "\u001b[1;32m<ipython-input-51-d1eeb08a2bf7>\u001b[0m in \u001b[0;36m<module>\u001b[1;34m()\u001b[0m\n\u001b[0;32m      1\u001b[0m \u001b[0maa\u001b[0m \u001b[1;33m=\u001b[0m \u001b[1;34m'5'\u001b[0m\u001b[1;33m\u001b[0m\u001b[0m\n\u001b[0;32m      2\u001b[0m \u001b[0mbb\u001b[0m \u001b[1;33m=\u001b[0m \u001b[1;36m2\u001b[0m\u001b[1;33m\u001b[0m\u001b[0m\n\u001b[1;32m----> 3\u001b[1;33m \u001b[0maa\u001b[0m\u001b[1;33m/\u001b[0m\u001b[0mbb\u001b[0m\u001b[1;33m\u001b[0m\u001b[0m\n\u001b[0m",
      "\u001b[1;31mTypeError\u001b[0m: unsupported operand type(s) for /: 'str' and 'int'"
     ]
    }
   ],
   "source": [
    "aa = '5'\n",
    "bb = 2\n",
    "aa/bb"
   ]
  },
  {
   "cell_type": "code",
   "execution_count": 60,
   "metadata": {},
   "outputs": [
    {
     "ename": "TypeError",
     "evalue": "unsupported operand type(s) for /: 'str' and 'str'",
     "output_type": "error",
     "traceback": [
      "\u001b[1;31m---------------------------------------------------------------------------\u001b[0m",
      "\u001b[1;31mTypeError\u001b[0m                                 Traceback (most recent call last)",
      "\u001b[1;32m<ipython-input-60-0532e6e8fa3d>\u001b[0m in \u001b[0;36m<module>\u001b[1;34m()\u001b[0m\n\u001b[0;32m      1\u001b[0m \u001b[0maa\u001b[0m \u001b[1;33m=\u001b[0m \u001b[1;34m'5'\u001b[0m\u001b[1;33m\u001b[0m\u001b[0m\n\u001b[0;32m      2\u001b[0m \u001b[0mbb\u001b[0m \u001b[1;33m=\u001b[0m \u001b[1;34m'2'\u001b[0m\u001b[1;33m\u001b[0m\u001b[0m\n\u001b[1;32m----> 3\u001b[1;33m \u001b[0maa\u001b[0m\u001b[1;33m/\u001b[0m\u001b[0mbb\u001b[0m\u001b[1;33m\u001b[0m\u001b[0m\n\u001b[0m",
      "\u001b[1;31mTypeError\u001b[0m: unsupported operand type(s) for /: 'str' and 'str'"
     ]
    }
   ],
   "source": [
    "aa = '5'\n",
    "bb = '2'\n",
    "aa/bb"
   ]
  },
  {
   "cell_type": "markdown",
   "metadata": {
    "collapsed": true
   },
   "source": [
    "##### 3.1.2. Strings"
   ]
  },
  {
   "cell_type": "code",
   "execution_count": 69,
   "metadata": {},
   "outputs": [
    {
     "name": "stdout",
     "output_type": "stream",
     "text": [
      "Newstring\n",
      "newString\n"
     ]
    }
   ],
   "source": [
    "aa = 'newString'\n",
    "print(aa.capitalize())\n",
    "print(aa)"
   ]
  },
  {
   "cell_type": "code",
   "execution_count": 70,
   "metadata": {},
   "outputs": [
    {
     "name": "stdout",
     "output_type": "stream",
     "text": [
      "C:\\some\n",
      "ame\n",
      "C:\\some\\name\n"
     ]
    }
   ],
   "source": [
    "print('C:\\some\\name')  # here \\n means newline!\n",
    "print(r'C:\\some\\name')  # note the r before the quote"
   ]
  },
  {
   "cell_type": "code",
   "execution_count": 71,
   "metadata": {},
   "outputs": [
    {
     "name": "stdout",
     "output_type": "stream",
     "text": [
      "\"Isn't,\" she said.\n"
     ]
    }
   ],
   "source": [
    "# How to correct this?\n",
    "print('\"Isn\\'t,\" she said.') "
   ]
  },
  {
   "cell_type": "code",
   "execution_count": 73,
   "metadata": {},
   "outputs": [
    {
     "name": "stdout",
     "output_type": "stream",
     "text": [
      "Usage: thingy [OPTIONS]\n",
      "     -h                        Display this usage message\n",
      "     -H hostname               Hostname to connect to\n",
      "\n"
     ]
    }
   ],
   "source": [
    "# Multiline comment\n",
    "print(\"\"\"\\\n",
    "Usage: thingy [OPTIONS]\n",
    "     -h                        Display this usage message\n",
    "     -H hostname               Hostname to connect to\n",
    "\"\"\")"
   ]
  },
  {
   "cell_type": "code",
   "execution_count": 74,
   "metadata": {},
   "outputs": [
    {
     "data": {
      "text/plain": [
       "'unununium'"
      ]
     },
     "execution_count": 74,
     "metadata": {},
     "output_type": "execute_result"
    }
   ],
   "source": [
    "# String repeatation\n",
    "# 3 times 'un', followed by 'ium'\n",
    "3 * 'un' + 'ium'"
   ]
  },
  {
   "cell_type": "code",
   "execution_count": 75,
   "metadata": {},
   "outputs": [
    {
     "data": {
      "text/plain": [
       "'Put several strings within parentheses to have them joined together.'"
      ]
     },
     "execution_count": 75,
     "metadata": {},
     "output_type": "execute_result"
    }
   ],
   "source": [
    "# Breaking a long line\n",
    "text = ('Put several strings within parentheses '\n",
    "    'to have them joined together.')\n",
    "text"
   ]
  },
  {
   "cell_type": "markdown",
   "metadata": {
    "collapsed": true
   },
   "source": [
    "###### Understanding string indexing"
   ]
  },
  {
   "cell_type": "code",
   "execution_count": 76,
   "metadata": {},
   "outputs": [
    {
     "name": "stdout",
     "output_type": "stream",
     "text": [
      "P\n",
      "n\n"
     ]
    },
    {
     "ename": "IndexError",
     "evalue": "string index out of range",
     "output_type": "error",
     "traceback": [
      "\u001b[1;31m---------------------------------------------------------------------------\u001b[0m",
      "\u001b[1;31mIndexError\u001b[0m                                Traceback (most recent call last)",
      "\u001b[1;32m<ipython-input-76-cb8e70fb531e>\u001b[0m in \u001b[0;36m<module>\u001b[1;34m()\u001b[0m\n\u001b[0;32m      2\u001b[0m \u001b[0mprint\u001b[0m\u001b[1;33m(\u001b[0m\u001b[0mword\u001b[0m\u001b[1;33m[\u001b[0m\u001b[1;36m0\u001b[0m\u001b[1;33m]\u001b[0m\u001b[1;33m)\u001b[0m  \u001b[1;31m# character in position 0\u001b[0m\u001b[1;33m\u001b[0m\u001b[0m\n\u001b[0;32m      3\u001b[0m \u001b[0mprint\u001b[0m\u001b[1;33m(\u001b[0m\u001b[0mword\u001b[0m\u001b[1;33m[\u001b[0m\u001b[1;36m5\u001b[0m\u001b[1;33m]\u001b[0m\u001b[1;33m)\u001b[0m  \u001b[1;31m# character in position 5\u001b[0m\u001b[1;33m\u001b[0m\u001b[0m\n\u001b[1;32m----> 4\u001b[1;33m \u001b[0mprint\u001b[0m\u001b[1;33m(\u001b[0m\u001b[0mword\u001b[0m\u001b[1;33m[\u001b[0m\u001b[1;36m6\u001b[0m\u001b[1;33m]\u001b[0m\u001b[1;33m)\u001b[0m  \u001b[1;31m# ????\u001b[0m\u001b[1;33m\u001b[0m\u001b[0m\n\u001b[0m",
      "\u001b[1;31mIndexError\u001b[0m: string index out of range"
     ]
    }
   ],
   "source": [
    "word = 'Python'\n",
    "print(word[0])  # character in position 0\n",
    "print(word[5])  # character in position 5\n",
    "print(word[6])  # ????"
   ]
  },
  {
   "cell_type": "code",
   "execution_count": 78,
   "metadata": {},
   "outputs": [
    {
     "name": "stdout",
     "output_type": "stream",
     "text": [
      "n\n",
      "o\n",
      "P\n"
     ]
    },
    {
     "ename": "IndexError",
     "evalue": "string index out of range",
     "output_type": "error",
     "traceback": [
      "\u001b[1;31m---------------------------------------------------------------------------\u001b[0m",
      "\u001b[1;31mIndexError\u001b[0m                                Traceback (most recent call last)",
      "\u001b[1;32m<ipython-input-78-c338a2ad8b8a>\u001b[0m in \u001b[0;36m<module>\u001b[1;34m()\u001b[0m\n\u001b[0;32m      3\u001b[0m \u001b[0mprint\u001b[0m\u001b[1;33m(\u001b[0m\u001b[0mword\u001b[0m\u001b[1;33m[\u001b[0m\u001b[1;33m-\u001b[0m\u001b[1;36m2\u001b[0m\u001b[1;33m]\u001b[0m\u001b[1;33m)\u001b[0m  \u001b[1;31m# second-last character\u001b[0m\u001b[1;33m\u001b[0m\u001b[0m\n\u001b[0;32m      4\u001b[0m \u001b[0mprint\u001b[0m\u001b[1;33m(\u001b[0m\u001b[0mword\u001b[0m\u001b[1;33m[\u001b[0m\u001b[1;33m-\u001b[0m\u001b[1;36m6\u001b[0m\u001b[1;33m]\u001b[0m\u001b[1;33m)\u001b[0m  \u001b[1;31m# First character\u001b[0m\u001b[1;33m\u001b[0m\u001b[0m\n\u001b[1;32m----> 5\u001b[1;33m \u001b[0mprint\u001b[0m\u001b[1;33m(\u001b[0m\u001b[0mword\u001b[0m\u001b[1;33m[\u001b[0m\u001b[1;33m-\u001b[0m\u001b[1;36m7\u001b[0m\u001b[1;33m]\u001b[0m\u001b[1;33m)\u001b[0m  \u001b[1;31m# ????\u001b[0m\u001b[1;33m\u001b[0m\u001b[0m\n\u001b[0m",
      "\u001b[1;31mIndexError\u001b[0m: string index out of range"
     ]
    }
   ],
   "source": [
    "word = 'Python'\n",
    "print(word[-1])  # last character\n",
    "print(word[-2])  # second-last character\n",
    "print(word[-6])  # First character \n",
    "print(word[-7])  # ???? \n"
   ]
  },
  {
   "cell_type": "code",
   "execution_count": 79,
   "metadata": {},
   "outputs": [
    {
     "name": "stdout",
     "output_type": "stream",
     "text": [
      "Py\n",
      "tho\n",
      "thon\n"
     ]
    }
   ],
   "source": [
    "word = 'Python'\n",
    "print(word[0:2])  # characters from position 0 (included) to 2 (excluded)\n",
    "print(word[2:5])  # characters from position 2 (included) to 5 (excluded)\n",
    "print(word[2:10])  # ????"
   ]
  },
  {
   "cell_type": "code",
   "execution_count": 80,
   "metadata": {},
   "outputs": [
    {
     "name": "stdout",
     "output_type": "stream",
     "text": [
      "Py\n",
      "on\n",
      "on\n",
      "tho\n"
     ]
    }
   ],
   "source": [
    "word = 'Python'\n",
    "print(word[:2])   # character from the beginning to position 2 (excluded)\n",
    "print(word[4:])   # characters from position 4 (included) to the end\n",
    "print(word[-2:])  # ????\n",
    "print(word[-4:-1]) #TBD"
   ]
  },
  {
   "cell_type": "code",
   "execution_count": 82,
   "metadata": {},
   "outputs": [
    {
     "name": "stdout",
     "output_type": "stream",
     "text": [
      "Python\n",
      "6\n"
     ]
    }
   ],
   "source": [
    "# Length of string\n",
    "print(word)\n",
    "print(len(word))"
   ]
  },
  {
   "cell_type": "code",
   "execution_count": 83,
   "metadata": {},
   "outputs": [
    {
     "name": "stdout",
     "output_type": "stream",
     "text": [
      "55\n"
     ]
    }
   ],
   "source": [
    "import sys\n",
    "print(sys.getsizeof(word))"
   ]
  },
  {
   "cell_type": "code",
   "execution_count": 84,
   "metadata": {},
   "outputs": [
    {
     "name": "stdout",
     "output_type": "stream",
     "text": [
      "<class 'list'>\n",
      "['something', ':', 'nothing']\n"
     ]
    }
   ],
   "source": [
    "aa = \"something  : nothing\"\n",
    "print(type(aa.split()))\n",
    "print(aa.split())"
   ]
  },
  {
   "cell_type": "code",
   "execution_count": 85,
   "metadata": {},
   "outputs": [
    {
     "name": "stdout",
     "output_type": "stream",
     "text": [
      "[' something  ', ' nothing ']\n",
      "['something', 'nothing']\n"
     ]
    }
   ],
   "source": [
    "aa = \" something  : nothing \"\n",
    "#print(type(aa.split()))\n",
    "print(aa.split(':'))\n",
    "print (list(map(lambda x: x.strip(), aa.split(':'))))\n"
   ]
  },
  {
   "cell_type": "markdown",
   "metadata": {},
   "source": [
    "##### 3.1.3. Lists"
   ]
  },
  {
   "cell_type": "code",
   "execution_count": 86,
   "metadata": {},
   "outputs": [
    {
     "name": "stdout",
     "output_type": "stream",
     "text": [
      "I have 4 items to purchase.\n",
      "These items are: apple mango carrot banana \n",
      "I also have to buy rice.\n",
      "My shopping list is now ['apple', 'mango', 'carrot', 'banana', 'rice']\n",
      "I will sort my list now\n",
      "Sorted shopping list is ['apple', 'banana', 'carrot', 'mango', 'rice']\n",
      "The first item I will buy is apple\n",
      "I bought the apple\n",
      "My shopping list is now ['banana', 'carrot', 'mango', 'rice']\n"
     ]
    }
   ],
   "source": [
    "# This is my shopping list\n",
    "shoplist = ['apple', 'mango', 'carrot', 'banana']\n",
    "print('I have', len(shoplist), 'items to purchase.')\n",
    "print('These items are:', end=' ')\n",
    "for item in shoplist:\n",
    "    print(item, end=' ')\n",
    "print('\\nI also have to buy rice.')\n",
    "shoplist.append('rice')\n",
    "print('My shopping list is now', shoplist)\n",
    "print('I will sort my list now')\n",
    "shoplist.sort()\n",
    "print('Sorted shopping list is', shoplist)\n",
    "print('The first item I will buy is', shoplist[0])\n",
    "olditem = shoplist[0]\n",
    "del shoplist[0]\n",
    "print('I bought the', olditem)\n",
    "print('My shopping list is now', shoplist)"
   ]
  },
  {
   "cell_type": "code",
   "execution_count": 87,
   "metadata": {},
   "outputs": [
    {
     "name": "stdout",
     "output_type": "stream",
     "text": [
      "[1, 4, 9, 16, 25]\n",
      "<class 'list'>\n"
     ]
    }
   ],
   "source": [
    "squares = [1, 4, 9, 16, 25]\n",
    "print(squares)\n",
    "print(type(squares))"
   ]
  },
  {
   "cell_type": "code",
   "execution_count": 88,
   "metadata": {},
   "outputs": [
    {
     "name": "stdout",
     "output_type": "stream",
     "text": [
      "[1, 4, 9, 'sixteen', 25]\n"
     ]
    }
   ],
   "source": [
    "# Supports dissimilar data types  \n",
    "squares = [1, 4, 9, 'sixteen', 25]\n",
    "print(squares)"
   ]
  },
  {
   "cell_type": "code",
   "execution_count": 89,
   "metadata": {},
   "outputs": [
    {
     "name": "stdout",
     "output_type": "stream",
     "text": [
      "1\n",
      "25\n",
      "[9, 'sixteen', 25]\n"
     ]
    }
   ],
   "source": [
    "# Indexing and slicing\n",
    "print(squares[0])  # indexing returns the item\n",
    "print(squares[-1]) # Last item\n",
    "print(squares[-3:])  # slicing returns a new list"
   ]
  },
  {
   "cell_type": "code",
   "execution_count": 90,
   "metadata": {},
   "outputs": [
    {
     "name": "stdout",
     "output_type": "stream",
     "text": [
      "[1, 4, 9, 'sixteen', 25]\n"
     ]
    }
   ],
   "source": [
    "#squares_odd = [1, 9, 25]\n",
    "#squares_even = [4, 16, 36]\n",
    "#squares = squares_even + squares_odd\n",
    "print(squares)"
   ]
  },
  {
   "cell_type": "code",
   "execution_count": 91,
   "metadata": {},
   "outputs": [
    {
     "name": "stdout",
     "output_type": "stream",
     "text": [
      "['aa', 'bb', ['a', 'b', 'c']]\n",
      "<class 'list'>\n",
      "<class 'str'>\n",
      "<class 'str'>\n",
      "<class 'list'>\n",
      "['a', 'b', 'c']\n",
      "c\n"
     ]
    }
   ],
   "source": [
    "squares = ['a', 'b', 'c']\n",
    "new_list = ['aa', 'bb', squares]\n",
    "print(new_list) # Guess the output of this print\n",
    "print(type(new_list))\n",
    "print(type(new_list[0]))\n",
    "print(type(new_list[1]))\n",
    "print(type(new_list[2]))\n",
    "print (new_list[2])\n",
    "print (new_list[2][2])"
   ]
  },
  {
   "cell_type": "code",
   "execution_count": 92,
   "metadata": {},
   "outputs": [
    {
     "name": "stdout",
     "output_type": "stream",
     "text": [
      "[['a', 'b', 'c'], [1, 2, 3]]\n"
     ]
    }
   ],
   "source": [
    "# Matrix formation\n",
    "a = ['a', 'b', 'c']\n",
    "n = [1, 2, 3]\n",
    "x = [a, n]\n",
    "print(x)"
   ]
  },
  {
   "cell_type": "code",
   "execution_count": 93,
   "metadata": {},
   "outputs": [
    {
     "name": "stdout",
     "output_type": "stream",
     "text": [
      "<class 'list'>\n",
      "<class 'int'>\n",
      "[4, 16, 36, 1, 9, 'something', 11]\n",
      "<class 'str'>\n",
      "[4, 16, 36, 1, 9, 'something', 'nothing']\n"
     ]
    }
   ],
   "source": [
    "squares = [4, 16, 36, 1, 9, 25, 11]\n",
    "\n",
    "print(type(squares))\n",
    "print(type(squares[0]))\n",
    "squares[5] = 'something'\n",
    "print(squares)\n",
    "print(type(squares[5]))\n",
    "\n",
    "# Will this work?\n",
    "squares[6] = 'nothing'\n",
    "print(squares)"
   ]
  },
  {
   "cell_type": "code",
   "execution_count": 94,
   "metadata": {},
   "outputs": [
    {
     "name": "stdout",
     "output_type": "stream",
     "text": [
      "[4, 16, 36, 1, 9, 'something', 'nothing', 'anything']\n"
     ]
    }
   ],
   "source": [
    "# Adding element to a list\n",
    "squares.append('anything')\n",
    "print(squares)"
   ]
  },
  {
   "cell_type": "code",
   "execution_count": 95,
   "metadata": {},
   "outputs": [
    {
     "name": "stdout",
     "output_type": "stream",
     "text": [
      "anything\n",
      "[4, 16, 36, 1, 9, 'something', 'nothing']\n"
     ]
    }
   ],
   "source": [
    "# Poping-out from list\n",
    "print(squares.pop(-1))\n",
    "print(squares)\n"
   ]
  },
  {
   "cell_type": "code",
   "execution_count": 96,
   "metadata": {},
   "outputs": [
    {
     "name": "stdout",
     "output_type": "stream",
     "text": [
      "36\n",
      "[4, 16, 1, 9, 'something', 'nothing']\n"
     ]
    }
   ],
   "source": [
    "print(squares.pop(2))\n",
    "print(squares)"
   ]
  },
  {
   "cell_type": "code",
   "execution_count": 97,
   "metadata": {},
   "outputs": [
    {
     "name": "stdout",
     "output_type": "stream",
     "text": [
      "3\n",
      "[['a', 'b', 'c'], [1, 2, 3]]\n",
      "2\n",
      "3\n"
     ]
    }
   ],
   "source": [
    "# Length of list\n",
    "print(len(a))\n",
    "print(x)\n",
    "print(len(x))\n",
    "print(len(x[0]))"
   ]
  },
  {
   "cell_type": "code",
   "execution_count": 98,
   "metadata": {},
   "outputs": [
    {
     "name": "stdout",
     "output_type": "stream",
     "text": [
      "['a', 'b', 'C', 'D', 'E', 'XX', 'f', 'g', 'h', 'i']\n"
     ]
    }
   ],
   "source": [
    "# Replacing element in a list\n",
    "a = ['a', 'b', 'c', 'd', 'e', 'f', 'g', 'h', 'i']\n",
    "a[2:5] = ['C', 'D', 'E', 'XX']\n",
    "print(a)"
   ]
  },
  {
   "cell_type": "code",
   "execution_count": 99,
   "metadata": {},
   "outputs": [
    {
     "ename": "TypeError",
     "evalue": "'str' object does not support item assignment",
     "output_type": "error",
     "traceback": [
      "\u001b[1;31m---------------------------------------------------------------------------\u001b[0m",
      "\u001b[1;31mTypeError\u001b[0m                                 Traceback (most recent call last)",
      "\u001b[1;32m<ipython-input-99-1739b1ff568e>\u001b[0m in \u001b[0;36m<module>\u001b[1;34m()\u001b[0m\n\u001b[0;32m      1\u001b[0m \u001b[1;31m# Replacing element in a string\u001b[0m\u001b[1;33m\u001b[0m\u001b[1;33m\u001b[0m\u001b[0m\n\u001b[0;32m      2\u001b[0m \u001b[0mmy_str\u001b[0m \u001b[1;33m=\u001b[0m \u001b[1;34m'python'\u001b[0m\u001b[1;33m\u001b[0m\u001b[0m\n\u001b[1;32m----> 3\u001b[1;33m \u001b[0mmy_str\u001b[0m\u001b[1;33m[\u001b[0m\u001b[1;36m0\u001b[0m\u001b[1;33m]\u001b[0m \u001b[1;33m=\u001b[0m \u001b[1;34m'j'\u001b[0m\u001b[1;33m\u001b[0m\u001b[0m\n\u001b[0m",
      "\u001b[1;31mTypeError\u001b[0m: 'str' object does not support item assignment"
     ]
    }
   ],
   "source": [
    "# Replacing element in a string\n",
    "my_str = 'python'\n",
    "my_str[0] = 'j'"
   ]
  },
  {
   "cell_type": "code",
   "execution_count": 100,
   "metadata": {},
   "outputs": [
    {
     "name": "stdout",
     "output_type": "stream",
     "text": [
      "True\n",
      "False\n"
     ]
    }
   ],
   "source": [
    "ii = [10, 20, 30, 40]\n",
    "print (10 in ii)\n",
    "print ('10' in ii)"
   ]
  },
  {
   "cell_type": "markdown",
   "metadata": {
    "collapsed": true
   },
   "source": [
    "###### Understanding immutable objects\n",
    "Good [link](https://medium.com/@meghamohan/mutable-and-immutable-side-of-python-c2145cf72747) about Mutable and Immutable objects. Courtesy: **Megha Mohan**"
   ]
  },
  {
   "cell_type": "code",
   "execution_count": 101,
   "metadata": {},
   "outputs": [
    {
     "ename": "TypeError",
     "evalue": "'str' object does not support item assignment",
     "output_type": "error",
     "traceback": [
      "\u001b[1;31m---------------------------------------------------------------------------\u001b[0m",
      "\u001b[1;31mTypeError\u001b[0m                                 Traceback (most recent call last)",
      "\u001b[1;32m<ipython-input-101-62a9864eb35d>\u001b[0m in \u001b[0;36m<module>\u001b[1;34m()\u001b[0m\n\u001b[0;32m      1\u001b[0m \u001b[1;31m# Python strings cannot be changed — they are immutable. Therefore, assigning to an indexed position in the string results in an error:\u001b[0m\u001b[1;33m\u001b[0m\u001b[1;33m\u001b[0m\u001b[0m\n\u001b[0;32m      2\u001b[0m \u001b[0mword\u001b[0m \u001b[1;33m=\u001b[0m \u001b[1;34m'python'\u001b[0m\u001b[1;33m\u001b[0m\u001b[0m\n\u001b[1;32m----> 3\u001b[1;33m \u001b[0mword\u001b[0m\u001b[1;33m[\u001b[0m\u001b[1;36m0\u001b[0m\u001b[1;33m]\u001b[0m \u001b[1;33m=\u001b[0m \u001b[1;34m'J'\u001b[0m\u001b[1;33m\u001b[0m\u001b[0m\n\u001b[0m\u001b[0;32m      4\u001b[0m '''\n\u001b[0;32m      5\u001b[0m \u001b[0mimmutable\u001b[0m\u001b[1;33m\u001b[0m\u001b[0m\n",
      "\u001b[1;31mTypeError\u001b[0m: 'str' object does not support item assignment"
     ]
    }
   ],
   "source": [
    "# Python strings cannot be changed — they are immutable. Therefore, assigning to an indexed position in the string results in an error:\n",
    "word = 'python'\n",
    "word[0] = 'J'\n",
    "'''\n",
    "immutable\n",
    "An object with a fixed value. Immutable objects include numbers, strings and tuples. Such an object cannot be altered. A new object has to be created if a different value has to be stored. They play an important role in places where a constant hash value is needed, for example as a key in a dictionary.\n",
    "'''\n"
   ]
  },
  {
   "cell_type": "code",
   "execution_count": 102,
   "metadata": {},
   "outputs": [
    {
     "name": "stdout",
     "output_type": "stream",
     "text": [
      "<class 'int'>\n",
      "1716478240\n",
      "1716478240\n",
      "<class 'int'>\n",
      "1716478240\n",
      "1716478240\n",
      "1716478240\n"
     ]
    }
   ],
   "source": [
    "type(5)\n",
    "x = 5\n",
    "print(type(x))\n",
    "print(id(x))\n",
    "y = 5\n",
    "print(id(y))\n",
    "\n",
    "print(type(x))\n",
    "print(id(x))\n",
    "del x\n",
    "del y\n",
    "x = 5\n",
    "y = 5\n",
    "#print(id(x))\n",
    "print(id(y))\n",
    "\n",
    "print(id(x))"
   ]
  },
  {
   "cell_type": "code",
   "execution_count": 103,
   "metadata": {},
   "outputs": [
    {
     "data": {
      "text/plain": [
       "1716478400"
      ]
     },
     "execution_count": 103,
     "metadata": {},
     "output_type": "execute_result"
    }
   ],
   "source": [
    "type(10)\n",
    "id(10)"
   ]
  },
  {
   "cell_type": "code",
   "execution_count": 104,
   "metadata": {},
   "outputs": [
    {
     "name": "stdout",
     "output_type": "stream",
     "text": [
      "2465379577328\n",
      "<class 'str'>\n",
      "2465379577328\n",
      "2465379577328\n",
      "True\n",
      "2467429104584\n",
      "2465379577328\n",
      "1716478240\n",
      "<class 'int'>\n",
      "1716479680\n",
      "False\n"
     ]
    }
   ],
   "source": [
    "# Example 1\n",
    "x = \"Holberton\"\n",
    "y = \"Holberton\"\n",
    "z = x\n",
    "print(id(x))\n",
    "print(type(x))\n",
    "\n",
    "print(id(y))\n",
    "print(id(z))\n",
    "print(x is y) #comparing the types\n",
    "x = \"abc\"\n",
    "print(id(x))\n",
    "print(id(z))\n",
    "\n",
    "# Example 2\n",
    "a = 5\n",
    "b = 50\n",
    "print(id(a))\n",
    "print(type(a))\n",
    "\n",
    "print(id(b))\n",
    "\n",
    "print(a is b) #comparing the types\n",
    "\n"
   ]
  },
  {
   "cell_type": "code",
   "execution_count": 105,
   "metadata": {},
   "outputs": [
    {
     "name": "stdout",
     "output_type": "stream",
     "text": [
      "2465379577328\n",
      "2465379576560\n",
      "2465379577328\n",
      "<class 'str'>\n"
     ]
    }
   ],
   "source": [
    "# Example 1\n",
    "x = \"Holberton\"\n",
    "y = \"Holberton1\"\n",
    "z = x\n",
    "print(id(x))\n",
    "print(id(y))\n",
    "print(id(z))\n",
    "print(type(x))"
   ]
  },
  {
   "cell_type": "code",
   "execution_count": 106,
   "metadata": {},
   "outputs": [
    {
     "name": "stdout",
     "output_type": "stream",
     "text": [
      "1716478400\n",
      "1716478400\n",
      "================================================================================\n",
      "1716478368\n",
      "1716478368\n",
      "1716478400\n"
     ]
    }
   ],
   "source": [
    "x = 10\n",
    "y = x\n",
    "print(id(x))\n",
    "print(id(y))\n",
    "#x += 1\n",
    "#print(id(x))\n",
    "#print(id(y))\n",
    "print('='*80)\n",
    "a = 9\n",
    "print(id(a))\n",
    "b = 9\n",
    "print(id(b))\n",
    "z = a + 1\n",
    "#z = 10\n",
    "print(id(z))\n",
    "\n",
    "\n",
    "\n"
   ]
  },
  {
   "cell_type": "code",
   "execution_count": 107,
   "metadata": {},
   "outputs": [
    {
     "name": "stdout",
     "output_type": "stream",
     "text": [
      "<class 'int'>\n"
     ]
    }
   ],
   "source": [
    "print(type(10))"
   ]
  },
  {
   "cell_type": "code",
   "execution_count": 108,
   "metadata": {},
   "outputs": [
    {
     "name": "stdout",
     "output_type": "stream",
     "text": [
      "2465379058184\n",
      "2465379061448\n",
      "2465379058184\n",
      "['a', 'b', 'c', 'd', 'e']\n",
      "2465379058184\n",
      "2465379058184\n",
      "['a', 'b', 'c', 'd', 'e']\n"
     ]
    }
   ],
   "source": [
    "a = ['a', 'b', 'c', 'd']\n",
    "b = ['a', 'b', 'c', 'd']\n",
    "c = a\n",
    "print(id(a))\n",
    "print(id(b))\n",
    "print(id(c))\n",
    "\n",
    "a.append('e')\n",
    "print (a)\n",
    "print(id(a))\n",
    "print(id(c))\n",
    "print (c)"
   ]
  },
  {
   "cell_type": "code",
   "execution_count": 109,
   "metadata": {},
   "outputs": [
    {
     "name": "stdout",
     "output_type": "stream",
     "text": [
      "HOlbertOn\n"
     ]
    },
    {
     "data": {
      "text/plain": [
       "\"\\nfor ii in x:\\n    #print(ii)\\n    if ii == 'o':\\n        ii = ii.upper()\\n    else:\\n        pass\\n    aa.append(ii)\\n\""
      ]
     },
     "execution_count": 109,
     "metadata": {},
     "output_type": "execute_result"
    }
   ],
   "source": [
    "# Example 1\n",
    "x = 'Holberton'\n",
    "print(''.join([ii.upper() if ii == 'o' else ii for ii in x]), flush=True)\n",
    "\"\"\"\n",
    "for ii in x:\n",
    "    #print(ii)\n",
    "    if ii == 'o':\n",
    "        ii = ii.upper()\n",
    "    else:\n",
    "        pass\n",
    "    aa.append(ii)\n",
    "\"\"\"\n",
    "#print(aa)\n"
   ]
  },
  {
   "cell_type": "markdown",
   "metadata": {},
   "source": [
    "### 4. More Control Flow Tools\n",
    "#### 4.1. if Statements\n"
   ]
  },
  {
   "cell_type": "code",
   "execution_count": 111,
   "metadata": {},
   "outputs": [
    {
     "name": "stdout",
     "output_type": "stream",
     "text": [
      "Please enter an integer: 223\n",
      "More\n"
     ]
    }
   ],
   "source": [
    "x = int(input(\"Please enter an integer: \"))\n",
    "\n",
    "if x < 0:\n",
    "    x = 0\n",
    "    print('Negative changed to zero')\n",
    "elif x == 0:\n",
    "    print('Zero')\n",
    "elif x == 1:\n",
    "    print('Single')\n",
    "else:\n",
    "    print('More')"
   ]
  },
  {
   "cell_type": "code",
   "execution_count": 112,
   "metadata": {},
   "outputs": [
    {
     "name": "stdout",
     "output_type": "stream",
     "text": [
      "Enter an integer : 666\n",
      "No, it is a little lower than that\n",
      "Done\n"
     ]
    }
   ],
   "source": [
    "number = 23\n",
    "guess = int(input('Enter an integer : '))\n",
    "if guess == number:\n",
    "    # New block starts here\n",
    "    print('Congratulations, you guessed it.')\n",
    "    print('(but you do not win any prizes!)')\n",
    "    # New block ends here\n",
    "elif guess < number:\n",
    "    # Another block\n",
    "    print('No, it is a little higher than that')\n",
    "    # You can do whatever you want in a block ...\n",
    "else:\n",
    "    print('No, it is a little lower than that')\n",
    "    \n",
    "# you must have guessed > number to reach here\n",
    "print('Done')\n",
    "# This last statement is always executed,\n",
    "# after the if statement is executed."
   ]
  },
  {
   "cell_type": "markdown",
   "metadata": {},
   "source": [
    "#### 4.2. for Statements\n"
   ]
  },
  {
   "cell_type": "code",
   "execution_count": 113,
   "metadata": {},
   "outputs": [
    {
     "name": "stdout",
     "output_type": "stream",
     "text": [
      "cat 3\n",
      "window 6\n",
      "defenestrate 12\n"
     ]
    }
   ],
   "source": [
    "# Measure some strings:\n",
    "words = ['cat', 'window', 'defenestrate']\n",
    "for w in words:\n",
    "    print(w, len(w))\n"
   ]
  },
  {
   "cell_type": "code",
   "execution_count": 114,
   "metadata": {},
   "outputs": [
    {
     "name": "stdout",
     "output_type": "stream",
     "text": [
      "yy\n",
      "somethingyynothing\n"
     ]
    }
   ],
   "source": [
    "end = 'yy'\n",
    "print(end)\n",
    "# Print without new line\n",
    "print (\"something\", end=end)\n",
    "print (\"nothing\")"
   ]
  },
  {
   "cell_type": "code",
   "execution_count": 115,
   "metadata": {},
   "outputs": [
    {
     "name": "stdout",
     "output_type": "stream",
     "text": [
      "defenestrate 12\n",
      "something 9\n",
      "nothing 7\n"
     ]
    }
   ],
   "source": [
    "# Iterating through subset\n",
    "words = ['cat', 'window', 'defenestrate', 'something', 'nothing']\n",
    "for w in words[2:]:\n",
    "    print(w, len(w))"
   ]
  },
  {
   "cell_type": "code",
   "execution_count": 116,
   "metadata": {},
   "outputs": [
    {
     "name": "stdout",
     "output_type": "stream",
     "text": [
      "cat 3\n",
      "dog 3\n",
      "ball 4\n",
      "['cat', 'dog', 'ball']\n"
     ]
    }
   ],
   "source": [
    "# Iterate and conditionally select\n",
    "words = ['cat', 'window', 'defenestrate', 'something', 'nothing', 'dog', 'ball']\n",
    "new_list = []\n",
    "nn = 0\n",
    "for w in words:\n",
    "    if len(w) <= 4:\n",
    "        print(w, len(w))\n",
    "        new_list.append(w)\n",
    "print(new_list)"
   ]
  },
  {
   "cell_type": "code",
   "execution_count": 117,
   "metadata": {},
   "outputs": [
    {
     "name": "stdout",
     "output_type": "stream",
     "text": [
      "1\n",
      "2\n",
      "3\n",
      "4\n",
      "The for loop is over\n"
     ]
    }
   ],
   "source": [
    "for i in range(1, 5):\n",
    "    print(i)\n",
    "else:\n",
    "    print('The for loop is over')"
   ]
  },
  {
   "cell_type": "markdown",
   "metadata": {},
   "source": [
    "#### while"
   ]
  },
  {
   "cell_type": "code",
   "execution_count": 118,
   "metadata": {},
   "outputs": [
    {
     "name": "stdout",
     "output_type": "stream",
     "text": [
      "The while loop is over.\n",
      "Done\n"
     ]
    }
   ],
   "source": [
    "number = 23\n",
    "running = False\n",
    "while running:\n",
    "    guess = int(input('Enter an integer : '))\n",
    "    if guess == number:\n",
    "        print('Congratulations, you guessed it.')\n",
    "        # this causes the while loop to stop\n",
    "        running = False\n",
    "    elif guess < number:\n",
    "        print('No, it is a little higher than that.')\n",
    "    else:\n",
    "        print('No, it is a little lower than that.')\n",
    "else:\n",
    "    print('The while loop is over.')\n",
    "    # Do anything else you want to do here\n",
    "print('Done')"
   ]
  },
  {
   "cell_type": "code",
   "execution_count": 119,
   "metadata": {},
   "outputs": [
    {
     "name": "stdout",
     "output_type": "stream",
     "text": [
      "Enter a string: rrt\n",
      "Entered string is rrt\n",
      "Enter a string: quit\n"
     ]
    }
   ],
   "source": [
    "while True:\n",
    "    in_str = input(\"Enter a string: \")\n",
    "    if in_str == 'quit':\n",
    "        break\n",
    "    else:\n",
    "        print (f\"Entered string is {in_str}\")\n",
    "else:\n",
    "    print(\"Out of while loop\")"
   ]
  },
  {
   "cell_type": "code",
   "execution_count": 120,
   "metadata": {},
   "outputs": [
    {
     "name": "stdout",
     "output_type": "stream",
     "text": [
      "Enter something : rt\n",
      "Length of the string is 2\n",
      "Enter something : quit\n",
      "Done\n"
     ]
    }
   ],
   "source": [
    "while True:\n",
    "    s = input('Enter something : ')\n",
    "    if s == 'quit':\n",
    "        break\n",
    "    print('Length of the string is', len(s))\n",
    "print('Done')"
   ]
  },
  {
   "cell_type": "markdown",
   "metadata": {},
   "source": [
    "#### 4.3. The range() Function\n"
   ]
  },
  {
   "cell_type": "code",
   "execution_count": 121,
   "metadata": {},
   "outputs": [
    {
     "name": "stdout",
     "output_type": "stream",
     "text": [
      "range(0, 10)\n",
      "<class 'range'>\n",
      "[0, 1, 2, 3, 4, 5, 6, 7, 8, 9]\n",
      "<class 'range'>\n",
      "[0, 1, 2, 3, 4]\n",
      "[0, 1, 2, 3, 4]\n",
      "[5, 6, 7, 8, 9]\n",
      "[5, 10, 15, 20]\n",
      "[5, 0, -5, -10, -15, -20]\n"
     ]
    }
   ],
   "source": [
    "aa = range(10)\n",
    "print(aa)\n",
    "print(type(aa))\n",
    "print(list(aa))\n",
    "print(type(range(10)))\n",
    "print(list(range(5))) # [0, 1, 2, 3, 4] = range(0,5,1)\n",
    "print(list(range(0,5,1)))\n",
    "print(list(range(5, 10))) # [5, 6, 7, 8, 9]\n",
    "print(list(range(5, 25, 5))) # [5, 10, 15, 20]\n",
    "print(list(range(5, -25, -5))) # [5, 0, -5, -10, -15, -20]"
   ]
  },
  {
   "cell_type": "code",
   "execution_count": 122,
   "metadata": {},
   "outputs": [
    {
     "name": "stdout",
     "output_type": "stream",
     "text": [
      "[5, 4, 3, 2]\n"
     ]
    }
   ],
   "source": [
    "print(list(range(5,1,-1)))"
   ]
  },
  {
   "cell_type": "code",
   "execution_count": 123,
   "metadata": {},
   "outputs": [
    {
     "name": "stdout",
     "output_type": "stream",
     "text": [
      "<class 'range'>\n",
      "range(-25, 5, 5)\n"
     ]
    }
   ],
   "source": [
    "aa = range(-25, 5, 5)\n",
    "print(type(aa))\n",
    "print((aa))"
   ]
  },
  {
   "cell_type": "code",
   "execution_count": 124,
   "metadata": {},
   "outputs": [
    {
     "name": "stdout",
     "output_type": "stream",
     "text": [
      "0\t1\t2\t3\t4\t5\t6\t7\t8\t9\t"
     ]
    }
   ],
   "source": [
    "for ii in range(10):\n",
    "    print (ii, end=\"\\t\")"
   ]
  },
  {
   "cell_type": "code",
   "execution_count": 125,
   "metadata": {},
   "outputs": [
    {
     "name": "stdout",
     "output_type": "stream",
     "text": [
      "0 Mary\n",
      "1 had\n",
      "2 a\n",
      "3 little\n",
      "4 lamb\n"
     ]
    }
   ],
   "source": [
    "a = ['Mary', 'had', 'a', 'little', 'lamb']\n",
    "for i in range(len(a)):\n",
    "    print(i, a[i])"
   ]
  },
  {
   "cell_type": "code",
   "execution_count": 126,
   "metadata": {},
   "outputs": [
    {
     "name": "stdout",
     "output_type": "stream",
     "text": [
      "0: Mary\n",
      "1: had\n",
      "2: a\n",
      "3: little\n",
      "4: lamb\n"
     ]
    }
   ],
   "source": [
    "a = ['Mary', 'had', 'a', 'little', 'lamb']\n",
    "for index, element in enumerate(a):\n",
    "    print(f\"{index}: {element}\")"
   ]
  },
  {
   "cell_type": "markdown",
   "metadata": {},
   "source": [
    "#### 4.4. break and continue Statements, and else Clauses on Loops\n"
   ]
  },
  {
   "cell_type": "code",
   "execution_count": 127,
   "metadata": {},
   "outputs": [
    {
     "name": "stdout",
     "output_type": "stream",
     "text": [
      "2 is a prime number\n",
      "3 is a prime number\n",
      "4 equals 2 * 2\n",
      "5 is a prime number\n",
      "6 equals 2 * 3\n",
      "7 is a prime number\n",
      "8 equals 2 * 4\n",
      "9 equals 3 * 3\n"
     ]
    }
   ],
   "source": [
    "for n in range(2, 10):\n",
    "    for x in range(2, n):\n",
    "        if n % x == 0:\n",
    "            print(n, 'equals', x, '*', n//x)\n",
    "            break\n",
    "    else:\n",
    "        # loop fell through without finding a factor\n",
    "        print(n, 'is a prime number')"
   ]
  },
  {
   "cell_type": "code",
   "execution_count": 128,
   "metadata": {},
   "outputs": [
    {
     "name": "stdout",
     "output_type": "stream",
     "text": [
      "[2, 3, 4, 5, 6, 7, 8, 9]\n"
     ]
    }
   ],
   "source": [
    "print (list(range(2,10)))"
   ]
  },
  {
   "cell_type": "code",
   "execution_count": 129,
   "metadata": {},
   "outputs": [
    {
     "name": "stdout",
     "output_type": "stream",
     "text": [
      "Found an even number. No need to store:  2\n",
      "Found an odd number. Store it:  3\n",
      "Found an even number. No need to store:  4\n",
      "Found an odd number. Store it:  5\n",
      "Found an even number. No need to store:  6\n",
      "Found an odd number. Store it:  7\n",
      "Found an even number. No need to store:  8\n",
      "Found an odd number. Store it:  9\n",
      "[3, 5, 7, 9]\n"
     ]
    }
   ],
   "source": [
    "odd_list = []\n",
    "for num in range(2, 10):\n",
    "    if num % 2 == 0:\n",
    "        print(\"Found an even number. No need to store: \", num, )\n",
    "        continue\n",
    "    print(\"Found an odd number. Store it: \", num)\n",
    "    odd_list.append(num)\n",
    "print(odd_list)"
   ]
  },
  {
   "cell_type": "code",
   "execution_count": 131,
   "metadata": {
    "collapsed": true
   },
   "outputs": [],
   "source": [
    "def my_add(x,y):\n",
    "    return x+y"
   ]
  },
  {
   "cell_type": "code",
   "execution_count": 133,
   "metadata": {},
   "outputs": [
    {
     "data": {
      "text/plain": [
       "5"
      ]
     },
     "execution_count": 133,
     "metadata": {},
     "output_type": "execute_result"
    }
   ],
   "source": [
    "my_add(2,3)"
   ]
  },
  {
   "cell_type": "code",
   "execution_count": 134,
   "metadata": {},
   "outputs": [
    {
     "data": {
      "text/plain": [
       "'\\ndef range(m):\\n    print(list(range(10)))\\n    print(\"something\")\\n    return 0\\n'"
      ]
     },
     "execution_count": 134,
     "metadata": {},
     "output_type": "execute_result"
    }
   ],
   "source": [
    "\"\"\"\n",
    "def range(m):\n",
    "    print(list(range(10)))\n",
    "    print(\"something\")\n",
    "    return 0\n",
    "\"\"\""
   ]
  },
  {
   "cell_type": "code",
   "execution_count": 135,
   "metadata": {},
   "outputs": [
    {
     "data": {
      "text/plain": [
       "range(10, 20)"
      ]
     },
     "execution_count": 135,
     "metadata": {},
     "output_type": "execute_result"
    }
   ],
   "source": [
    "range(10,20)"
   ]
  },
  {
   "cell_type": "markdown",
   "metadata": {},
   "source": [
    "#### 4.6. Defining Functions\n"
   ]
  },
  {
   "cell_type": "code",
   "execution_count": 136,
   "metadata": {},
   "outputs": [
    {
     "name": "stdout",
     "output_type": "stream",
     "text": [
      "0 1 1 2 3 5 8 13 21 34 55 89 144 233 377 610 987 1597 2584 4181 6765 10946 17711 28657 46368 75025 \n",
      "<class 'function'>\n",
      "Print a Fibonacci series up to n.\n"
     ]
    }
   ],
   "source": [
    "def fib(n):    # write Fibonacci series up to n\n",
    "    \"\"\"Print a Fibonacci series up to n.\"\"\"\n",
    "    a, b = 0, 1\n",
    "    while a < n:\n",
    "        print(a, end=' ')\n",
    "        a, b = b, a+b\n",
    "    print()\n",
    "    return 1\n",
    "\n",
    "# Now call the function we just defined:\n",
    "fib(100000)\n",
    "print(type(fib))\n",
    "print(fib.__doc__)"
   ]
  },
  {
   "cell_type": "code",
   "execution_count": 137,
   "metadata": {},
   "outputs": [
    {
     "name": "stdout",
     "output_type": "stream",
     "text": [
      "2465378970616\n",
      "2465378970616\n",
      "0 1 1 2 3 5 8 13 21 34 55 89 \n",
      "1\n",
      "2465378970616\n",
      "0 1 1 2 3 5 8 13 21 34 55 89 \n",
      "1\n"
     ]
    }
   ],
   "source": [
    "f = fib\n",
    "print(id(fib))\n",
    "print(id(f))\n",
    "print(f(100)) # Check the return\n",
    "\n",
    "del fib\n",
    "\n",
    "print(id(f))\n",
    "print(f(100)) # Check the return"
   ]
  },
  {
   "cell_type": "code",
   "execution_count": 138,
   "metadata": {},
   "outputs": [
    {
     "data": {
      "text/plain": [
       "[0, 1, 1, 2, 3, 5, 8, 13, 21, 34, 55, 89]"
      ]
     },
     "execution_count": 138,
     "metadata": {},
     "output_type": "execute_result"
    }
   ],
   "source": [
    "def fib2(n):  # return Fibonacci series up to n\n",
    "    \"\"\"Return a list containing the Fibonacci series up to n.\"\"\"\n",
    "    result = []\n",
    "    a, b = 0, 1\n",
    "    while a < n:\n",
    "        result.append(a)    # see below\n",
    "        a, b = b, a+b\n",
    "    return result\n",
    "\n",
    "f100 = fib2(100)    # call it\n",
    "f100                # write the result"
   ]
  },
  {
   "cell_type": "markdown",
   "metadata": {},
   "source": [
    "#### 4.7. More on Defining Functions\n",
    "##### 4.7.1. Default Argument Values"
   ]
  },
  {
   "cell_type": "code",
   "execution_count": 139,
   "metadata": {
    "collapsed": true
   },
   "outputs": [],
   "source": [
    "def ask_ok(prompt, retries=4, reminder='Please try again!'):\n",
    "    while True:\n",
    "        ok = input(prompt)\n",
    "        if ok in ('y', 'ye', 'yes'):\n",
    "            return True\n",
    "        if ok in ('n', 'no', 'nop', 'nope'):\n",
    "            return False\n",
    "        retries = retries - 1\n",
    "        if retries < 0:\n",
    "            raise ValueError('invalid user response')\n",
    "        print(reminder)"
   ]
  },
  {
   "cell_type": "markdown",
   "metadata": {},
   "source": [
    "* giving only the mandatory argument: ask_ok('Do you really want to quit?')\n",
    "* giving one of the optional arguments: ask_ok('OK to overwrite the file?', 2)\n",
    "* or even giving all arguments: ask_ok('OK to overwrite the file?', 2, 'Come on, only yes or no!')"
   ]
  },
  {
   "cell_type": "code",
   "execution_count": 140,
   "metadata": {},
   "outputs": [
    {
     "name": "stdout",
     "output_type": "stream",
     "text": [
      "Do you really want to quit? df\n",
      "Please try again!\n",
      "Do you really want to quit? quit\n",
      "Please try again!\n",
      "Do you really want to quit? yes\n"
     ]
    },
    {
     "data": {
      "text/plain": [
       "True"
      ]
     },
     "execution_count": 140,
     "metadata": {},
     "output_type": "execute_result"
    }
   ],
   "source": [
    "ask_ok('Do you really want to quit? ')"
   ]
  },
  {
   "cell_type": "code",
   "execution_count": 141,
   "metadata": {},
   "outputs": [
    {
     "name": "stdout",
     "output_type": "stream",
     "text": [
      "OK to overwrite the file?yes\n"
     ]
    },
    {
     "data": {
      "text/plain": [
       "True"
      ]
     },
     "execution_count": 141,
     "metadata": {},
     "output_type": "execute_result"
    }
   ],
   "source": [
    "ask_ok('OK to overwrite the file?', 2)"
   ]
  },
  {
   "cell_type": "code",
   "execution_count": 142,
   "metadata": {},
   "outputs": [
    {
     "name": "stdout",
     "output_type": "stream",
     "text": [
      "OK to overwrite the file?yes\n"
     ]
    },
    {
     "data": {
      "text/plain": [
       "True"
      ]
     },
     "execution_count": 142,
     "metadata": {},
     "output_type": "execute_result"
    }
   ],
   "source": [
    "ask_ok('OK to overwrite the file?', 2, 'Come on, only yes or no!')"
   ]
  },
  {
   "cell_type": "markdown",
   "metadata": {},
   "source": [
    "##### 4.7.2. Keyword Arguments"
   ]
  },
  {
   "cell_type": "code",
   "execution_count": 143,
   "metadata": {
    "collapsed": true
   },
   "outputs": [],
   "source": [
    "def parrot(voltage, state='a stiff', action='voom', type='Norwegian Blue'):\n",
    "    print(\"-- This parrot wouldn't\", action, end=' ')\n",
    "    print(\"if you put\", voltage, \"volts through it.\")\n",
    "    print(\"-- Lovely plumage, the\", type)\n",
    "    print(\"-- It's\", state, \"!\")"
   ]
  },
  {
   "cell_type": "code",
   "execution_count": 144,
   "metadata": {},
   "outputs": [
    {
     "name": "stdout",
     "output_type": "stream",
     "text": [
      "-- This parrot wouldn't voom if you put 1000 volts through it.\n",
      "-- Lovely plumage, the Norwegian Blue\n",
      "-- It's a stiff !\n",
      "================================================================================\n",
      "-- This parrot wouldn't voom if you put 1000 volts through it.\n",
      "-- Lovely plumage, the Norwegian Blue\n",
      "-- It's a stiff !\n",
      "================================================================================\n",
      "-- This parrot wouldn't VOOOOOM if you put 1000000 volts through it.\n",
      "-- Lovely plumage, the Norwegian Blue\n",
      "-- It's a stiff !\n",
      "================================================================================\n",
      "-- This parrot wouldn't VOOOOOM if you put 1000000 volts through it.\n",
      "-- Lovely plumage, the Norwegian Blue\n",
      "-- It's a stiff !\n",
      "================================================================================\n",
      "-- This parrot wouldn't jump if you put a million volts through it.\n",
      "-- Lovely plumage, the Norwegian Blue\n",
      "-- It's bereft of life !\n",
      "================================================================================\n",
      "-- This parrot wouldn't voom if you put a thousand volts through it.\n",
      "-- Lovely plumage, the Norwegian Blue\n",
      "-- It's pushing up the daisies !\n"
     ]
    }
   ],
   "source": [
    "parrot(1000)                                          # 1 positional argument\n",
    "print('='*80)\n",
    "parrot(voltage=1000)                                  # 1 keyword argument\n",
    "print('='*80)\n",
    "parrot(voltage=1000000, action='VOOOOOM')             # 2 keyword arguments\n",
    "print('='*80)\n",
    "parrot(action='VOOOOOM', voltage=1000000)             # 2 keyword arguments\n",
    "print('='*80)\n",
    "parrot('a million', 'bereft of life', 'jump')         # 3 positional arguments\n",
    "print('='*80)\n",
    "parrot('a thousand', state='pushing up the daisies')  # 1 positional, 1 keyword\n"
   ]
  },
  {
   "cell_type": "code",
   "execution_count": 146,
   "metadata": {},
   "outputs": [
    {
     "ename": "SyntaxError",
     "evalue": "positional argument follows keyword argument (<ipython-input-146-3ca7b3663c75>, line 2)",
     "output_type": "error",
     "traceback": [
      "\u001b[1;36m  File \u001b[1;32m\"<ipython-input-146-3ca7b3663c75>\"\u001b[1;36m, line \u001b[1;32m2\u001b[0m\n\u001b[1;33m    parrot(voltage=5.0, 'dead')  # non-keyword argument after a keyword argument\u001b[0m\n\u001b[1;37m                       ^\u001b[0m\n\u001b[1;31mSyntaxError\u001b[0m\u001b[1;31m:\u001b[0m positional argument follows keyword argument\n"
     ]
    }
   ],
   "source": [
    "#parrot()                     # required argument missing\n",
    "parrot(voltage=5.0, 'dead')  # non-keyword argument after a keyword argument\n",
    "#parrot(110, voltage=220)     # duplicate value for the same argument\n",
    "#parrot(actor='John Cleese')  # unknown keyword argument"
   ]
  },
  {
   "cell_type": "code",
   "execution_count": 147,
   "metadata": {},
   "outputs": [
    {
     "name": "stdout",
     "output_type": "stream",
     "text": [
      "10\n",
      "nothing\n"
     ]
    }
   ],
   "source": [
    "def foo(x = 'something', y = 10):\n",
    "    print(x)\n",
    "foo(10)\n",
    "foo('nothing')"
   ]
  },
  {
   "cell_type": "code",
   "execution_count": 148,
   "metadata": {
    "collapsed": true
   },
   "outputs": [],
   "source": [
    "def cheeseshop(kind, *arguments, **keywords):\n",
    "    print(\"-- Do you have any\", kind, \"?\")\n",
    "    print(\"-- I'm sorry, we're all out of\", kind)\n",
    "    for arg in arguments:\n",
    "        print(arg)\n",
    "    print(\"-\" * 40)\n",
    "    for kw in keywords:\n",
    "        print(kw, \":\", keywords[kw])"
   ]
  },
  {
   "cell_type": "code",
   "execution_count": 149,
   "metadata": {},
   "outputs": [
    {
     "name": "stdout",
     "output_type": "stream",
     "text": [
      "-- Do you have any Limburger ?\n",
      "-- I'm sorry, we're all out of Limburger\n",
      "It's very runny, sir.\n",
      "It's really very, VERY runny, sir.\n",
      "----------------------------------------\n",
      "shopkeeper : Michael Palin\n",
      "client : John Cleese\n",
      "sketch : Cheese Shop Sketch\n"
     ]
    }
   ],
   "source": [
    "cheeseshop(\"Limburger\", \"It's very runny, sir.\",\n",
    "           \"It's really very, VERY runny, sir.\",\n",
    "           shopkeeper=\"Michael Palin\",\n",
    "           client=\"John Cleese\",\n",
    "           sketch=\"Cheese Shop Sketch\")"
   ]
  },
  {
   "cell_type": "code",
   "execution_count": 150,
   "metadata": {},
   "outputs": [
    {
     "name": "stdout",
     "output_type": "stream",
     "text": [
      "first_arg: first\n",
      "list_args: (111, 22, 33)\n",
      "dict_args: {'d1': 'dd1', 'd2': 'dd2'}\n"
     ]
    }
   ],
   "source": [
    "#def foo(first_arg, **dict_args, *list_args):\n",
    "def foo(first_arg, *list_args, **dict_args):\n",
    "    print(f'first_arg: {first_arg}')\n",
    "    print(f'list_args: {list_args}')\n",
    "    print(f'dict_args: {dict_args}')\n",
    "#foo('first', d1='dd1', d2='dd2', 111, 22, 33)\n",
    "foo('first', 111, 22, 33, d1='dd1', d2='dd2')"
   ]
  },
  {
   "cell_type": "markdown",
   "metadata": {},
   "source": [
    "### 5. Data Structures\n",
    "#### 5.1. More on Lists\n"
   ]
  },
  {
   "cell_type": "code",
   "execution_count": 151,
   "metadata": {},
   "outputs": [
    {
     "name": "stdout",
     "output_type": "stream",
     "text": [
      "['__add__', '__class__', '__contains__', '__delattr__', '__delitem__', '__dir__', '__doc__', '__eq__', '__format__', '__ge__', '__getattribute__', '__getitem__', '__gt__', '__hash__', '__iadd__', '__imul__', '__init__', '__init_subclass__', '__iter__', '__le__', '__len__', '__lt__', '__mul__', '__ne__', '__new__', '__reduce__', '__reduce_ex__', '__repr__', '__reversed__', '__rmul__', '__setattr__', '__setitem__', '__sizeof__', '__str__', '__subclasshook__', 'append', 'clear', 'copy', 'count', 'extend', 'index', 'insert', 'pop', 'remove', 'reverse', 'sort']\n"
     ]
    }
   ],
   "source": [
    "x= [1,2,3]\n",
    "print(dir(x))"
   ]
  },
  {
   "cell_type": "code",
   "execution_count": 152,
   "metadata": {},
   "outputs": [
    {
     "name": "stdout",
     "output_type": "stream",
     "text": [
      "Help on built-in function pop:\n",
      "\n",
      "pop(...) method of builtins.list instance\n",
      "    L.pop([index]) -> item -- remove and return item at index (default last).\n",
      "    Raises IndexError if list is empty or index is out of range.\n",
      "\n",
      "None\n"
     ]
    }
   ],
   "source": [
    "print(help([].pop))"
   ]
  },
  {
   "cell_type": "code",
   "execution_count": 153,
   "metadata": {},
   "outputs": [
    {
     "name": "stdout",
     "output_type": "stream",
     "text": [
      "Help on built-in function index:\n",
      "\n",
      "index(...) method of builtins.list instance\n",
      "    L.index(value, [start, [stop]]) -> integer -- return first index of value.\n",
      "    Raises ValueError if the value is not present.\n",
      "\n",
      "None\n"
     ]
    }
   ],
   "source": [
    "print(help([].index))"
   ]
  },
  {
   "cell_type": "code",
   "execution_count": 154,
   "metadata": {},
   "outputs": [
    {
     "name": "stdout",
     "output_type": "stream",
     "text": [
      "Help on built-in function append:\n",
      "\n",
      "append(...) method of builtins.list instance\n",
      "    L.append(object) -> None -- append object to end\n",
      "\n",
      "None\n"
     ]
    }
   ],
   "source": [
    "print(help([].append))"
   ]
  },
  {
   "cell_type": "code",
   "execution_count": 155,
   "metadata": {},
   "outputs": [
    {
     "name": "stdout",
     "output_type": "stream",
     "text": [
      "['__add__', '__class__', '__contains__', '__delattr__', '__dir__', '__doc__', '__eq__', '__format__', '__ge__', '__getattribute__', '__getitem__', '__getnewargs__', '__gt__', '__hash__', '__init__', '__init_subclass__', '__iter__', '__le__', '__len__', '__lt__', '__mod__', '__mul__', '__ne__', '__new__', '__reduce__', '__reduce_ex__', '__repr__', '__rmod__', '__rmul__', '__setattr__', '__sizeof__', '__str__', '__subclasshook__', 'capitalize', 'casefold', 'center', 'count', 'encode', 'endswith', 'expandtabs', 'find', 'format', 'format_map', 'index', 'isalnum', 'isalpha', 'isdecimal', 'isdigit', 'isidentifier', 'islower', 'isnumeric', 'isprintable', 'isspace', 'istitle', 'isupper', 'join', 'ljust', 'lower', 'lstrip', 'maketrans', 'partition', 'replace', 'rfind', 'rindex', 'rjust', 'rpartition', 'rsplit', 'rstrip', 'split', 'splitlines', 'startswith', 'strip', 'swapcase', 'title', 'translate', 'upper', 'zfill']\n"
     ]
    }
   ],
   "source": [
    "x = \"string\"\n",
    "print(dir(x))"
   ]
  },
  {
   "cell_type": "code",
   "execution_count": 159,
   "metadata": {},
   "outputs": [
    {
     "name": "stdout",
     "output_type": "stream",
     "text": [
      "2\n",
      "0\n",
      "3\n",
      "6\n",
      "['banana', 'apple', 'kiwi', 'banana', 'pear', 'apple', 'orange']\n",
      "['banana', 'apple', 'kiwi', 'banana', 'pear', 'apple', 'orange', 'grape']\n",
      "['apple', 'apple', 'banana', 'banana', 'grape', 'kiwi', 'orange', 'pear']\n",
      "pear\n"
     ]
    }
   ],
   "source": [
    "fruits = ['orange', 'apple', 'pear', 'banana', 'kiwi', 'apple', 'banana']\n",
    "print(fruits.count('apple'))\n",
    "print(fruits.count('tangerine'))\n",
    "print(fruits.index('banana')) # X\n",
    "print(fruits.index('banana', 4))\n",
    "fruits.reverse()\n",
    "print(fruits)\n",
    "fruits.append('grape')\n",
    "print(fruits)\n",
    "fruits.sort()\n",
    "print(fruits)\n",
    "print(fruits.pop())"
   ]
  },
  {
   "cell_type": "markdown",
   "metadata": {},
   "source": [
    "##### 5.1.1. Using Lists as Stacks"
   ]
  },
  {
   "cell_type": "code",
   "execution_count": 160,
   "metadata": {},
   "outputs": [
    {
     "name": "stdout",
     "output_type": "stream",
     "text": [
      "[3, 4, 5]\n",
      "[3, 4, 5, 6, 7]\n",
      "7\n",
      "[3, 4, 5, 6]\n",
      "6\n",
      "5\n",
      "[3, 4]\n"
     ]
    }
   ],
   "source": [
    "stack = [3, 4, 5]\n",
    "print(stack)\n",
    "stack.append(6)\n",
    "stack.append(7)\n",
    "print(stack)\n",
    "print(stack.pop())\n",
    "print(stack)\n",
    "print(stack.pop())\n",
    "print(stack.pop())\n",
    "print(stack)\n"
   ]
  },
  {
   "cell_type": "markdown",
   "metadata": {},
   "source": [
    "##### 5.1.2. Using Lists as Queues"
   ]
  },
  {
   "cell_type": "code",
   "execution_count": 161,
   "metadata": {},
   "outputs": [
    {
     "name": "stdout",
     "output_type": "stream",
     "text": [
      "deque(['Michael', 'Terry', 'Graham'])\n",
      "['__add__', '__bool__', '__class__', '__contains__', '__copy__', '__delattr__', '__delitem__', '__dir__', '__doc__', '__eq__', '__format__', '__ge__', '__getattribute__', '__getitem__', '__gt__', '__hash__', '__iadd__', '__imul__', '__init__', '__init_subclass__', '__iter__', '__le__', '__len__', '__lt__', '__mul__', '__ne__', '__new__', '__reduce__', '__reduce_ex__', '__repr__', '__reversed__', '__rmul__', '__setattr__', '__setitem__', '__sizeof__', '__str__', '__subclasshook__', 'append', 'appendleft', 'clear', 'copy', 'count', 'extend', 'extendleft', 'index', 'insert', 'maxlen', 'pop', 'popleft', 'remove', 'reverse', 'rotate']\n"
     ]
    }
   ],
   "source": [
    "from collections import deque\n",
    "queue = deque([\"Eric\", \"John\", \"Michael\"])\n",
    "queue.append(\"Terry\")           # Terry arrives\n",
    "queue.append(\"Graham\")          # Graham arrives\n",
    "queue.popleft()                 # The first to arrive now leaves\n",
    "queue.popleft()                 # The second to arrive now leaves\n",
    "print(queue)                          # Remaining queue in order of arrival\n",
    "print(dir(queue))"
   ]
  },
  {
   "cell_type": "markdown",
   "metadata": {},
   "source": [
    "##### 5.1.3. List Comprehensions"
   ]
  },
  {
   "cell_type": "code",
   "execution_count": 162,
   "metadata": {},
   "outputs": [
    {
     "name": "stdout",
     "output_type": "stream",
     "text": [
      "[0, 1, 4, 9, 16, 25, 36, 49, 64, 81]\n"
     ]
    }
   ],
   "source": [
    "squares = []\n",
    "for x in range(10):\n",
    "    squares.append(x**2)\n",
    "print(squares)"
   ]
  },
  {
   "cell_type": "code",
   "execution_count": 163,
   "metadata": {},
   "outputs": [
    {
     "name": "stdout",
     "output_type": "stream",
     "text": [
      "[1, 4, 3, 16, 5]\n"
     ]
    }
   ],
   "source": [
    "a = [1, 2, 3, 4, 5]\n",
    "print([value if value % 2 == 1 else value **2 for value in a])"
   ]
  },
  {
   "cell_type": "code",
   "execution_count": 164,
   "metadata": {},
   "outputs": [
    {
     "name": "stdout",
     "output_type": "stream",
     "text": [
      "Time consumed with comprehension: 3.259298086166382\n",
      "Time consumed with loops: 7.361190557479858\n"
     ]
    }
   ],
   "source": [
    "import time\n",
    "a = [1, 2, 3, 4, 5]\n",
    "\n",
    "# Start the timer\n",
    "start = time.time()\n",
    "\n",
    "for i in range(0, 5000000):\n",
    "    a = [value if value % 2 == 1 else value * 1 for value in a]\n",
    "# Stop the timer\n",
    "end = time.time()\n",
    "#print(\"Input value is of type: {0} and {1}\".format(type(user_input), 'something else'))\n",
    "print(\"Time consumed with comprehension: \" + str(end - start))\n",
    "\n",
    "# Restart the timer\n",
    "start = time.time()\n",
    "for i in range(0, 5000000):\n",
    "    for j in range(len(a)):\n",
    "        if a[j] % 2 == 1:\n",
    "            a[j] = a[j]\n",
    "        else:\n",
    "            a[j] = a[j] * 1\n",
    "# Stop the timer \n",
    "end = time.time()\n",
    "print(\"Time consumed with loops: \" + str(end - start))"
   ]
  },
  {
   "cell_type": "code",
   "execution_count": 165,
   "metadata": {},
   "outputs": [
    {
     "name": "stdout",
     "output_type": "stream",
     "text": [
      "[0, 1, 4, 9, 16, 25, 36, 49, 64, 81]\n"
     ]
    }
   ],
   "source": [
    "squares = [x**2 for x in range(10)]\n",
    "print(squares)"
   ]
  },
  {
   "cell_type": "code",
   "execution_count": 166,
   "metadata": {},
   "outputs": [
    {
     "name": "stdout",
     "output_type": "stream",
     "text": [
      "[4, 16, 36, 64]\n"
     ]
    }
   ],
   "source": [
    "lst = [1,2,3,4,5,6,7,8,9]\n",
    "squares = []\n",
    "for x in lst:\n",
    "    if (x % 2 == 0):\n",
    "        squares.append(x**2)\n",
    "print(squares)"
   ]
  },
  {
   "cell_type": "code",
   "execution_count": 169,
   "metadata": {},
   "outputs": [
    {
     "name": "stdout",
     "output_type": "stream",
     "text": [
      "[4, 16, 36, 64]\n"
     ]
    }
   ],
   "source": [
    "squares = [x**2 for x in lst if (x % 2 == 0)]\n",
    "print(squares)"
   ]
  },
  {
   "cell_type": "code",
   "execution_count": 170,
   "metadata": {},
   "outputs": [
    {
     "name": "stdout",
     "output_type": "stream",
     "text": [
      "[-8, -4, 0, 4, 8]\n",
      "[0, 4, 8]\n"
     ]
    }
   ],
   "source": [
    "vec = [-4, -2, 0, 2, 4]\n",
    "print ([x*2 for x in vec])\n",
    "print ([x*2 for x in vec if x >= 0])"
   ]
  },
  {
   "cell_type": "code",
   "execution_count": 171,
   "metadata": {},
   "outputs": [
    {
     "name": "stdout",
     "output_type": "stream",
     "text": [
      "88350\n"
     ]
    }
   ],
   "source": [
    "## Exercise: Find the sum of squares of odd numbers from -50 to +75\n",
    "print(sum([ii**2 for ii in range(-50,75) if ii%2 != 0]))\n"
   ]
  },
  {
   "cell_type": "code",
   "execution_count": 172,
   "metadata": {},
   "outputs": [
    {
     "name": "stdout",
     "output_type": "stream",
     "text": [
      "['banana', 'loganberry', 'passion fruit']\n"
     ]
    }
   ],
   "source": [
    "freshfruit = ['  banana', '  loganberry ', 'passion fruit  ']\n",
    "print([weapon.strip() for weapon in freshfruit])"
   ]
  },
  {
   "cell_type": "markdown",
   "metadata": {},
   "source": [
    "##### 5.1.4. Nested List Comprehensions"
   ]
  },
  {
   "cell_type": "code",
   "execution_count": 173,
   "metadata": {},
   "outputs": [
    {
     "name": "stdout",
     "output_type": "stream",
     "text": [
      "[[1, 5, 9, 91], [2, 6, 10, 101], [3, 7, 11, 111], [4, 8, 12, 112]]\n"
     ]
    }
   ],
   "source": [
    "matrix = [\n",
    "    [1, 2, 3, 4],\n",
    "    [5, 6, 7, 8],\n",
    "    [9, 10, 11, 12],\n",
    "    [91, 101, 111, 112]\n",
    "]\n",
    "\n",
    "#[row[i] for row in matrix]\n",
    "print([[row[i] for row in matrix] for i in range(4)])\n",
    "\n"
   ]
  },
  {
   "cell_type": "code",
   "execution_count": 174,
   "metadata": {},
   "outputs": [
    {
     "name": "stdout",
     "output_type": "stream",
     "text": [
      "11\n",
      "222\n",
      "333\n",
      "5554\n"
     ]
    },
    {
     "data": {
      "text/plain": [
       "[[11, 222], [333, 5554]]"
      ]
     },
     "execution_count": 174,
     "metadata": {},
     "output_type": "execute_result"
    }
   ],
   "source": [
    "matrix = [\n",
    "    [11,222],\n",
    "    [333,5554]\n",
    "]\n",
    "\n",
    "for ii in range(2):\n",
    "    for jj in range(2):\n",
    "        print(matrix[ii][jj])\n",
    "[[matrix[ii][jj] for jj in range(2)] for ii in range(2) ]"
   ]
  },
  {
   "cell_type": "code",
   "execution_count": 175,
   "metadata": {},
   "outputs": [
    {
     "data": {
      "text/plain": [
       "'string'"
      ]
     },
     "execution_count": 175,
     "metadata": {},
     "output_type": "execute_result"
    }
   ],
   "source": [
    "x = \"string\"\n",
    "x"
   ]
  },
  {
   "cell_type": "markdown",
   "metadata": {},
   "source": [
    "#### 5.2. The del statement"
   ]
  },
  {
   "cell_type": "code",
   "execution_count": 176,
   "metadata": {},
   "outputs": [
    {
     "name": "stdout",
     "output_type": "stream",
     "text": [
      "Help on built-in function remove:\n",
      "\n",
      "remove(...) method of builtins.list instance\n",
      "    L.remove(value) -> None -- remove first occurrence of value.\n",
      "    Raises ValueError if the value is not present.\n",
      "\n",
      "None\n",
      "[-1, 1, 333, 333, 66.25, 1234.5]\n"
     ]
    },
    {
     "data": {
      "text/plain": [
       "['__add__',\n",
       " '__class__',\n",
       " '__contains__',\n",
       " '__delattr__',\n",
       " '__delitem__',\n",
       " '__dir__',\n",
       " '__doc__',\n",
       " '__eq__',\n",
       " '__format__',\n",
       " '__ge__',\n",
       " '__getattribute__',\n",
       " '__getitem__',\n",
       " '__gt__',\n",
       " '__hash__',\n",
       " '__iadd__',\n",
       " '__imul__',\n",
       " '__init__',\n",
       " '__init_subclass__',\n",
       " '__iter__',\n",
       " '__le__',\n",
       " '__len__',\n",
       " '__lt__',\n",
       " '__mul__',\n",
       " '__ne__',\n",
       " '__new__',\n",
       " '__reduce__',\n",
       " '__reduce_ex__',\n",
       " '__repr__',\n",
       " '__reversed__',\n",
       " '__rmul__',\n",
       " '__setattr__',\n",
       " '__setitem__',\n",
       " '__sizeof__',\n",
       " '__str__',\n",
       " '__subclasshook__',\n",
       " 'append',\n",
       " 'clear',\n",
       " 'copy',\n",
       " 'count',\n",
       " 'extend',\n",
       " 'index',\n",
       " 'insert',\n",
       " 'pop',\n",
       " 'remove',\n",
       " 'reverse',\n",
       " 'sort']"
      ]
     },
     "execution_count": 176,
     "metadata": {},
     "output_type": "execute_result"
    }
   ],
   "source": [
    "a = [-1, 1, 66.25, 333, 333, 66.25, 1234.5]\n",
    "help(a.remove)\n",
    "print(a.remove(66.25))\n",
    "print(a)\n",
    "dir(a)"
   ]
  },
  {
   "cell_type": "code",
   "execution_count": 184,
   "metadata": {},
   "outputs": [
    {
     "name": "stdout",
     "output_type": "stream",
     "text": [
      "[1, 66.25, 333, 333, 1234.5]\n",
      "[1, 66.25, 1234.5]\n",
      "[]\n"
     ]
    },
    {
     "ename": "NameError",
     "evalue": "name 'a' is not defined",
     "output_type": "error",
     "traceback": [
      "\u001b[1;31m---------------------------------------------------------------------------\u001b[0m",
      "\u001b[1;31mNameError\u001b[0m                                 Traceback (most recent call last)",
      "\u001b[1;32m<ipython-input-184-3759b136bec8>\u001b[0m in \u001b[0;36m<module>\u001b[1;34m()\u001b[0m\n\u001b[0;32m      7\u001b[0m \u001b[0mprint\u001b[0m\u001b[1;33m(\u001b[0m\u001b[0ma\u001b[0m\u001b[1;33m)\u001b[0m\u001b[1;33m\u001b[0m\u001b[0m\n\u001b[0;32m      8\u001b[0m \u001b[1;32mdel\u001b[0m \u001b[0ma\u001b[0m\u001b[1;33m\u001b[0m\u001b[0m\n\u001b[1;32m----> 9\u001b[1;33m \u001b[0mprint\u001b[0m\u001b[1;33m(\u001b[0m\u001b[0ma\u001b[0m\u001b[1;33m)\u001b[0m\u001b[1;33m\u001b[0m\u001b[0m\n\u001b[0m",
      "\u001b[1;31mNameError\u001b[0m: name 'a' is not defined"
     ]
    }
   ],
   "source": [
    "a = [-1, 1, 66.25, 333, 333, 1234.5]\n",
    "del a[0]\n",
    "print(a)\n",
    "del a[2:4]\n",
    "print(a)\n",
    "del a[:]\n",
    "print(a)\n",
    "del a\n",
    "print(a)"
   ]
  },
  {
   "cell_type": "markdown",
   "metadata": {},
   "source": [
    "#### 5.3. Tuples and Sequences"
   ]
  },
  {
   "cell_type": "markdown",
   "metadata": {},
   "source": [
    "Below example is taken from \n",
    "[Here](https://www.programiz.com/python-programming/tuple \"Python Tuple\"). Please go through it to understand more."
   ]
  },
  {
   "cell_type": "code",
   "execution_count": 194,
   "metadata": {},
   "outputs": [
    {
     "name": "stdout",
     "output_type": "stream",
     "text": [
      "()\n",
      "(1, 2, 3)\n",
      "(1, 'Hello', 3.4)\n",
      "('mouse', [8, 4, 6], (1, 2, 3))\n"
     ]
    }
   ],
   "source": [
    "# empty tuple\n",
    "# Output: ()\n",
    "my_tuple = ()\n",
    "print(my_tuple)\n",
    "\n",
    "# tuple having integers\n",
    "# Output: (1, 2, 3)\n",
    "my_tuple = (1, 2, 3)\n",
    "print(my_tuple)\n",
    "\n",
    "# tuple with mixed datatypes\n",
    "# Output: (1, \"Hello\", 3.4)\n",
    "my_tuple = (1, \"Hello\", 3.4)\n",
    "print(my_tuple)\n",
    "\n",
    "# nested tuple\n",
    "# Output: (\"mouse\", [8, 4, 6], (1, 2, 3))\n",
    "my_tuple = (\"mouse\", [8, 4, 6], (1, 2, 3))\n",
    "print(my_tuple)"
   ]
  },
  {
   "cell_type": "code",
   "execution_count": 204,
   "metadata": {},
   "outputs": [
    {
     "name": "stdout",
     "output_type": "stream",
     "text": [
      "(11, 22, 22)\n",
      "11\n",
      "2\n",
      "1\n"
     ]
    },
    {
     "ename": "TypeError",
     "evalue": "'tuple' object does not support item assignment",
     "output_type": "error",
     "traceback": [
      "\u001b[1;31m---------------------------------------------------------------------------\u001b[0m",
      "\u001b[1;31mTypeError\u001b[0m                                 Traceback (most recent call last)",
      "\u001b[1;32m<ipython-input-204-75924de17b3b>\u001b[0m in \u001b[0;36m<module>\u001b[1;34m()\u001b[0m\n\u001b[0;32m      4\u001b[0m \u001b[0mprint\u001b[0m\u001b[1;33m(\u001b[0m\u001b[0mtup\u001b[0m\u001b[1;33m.\u001b[0m\u001b[0mcount\u001b[0m\u001b[1;33m(\u001b[0m\u001b[1;36m22\u001b[0m\u001b[1;33m)\u001b[0m\u001b[1;33m)\u001b[0m\u001b[1;33m\u001b[0m\u001b[0m\n\u001b[0;32m      5\u001b[0m \u001b[0mprint\u001b[0m\u001b[1;33m(\u001b[0m\u001b[0mtup\u001b[0m\u001b[1;33m.\u001b[0m\u001b[0mindex\u001b[0m\u001b[1;33m(\u001b[0m\u001b[1;36m22\u001b[0m\u001b[1;33m)\u001b[0m\u001b[1;33m)\u001b[0m\u001b[1;33m\u001b[0m\u001b[0m\n\u001b[1;32m----> 6\u001b[1;33m \u001b[0mtup\u001b[0m\u001b[1;33m[\u001b[0m\u001b[1;36m1\u001b[0m\u001b[1;33m]\u001b[0m \u001b[1;33m=\u001b[0m \u001b[1;36m44\u001b[0m\u001b[1;33m\u001b[0m\u001b[0m\n\u001b[0m",
      "\u001b[1;31mTypeError\u001b[0m: 'tuple' object does not support item assignment"
     ]
    }
   ],
   "source": [
    "tup = (11,22,22)\n",
    "print(tup)\n",
    "print(tup[0])\n",
    "print(tup.count(22))\n",
    "print(tup.index(22))\n",
    "tup[1] = 44"
   ]
  },
  {
   "cell_type": "code",
   "execution_count": 213,
   "metadata": {},
   "outputs": [
    {
     "name": "stdout",
     "output_type": "stream",
     "text": [
      "(100,)\n"
     ]
    },
    {
     "ename": "TypeError",
     "evalue": "'tuple' object does not support item assignment",
     "output_type": "error",
     "traceback": [
      "\u001b[1;31m---------------------------------------------------------------------------\u001b[0m",
      "\u001b[1;31mTypeError\u001b[0m                                 Traceback (most recent call last)",
      "\u001b[1;32m<ipython-input-213-04267789b38c>\u001b[0m in \u001b[0;36m<module>\u001b[1;34m()\u001b[0m\n\u001b[0;32m      1\u001b[0m \u001b[0mnew_tup\u001b[0m \u001b[1;33m=\u001b[0m \u001b[1;33m(\u001b[0m\u001b[1;36m100\u001b[0m\u001b[1;33m,\u001b[0m\u001b[1;33m)\u001b[0m\u001b[1;33m\u001b[0m\u001b[0m\n\u001b[0;32m      2\u001b[0m \u001b[0mprint\u001b[0m\u001b[1;33m(\u001b[0m\u001b[0mnew_tup\u001b[0m\u001b[1;33m)\u001b[0m\u001b[1;33m\u001b[0m\u001b[0m\n\u001b[1;32m----> 3\u001b[1;33m \u001b[0mnew_tup\u001b[0m\u001b[1;33m[\u001b[0m\u001b[1;36m1\u001b[0m\u001b[1;33m]\u001b[0m \u001b[1;33m=\u001b[0m \u001b[1;36m55\u001b[0m\u001b[1;33m\u001b[0m\u001b[0m\n\u001b[0m",
      "\u001b[1;31mTypeError\u001b[0m: 'tuple' object does not support item assignment"
     ]
    }
   ],
   "source": [
    "new_tup = (100,)\n",
    "print(new_tup)\n",
    "new_tup[1] = 55"
   ]
  },
  {
   "cell_type": "code",
   "execution_count": 214,
   "metadata": {},
   "outputs": [
    {
     "name": "stdout",
     "output_type": "stream",
     "text": [
      "Number of animals in the zoo is 3\n",
      "Number of cages in the new zoo is 3\n",
      "All animals in new zoo are ('monkey', 'camel', ('python', 'elephant', 'penguin'))\n",
      "Animals brought from old zoo are ('python', 'elephant', 'penguin')\n",
      "Last animal brought from old zoo is penguin\n",
      "Number of animals in the new zoo is 5\n"
     ]
    }
   ],
   "source": [
    "# I would recommend always using parentheses\n",
    "# to indicate start and end of tuple\n",
    "# even though parentheses are optional.\n",
    "# Explicit is better than implicit.\n",
    "zoo = ('python', 'elephant', 'penguin')\n",
    "print('Number of animals in the zoo is', len(zoo))\n",
    "new_zoo = 'monkey', 'camel', zoo # parentheses not required but are a good idea\n",
    "print('Number of cages in the new zoo is', len(new_zoo))\n",
    "print('All animals in new zoo are', new_zoo)\n",
    "print('Animals brought from old zoo are', new_zoo[2])\n",
    "print('Last animal brought from old zoo is', new_zoo[2][2])\n",
    "print('Number of animals in the new zoo is',\n",
    "len(new_zoo)-1+len(new_zoo[2]))"
   ]
  },
  {
   "cell_type": "code",
   "execution_count": 215,
   "metadata": {},
   "outputs": [
    {
     "name": "stdout",
     "output_type": "stream",
     "text": [
      "0.004504331372664485\n",
      "0.008901819751285026\n"
     ]
    }
   ],
   "source": [
    "import timeit\n",
    "print(timeit.timeit('x=(1,2,3,4,5,6,7,8,9)', number=100000))\n",
    "\n",
    "print(timeit.timeit('x=[1,2,3,4,5,6,7,8,9]', number=100000))"
   ]
  },
  {
   "cell_type": "code",
   "execution_count": 216,
   "metadata": {},
   "outputs": [
    {
     "name": "stdout",
     "output_type": "stream",
     "text": [
      "(1, 1, [3, 4])\n"
     ]
    },
    {
     "data": {
      "text/plain": [
       "True"
      ]
     },
     "execution_count": 216,
     "metadata": {},
     "output_type": "execute_result"
    }
   ],
   "source": [
    "# Tuple 'n_tuple' with a list as one of its item.\n",
    "n_tuple = (1, 1, [3,4])\n",
    "print(n_tuple)\n",
    "#Items with same value have the same id.\n",
    "id(n_tuple[0]) == id(n_tuple[1])"
   ]
  },
  {
   "cell_type": "code",
   "execution_count": 217,
   "metadata": {},
   "outputs": [
    {
     "name": "stdout",
     "output_type": "stream",
     "text": [
      "[1, 1, [3, 4]]\n"
     ]
    },
    {
     "data": {
      "text/plain": [
       "True"
      ]
     },
     "execution_count": 217,
     "metadata": {},
     "output_type": "execute_result"
    }
   ],
   "source": [
    "# List 'n_list' with a list as one of its item.\n",
    "n_list = [1, 1, [3,4]]\n",
    "print(n_list)\n",
    "#Items with same value have the same id.\n",
    "id(n_list[0]) == id(n_list[1])"
   ]
  },
  {
   "cell_type": "code",
   "execution_count": 218,
   "metadata": {},
   "outputs": [
    {
     "ename": "ValueError",
     "evalue": "too many values to unpack (expected 4)",
     "output_type": "error",
     "traceback": [
      "\u001b[1;31m---------------------------------------------------------------------------\u001b[0m",
      "\u001b[1;31mValueError\u001b[0m                                Traceback (most recent call last)",
      "\u001b[1;32m<ipython-input-218-33f03272d82f>\u001b[0m in \u001b[0;36m<module>\u001b[1;34m()\u001b[0m\n\u001b[1;32m----> 1\u001b[1;33m \u001b[1;33m(\u001b[0m\u001b[0maa\u001b[0m\u001b[1;33m,\u001b[0m \u001b[0mbb\u001b[0m\u001b[1;33m,\u001b[0m \u001b[0mcc\u001b[0m\u001b[1;33m,\u001b[0m \u001b[0mdd\u001b[0m\u001b[1;33m)\u001b[0m \u001b[1;33m=\u001b[0m \u001b[1;33m(\u001b[0m\u001b[1;36m111\u001b[0m\u001b[1;33m,\u001b[0m \u001b[1;36m222\u001b[0m\u001b[1;33m,\u001b[0m \u001b[1;36m333\u001b[0m\u001b[1;33m,\u001b[0m \u001b[1;36m444\u001b[0m\u001b[1;33m,\u001b[0m \u001b[1;36m555\u001b[0m\u001b[1;33m)\u001b[0m\u001b[1;33m\u001b[0m\u001b[0m\n\u001b[0m\u001b[0;32m      2\u001b[0m \u001b[0mprint\u001b[0m\u001b[1;33m(\u001b[0m\u001b[0maa\u001b[0m\u001b[1;33m,\u001b[0m \u001b[0mbb\u001b[0m\u001b[1;33m,\u001b[0m \u001b[0mcc\u001b[0m\u001b[1;33m)\u001b[0m\u001b[1;33m\u001b[0m\u001b[0m\n",
      "\u001b[1;31mValueError\u001b[0m: too many values to unpack (expected 4)"
     ]
    }
   ],
   "source": [
    "(aa, bb, cc, dd) = (111, 222, 333, 444, 555)\n",
    "print(aa, bb, cc)"
   ]
  },
  {
   "cell_type": "code",
   "execution_count": 226,
   "metadata": {},
   "outputs": [
    {
     "ename": "ValueError",
     "evalue": "not enough values to unpack (expected 4, got 3)",
     "output_type": "error",
     "traceback": [
      "\u001b[1;31m---------------------------------------------------------------------------\u001b[0m",
      "\u001b[1;31mValueError\u001b[0m                                Traceback (most recent call last)",
      "\u001b[1;32m<ipython-input-226-6f8fbb4b8e67>\u001b[0m in \u001b[0;36m<module>\u001b[1;34m()\u001b[0m\n\u001b[1;32m----> 1\u001b[1;33m \u001b[1;33m(\u001b[0m\u001b[0maa\u001b[0m\u001b[1;33m,\u001b[0m \u001b[0mbb\u001b[0m\u001b[1;33m,\u001b[0m \u001b[0mcc\u001b[0m\u001b[1;33m,\u001b[0m \u001b[0mdd\u001b[0m\u001b[1;33m)\u001b[0m \u001b[1;33m=\u001b[0m \u001b[1;33m(\u001b[0m\u001b[1;36m111\u001b[0m\u001b[1;33m,\u001b[0m \u001b[1;36m222\u001b[0m\u001b[1;33m,\u001b[0m \u001b[1;36m333\u001b[0m\u001b[1;33m)\u001b[0m\u001b[1;33m\u001b[0m\u001b[0m\n\u001b[0m\u001b[0;32m      2\u001b[0m \u001b[1;31m#print(aa, bb, cc)\u001b[0m\u001b[1;33m\u001b[0m\u001b[1;33m\u001b[0m\u001b[0m\n",
      "\u001b[1;31mValueError\u001b[0m: not enough values to unpack (expected 4, got 3)"
     ]
    }
   ],
   "source": [
    "(aa, bb, cc, dd) = (111, 222, 333)\n",
    "#print(aa, bb, cc)"
   ]
  },
  {
   "cell_type": "code",
   "execution_count": null,
   "metadata": {
    "collapsed": true
   },
   "outputs": [],
   "source": []
  },
  {
   "cell_type": "code",
   "execution_count": 227,
   "metadata": {},
   "outputs": [
    {
     "ename": "ValueError",
     "evalue": "not enough values to unpack (expected 4, got 3)",
     "output_type": "error",
     "traceback": [
      "\u001b[1;31m---------------------------------------------------------------------------\u001b[0m",
      "\u001b[1;31mValueError\u001b[0m                                Traceback (most recent call last)",
      "\u001b[1;32m<ipython-input-227-a273aa3bcbc0>\u001b[0m in \u001b[0;36m<module>\u001b[1;34m()\u001b[0m\n\u001b[1;32m----> 1\u001b[1;33m \u001b[1;33m[\u001b[0m\u001b[0maa\u001b[0m\u001b[1;33m,\u001b[0m \u001b[0mbb\u001b[0m\u001b[1;33m,\u001b[0m \u001b[0mcc\u001b[0m\u001b[1;33m,\u001b[0m \u001b[0mdd\u001b[0m\u001b[1;33m]\u001b[0m \u001b[1;33m=\u001b[0m \u001b[1;33m[\u001b[0m\u001b[1;36m111\u001b[0m\u001b[1;33m,\u001b[0m \u001b[1;36m222\u001b[0m\u001b[1;33m,\u001b[0m \u001b[1;36m333\u001b[0m\u001b[1;33m]\u001b[0m\u001b[1;33m\u001b[0m\u001b[0m\n\u001b[0m\u001b[0;32m      2\u001b[0m \u001b[0mprint\u001b[0m\u001b[1;33m(\u001b[0m\u001b[0maa\u001b[0m\u001b[1;33m,\u001b[0m \u001b[0mbb\u001b[0m\u001b[1;33m,\u001b[0m \u001b[0mcc\u001b[0m\u001b[1;33m)\u001b[0m\u001b[1;33m\u001b[0m\u001b[0m\n",
      "\u001b[1;31mValueError\u001b[0m: not enough values to unpack (expected 4, got 3)"
     ]
    }
   ],
   "source": [
    "[aa, bb, cc, dd] = [111, 222, 333]\n",
    "print(aa, bb, cc)"
   ]
  },
  {
   "cell_type": "markdown",
   "metadata": {},
   "source": [
    "#### 5.4. Sets"
   ]
  },
  {
   "cell_type": "code",
   "execution_count": 229,
   "metadata": {},
   "outputs": [
    {
     "name": "stdout",
     "output_type": "stream",
     "text": [
      "{'orange', 'apple', 'banana', 'pear'}\n",
      "['__and__', '__class__', '__contains__', '__delattr__', '__dir__', '__doc__', '__eq__', '__format__', '__ge__', '__getattribute__', '__gt__', '__hash__', '__iand__', '__init__', '__init_subclass__', '__ior__', '__isub__', '__iter__', '__ixor__', '__le__', '__len__', '__lt__', '__ne__', '__new__', '__or__', '__rand__', '__reduce__', '__reduce_ex__', '__repr__', '__ror__', '__rsub__', '__rxor__', '__setattr__', '__sizeof__', '__str__', '__sub__', '__subclasshook__', '__xor__', 'add', 'clear', 'copy', 'difference', 'difference_update', 'discard', 'intersection', 'intersection_update', 'isdisjoint', 'issubset', 'issuperset', 'pop', 'remove', 'symmetric_difference', 'symmetric_difference_update', 'union', 'update']\n"
     ]
    }
   ],
   "source": [
    "basket = {'apple', 'orange', 'apple', 'pear', 'orange', 'banana'}\n",
    "print (basket)\n",
    "print(dir(basket))"
   ]
  },
  {
   "cell_type": "code",
   "execution_count": 230,
   "metadata": {},
   "outputs": [
    {
     "name": "stdout",
     "output_type": "stream",
     "text": [
      "True\n",
      "False\n"
     ]
    }
   ],
   "source": [
    "basket = {'apple', 'orange', 'apple', 'pear', 'orange', 'banana'}\n",
    "print('orange' in basket)\n",
    "print('crabgrass' in basket)"
   ]
  },
  {
   "cell_type": "code",
   "execution_count": 231,
   "metadata": {},
   "outputs": [
    {
     "name": "stdout",
     "output_type": "stream",
     "text": [
      "[1, 2, 3, 5, 5, 6, 7, 8, 8]\n",
      "{1, 2, 3, 5, 6, 7, 8}\n"
     ]
    }
   ],
   "source": [
    "my_list = [1, 2, 3, 5, 5, 6, 7, 8, 8]\n",
    "print(my_list)\n",
    "my_set = set(my_list)\n",
    "print(my_set)"
   ]
  },
  {
   "cell_type": "code",
   "execution_count": 232,
   "metadata": {},
   "outputs": [
    {
     "name": "stdout",
     "output_type": "stream",
     "text": [
      "{'c', 'b', 'a', 'd', 'r'}\n",
      "{'m', 'c', 'b', 'a', 'd', 'r', 'l', 'z'}\n",
      "{'m', 'c', 'b', 'a', 'd', 'r', 'l', 'z'}\n",
      "{'a', 'c'}\n",
      "{'a', 'c'}\n"
     ]
    }
   ],
   "source": [
    "# Demonstrate set operations on unique letters from two words\n",
    "a = set('abracadabra')\n",
    "print (a)\n",
    "b = set('alacazam')\n",
    "print(a.union(b))\n",
    "print(a|b)\n",
    "print(a.intersection(b))\n",
    "print(a&b)"
   ]
  },
  {
   "cell_type": "code",
   "execution_count": 239,
   "metadata": {},
   "outputs": [
    {
     "name": "stdout",
     "output_type": "stream",
     "text": [
      "{33, 11, 44, 22}\n"
     ]
    }
   ],
   "source": [
    "aa = {11, 22, 33, 44, 44}\n",
    "print(aa)\n"
   ]
  },
  {
   "cell_type": "markdown",
   "metadata": {},
   "source": [
    "#### 5.5. Dictionaries"
   ]
  },
  {
   "cell_type": "code",
   "execution_count": 238,
   "metadata": {
    "collapsed": true
   },
   "outputs": [],
   "source": [
    "#bb = ('aa': 50, 'bb': 60)"
   ]
  },
  {
   "cell_type": "code",
   "execution_count": 241,
   "metadata": {},
   "outputs": [
    {
     "name": "stdout",
     "output_type": "stream",
     "text": [
      "{'jack': 4098, 'sape': 4139, 'guido': 4127}\n",
      "4098\n",
      "{'jack': 4098, 'guido': 4127, 'irv': 4127}\n"
     ]
    }
   ],
   "source": [
    "tel = {'jack': 4098, 'sape': 4139}\n",
    "tel['guido'] = 4127\n",
    "print(tel)\n",
    "print(tel['jack'])\n",
    "del tel['sape']\n",
    "tel['irv'] = 4127\n",
    "print(tel)\n",
    "\n"
   ]
  },
  {
   "cell_type": "code",
   "execution_count": 242,
   "metadata": {},
   "outputs": [
    {
     "name": "stdout",
     "output_type": "stream",
     "text": [
      "dict_keys(['jack', 'guido', 'irv'])\n"
     ]
    }
   ],
   "source": [
    "print((tel.keys()))"
   ]
  },
  {
   "cell_type": "code",
   "execution_count": 243,
   "metadata": {},
   "outputs": [
    {
     "name": "stdout",
     "output_type": "stream",
     "text": [
      "['jack', 'guido', 'irv']\n",
      "dict_keys(['jack', 'guido', 'irv'])\n",
      "['guido', 'irv', 'jack']\n"
     ]
    }
   ],
   "source": [
    "print(list(tel.keys()))\n",
    "print(tel.keys())\n",
    "print(sorted(tel.keys()))\n",
    "\n"
   ]
  },
  {
   "cell_type": "code",
   "execution_count": 244,
   "metadata": {},
   "outputs": [
    {
     "name": "stdout",
     "output_type": "stream",
     "text": [
      "True\n",
      "False\n"
     ]
    }
   ],
   "source": [
    "print('guido' in tel)\n",
    "print('jack' not in tel)"
   ]
  },
  {
   "cell_type": "code",
   "execution_count": 245,
   "metadata": {},
   "outputs": [
    {
     "name": "stdout",
     "output_type": "stream",
     "text": [
      "[4098, 4127, 4127]\n"
     ]
    }
   ],
   "source": [
    "print(sorted(tel.values()))"
   ]
  },
  {
   "cell_type": "code",
   "execution_count": 246,
   "metadata": {},
   "outputs": [
    {
     "name": "stdout",
     "output_type": "stream",
     "text": [
      "False\n"
     ]
    }
   ],
   "source": [
    "print(41299 in tel.values())"
   ]
  },
  {
   "cell_type": "code",
   "execution_count": 247,
   "metadata": {},
   "outputs": [
    {
     "name": "stdout",
     "output_type": "stream",
     "text": [
      "False\n"
     ]
    }
   ],
   "source": [
    "print('guidox' in tel.keys())"
   ]
  },
  {
   "cell_type": "code",
   "execution_count": 248,
   "metadata": {},
   "outputs": [
    {
     "name": "stdout",
     "output_type": "stream",
     "text": [
      "[('guido', 4127), ('irv', 4127), ('jack', 4098)]\n"
     ]
    }
   ],
   "source": [
    "print(sorted(tel.items()))"
   ]
  },
  {
   "cell_type": "code",
   "execution_count": 249,
   "metadata": {},
   "outputs": [
    {
     "name": "stdout",
     "output_type": "stream",
     "text": [
      "4127\n"
     ]
    }
   ],
   "source": [
    "print(tel.get('guido'))"
   ]
  },
  {
   "cell_type": "code",
   "execution_count": 250,
   "metadata": {},
   "outputs": [
    {
     "ename": "KeyError",
     "evalue": "'guidox'",
     "output_type": "error",
     "traceback": [
      "\u001b[1;31m---------------------------------------------------------------------------\u001b[0m",
      "\u001b[1;31mKeyError\u001b[0m                                  Traceback (most recent call last)",
      "\u001b[1;32m<ipython-input-250-ae4e5fb9969c>\u001b[0m in \u001b[0;36m<module>\u001b[1;34m()\u001b[0m\n\u001b[1;32m----> 1\u001b[1;33m \u001b[0mprint\u001b[0m\u001b[1;33m(\u001b[0m\u001b[0mtel\u001b[0m\u001b[1;33m[\u001b[0m\u001b[1;34m'guidox'\u001b[0m\u001b[1;33m]\u001b[0m\u001b[1;33m)\u001b[0m\u001b[1;33m\u001b[0m\u001b[0m\n\u001b[0m",
      "\u001b[1;31mKeyError\u001b[0m: 'guidox'"
     ]
    }
   ],
   "source": [
    "print(tel['guidox'])"
   ]
  },
  {
   "cell_type": "code",
   "execution_count": 251,
   "metadata": {},
   "outputs": [
    {
     "name": "stdout",
     "output_type": "stream",
     "text": [
      "NotPresent\n"
     ]
    }
   ],
   "source": [
    "print(tel.get('NA', 'NotPresent'))"
   ]
  },
  {
   "cell_type": "code",
   "execution_count": 252,
   "metadata": {},
   "outputs": [
    {
     "name": "stdout",
     "output_type": "stream",
     "text": [
      "{'jack': 4098, 'guido': 4127, 'irv': 4127, 'New': 1234}\n"
     ]
    }
   ],
   "source": [
    "tel.setdefault('New', 1234)\n",
    "print(tel)"
   ]
  },
  {
   "cell_type": "code",
   "execution_count": 254,
   "metadata": {},
   "outputs": [
    {
     "name": "stdout",
     "output_type": "stream",
     "text": [
      "{'jack': 4098, 'guido': 4127, 'irv': 4127, 'New': 1234, 'Newer': 3456}\n"
     ]
    }
   ],
   "source": [
    "tel['Newer'] = 3456\n",
    "print(tel)"
   ]
  },
  {
   "cell_type": "code",
   "execution_count": 255,
   "metadata": {},
   "outputs": [
    {
     "name": "stdout",
     "output_type": "stream",
     "text": [
      "['__class__', '__contains__', '__delattr__', '__delitem__', '__dir__', '__doc__', '__eq__', '__format__', '__ge__', '__getattribute__', '__getitem__', '__gt__', '__hash__', '__init__', '__init_subclass__', '__iter__', '__le__', '__len__', '__lt__', '__ne__', '__new__', '__reduce__', '__reduce_ex__', '__repr__', '__setattr__', '__setitem__', '__sizeof__', '__str__', '__subclasshook__', 'clear', 'copy', 'fromkeys', 'get', 'items', 'keys', 'pop', 'popitem', 'setdefault', 'update', 'values']\n"
     ]
    }
   ],
   "source": [
    "print(dir(tel))"
   ]
  },
  {
   "cell_type": "code",
   "execution_count": 256,
   "metadata": {},
   "outputs": [
    {
     "name": "stdout",
     "output_type": "stream",
     "text": [
      "Help on built-in function get:\n",
      "\n",
      "get(...) method of builtins.dict instance\n",
      "    D.get(k[,d]) -> D[k] if k in D, else d.  d defaults to None.\n",
      "\n",
      "None\n"
     ]
    }
   ],
   "source": [
    "print(help(tel.get))"
   ]
  },
  {
   "cell_type": "code",
   "execution_count": 257,
   "metadata": {},
   "outputs": [
    {
     "name": "stdout",
     "output_type": "stream",
     "text": [
      "{'2': 4, '4': 16, '6': 36}\n"
     ]
    }
   ],
   "source": [
    "print({str(x): x**2 for x in (2, 4, 6)})"
   ]
  },
  {
   "cell_type": "markdown",
   "metadata": {},
   "source": [
    "#### 5.6. Looping Techniques"
   ]
  },
  {
   "cell_type": "code",
   "execution_count": 258,
   "metadata": {},
   "outputs": [
    {
     "name": "stdout",
     "output_type": "stream",
     "text": [
      "gallahad the pure\n",
      "robin the brave\n"
     ]
    }
   ],
   "source": [
    "# Looping through dictionary\n",
    "knights = {'gallahad': 'the pure', 'robin': 'the brave'}\n",
    "for k, v in knights.items():\n",
    "    print(k,v)"
   ]
  },
  {
   "cell_type": "code",
   "execution_count": 259,
   "metadata": {},
   "outputs": [
    {
     "ename": "ZeroDivisionError",
     "evalue": "division by zero",
     "output_type": "error",
     "traceback": [
      "\u001b[1;31m---------------------------------------------------------------------------\u001b[0m",
      "\u001b[1;31mZeroDivisionError\u001b[0m                         Traceback (most recent call last)",
      "\u001b[1;32m<ipython-input-259-242277fd9e32>\u001b[0m in \u001b[0;36m<module>\u001b[1;34m()\u001b[0m\n\u001b[1;32m----> 1\u001b[1;33m \u001b[1;36m10\u001b[0m\u001b[1;33m/\u001b[0m\u001b[1;36m0\u001b[0m\u001b[1;33m\u001b[0m\u001b[0m\n\u001b[0m",
      "\u001b[1;31mZeroDivisionError\u001b[0m: division by zero"
     ]
    }
   ],
   "source": [
    "10/0"
   ]
  },
  {
   "cell_type": "code",
   "execution_count": 261,
   "metadata": {},
   "outputs": [
    {
     "name": "stdout",
     "output_type": "stream",
     "text": [
      "What is your name?  It is lancelot.\n",
      "What is your quest?  It is the holy grail.\n",
      "What is your favorite color?  It is blue.\n"
     ]
    }
   ],
   "source": [
    "# Looping through more than one sequence\n",
    "questions = ['name', 'quest', 'favorite color', 'xyx']\n",
    "answers = ['lancelot', 'the holy grail', 'blue']\n",
    "for q, a in zip(questions, answers):\n",
    "    print('What is your {0}?  It is {1}.'.format(q, a))"
   ]
  },
  {
   "cell_type": "code",
   "execution_count": 262,
   "metadata": {},
   "outputs": [
    {
     "name": "stdout",
     "output_type": "stream",
     "text": [
      "0 name\n",
      "1 quest\n",
      "2 favorite color\n"
     ]
    }
   ],
   "source": [
    "# Obtaining the position index\n",
    "questions = ['name', 'quest', 'favorite color']\n",
    "for i, v in enumerate(questions):\n",
    "    print(i, v)"
   ]
  },
  {
   "cell_type": "code",
   "execution_count": 263,
   "metadata": {},
   "outputs": [
    {
     "name": "stdout",
     "output_type": "stream",
     "text": [
      "0 favorite color\n",
      "1 name\n",
      "2 quest\n"
     ]
    }
   ],
   "source": [
    "# Obtaining the position index\n",
    "questions = ['name', 'quest', 'favorite color']\n",
    "for i, v in enumerate(sorted(questions)):\n",
    "    print(i, v)"
   ]
  },
  {
   "cell_type": "code",
   "execution_count": 264,
   "metadata": {},
   "outputs": [
    {
     "name": "stdout",
     "output_type": "stream",
     "text": [
      "9\n",
      "7\n",
      "5\n",
      "3\n",
      "1\n"
     ]
    }
   ],
   "source": [
    "# To loop over a sequence in reverse\n",
    "for i in reversed(range(1, 10, 2)):\n",
    "    print(i)"
   ]
  },
  {
   "cell_type": "code",
   "execution_count": 265,
   "metadata": {},
   "outputs": [
    {
     "name": "stdout",
     "output_type": "stream",
     "text": [
      "[1, 3, 5, 7, 9]\n"
     ]
    }
   ],
   "source": [
    "print(list(range(1, 10, 2)))"
   ]
  },
  {
   "cell_type": "code",
   "execution_count": 266,
   "metadata": {},
   "outputs": [
    {
     "name": "stdout",
     "output_type": "stream",
     "text": [
      "apple\n",
      "banana\n",
      "orange\n",
      "pear\n"
     ]
    }
   ],
   "source": [
    "# To loop over a sequence in sorted order\n",
    "basket = ['apple', 'orange', 'apple', 'pear', 'orange', 'banana']\n",
    "for f in sorted(set(basket)):\n",
    "    print(f)"
   ]
  },
  {
   "cell_type": "markdown",
   "metadata": {},
   "source": [
    "### 8. Errors and Exceptions"
   ]
  },
  {
   "cell_type": "code",
   "execution_count": 267,
   "metadata": {},
   "outputs": [
    {
     "ename": "SyntaxError",
     "evalue": "invalid syntax (<ipython-input-267-614901b0e5ee>, line 1)",
     "output_type": "error",
     "traceback": [
      "\u001b[1;36m  File \u001b[1;32m\"<ipython-input-267-614901b0e5ee>\"\u001b[1;36m, line \u001b[1;32m1\u001b[0m\n\u001b[1;33m    while True print('Hello world')\u001b[0m\n\u001b[1;37m                   ^\u001b[0m\n\u001b[1;31mSyntaxError\u001b[0m\u001b[1;31m:\u001b[0m invalid syntax\n"
     ]
    }
   ],
   "source": [
    "while True print('Hello world')"
   ]
  },
  {
   "cell_type": "code",
   "execution_count": null,
   "metadata": {
    "collapsed": true
   },
   "outputs": [],
   "source": []
  },
  {
   "cell_type": "code",
   "execution_count": 271,
   "metadata": {},
   "outputs": [
    {
     "ename": "ZeroDivisionError",
     "evalue": "division by zero",
     "output_type": "error",
     "traceback": [
      "\u001b[1;31m---------------------------------------------------------------------------\u001b[0m",
      "\u001b[1;31mZeroDivisionError\u001b[0m                         Traceback (most recent call last)",
      "\u001b[1;32m<ipython-input-271-9ce172bd90a7>\u001b[0m in \u001b[0;36m<module>\u001b[1;34m()\u001b[0m\n\u001b[1;32m----> 1\u001b[1;33m \u001b[1;36m10\u001b[0m \u001b[1;33m*\u001b[0m \u001b[1;33m(\u001b[0m\u001b[1;36m1\u001b[0m\u001b[1;33m/\u001b[0m\u001b[1;36m0\u001b[0m\u001b[1;33m)\u001b[0m\u001b[1;33m\u001b[0m\u001b[0m\n\u001b[0m",
      "\u001b[1;31mZeroDivisionError\u001b[0m: division by zero"
     ]
    }
   ],
   "source": [
    "10 * (1/0)"
   ]
  },
  {
   "cell_type": "code",
   "execution_count": 272,
   "metadata": {},
   "outputs": [
    {
     "ename": "NameError",
     "evalue": "name 'spam' is not defined",
     "output_type": "error",
     "traceback": [
      "\u001b[1;31m---------------------------------------------------------------------------\u001b[0m",
      "\u001b[1;31mNameError\u001b[0m                                 Traceback (most recent call last)",
      "\u001b[1;32m<ipython-input-272-6b1dfe582d2e>\u001b[0m in \u001b[0;36m<module>\u001b[1;34m()\u001b[0m\n\u001b[1;32m----> 1\u001b[1;33m \u001b[1;36m4\u001b[0m \u001b[1;33m+\u001b[0m \u001b[0mspam\u001b[0m\u001b[1;33m*\u001b[0m\u001b[1;36m3\u001b[0m\u001b[1;33m\u001b[0m\u001b[0m\n\u001b[0m",
      "\u001b[1;31mNameError\u001b[0m: name 'spam' is not defined"
     ]
    }
   ],
   "source": [
    "4 + spam*3"
   ]
  },
  {
   "cell_type": "code",
   "execution_count": 273,
   "metadata": {},
   "outputs": [
    {
     "ename": "TypeError",
     "evalue": "must be str, not int",
     "output_type": "error",
     "traceback": [
      "\u001b[1;31m---------------------------------------------------------------------------\u001b[0m",
      "\u001b[1;31mTypeError\u001b[0m                                 Traceback (most recent call last)",
      "\u001b[1;32m<ipython-input-273-4c6dd5170204>\u001b[0m in \u001b[0;36m<module>\u001b[1;34m()\u001b[0m\n\u001b[1;32m----> 1\u001b[1;33m \u001b[1;34m'2'\u001b[0m \u001b[1;33m+\u001b[0m \u001b[1;36m2\u001b[0m\u001b[1;33m\u001b[0m\u001b[0m\n\u001b[0m",
      "\u001b[1;31mTypeError\u001b[0m: must be str, not int"
     ]
    }
   ],
   "source": [
    "'2' + 2"
   ]
  },
  {
   "cell_type": "code",
   "execution_count": 274,
   "metadata": {},
   "outputs": [
    {
     "name": "stdout",
     "output_type": "stream",
     "text": [
      "Handling run-time error: division by zero\n"
     ]
    }
   ],
   "source": [
    "def this_fails():\n",
    "    x = 1/0\n",
    "\n",
    "try:\n",
    "    this_fails()\n",
    "except ZeroDivisionError as err:\n",
    "    print('Handling run-time error:', err)"
   ]
  },
  {
   "cell_type": "code",
   "execution_count": 275,
   "metadata": {},
   "outputs": [
    {
     "name": "stdout",
     "output_type": "stream",
     "text": [
      "========================================\n",
      "division by zero!\n",
      "executing finally clause\n",
      "executing finally clause\n"
     ]
    }
   ],
   "source": [
    "def divide(x, y):\n",
    "    try:\n",
    "        result = x / y\n",
    "        print(\"In Try\")\n",
    "    except ZeroDivisionError:\n",
    "        print(\"division by zero!\")\n",
    "    else:\n",
    "        print(\"result is\", result)\n",
    "    finally:\n",
    "        print(\"executing finally clause\")\n",
    "        print(\"executing finally clause\")\n",
    "        \n",
    "#divide(2,3)\n",
    "print(\"=\"*40)\n",
    "divide(1,0)"
   ]
  },
  {
   "cell_type": "code",
   "execution_count": 276,
   "metadata": {},
   "outputs": [
    {
     "ename": "ZeroDivisionError",
     "evalue": "division by zero",
     "output_type": "error",
     "traceback": [
      "\u001b[1;31m---------------------------------------------------------------------------\u001b[0m",
      "\u001b[1;31mZeroDivisionError\u001b[0m                         Traceback (most recent call last)",
      "\u001b[1;32m<ipython-input-276-c3a946b98c11>\u001b[0m in \u001b[0;36m<module>\u001b[1;34m()\u001b[0m\n\u001b[1;32m----> 1\u001b[1;33m \u001b[1;36m1\u001b[0m\u001b[1;33m/\u001b[0m\u001b[1;36m0\u001b[0m\u001b[1;33m\u001b[0m\u001b[0m\n\u001b[0m\u001b[0;32m      2\u001b[0m \u001b[0mprint\u001b[0m\u001b[1;33m(\u001b[0m\u001b[1;34m\"something\"\u001b[0m\u001b[1;33m)\u001b[0m\u001b[1;33m\u001b[0m\u001b[0m\n",
      "\u001b[1;31mZeroDivisionError\u001b[0m: division by zero"
     ]
    }
   ],
   "source": [
    "1/0\n",
    "print(\"something\")"
   ]
  },
  {
   "cell_type": "markdown",
   "metadata": {},
   "source": [
    "#### 6.2. re — Regular expression operations\n",
    "\n",
    "Direct [link](https://docs.python.org/3/library/re.html \"Regular expression operations\") for  **\"Regular expression operations\"**  "
   ]
  },
  {
   "cell_type": "markdown",
   "metadata": {},
   "source": [
    "#### Regular Expression HOWTO\n",
    "\n",
    "Direct [link](https://docs.python.org/3/howto/regex.html \"Regular Expression HOWTO\") for  **\"Regular Expression HOWTO\"**  "
   ]
  },
  {
   "cell_type": "markdown",
   "metadata": {},
   "source": [
    "#### Python Regular Expression Tutorial - DataCamp\n",
    "\n",
    "Direct [link](https://www.datacamp.com/community/tutorials/python-regular-expression-tutorial \"Regular Expression HOWTO\"). Courtesy **\"Sejal Jaiswal\"**  "
   ]
  },
  {
   "cell_type": "code",
   "execution_count": 277,
   "metadata": {},
   "outputs": [
    {
     "data": {
      "text/plain": [
       "True"
      ]
     },
     "execution_count": 277,
     "metadata": {},
     "output_type": "execute_result"
    }
   ],
   "source": [
    "s = \"Regular expressions easily explained!\"\n",
    "\"easily\" in s"
   ]
  },
  {
   "cell_type": "code",
   "execution_count": 278,
   "metadata": {
    "collapsed": true
   },
   "outputs": [],
   "source": [
    "import re"
   ]
  },
  {
   "cell_type": "code",
   "execution_count": 279,
   "metadata": {},
   "outputs": [
    {
     "name": "stdout",
     "output_type": "stream",
     "text": [
      "Match!\n"
     ]
    }
   ],
   "source": [
    "pattern = r\"ie\"\n",
    "str1 = \"Cookie\"\n",
    "# if ($str =~ m/^H.+d$/)\n",
    "if re.search(pattern, str1):\n",
    "#if re.match(pattern, str1):\n",
    "    print(\"Match!\")\n",
    "else: \n",
    "    print(\"Not a match!\")"
   ]
  },
  {
   "cell_type": "markdown",
   "metadata": {},
   "source": [
    "#### Wild Card Characters: Special Characters"
   ]
  },
  {
   "cell_type": "code",
   "execution_count": 280,
   "metadata": {},
   "outputs": [
    {
     "data": {
      "text/plain": [
       "'Cookie'"
      ]
     },
     "execution_count": 280,
     "metadata": {},
     "output_type": "execute_result"
    }
   ],
   "source": [
    "# . - A period. Matches any single character except newline character.\n",
    "re.search(r'Co.k.e', 'Cookie').group()"
   ]
  },
  {
   "cell_type": "code",
   "execution_count": 281,
   "metadata": {},
   "outputs": [
    {
     "data": {
      "text/plain": [
       "'Cookie'"
      ]
     },
     "execution_count": 281,
     "metadata": {},
     "output_type": "execute_result"
    }
   ],
   "source": [
    "x = re.search(r'Co.k.e', 'Cookie')\n",
    "x.group()"
   ]
  },
  {
   "cell_type": "code",
   "execution_count": 282,
   "metadata": {},
   "outputs": [
    {
     "name": "stdout",
     "output_type": "stream",
     "text": [
      "Cookie\n",
      "Coo\n",
      "kie\n",
      "('Coo', 'kie')\n"
     ]
    }
   ],
   "source": [
    "x = re.search(r'(Co.)(k.e)', 'Cookie')\n",
    "print(x.group())\n",
    "print(x.group(1))\n",
    "print(x.group(2))\n",
    "print(x.groups())"
   ]
  },
  {
   "cell_type": "code",
   "execution_count": 283,
   "metadata": {},
   "outputs": [
    {
     "name": "stdout",
     "output_type": "stream",
     "text": [
      "['__class__', '__copy__', '__deepcopy__', '__delattr__', '__dir__', '__doc__', '__eq__', '__format__', '__ge__', '__getattribute__', '__getitem__', '__gt__', '__hash__', '__init__', '__init_subclass__', '__le__', '__lt__', '__ne__', '__new__', '__reduce__', '__reduce_ex__', '__repr__', '__setattr__', '__sizeof__', '__str__', '__subclasshook__', 'end', 'endpos', 'expand', 'group', 'groupdict', 'groups', 'lastgroup', 'lastindex', 'pos', 're', 'regs', 'span', 'start', 'string']\n"
     ]
    }
   ],
   "source": [
    "print(dir(x))"
   ]
  },
  {
   "cell_type": "code",
   "execution_count": 284,
   "metadata": {},
   "outputs": [
    {
     "name": "stdout",
     "output_type": "stream",
     "text": [
      "6\n"
     ]
    }
   ],
   "source": [
    "print(x.end())"
   ]
  },
  {
   "cell_type": "code",
   "execution_count": 285,
   "metadata": {},
   "outputs": [
    {
     "name": "stdout",
     "output_type": "stream",
     "text": [
      "6\n"
     ]
    }
   ],
   "source": [
    "print(x.endpos)"
   ]
  },
  {
   "cell_type": "code",
   "execution_count": 286,
   "metadata": {},
   "outputs": [
    {
     "data": {
      "text/plain": [
       "{'extension': 'com', 'user': 'myname', 'website': 'hackerrank'}"
      ]
     },
     "execution_count": 286,
     "metadata": {},
     "output_type": "execute_result"
    }
   ],
   "source": [
    "m = re.match(r'(?P<user>\\w+)@(?P<website>\\w+)\\.(?P<extension>\\w+)','myname@hackerrank.com')\n",
    "m.groupdict()"
   ]
  },
  {
   "cell_type": "code",
   "execution_count": 287,
   "metadata": {},
   "outputs": [
    {
     "data": {
      "text/plain": [
       "'Co0kie'"
      ]
     },
     "execution_count": 287,
     "metadata": {},
     "output_type": "execute_result"
    }
   ],
   "source": [
    "# \\w - Lowercase w. Matches any single letter, digit or underscore.\n",
    "re.search(r'Co\\wk\\we', 'Co0kie').group()"
   ]
  },
  {
   "cell_type": "code",
   "execution_count": 288,
   "metadata": {},
   "outputs": [
    {
     "data": {
      "text/plain": [
       "'C@ke'"
      ]
     },
     "execution_count": 288,
     "metadata": {},
     "output_type": "execute_result"
    }
   ],
   "source": [
    "# \\W - Uppercase w. Matches any character not part of \\w (lowercase w).\n",
    "re.search(r'C\\Wke', 'C@ke').group()"
   ]
  },
  {
   "cell_type": "code",
   "execution_count": 289,
   "metadata": {},
   "outputs": [
    {
     "data": {
      "text/plain": [
       "'Eat cake'"
      ]
     },
     "execution_count": 289,
     "metadata": {},
     "output_type": "execute_result"
    }
   ],
   "source": [
    "# \\s - Lowercase s. Matches a single whitespace character like: space, newline, tab, return.\n",
    "re.search(r'Eat\\scake', 'Eat cake').group()"
   ]
  },
  {
   "cell_type": "code",
   "execution_count": 290,
   "metadata": {},
   "outputs": [
    {
     "data": {
      "text/plain": [
       "'Cook!e'"
      ]
     },
     "execution_count": 290,
     "metadata": {},
     "output_type": "execute_result"
    }
   ],
   "source": [
    "# \\S - Uppercase s. Matches any character not part of \\s (lowercase s).\n",
    "re.search(r'Cook\\Se', 'Cook!e').group()"
   ]
  },
  {
   "cell_type": "code",
   "execution_count": 291,
   "metadata": {},
   "outputs": [
    {
     "ename": "AttributeError",
     "evalue": "'NoneType' object has no attribute 'group'",
     "output_type": "error",
     "traceback": [
      "\u001b[1;31m---------------------------------------------------------------------------\u001b[0m",
      "\u001b[1;31mAttributeError\u001b[0m                            Traceback (most recent call last)",
      "\u001b[1;32m<ipython-input-291-10cf8912898b>\u001b[0m in \u001b[0;36m<module>\u001b[1;34m()\u001b[0m\n\u001b[0;32m      1\u001b[0m \u001b[1;31m# \\t - Lowercase t. Matches tab.\u001b[0m\u001b[1;33m\u001b[0m\u001b[1;33m\u001b[0m\u001b[0m\n\u001b[1;32m----> 2\u001b[1;33m \u001b[0mre\u001b[0m\u001b[1;33m.\u001b[0m\u001b[0msearch\u001b[0m\u001b[1;33m(\u001b[0m\u001b[1;34mr'Eat\\tcake'\u001b[0m\u001b[1;33m,\u001b[0m \u001b[1;34m'Eat Cake'\u001b[0m\u001b[1;33m)\u001b[0m\u001b[1;33m.\u001b[0m\u001b[0mgroup\u001b[0m\u001b[1;33m(\u001b[0m\u001b[1;33m)\u001b[0m\u001b[1;33m\u001b[0m\u001b[0m\n\u001b[0m\u001b[0;32m      3\u001b[0m \u001b[1;33m\u001b[0m\u001b[0m\n\u001b[0;32m      4\u001b[0m \u001b[1;31m# \\n - Lowercase n. Matches newline.\u001b[0m\u001b[1;33m\u001b[0m\u001b[1;33m\u001b[0m\u001b[0m\n\u001b[0;32m      5\u001b[0m \u001b[1;33m\u001b[0m\u001b[0m\n",
      "\u001b[1;31mAttributeError\u001b[0m: 'NoneType' object has no attribute 'group'"
     ]
    }
   ],
   "source": [
    "# \\t - Lowercase t. Matches tab.\n",
    "re.search(r'Eat\\tcake', 'Eat Cake').group()\n",
    "\n",
    "# \\n - Lowercase n. Matches newline.\n",
    "\n",
    "# \\r - Lowercase r. Matches return."
   ]
  },
  {
   "cell_type": "code",
   "execution_count": 292,
   "metadata": {},
   "outputs": [
    {
     "data": {
      "text/plain": [
       "'c00kie'"
      ]
     },
     "execution_count": 292,
     "metadata": {},
     "output_type": "execute_result"
    }
   ],
   "source": [
    "# \\d - Lowercase d. Matches decimal digit 0-9.\n",
    "re.search(r'c\\d\\dkie', 'c00kie').group()"
   ]
  },
  {
   "cell_type": "code",
   "execution_count": 293,
   "metadata": {},
   "outputs": [
    {
     "data": {
      "text/plain": [
       "'Eat'"
      ]
     },
     "execution_count": 293,
     "metadata": {},
     "output_type": "execute_result"
    }
   ],
   "source": [
    "# ^ - Caret. Matches a pattern at the start of the string.\n",
    "re.search(r'^Eat', 'Eat cake').group()"
   ]
  },
  {
   "cell_type": "code",
   "execution_count": 294,
   "metadata": {},
   "outputs": [
    {
     "data": {
      "text/plain": [
       "'cake'"
      ]
     },
     "execution_count": 294,
     "metadata": {},
     "output_type": "execute_result"
    }
   ],
   "source": [
    "# $ - Matches a pattern at the end of string.\n",
    "re.search(r'cake$', 'Eat cake').group()"
   ]
  },
  {
   "cell_type": "code",
   "execution_count": 296,
   "metadata": {},
   "outputs": [
    {
     "data": {
      "text/plain": [
       "'a'"
      ]
     },
     "execution_count": 296,
     "metadata": {},
     "output_type": "execute_result"
    }
   ],
   "source": [
    "# [abc] - Matches a or b or c.\n",
    "re.search('[aaz]', 'Eat cake').group()"
   ]
  },
  {
   "cell_type": "code",
   "execution_count": 297,
   "metadata": {},
   "outputs": [
    {
     "data": {
      "text/plain": [
       "'Number: 1'"
      ]
     },
     "execution_count": 297,
     "metadata": {},
     "output_type": "execute_result"
    }
   ],
   "source": [
    "# [a-zA-Z0-9] - Matches any letter from (a to z) or (A to Z) or (0 to 9). \n",
    "re.search(r'Number: [0-9]', 'Number: 1').group()"
   ]
  },
  {
   "cell_type": "code",
   "execution_count": 298,
   "metadata": {},
   "outputs": [
    {
     "data": {
      "text/plain": [
       "'Number: 7'"
      ]
     },
     "execution_count": 298,
     "metadata": {},
     "output_type": "execute_result"
    }
   ],
   "source": [
    "# Matches any character except 5\n",
    "re.search(r'Number: [^0-6]', 'Number: 7').group()"
   ]
  },
  {
   "cell_type": "code",
   "execution_count": 299,
   "metadata": {},
   "outputs": [
    {
     "data": {
      "text/plain": [
       "'Cookie'"
      ]
     },
     "execution_count": 299,
     "metadata": {},
     "output_type": "execute_result"
    }
   ],
   "source": [
    "# \\A - Uppercase a. Matches only at the start of the string. Works across multiple lines as well.\n",
    "re.search(r'\\A[A-E]ookie', 'Cookie').group()"
   ]
  },
  {
   "cell_type": "code",
   "execution_count": 300,
   "metadata": {},
   "outputs": [
    {
     "data": {
      "text/plain": [
       "'Cookie'"
      ]
     },
     "execution_count": 300,
     "metadata": {},
     "output_type": "execute_result"
    }
   ],
   "source": [
    "# \\b - Lowercase b. Matches only the beginning or end of the word.\n",
    "re.search(r'\\b[A-E]ookie', 'Cookie').group()"
   ]
  },
  {
   "cell_type": "code",
   "execution_count": 301,
   "metadata": {},
   "outputs": [
    {
     "data": {
      "text/plain": [
       "'Back\\\\stail'"
      ]
     },
     "execution_count": 301,
     "metadata": {},
     "output_type": "execute_result"
    }
   ],
   "source": [
    "# \\ - Backslash.\n",
    "re.search(r'Back\\\\stail', 'Back\\stail').group()"
   ]
  },
  {
   "cell_type": "markdown",
   "metadata": {},
   "source": [
    "#### Repetitions"
   ]
  },
  {
   "cell_type": "code",
   "execution_count": 302,
   "metadata": {},
   "outputs": [
    {
     "data": {
      "text/plain": [
       "'Cooookie'"
      ]
     },
     "execution_count": 302,
     "metadata": {},
     "output_type": "execute_result"
    }
   ],
   "source": [
    "# + - Checks for one or more characters to its left.\n",
    "re.search(r'Co+kie', 'Cooookie').group()"
   ]
  },
  {
   "cell_type": "code",
   "execution_count": 303,
   "metadata": {},
   "outputs": [
    {
     "data": {
      "text/plain": [
       "'Ckie'"
      ]
     },
     "execution_count": 303,
     "metadata": {},
     "output_type": "execute_result"
    }
   ],
   "source": [
    "# + - Checks for one or more characters to its left.\n",
    "re.search(r'C0?kie', 'Ckie').group()"
   ]
  },
  {
   "cell_type": "code",
   "execution_count": 304,
   "metadata": {},
   "outputs": [
    {
     "data": {
      "text/plain": [
       "'Ckie'"
      ]
     },
     "execution_count": 304,
     "metadata": {},
     "output_type": "execute_result"
    }
   ],
   "source": [
    "# + - Checks for one or more characters to its left.\n",
    "re.search(r'C*kie', 'Ckie').group()"
   ]
  },
  {
   "cell_type": "code",
   "execution_count": null,
   "metadata": {
    "collapsed": true
   },
   "outputs": [],
   "source": []
  },
  {
   "cell_type": "code",
   "execution_count": 305,
   "metadata": {},
   "outputs": [
    {
     "data": {
      "text/plain": [
       "'Ckie'"
      ]
     },
     "execution_count": 305,
     "metadata": {},
     "output_type": "execute_result"
    }
   ],
   "source": [
    "# * - Checks for zero or more characters to its left.\n",
    "# Checks for any occurrence of a or o or both in the given sequence\n",
    "re.search(r'Ca*o*kie', 'Ckie').group()"
   ]
  },
  {
   "cell_type": "code",
   "execution_count": 306,
   "metadata": {},
   "outputs": [
    {
     "data": {
      "text/plain": [
       "'Color'"
      ]
     },
     "execution_count": 306,
     "metadata": {},
     "output_type": "execute_result"
    }
   ],
   "source": [
    "# ? - Checks for exactly zero or one character to its left.\n",
    "# Checks for exactly zero or one occurrence of a or o or both in the given sequence\n",
    "re.search(r'Colou?r', 'Color').group()"
   ]
  },
  {
   "cell_type": "code",
   "execution_count": 307,
   "metadata": {},
   "outputs": [
    {
     "data": {
      "text/plain": [
       "'98765432'"
      ]
     },
     "execution_count": 307,
     "metadata": {},
     "output_type": "execute_result"
    }
   ],
   "source": [
    "# {x} - Repeat exactly x number of times.\n",
    "# {x,} - Repeat at least x times or more.\n",
    "# {x, y} - Repeat at least x times but no more than y times.\n",
    "val = '987654321'\n",
    "#re.search(r'\\d{5,8}', '0987654321').group()\n",
    "re.search(r'\\d{5,8}', val).group()"
   ]
  },
  {
   "cell_type": "code",
   "execution_count": 308,
   "metadata": {},
   "outputs": [
    {
     "data": {
      "text/plain": [
       "'987654321'"
      ]
     },
     "execution_count": 308,
     "metadata": {},
     "output_type": "execute_result"
    }
   ],
   "source": [
    "# {x} - Repeat exactly x number of times.\n",
    "# {x,} - Repeat at least x times or more.\n",
    "# {x, y} - Repeat at least x times but no more than y times.\n",
    "val = '987654321'\n",
    "re.search(r'\\d+', val).group()"
   ]
  },
  {
   "cell_type": "code",
   "execution_count": 309,
   "metadata": {},
   "outputs": [
    {
     "data": {
      "text/plain": [
       "'0980a0007'"
      ]
     },
     "execution_count": 309,
     "metadata": {},
     "output_type": "execute_result"
    }
   ],
   "source": [
    "# {x} - Repeat exactly x number of times.\n",
    "# {x,} - Repeat at least x times or more.\n",
    "# {x, y} - Repeat at least x times but no more than y times.\n",
    "re.search(r'\\w{5,12}', '0980a0007').group()"
   ]
  },
  {
   "cell_type": "markdown",
   "metadata": {},
   "source": [
    "#### Groups and Grouping using Regular Expressions"
   ]
  },
  {
   "cell_type": "code",
   "execution_count": 310,
   "metadata": {},
   "outputs": [
    {
     "name": "stdout",
     "output_type": "stream",
     "text": [
      "support@datacamp.com\n",
      "support\n",
      "datacamp.com\n",
      "com\n"
     ]
    }
   ],
   "source": [
    "email_address = 'Please contact us at: support@datacamp.com'\n",
    "#email_address = 'support@datacamp.com'\n",
    "match = re.search(r'(\\S+)@(\\S+\\.(\\w+))', email_address)\n",
    "\n",
    "if match:\n",
    "\n",
    "    print(match.group()) # The whole matched text\n",
    "    print(match.group(1)) # The username (group 1)\n",
    "    print(match.group(2)) # The host (group 2)\n",
    "    print(match.group(3)) # The host (group 2)\n"
   ]
  },
  {
   "cell_type": "code",
   "execution_count": 311,
   "metadata": {},
   "outputs": [
    {
     "name": "stdout",
     "output_type": "stream",
     "text": [
      "support@datacamp.com\n",
      "support\n",
      "datacamp\n",
      "com\n",
      "{'name': 'support', 'company': 'datacamp', 'domain': 'com'}\n"
     ]
    }
   ],
   "source": [
    "email_address = 'Please contact us at: support@datacamp.com'\n",
    "#email_address = 'support@datacamp.com'\n",
    "match = re.search(r'(?P<name>\\S+)@(?P<company>\\S+)\\.(?P<domain>\\w+)', email_address)\n",
    "\n",
    "if match:\n",
    "\n",
    "    print(match.group()) # The whole matched text\n",
    "    print(match.group(1)) # The username (group 1)\n",
    "    print(match.group(2)) # The host (group 2)\n",
    "    print(match.group(3)) # The host (group 2)\n",
    "print(match.groupdict())"
   ]
  },
  {
   "cell_type": "code",
   "execution_count": 312,
   "metadata": {},
   "outputs": [
    {
     "data": {
      "text/plain": [
       "'supp@ort@da-ta-camp.com'"
      ]
     },
     "execution_count": 312,
     "metadata": {},
     "output_type": "execute_result"
    }
   ],
   "source": [
    "email_address = 'Please contact us at: supp@ort@da-ta-camp.com'\n",
    "#email_address = 'support@datacamp.com'\n",
    "re.search(r'\\S+@\\S+\\.\\w+', email_address).group()"
   ]
  },
  {
   "cell_type": "raw",
   "metadata": {
    "collapsed": true
   },
   "source": [
    "# Output:\n",
    "support@datacamp.com\n",
    "support\n",
    "datacamp.com"
   ]
  },
  {
   "cell_type": "code",
   "execution_count": 313,
   "metadata": {},
   "outputs": [
    {
     "data": {
      "text/plain": [
       "'supp-ort.india4@datacamp.com'"
      ]
     },
     "execution_count": 313,
     "metadata": {},
     "output_type": "execute_result"
    }
   ],
   "source": [
    "# -, _, .\n",
    "email_address = 'supp-ort.india4@datacamp.com'\n",
    "#re.search(r'\\S+@\\w+\\.\\w+', email_address).group() # Naga\n",
    "re.search(r'[a-zA-Z0-9-_.]+@\\w+\\.\\w+', email_address).group() # Ramya\n"
   ]
  },
  {
   "cell_type": "code",
   "execution_count": 314,
   "metadata": {},
   "outputs": [
    {
     "data": {
      "text/plain": [
       "'support@datacamp.com'"
      ]
     },
     "execution_count": 314,
     "metadata": {},
     "output_type": "execute_result"
    }
   ],
   "source": [
    "\n",
    "email_address = 'support@datacamp.com'\n",
    "re.search(r'\\w+@\\w+\\.\\w+', email_address).group()"
   ]
  },
  {
   "cell_type": "markdown",
   "metadata": {},
   "source": [
    "#### Groups and Grouping using Regular Expressions"
   ]
  },
  {
   "cell_type": "code",
   "execution_count": 315,
   "metadata": {},
   "outputs": [
    {
     "data": {
      "text/plain": [
       "'<h1>TITLE</h1>'"
      ]
     },
     "execution_count": 315,
     "metadata": {},
     "output_type": "execute_result"
    }
   ],
   "source": [
    "heading  = r'<h1>TITLE</h1>'\n",
    "re.match(r'<.*>', heading).group()"
   ]
  },
  {
   "cell_type": "code",
   "execution_count": 316,
   "metadata": {},
   "outputs": [
    {
     "data": {
      "text/plain": [
       "'<h1>'"
      ]
     },
     "execution_count": 316,
     "metadata": {},
     "output_type": "execute_result"
    }
   ],
   "source": [
    "heading  = r'<h1>TITLE</h1>'\n",
    "re.match(r'<.*?>', heading).group()"
   ]
  },
  {
   "cell_type": "code",
   "execution_count": 317,
   "metadata": {},
   "outputs": [
    {
     "data": {
      "text/plain": [
       "'<h1>'"
      ]
     },
     "execution_count": 317,
     "metadata": {},
     "output_type": "execute_result"
    }
   ],
   "source": [
    "heading  = r'<h1>TITLE</h1>'\n",
    "re.search(r'<.*?>', heading).group()"
   ]
  },
  {
   "cell_type": "markdown",
   "metadata": {},
   "source": [
    "#### match vs search"
   ]
  },
  {
   "cell_type": "code",
   "execution_count": 318,
   "metadata": {},
   "outputs": [
    {
     "ename": "AttributeError",
     "evalue": "'NoneType' object has no attribute 'group'",
     "output_type": "error",
     "traceback": [
      "\u001b[1;31m---------------------------------------------------------------------------\u001b[0m",
      "\u001b[1;31mAttributeError\u001b[0m                            Traceback (most recent call last)",
      "\u001b[1;32m<ipython-input-318-1960b2eca28c>\u001b[0m in \u001b[0;36m<module>\u001b[1;34m()\u001b[0m\n\u001b[0;32m      3\u001b[0m \u001b[1;33m\u001b[0m\u001b[0m\n\u001b[0;32m      4\u001b[0m \u001b[1;31m# No match since \"C\" is not at the start of \"IceCream\"\u001b[0m\u001b[1;33m\u001b[0m\u001b[1;33m\u001b[0m\u001b[0m\n\u001b[1;32m----> 5\u001b[1;33m \u001b[0mre\u001b[0m\u001b[1;33m.\u001b[0m\u001b[0mmatch\u001b[0m\u001b[1;33m(\u001b[0m\u001b[0mpattern\u001b[0m\u001b[1;33m,\u001b[0m \u001b[0msequence1\u001b[0m\u001b[1;33m)\u001b[0m\u001b[1;33m.\u001b[0m\u001b[0mgroup\u001b[0m\u001b[1;33m(\u001b[0m\u001b[1;33m)\u001b[0m\u001b[1;33m\u001b[0m\u001b[0m\n\u001b[0m",
      "\u001b[1;31mAttributeError\u001b[0m: 'NoneType' object has no attribute 'group'"
     ]
    }
   ],
   "source": [
    "pattern = \"C\"\n",
    "sequence1 = \"IceCream\"\n",
    "\n",
    "# No match since \"C\" is not at the start of \"IceCream\"\n",
    "re.match(pattern, sequence1).group()"
   ]
  },
  {
   "cell_type": "code",
   "execution_count": 320,
   "metadata": {},
   "outputs": [
    {
     "data": {
      "text/plain": [
       "'cookie'"
      ]
     },
     "execution_count": 320,
     "metadata": {},
     "output_type": "execute_result"
    }
   ],
   "source": [
    "pattern = \"cookie\"\n",
    "sequence = \"Cake and cookie\"\n",
    "\n",
    "re.search(pattern, sequence).group()"
   ]
  },
  {
   "cell_type": "code",
   "execution_count": 321,
   "metadata": {},
   "outputs": [
    {
     "name": "stdout",
     "output_type": "stream",
     "text": [
      "Found \"this\" in \"Does this text match the pattern?\" from 5 to 9 (\"this\")\n"
     ]
    }
   ],
   "source": [
    "import re\n",
    "\n",
    "pattern = 'this'\n",
    "text = 'Does this text match the pattern?'\n",
    "\n",
    "match = re.search(pattern, text)\n",
    "\n",
    "s = match.start()\n",
    "e = match.end()\n",
    "\n",
    "print (f'Found \"{match.re.pattern}\" in \"{match.string}\" from {s} to {e} (\"{text[s:e]}\")')"
   ]
  },
  {
   "cell_type": "code",
   "execution_count": 322,
   "metadata": {},
   "outputs": [
    {
     "name": "stdout",
     "output_type": "stream",
     "text": [
      "support@datacamp.com\n",
      "xyz@datacamp.com\n"
     ]
    }
   ],
   "source": [
    "# findall\n",
    "email_address = \"Please contact us at: support@datacamp.com, xyz@datacamp.com\"\n",
    "\n",
    "#'addresses' is a list that stores all the possible match\n",
    "addresses = re.findall(r'[\\w\\.-]+@[\\w\\.-]+', email_address)\n",
    "for address in addresses: \n",
    "    print(address)"
   ]
  },
  {
   "cell_type": "markdown",
   "metadata": {},
   "source": [
    "#### Substitution"
   ]
  },
  {
   "cell_type": "code",
   "execution_count": 323,
   "metadata": {},
   "outputs": [
    {
     "name": "stdout",
     "output_type": "stream",
     "text": [
      "Please contact us at: support@datacamp.com\n"
     ]
    }
   ],
   "source": [
    "# Substitution\n",
    "email_address = \"Please contact us at: xyz@datacamp.com\"\n",
    "new_email_address = re.sub(r'([\\w\\.-]+)@([\\w\\.-]+)', r'support@datacamp.com', email_address)\n",
    "print(new_email_address)"
   ]
  },
  {
   "cell_type": "code",
   "execution_count": 324,
   "metadata": {},
   "outputs": [
    {
     "name": "stdout",
     "output_type": "stream",
     "text": [
      "('replace y with y', 1)\n"
     ]
    }
   ],
   "source": [
    "import re\n",
    "pattern = 'x'\n",
    "repl = 'y'\n",
    "string = 'replace x with y'\n",
    "print(re.subn(pattern, repl, string))"
   ]
  },
  {
   "cell_type": "markdown",
   "metadata": {},
   "source": [
    "### Misc"
   ]
  },
  {
   "cell_type": "code",
   "execution_count": 325,
   "metadata": {},
   "outputs": [
    {
     "name": "stdout",
     "output_type": "stream",
     "text": [
      "Time consumed with comprehension: 3.1358869075775146\n",
      "Time consumed with loops: 8.077704668045044\n"
     ]
    }
   ],
   "source": [
    "import time\n",
    "a = [1, 2, 3, 4, 5]\n",
    "\n",
    "# Start the timer\n",
    "start = time.time()\n",
    "\n",
    "for i in range(0, 5000000):\n",
    "    a = [value if value % 2 == 1 else value * 1 for value in a]\n",
    "# Stop the timer\n",
    "end = time.time()\n",
    "#print(\"Input value is of type: {0} and {1}\".format(type(user_input), 'something else'))\n",
    "print(\"Time consumed with comprehension: \" + str(end - start))\n",
    "\n",
    "# Restart the timer\n",
    "start = time.time()\n",
    "for i in range(0, 5000000):\n",
    "    for j in range(len(a)):\n",
    "        if a[j] % 2 == 1:\n",
    "            a[j] = a[j]\n",
    "        else:\n",
    "            a[j] = a[j] * 1\n",
    "# Stop the timer \n",
    "end = time.time()\n",
    "print(\"Time consumed with loops: \" + str(end - start))"
   ]
  },
  {
   "cell_type": "code",
   "execution_count": 326,
   "metadata": {},
   "outputs": [
    {
     "name": "stdout",
     "output_type": "stream",
     "text": [
      "{'H': 1, 'e': 1, 'l': 3, 'o': 2, ' ': 1, 'W': 1, 'r': 1, 'd': 1}\n"
     ]
    }
   ],
   "source": [
    "my_str = \"Hello World\"\n",
    "word_count = {}\n",
    "for ii in my_str:\n",
    "    if ii not in word_count.keys():\n",
    "        word_count[ii] = 1\n",
    "    else:\n",
    "        word_count[ii] += 1\n",
    "print(word_count)"
   ]
  },
  {
   "cell_type": "code",
   "execution_count": 327,
   "metadata": {},
   "outputs": [
    {
     "name": "stdout",
     "output_type": "stream",
     "text": [
      "\n",
      "The following command must be run outside of the IPython shell:\n",
      "\n",
      "    $ pip install pep8\n",
      "\n",
      "The Python package manager (pip) can only be used from outside of IPython.\n",
      "Please reissue the `pip` command in a separate terminal or command prompt.\n",
      "\n",
      "See the Python documentation for more informations on how to install packages:\n",
      "\n",
      "    https://docs.python.org/3/installing/\n"
     ]
    }
   ],
   "source": [
    "pip install pep8"
   ]
  },
  {
   "cell_type": "code",
   "execution_count": 328,
   "metadata": {},
   "outputs": [
    {
     "name": "stdout",
     "output_type": "stream",
     "text": [
      "Found data type: <class 'str'>, of value The Holy Grail\n",
      "Found data type: <class 'int'>, of value 1975\n",
      "Found data type: <class 'str'>, of value Terry Jones & Terry Gilliam\n",
      "Found data type: <class 'int'>, of value 91\n",
      "Found data type: <class 'list'>, of value ['Graham Chapman', ['Michael Palin', 'John Cleese', 'Terry Gilliam', 'Eric Idle', 'Terry Jones']]\n",
      "Found data type: <class 'str'>, of value Graham Chapman\n",
      "Found data type: <class 'list'>, of value ['Michael Palin', 'John Cleese', 'Terry Gilliam', 'Eric Idle', 'Terry Jones']\n",
      "Found data type: <class 'str'>, of value Michael Palin\n",
      "Found data type: <class 'str'>, of value John Cleese\n",
      "Found data type: <class 'str'>, of value Terry Gilliam\n",
      "Found data type: <class 'str'>, of value Eric Idle\n",
      "Found data type: <class 'str'>, of value Terry Jones\n"
     ]
    }
   ],
   "source": [
    "movies = [\"The Holy Grail\", 1975, \"Terry Jones & Terry Gilliam\", 91,\n",
    "[\"Graham Chapman\", [\"Michael Palin\", \"John Cleese\",\n",
    "\"Terry Gilliam\", \"Eric Idle\", \"Terry Jones\"]]]\n",
    "\n",
    "for ii in movies:\n",
    "    if isinstance(ii, int):\n",
    "        print(\"Found data type: {0}, of value {1}\".format(type(ii), ii))\n",
    "    elif isinstance(ii, str):\n",
    "        print(\"Found data type: {0}, of value {1}\".format(type(ii), ii))\n",
    "    elif isinstance(ii, list):\n",
    "        print(\"Found data type: {0}, of value {1}\".format(type(ii), ii))\n",
    "        for jj in ii:\n",
    "            if isinstance(jj, int):\n",
    "                print(\"Found data type: {0}, of value {1}\".format(type(jj), jj))\n",
    "            elif isinstance(jj, str):\n",
    "                print(\"Found data type: {0}, of value {1}\".format(type(jj), jj))\n",
    "            elif isinstance(jj, list):\n",
    "                print(\"Found data type: {0}, of value {1}\".format(type(jj), jj)) \n",
    "                for kk in jj:\n",
    "                    if isinstance(kk, int):\n",
    "                        print(\"Found data type: {0}, of value {1}\".format(type(kk), kk))\n",
    "                    elif isinstance(kk, str):\n",
    "                        print(\"Found data type: {0}, of value {1}\".format(type(kk), kk))\n",
    "                    elif isinstance(kk, list):\n",
    "                        print(\"Found data type: {0}, of value {1}\".format(type(kk), kk))"
   ]
  },
  {
   "cell_type": "code",
   "execution_count": 329,
   "metadata": {},
   "outputs": [
    {
     "name": "stdout",
     "output_type": "stream",
     "text": [
      "Found data type: <class 'str'>, of value The Holy Grail\n",
      "Found data type: <class 'int'>, of value 1975\n",
      "Found data type: <class 'str'>, of value Terry Jones & Terry Gilliam\n",
      "Found data type: <class 'int'>, of value 91\n",
      "Found data type: <class 'list'>, of value ['Graham Chapman', ['Michael Palin', 'John Cleese', 'Terry Gilliam', 'Eric Idle', 'Terry Jones']]\n",
      "Found data type: <class 'str'>, of value Graham Chapman\n",
      "Found data type: <class 'list'>, of value ['Michael Palin', 'John Cleese', 'Terry Gilliam', 'Eric Idle', 'Terry Jones']\n",
      "Found data type: <class 'str'>, of value Michael Palin\n",
      "Found data type: <class 'str'>, of value John Cleese\n",
      "Found data type: <class 'str'>, of value Terry Gilliam\n",
      "Found data type: <class 'str'>, of value Eric Idle\n",
      "Found data type: <class 'str'>, of value Terry Jones\n"
     ]
    }
   ],
   "source": [
    "movies = [\"The Holy Grail\", 1975, \"Terry Jones & Terry Gilliam\", 91,\n",
    "[\"Graham Chapman\", [\"Michael Palin\", \"John Cleese\",\n",
    "\"Terry Gilliam\", \"Eric Idle\", \"Terry Jones\"]]]\n",
    "\n",
    "\n",
    "def recurse_fn(big_data_struture):\n",
    "    for ii in big_data_struture:\n",
    "        if isinstance(ii, int):\n",
    "            print(\"Found data type: {0}, of value {1}\".format(type(ii), ii))\n",
    "        elif isinstance(ii, str):\n",
    "            print(\"Found data type: {0}, of value {1}\".format(type(ii), ii))\n",
    "        elif isinstance(ii, list):\n",
    "            print(\"Found data type: {0}, of value {1}\".format(type(ii), ii))\n",
    "            recurse_fn(ii)\n",
    "        \n",
    "\n",
    "recurse_fn(movies)"
   ]
  },
  {
   "cell_type": "markdown",
   "metadata": {},
   "source": [
    "## Object Oriented Programming"
   ]
  },
  {
   "cell_type": "markdown",
   "metadata": {},
   "source": [
    "### 9.2. Python Scopes and Namespaces"
   ]
  },
  {
   "cell_type": "code",
   "execution_count": 330,
   "metadata": {},
   "outputs": [
    {
     "name": "stdout",
     "output_type": "stream",
     "text": [
      "do_local: ID of spam after assignment: 2465380327024\n",
      "do_local: Value of spam after assignment: spam local\n",
      "After local assignment: spam\n",
      "do_nonlocal: ID of spam before assignment: 2465378664320\n",
      "do_nonlocal: ID of spam after assignment: 2465380326576\n",
      "do_nonlocal: Value of spam after assignment: spam nonlocal\n",
      "After nonlocal assignment: spam nonlocal\n",
      "do_global: ID of spam before assignment: 2465378664320\n",
      "do_global: ID of spam after assignment: 2465380327152\n",
      "After global assignment: spam nonlocal\n",
      "In global scope: spam global\n"
     ]
    }
   ],
   "source": [
    "def scope_test():\n",
    "    def do_local():\n",
    "        #print(f'do_local: ID of spam before assignment: {id(spam)}')\n",
    "        spam = \"spam local\"\n",
    "        print(f'do_local: ID of spam after assignment: {id(spam)}')\n",
    "        print(f'do_local: Value of spam after assignment: {spam}')\n",
    "\n",
    "    def do_nonlocal():\n",
    "        nonlocal spam\n",
    "        print(f'do_nonlocal: ID of spam before assignment: {id(spam)}')\n",
    "        spam = \"spam nonlocal\"\n",
    "        print(f'do_nonlocal: ID of spam after assignment: {id(spam)}')\n",
    "        print(f'do_nonlocal: Value of spam after assignment: {spam}')\n",
    "\n",
    "    def do_global():\n",
    "        global spam\n",
    "        print(f'do_global: ID of spam before assignment: {id(spam)}')\n",
    "        spam = \"spam global\"\n",
    "        print(f'do_global: ID of spam after assignment: {id(spam)}')\n",
    "\n",
    "    spam = \"spam\"\n",
    "    do_local()\n",
    "    print(\"After local assignment:\", spam)\n",
    "    do_nonlocal()\n",
    "    print(\"After nonlocal assignment:\", spam)\n",
    "    do_global()\n",
    "    print(\"After global assignment:\", spam)\n",
    "\n",
    "spam = \"spam\"\n",
    "scope_test()\n",
    "print(\"In global scope:\", spam)"
   ]
  },
  {
   "cell_type": "code",
   "execution_count": 331,
   "metadata": {},
   "outputs": [
    {
     "name": "stdout",
     "output_type": "stream",
     "text": [
      "x inside : global\n",
      "x outside: global\n"
     ]
    }
   ],
   "source": [
    "x = \"global\"\n",
    "\n",
    "def foo():\n",
    "    print(\"x inside :\", x)\n",
    "\n",
    "foo()\n",
    "print(\"x outside:\", x)"
   ]
  },
  {
   "cell_type": "code",
   "execution_count": 332,
   "metadata": {},
   "outputs": [
    {
     "ename": "UnboundLocalError",
     "evalue": "local variable 'x' referenced before assignment",
     "output_type": "error",
     "traceback": [
      "\u001b[1;31m---------------------------------------------------------------------------\u001b[0m",
      "\u001b[1;31mUnboundLocalError\u001b[0m                         Traceback (most recent call last)",
      "\u001b[1;32m<ipython-input-332-fabc7252e21d>\u001b[0m in \u001b[0;36m<module>\u001b[1;34m()\u001b[0m\n\u001b[0;32m      4\u001b[0m     \u001b[0mx\u001b[0m \u001b[1;33m=\u001b[0m \u001b[0mx\u001b[0m \u001b[1;33m*\u001b[0m \u001b[1;36m2\u001b[0m\u001b[1;33m\u001b[0m\u001b[0m\n\u001b[0;32m      5\u001b[0m     \u001b[0mprint\u001b[0m\u001b[1;33m(\u001b[0m\u001b[0mx\u001b[0m\u001b[1;33m)\u001b[0m\u001b[1;33m\u001b[0m\u001b[0m\n\u001b[1;32m----> 6\u001b[1;33m \u001b[0mfoo\u001b[0m\u001b[1;33m(\u001b[0m\u001b[1;33m)\u001b[0m\u001b[1;33m\u001b[0m\u001b[0m\n\u001b[0m",
      "\u001b[1;32m<ipython-input-332-fabc7252e21d>\u001b[0m in \u001b[0;36mfoo\u001b[1;34m()\u001b[0m\n\u001b[0;32m      2\u001b[0m \u001b[1;33m\u001b[0m\u001b[0m\n\u001b[0;32m      3\u001b[0m \u001b[1;32mdef\u001b[0m \u001b[0mfoo\u001b[0m\u001b[1;33m(\u001b[0m\u001b[1;33m)\u001b[0m\u001b[1;33m:\u001b[0m\u001b[1;33m\u001b[0m\u001b[0m\n\u001b[1;32m----> 4\u001b[1;33m     \u001b[0mx\u001b[0m \u001b[1;33m=\u001b[0m \u001b[0mx\u001b[0m \u001b[1;33m*\u001b[0m \u001b[1;36m2\u001b[0m\u001b[1;33m\u001b[0m\u001b[0m\n\u001b[0m\u001b[0;32m      5\u001b[0m     \u001b[0mprint\u001b[0m\u001b[1;33m(\u001b[0m\u001b[0mx\u001b[0m\u001b[1;33m)\u001b[0m\u001b[1;33m\u001b[0m\u001b[0m\n\u001b[0;32m      6\u001b[0m \u001b[0mfoo\u001b[0m\u001b[1;33m(\u001b[0m\u001b[1;33m)\u001b[0m\u001b[1;33m\u001b[0m\u001b[0m\n",
      "\u001b[1;31mUnboundLocalError\u001b[0m: local variable 'x' referenced before assignment"
     ]
    }
   ],
   "source": [
    "x = \"global\"\n",
    "\n",
    "def foo():\n",
    "    x = x * 2\n",
    "    print(x)\n",
    "foo()"
   ]
  },
  {
   "cell_type": "code",
   "execution_count": 333,
   "metadata": {},
   "outputs": [
    {
     "name": "stdout",
     "output_type": "stream",
     "text": [
      "globalglobal\n",
      "local\n"
     ]
    }
   ],
   "source": [
    "x = \"global\"\n",
    "\n",
    "def foo():\n",
    "    global x\n",
    "    y = \"local\"\n",
    "    x = x * 2\n",
    "    print(x)\n",
    "    print(y)\n",
    "    \n",
    "foo()\n"
   ]
  },
  {
   "cell_type": "code",
   "execution_count": 334,
   "metadata": {},
   "outputs": [
    {
     "name": "stdout",
     "output_type": "stream",
     "text": [
      "inner: nonlocal\n",
      "outer: nonlocal\n"
     ]
    }
   ],
   "source": [
    "def outer():\n",
    "    x = \"local\"\n",
    "    \n",
    "    def inner():\n",
    "        nonlocal x\n",
    "        x = \"nonlocal\"\n",
    "        print(\"inner:\", x)\n",
    "    \n",
    "    inner()\n",
    "    print(\"outer:\", x)\n",
    "\n",
    "outer()"
   ]
  },
  {
   "cell_type": "code",
   "execution_count": 335,
   "metadata": {},
   "outputs": [
    {
     "name": "stdout",
     "output_type": "stream",
     "text": [
      "After local assignment: main spam\n",
      "After nonlocal assignment: main spam\n",
      "After global assignment: main spam\n",
      "In global scope: main spam\n"
     ]
    }
   ],
   "source": [
    "def scope_test():\n",
    "    def do_local():\n",
    "        spam = \"local spam\"\n",
    "\n",
    "    def do_nonlocal():\n",
    "        #nonlocal spam\n",
    "        spam = \"nonlocal spam\"\n",
    "\n",
    "    def do_global():\n",
    "        #global spam\n",
    "        spam = \"global spam\"\n",
    "\n",
    "    #spam = \"test spam\"\n",
    "    do_local()\n",
    "    print(\"After local assignment:\", spam)\n",
    "    do_nonlocal()\n",
    "    print(\"After nonlocal assignment:\", spam)\n",
    "    do_global()\n",
    "    print(\"After global assignment:\", spam)\n",
    "\n",
    "spam = \"main spam\"\n",
    "scope_test()\n",
    "print(\"In global scope:\", spam)"
   ]
  },
  {
   "cell_type": "markdown",
   "metadata": {},
   "source": [
    "https://www.smallsurething.com/a-quick-guide-to-nonlocal-in-python-3/"
   ]
  },
  {
   "cell_type": "code",
   "execution_count": 337,
   "metadata": {},
   "outputs": [
    {
     "name": "stdout",
     "output_type": "stream",
     "text": [
      "Inside!\n",
      "Outside!\n"
     ]
    }
   ],
   "source": [
    "def outside():\n",
    "    msg = \"Outside!\"\n",
    "    def inside():\n",
    "        msg = \"Inside!\"\n",
    "        print(msg)\n",
    "    inside()\n",
    "    print(msg)\n",
    "\n",
    "outside()"
   ]
  },
  {
   "cell_type": "markdown",
   "metadata": {},
   "source": [
    "We see this behaviour because Python hasn’t actually assigned to the existing msg variable, but has created a new variable called msg in the local scope of inside that shadows the name of the variable in the outer scope."
   ]
  },
  {
   "cell_type": "code",
   "execution_count": 338,
   "metadata": {},
   "outputs": [
    {
     "name": "stdout",
     "output_type": "stream",
     "text": [
      "Inside!\n",
      "Inside!\n"
     ]
    }
   ],
   "source": [
    "def outside():\n",
    "    msg = \"Outside!\"\n",
    "    def inside():\n",
    "        nonlocal msg\n",
    "        msg = \"Inside!\"\n",
    "        print(msg)\n",
    "    inside()\n",
    "    print(msg)\n",
    "\n",
    "outside()"
   ]
  },
  {
   "cell_type": "markdown",
   "metadata": {},
   "source": [
    "The usage of nonlocal is very similar to that of global, except that the former is used for variables in outer function scopes and the latter is used for variable in the global scope."
   ]
  },
  {
   "cell_type": "code",
   "execution_count": 339,
   "metadata": {},
   "outputs": [
    {
     "ename": "SyntaxError",
     "evalue": "no binding for nonlocal 'x' found (<ipython-input-339-25ba195f651b>, line 4)",
     "output_type": "error",
     "traceback": [
      "\u001b[1;36m  File \u001b[1;32m\"<ipython-input-339-25ba195f651b>\"\u001b[1;36m, line \u001b[1;32m4\u001b[0m\n\u001b[1;33m    nonlocal x\u001b[0m\n\u001b[1;37m    ^\u001b[0m\n\u001b[1;31mSyntaxError\u001b[0m\u001b[1;31m:\u001b[0m no binding for nonlocal 'x' found\n"
     ]
    }
   ],
   "source": [
    "x = 5\n",
    "def foo():\n",
    "    #global x\n",
    "    nonlocal x\n",
    "    x = 6\n",
    "    print(x)\n",
    "foo()\n",
    "print(x)"
   ]
  },
  {
   "cell_type": "code",
   "execution_count": 343,
   "metadata": {},
   "outputs": [
    {
     "name": "stdout",
     "output_type": "stream",
     "text": [
      "6\n",
      "6\n",
      "5\n"
     ]
    }
   ],
   "source": [
    "x = 5\n",
    "def foo():\n",
    "    x = 6\n",
    "    def bar():\n",
    "        nonlocal x\n",
    "        x = 6\n",
    "        print(x)\n",
    "    bar()\n",
    "    print(x)\n",
    "foo()\n",
    "\n",
    "print(x)"
   ]
  },
  {
   "cell_type": "code",
   "execution_count": null,
   "metadata": {
    "collapsed": true
   },
   "outputs": [],
   "source": []
  },
  {
   "cell_type": "markdown",
   "metadata": {},
   "source": [
    "### Empty class - A Minimal Class in Python"
   ]
  },
  {
   "cell_type": "markdown",
   "metadata": {},
   "source": [
    "Most of the contents are taken from https://www.python-course.eu/object_oriented_programming.php"
   ]
  },
  {
   "cell_type": "code",
   "execution_count": 345,
   "metadata": {},
   "outputs": [
    {
     "name": "stdout",
     "output_type": "stream",
     "text": [
      "<__main__.Person object at 0x0000023E040BAAC8>\n"
     ]
    }
   ],
   "source": [
    "class Person:\n",
    "    pass  # An empty block\n",
    "\n",
    "if __name__ == \"__main__\":\n",
    "    p = Person()\n",
    "    print(p)"
   ]
  },
  {
   "cell_type": "markdown",
   "metadata": {},
   "source": [
    "### Doc string"
   ]
  },
  {
   "cell_type": "code",
   "execution_count": 346,
   "metadata": {},
   "outputs": [
    {
     "name": "stdout",
     "output_type": "stream",
     "text": [
      "This is Person Class\n"
     ]
    }
   ],
   "source": [
    "class Person:\n",
    "    \"\"\"This is Person Class\"\"\"\n",
    "    pass  # An empty block\n",
    "\n",
    "p = Person()\n",
    "print(p.__doc__)"
   ]
  },
  {
   "cell_type": "code",
   "execution_count": 347,
   "metadata": {},
   "outputs": [
    {
     "name": "stdout",
     "output_type": "stream",
     "text": [
      "int(x=0) -> integer\n",
      "int(x, base=10) -> integer\n",
      "\n",
      "Convert a number or string to an integer, or return 0 if no arguments\n",
      "are given.  If x is a number, return x.__int__().  For floating point\n",
      "numbers, this truncates towards zero.\n",
      "\n",
      "If x is not a number or if base is given, then x must be a string,\n",
      "bytes, or bytearray instance representing an integer literal in the\n",
      "given base.  The literal can be preceded by '+' or '-' and be surrounded\n",
      "by whitespace.  The base defaults to 10.  Valid bases are 0 and 2-36.\n",
      "Base 0 means to interpret the base from the string as an integer literal.\n",
      ">>> int('0b100', base=0)\n",
      "4\n"
     ]
    }
   ],
   "source": [
    "aa = 10\n",
    "print(aa.__doc__)"
   ]
  },
  {
   "cell_type": "markdown",
   "metadata": {},
   "source": [
    "### Understanding self"
   ]
  },
  {
   "cell_type": "code",
   "execution_count": 348,
   "metadata": {},
   "outputs": [
    {
     "name": "stdout",
     "output_type": "stream",
     "text": [
      "2465379411448\n",
      "hello world\n",
      "2465379411448\n",
      "2465379413184\n",
      "hello world\n",
      "2465379413184\n"
     ]
    }
   ],
   "source": [
    "class MyClass:\n",
    "    \"\"\"A simple example class\"\"\"\n",
    "    i = 12345\n",
    "\n",
    "    def f(self):\n",
    "        print(id(self))\n",
    "        print(\"hello world\")\n",
    "\n",
    "if __name__ == \"__main__\":\n",
    "    newObj = MyClass() # Class instantiation\n",
    "    newObj.f()\n",
    "    print(id(newObj))\n",
    "    #When you call a method of this object as newObj.f(), this is automatically converted \n",
    "    #by Python into MyClass.f(newObj) - this is all the special self is about.\n",
    "    \n",
    "    newObj1 = MyClass() # Class instantiation\n",
    "    newObj1.f()\n",
    "    print(id(newObj1))"
   ]
  },
  {
   "cell_type": "markdown",
   "metadata": {},
   "source": [
    "### Methods"
   ]
  },
  {
   "cell_type": "code",
   "execution_count": 349,
   "metadata": {},
   "outputs": [
    {
     "name": "stdout",
     "output_type": "stream",
     "text": [
      "Hello, how are you?\n"
     ]
    }
   ],
   "source": [
    "class Person:\n",
    "    def say_hi(self):\n",
    "        print('Hello, how are you?')\n",
    "\n",
    "p = Person()\n",
    "p.say_hi()\n",
    "# The previous 2 lines can also be written as\n",
    "# Person().say_hi()"
   ]
  },
  {
   "cell_type": "markdown",
   "metadata": {},
   "source": [
    "### The \\__init\\__ method"
   ]
  },
  {
   "cell_type": "code",
   "execution_count": 350,
   "metadata": {},
   "outputs": [
    {
     "name": "stdout",
     "output_type": "stream",
     "text": [
      "Complex number is: 3.0-i4.5\n"
     ]
    }
   ],
   "source": [
    "sign = lambda x: ('+', '-')[x < 0]\n",
    "class Complex:\n",
    "    def __init__(self, realpart, imagpart):\n",
    "        self.r = realpart\n",
    "        self.i = imagpart\n",
    "\n",
    "    def print_complex(self):\n",
    "        print(\"Complex number is: {}{}i{}\".format(self.r, sign(self.i), abs(self.i)))\n",
    "        \n",
    "x = Complex(3.0, -4.5)\n",
    "x.print_complex()"
   ]
  },
  {
   "cell_type": "code",
   "execution_count": 357,
   "metadata": {},
   "outputs": [
    {
     "name": "stdout",
     "output_type": "stream",
     "text": [
      "Complex number is: 3.0-i4.5\n"
     ]
    }
   ],
   "source": [
    "sign = lambda x: ('+', '-')[x < 0]\n",
    "class Complex:\n",
    "\n",
    "    \"\"\"\n",
    "    def __init__(self):\n",
    "        #self.r = realpart\n",
    "        #self.i = imagpart\n",
    "    \"\"\"    \n",
    "    def initialize(self, real, imag):\n",
    "        self.r = real\n",
    "        self.i = imag\n",
    "    def print_complex(self):\n",
    "        print(\"Complex number is: {}{}i{}\".format(self.r, sign(self.i), abs(self.i)))\n",
    "        \n",
    "x = Complex()\n",
    "x.initialize(3.0, -4.5)\n",
    "x.print_complex()"
   ]
  },
  {
   "cell_type": "code",
   "execution_count": 359,
   "metadata": {},
   "outputs": [
    {
     "name": "stdout",
     "output_type": "stream",
     "text": [
      "Hi, I am a robot without a name\n",
      "Hi, I am Marvin\n",
      "Hi, I am Marvin\n"
     ]
    }
   ],
   "source": [
    "class Robot:\n",
    " \n",
    "    def __init__(self, name1=None, x = None):\n",
    "        self.name = name1   \n",
    "        \n",
    "    def say_hi(self):\n",
    "        if self.name:\n",
    "            print(\"Hi, I am \" + self.name)\n",
    "        else:\n",
    "            print(\"Hi, I am a robot without a name\")\n",
    "    \n",
    "\n",
    "x = Robot()\n",
    "x.say_hi()\n",
    "\n",
    "y = Robot(\"Marvin\")\n",
    "y.say_hi()\n",
    "\n",
    "z = Robot(\"Marvin\", \"xyz\")\n",
    "z.say_hi()"
   ]
  },
  {
   "cell_type": "code",
   "execution_count": 360,
   "metadata": {},
   "outputs": [
    {
     "ename": "TypeError",
     "evalue": "say_hi() missing 1 required positional argument: 'y'",
     "output_type": "error",
     "traceback": [
      "\u001b[1;31m---------------------------------------------------------------------------\u001b[0m",
      "\u001b[1;31mTypeError\u001b[0m                                 Traceback (most recent call last)",
      "\u001b[1;32m<ipython-input-360-6a360519971c>\u001b[0m in \u001b[0;36m<module>\u001b[1;34m()\u001b[0m\n\u001b[0;32m     12\u001b[0m \u001b[1;33m\u001b[0m\u001b[0m\n\u001b[0;32m     13\u001b[0m \u001b[0mx\u001b[0m \u001b[1;33m=\u001b[0m \u001b[0mRobot\u001b[0m\u001b[1;33m(\u001b[0m\u001b[1;34m\"xyz\"\u001b[0m\u001b[1;33m)\u001b[0m\u001b[1;33m\u001b[0m\u001b[0m\n\u001b[1;32m---> 14\u001b[1;33m \u001b[0msay_hi\u001b[0m\u001b[1;33m(\u001b[0m\u001b[1;33m)\u001b[0m\u001b[1;33m\u001b[0m\u001b[0m\n\u001b[0m\u001b[0;32m     15\u001b[0m \u001b[0my\u001b[0m \u001b[1;33m=\u001b[0m \u001b[0mRobot\u001b[0m\u001b[1;33m(\u001b[0m\u001b[1;34m\"Marvin\"\u001b[0m\u001b[1;33m)\u001b[0m\u001b[1;33m\u001b[0m\u001b[0m\n\u001b[0;32m     16\u001b[0m \u001b[0msay_hi\u001b[0m\u001b[1;33m(\u001b[0m\u001b[0my\u001b[0m\u001b[1;33m)\u001b[0m\u001b[1;33m\u001b[0m\u001b[0m\n",
      "\u001b[1;31mTypeError\u001b[0m: say_hi() missing 1 required positional argument: 'y'"
     ]
    }
   ],
   "source": [
    "class Robot:\n",
    " \n",
    "    def __init__(self, name=None):\n",
    "        self.name = name   \n",
    "        \n",
    "def say_hi(y):\n",
    "    if y.name:\n",
    "        print(\"Hi, I am \" + y.name)\n",
    "    else:\n",
    "        print(\"Hi, I am a robot without a name\")\n",
    "    \n",
    "\n",
    "x = Robot(\"xyz\")\n",
    "say_hi()\n",
    "y = Robot(\"Marvin\")\n",
    "say_hi(y)"
   ]
  },
  {
   "cell_type": "markdown",
   "metadata": {},
   "source": [
    "### The \\__del\\__ method"
   ]
  },
  {
   "cell_type": "code",
   "execution_count": 365,
   "metadata": {},
   "outputs": [
    {
     "name": "stdout",
     "output_type": "stream",
     "text": [
      "9\n",
      "9\n",
      "<class '__main__.Point'> <class '__main__.Point'>\n",
      "2465380577408 2465380577408\n"
     ]
    }
   ],
   "source": [
    "class Point:\n",
    "    def __init__( self, x=0, y=0):\n",
    "        self.x = x\n",
    "        self.y = y\n",
    "    def set(self, x, y):\n",
    "        self.x = x\n",
    "        self.y = y\n",
    "    def mygets(self):\n",
    "        return self.x+ self.y\n",
    "    def __del__(self):\n",
    "        class_name = self.__class__.__name__\n",
    "        print (\"{} destroyed\".format(class_name))\n",
    "\n",
    "pt1 = Point()\n",
    "pt1.set(4,5)\n",
    "print(pt1.mygets())\n",
    "pt2 = pt1\n",
    "print(pt2.mygets())\n",
    "print (type(pt1), type(pt2))\n",
    "print (id(pt1), id(pt2))\n",
    "del pt1\n"
   ]
  },
  {
   "cell_type": "code",
   "execution_count": 366,
   "metadata": {},
   "outputs": [
    {
     "name": "stdout",
     "output_type": "stream",
     "text": [
      "1716478240 1716478240\n"
     ]
    }
   ],
   "source": [
    "a = 5\n",
    "b = a\n",
    "print (id(a), id(b))"
   ]
  },
  {
   "cell_type": "code",
   "execution_count": 367,
   "metadata": {},
   "outputs": [
    {
     "name": "stdout",
     "output_type": "stream",
     "text": [
      "29\n"
     ]
    }
   ],
   "source": [
    "import sys\n",
    "aa = 121\n",
    "print (sys.getrefcount(121)) #-- Returns the reference count of the object."
   ]
  },
  {
   "cell_type": "code",
   "execution_count": 368,
   "metadata": {},
   "outputs": [
    {
     "name": "stdout",
     "output_type": "stream",
     "text": [
      "27\n"
     ]
    }
   ],
   "source": [
    "del aa\n",
    "print (sys.getrefcount(121))"
   ]
  },
  {
   "cell_type": "code",
   "execution_count": 369,
   "metadata": {},
   "outputs": [
    {
     "name": "stdout",
     "output_type": "stream",
     "text": [
      "The command line arguments are:\n",
      "C:\\Users\\firdo\\Anaconda3\\lib\\site-packages\\ipykernel_launcher.py\n",
      "-f\n",
      "C:\\Users\\firdo\\AppData\\Roaming\\jupyter\\runtime\\kernel-87ced550-d3e5-4883-8beb-2bbaedc1849c.json\n",
      "\n",
      "\n",
      "The PYTHONPATH is: ['', 'C:\\\\Users\\\\firdo\\\\Anaconda3\\\\python36.zip', 'C:\\\\Users\\\\firdo\\\\Anaconda3\\\\DLLs', 'C:\\\\Users\\\\firdo\\\\Anaconda3\\\\lib', 'C:\\\\Users\\\\firdo\\\\Anaconda3', 'C:\\\\Users\\\\firdo\\\\Anaconda3\\\\lib\\\\site-packages', 'C:\\\\Users\\\\firdo\\\\Anaconda3\\\\lib\\\\site-packages\\\\Babel-2.5.0-py3.6.egg', 'C:\\\\Users\\\\firdo\\\\Anaconda3\\\\lib\\\\site-packages\\\\Mako-1.0.7-py3.6.egg', 'C:\\\\Users\\\\firdo\\\\Anaconda3\\\\lib\\\\site-packages\\\\win32', 'C:\\\\Users\\\\firdo\\\\Anaconda3\\\\lib\\\\site-packages\\\\win32\\\\lib', 'C:\\\\Users\\\\firdo\\\\Anaconda3\\\\lib\\\\site-packages\\\\Pythonwin', 'C:\\\\Users\\\\firdo\\\\Anaconda3\\\\lib\\\\site-packages\\\\IPython\\\\extensions', 'C:\\\\Users\\\\firdo\\\\.ipython']\n",
      "\n"
     ]
    }
   ],
   "source": [
    "import sys\n",
    "print('The command line arguments are:')\n",
    "for i in sys.argv:\n",
    "    print(i)\n",
    "    \n",
    "print(f'\\n\\nThe PYTHONPATH is: {sys.path}\\n')"
   ]
  },
  {
   "cell_type": "code",
   "execution_count": 370,
   "metadata": {},
   "outputs": [
    {
     "name": "stdout",
     "output_type": "stream",
     "text": [
      "\n",
      "\n",
      "The PATH is: C:\\Perl64\\site\\bin;C:\\Perl64\\bin;C:\\ProgramData\\Oracle\\Java\\javapath;C:\\Windows\\system32;C:\\Windows;C:\\Windows\\System32\\Wbem;C:\\Windows\\System32\\WindowsPowerShell\\v1.0\\;C:\\Program Files (x86)\\NVIDIA Corporation\\PhysX\\Common;C:\\Users\\firdo\\Anaconda3;C:\\Program Files\\R\\R-3.4.2\\bin;C:\\Program Files (x86)\\Windows Kits\\8.1\\Windows Performance Toolkit\\;C:\\WINDOWS\\system32;C:\\WINDOWS;C:\\WINDOWS\\System32\\Wbem;C:\\WINDOWS\\System32\\WindowsPowerShell\\v1.0\\;C:\\WINDOWS\\System32\\OpenSSH\\;C:\\Program Files\\Git\\cmd;C:\\Program Files (x86)\\Brackets\\command;C:\\Users\\firdo\\AppData\\Local\\Programs\\Python\\Python37-32\\;C:\\Users\\firdo\\Anaconda3;C:\\Users\\firdo\\Anaconda3\\Library\\mingw-w64\\bin;C:\\Users\\firdo\\Anaconda3\\Library\\usr\\bin;C:\\Users\\firdo\\Anaconda3\\Library\\bin;C:\\Users\\firdo\\Anaconda3\\Scripts;C:\\Users\\firdo\\AppData\\Local\\Microsoft\\WindowsApps;C:\\Users\\firdo\\AppData\\Local\\atom\\bin;C:\\Program Files\\JetBrains\\PyCharm Community Edition 2018.3.1\\bin;;C:\\Users\\firdo\\AppData\\Local\\Programs\\Python\\Python37-32\\Scripts\\;C:\\Users\\firdo\\AppData\\Local\\Programs\\Python\\Python37-32\\;;C:\\Program Files\\Docker Toolbox\n",
      "\n",
      "\n",
      "\n",
      "The CWD is: C:\\Backup\\INSOFE\\OneDrive\\Python\\ADP\n",
      "\n"
     ]
    },
    {
     "name": "stderr",
     "output_type": "stream",
     "text": [
      "C:\\Users\\firdo\\Anaconda3\\lib\\site-packages\\ipykernel_launcher.py:6: DeprecationWarning: The Windows bytes API has been deprecated, use Unicode filenames instead\n",
      "  \n"
     ]
    },
    {
     "data": {
      "text/plain": [
       "b'C:\\\\Backup\\\\INSOFE\\\\OneDrive\\\\Python\\\\ADP'"
      ]
     },
     "execution_count": 370,
     "metadata": {},
     "output_type": "execute_result"
    }
   ],
   "source": [
    "import os\n",
    "print(f\"\\n\\nThe PATH is: {os.getenv('Path')}\\n\")\n",
    "#os.getenv('PATH')\n",
    "\n",
    "print(f\"\\n\\nThe CWD is: {os.getcwd()}\\n\")\n",
    "os.getcwdb()"
   ]
  },
  {
   "cell_type": "code",
   "execution_count": 371,
   "metadata": {},
   "outputs": [
    {
     "name": "stdout",
     "output_type": "stream",
     "text": [
      "This program is being run by itself\n"
     ]
    }
   ],
   "source": [
    "import os\n",
    "if __name__ == '__main__':\n",
    "    print('This program is being run by itself')\n",
    "else:\n",
    "    print('I am being imported from another module')"
   ]
  },
  {
   "cell_type": "markdown",
   "metadata": {},
   "source": [
    "### Building modules"
   ]
  },
  {
   "cell_type": "code",
   "execution_count": 372,
   "metadata": {
    "collapsed": true
   },
   "outputs": [],
   "source": [
    "def say_hi():\n",
    "    print('Hi, this is mymodule speaking.')\n",
    "__version__ = '0.1'"
   ]
  },
  {
   "cell_type": "code",
   "execution_count": 373,
   "metadata": {},
   "outputs": [
    {
     "ename": "ModuleNotFoundError",
     "evalue": "No module named 'mymodule'",
     "output_type": "error",
     "traceback": [
      "\u001b[1;31m---------------------------------------------------------------------------\u001b[0m",
      "\u001b[1;31mModuleNotFoundError\u001b[0m                       Traceback (most recent call last)",
      "\u001b[1;32m<ipython-input-373-c185272b1e59>\u001b[0m in \u001b[0;36m<module>\u001b[1;34m()\u001b[0m\n\u001b[1;32m----> 1\u001b[1;33m \u001b[1;32mimport\u001b[0m \u001b[0mmymodule\u001b[0m\u001b[1;33m\u001b[0m\u001b[0m\n\u001b[0m\u001b[0;32m      2\u001b[0m \u001b[0mmymodule\u001b[0m\u001b[1;33m.\u001b[0m\u001b[0msay_hi\u001b[0m\u001b[1;33m(\u001b[0m\u001b[1;33m)\u001b[0m\u001b[1;33m\u001b[0m\u001b[0m\n\u001b[0;32m      3\u001b[0m \u001b[0mprint\u001b[0m\u001b[1;33m(\u001b[0m\u001b[1;34m'Version'\u001b[0m\u001b[1;33m,\u001b[0m \u001b[0mmymodule\u001b[0m\u001b[1;33m.\u001b[0m\u001b[0m__version__\u001b[0m\u001b[1;33m)\u001b[0m\u001b[1;33m\u001b[0m\u001b[0m\n",
      "\u001b[1;31mModuleNotFoundError\u001b[0m: No module named 'mymodule'"
     ]
    }
   ],
   "source": [
    "import mymodule\n",
    "mymodule.say_hi()\n",
    "print('Version', mymodule.__version__)"
   ]
  },
  {
   "cell_type": "code",
   "execution_count": 374,
   "metadata": {},
   "outputs": [
    {
     "ename": "ModuleNotFoundError",
     "evalue": "No module named 'mymodule'",
     "output_type": "error",
     "traceback": [
      "\u001b[1;31m---------------------------------------------------------------------------\u001b[0m",
      "\u001b[1;31mModuleNotFoundError\u001b[0m                       Traceback (most recent call last)",
      "\u001b[1;32m<ipython-input-374-244e2bef564a>\u001b[0m in \u001b[0;36m<module>\u001b[1;34m()\u001b[0m\n\u001b[1;32m----> 1\u001b[1;33m \u001b[1;32mfrom\u001b[0m \u001b[0mmymodule\u001b[0m \u001b[1;32mimport\u001b[0m \u001b[0msay_hi\u001b[0m\u001b[1;33m,\u001b[0m \u001b[0m__version__\u001b[0m\u001b[1;33m\u001b[0m\u001b[0m\n\u001b[0m\u001b[0;32m      2\u001b[0m \u001b[0msay_hi\u001b[0m\u001b[1;33m(\u001b[0m\u001b[1;33m)\u001b[0m\u001b[1;33m\u001b[0m\u001b[0m\n\u001b[0;32m      3\u001b[0m \u001b[0mprint\u001b[0m\u001b[1;33m(\u001b[0m\u001b[1;34m'Version'\u001b[0m\u001b[1;33m,\u001b[0m \u001b[0m__version__\u001b[0m\u001b[1;33m)\u001b[0m\u001b[1;33m\u001b[0m\u001b[0m\n",
      "\u001b[1;31mModuleNotFoundError\u001b[0m: No module named 'mymodule'"
     ]
    }
   ],
   "source": [
    "from mymodule import say_hi, __version__\n",
    "say_hi()\n",
    "print('Version', __version__)"
   ]
  },
  {
   "cell_type": "code",
   "execution_count": 375,
   "metadata": {},
   "outputs": [
    {
     "data": {
      "text/plain": [
       "{'A': __main__.A,\n",
       " 'C': __main__.C,\n",
       " 'Complex': __main__.Complex,\n",
       " 'Date': __main__.Date,\n",
       " 'In': ['',\n",
       "  '### Singleton',\n",
       "  'class Singleton:\\n   __instance = None\\n   @staticmethod \\n   def getInstance():\\n      \"\"\" Static access method. \"\"\"\\n      if Singleton.__instance == None:\\n         Singleton()\\n      return Singleton.__instance\\n   def __init__(self):\\n      \"\"\" Virtually private constructor. \"\"\"\\n      if Singleton.__instance != None:\\n         raise Exception(\"This class is a singleton!\")\\n      else:\\n         Singleton.__instance = self\\ns = Singleton()\\nprint s\\n\\ns = Singleton.getInstance()\\nprint s\\n\\ns = Singleton.getInstance()\\nprint s',\n",
       "  'class Singleton:\\n   __instance = None\\n   @staticmethod \\n   def getInstance():\\n      \"\"\" Static access method. \"\"\"\\n      if Singleton.__instance == None:\\n         Singleton()\\n      return Singleton.__instance\\n   def __init__(self):\\n      \"\"\" Virtually private constructor. \"\"\"\\n      if Singleton.__instance != None:\\n         raise Exception(\"This class is a singleton!\")\\n      else:\\n         Singleton.__instance = self\\ns = Singleton()\\nprint(s)\\n\\ns = Singleton.getInstance()\\nprint(s)\\n\\ns = Singleton.getInstance()\\nprint(s)',\n",
       "  'class Singleton:\\n    \\n    __instance = None\\n    \\n    @staticmethod \\n    def getInstance():\\n    \"\"\" Static access method. \"\"\"\\n    if Singleton.__instance == None:\\n        Singleton()\\n    return Singleton.__instance\\n\\n\\n    def __init__(self):\\n    \"\"\" Virtually private constructor. \"\"\"\\n    if Singleton.__instance != None:\\n        raise Exception(\"This class is a singleton!\")\\n    else:\\n        Singleton.__instance = self\\n        \\n        \\ns = Singleton()\\nprint(s)\\n\\ns = Singleton.getInstance()\\nprint(s)\\n\\ns = Singleton.getInstance()\\nprint(s)',\n",
       "  'class Singleton:\\n    \\n    __instance = None\\n    \\n    @staticmethod \\n    def getInstance():\\n    \"\"\" Static access method. \"\"\"\\n        if Singleton.__instance == None:\\n            Singleton()\\n        return Singleton.__instance\\n\\n\\n    def __init__(self):\\n    \"\"\" Virtually private constructor. \"\"\"\\n        if Singleton.__instance != None:\\n            raise Exception(\"This class is a singleton!\")\\n        else:\\n            Singleton.__instance = self\\n        \\n        \\ns = Singleton()\\nprint(s)\\n\\ns = Singleton.getInstance()\\nprint(s)\\n\\ns = Singleton.getInstance()\\nprint(s)',\n",
       "  'class Singleton:\\n    \\n    __instance = None\\n    \\n    @staticmethod \\n    def getInstance():\\n        \"\"\" Static access method. \"\"\"\\n        if Singleton.__instance == None:\\n            Singleton()\\n        return Singleton.__instance\\n\\n\\n    def __init__(self):\\n        \"\"\" Virtually private constructor. \"\"\"\\n        if Singleton.__instance != None:\\n            raise Exception(\"This class is a singleton!\")\\n        else:\\n            Singleton.__instance = self\\n        \\n        \\ns = Singleton()\\nprint(s)\\n\\ns = Singleton.getInstance()\\nprint(s)\\n\\ns = Singleton.getInstance()\\nprint(s)',\n",
       "  'import gc\\ngc.collect()',\n",
       "  'import gc\\ngc.collect()',\n",
       "  'import this',\n",
       "  '# Read input from user (interactive mode)\\n\\nuser_input = input(\"Please enter a number: \")\\n\\nprint (\"User input: \" + user_input)',\n",
       "  '# Read input from user (interactive mode)\\n\\nuser_input = input(\"Please enter a number: \")\\n\\n#print (\"User input: \" + str(user_input))\\n\\nprint (\"Input value is of type: %s\" %(user_input))\\nprint (\"Input value is of type: %s\" %(type(user_input)))',\n",
       "  '# Identify the type of variable\\nprint (\"Input value is of type: %s\" %(type(user_input))) # Old approach\\n\\n# Another way\\nprint (\"Input value is of type: {0} and {1}\".format((user_input), \\'something else\\'))\\n\\n# One more approach - named param. \\nprint(\\'{0} and {1}\\'.format(\\'spam\\', \\'eggs\\'))\\nprint(\\'{1} and {0}\\'.format(\\'spam\\', \\'eggs\\'))\\n# param sequence can be changed.\\nprint(\\'This {food} is {adjective}.\\'.format(adjective=\\'absolutely horrible\\', food=\\'spam\\'))',\n",
       "  \"age = 20\\nname = 'Swaroop'\\nprint(f'{name} was {age} years old when he wrote this book') # notice the 'f' before the string\\nprint(f'Why is {name} playing with that python?') # notice the 'f' before the string\",\n",
       "  \"# decimal (.) precision of 3 for float '0.333'\\nprint('{0:.6f} {1} {1:.6f}'.format(1.0/3, 2/3))\\n# fill with underscores (_) with the text centered\\n# (^) to 11 width '___hello___'\\nprint('{0:_^80}'.format('hello'))\\n# keyword-based 'Swaroop wrote A Byte of Python'\\nprint('{name} wrote {book}'.format(name='Swaroop', book='A Byte of Python'))\",\n",
       "  \"# Mutli line break with \\\\\\ns = 'This is a string. This continues the string.'\\nprint(s)\",\n",
       "  'i = 5\\nprint(i)',\n",
       "  'ii = 5 + 6\\nprint(ii)',\n",
       "  \"import math\\nprint('The value of PI is approximately {0:.3f}.'.format(math.pi))\",\n",
       "  '# Typecasting user input\\n# Read input from user (interactive mode)\\n\\nuser_input = int(input(\"Please enter a number: \"))\\n\\nprint (\"User input: {}, {}\".format(user_input, 3434)) # Should this work?',\n",
       "  \"with open('workfile.txt') as f:\\n    read_data = f.read()\\n#f.close()\\nprint(read_data)\",\n",
       "  \"with open('workfile.txt') as f:\\n    read_data = f.read().upper()\\n#f.close()\\nprint(read_data)\",\n",
       "  \"#TBD\\nwith open('workfile.txt') as f:\\n    lines = f.readlines()\\nprint(lines)\\nprint(type(lines))\",\n",
       "  \"#TBD\\nwith open('workfile.txt') as f:\\n    lines = f.readlines()\\nlines = list(map(lambda x: x.rstrip().title(), lines))\\nprint(lines)\\nprint(type(lines))\",\n",
       "  \"#TBD\\nwith open('workfile.txt') as f:\\n    lines = f.readlines()\\nlines = list(map(lambda x: x.rstrip().title(), lines))\\nprint(lines)\\nprint(type(lines))\\n\\nwith open('out_file.txt', 'w') as f1:\\n    f1.write(' '.join(lines))\",\n",
       "  'lines[0].rstrip()',\n",
       "  'lines[0]',\n",
       "  \"#TBD\\nwith open('workfile.txt') as f:\\n    lines = f.readline(10)\\nprint(lines)\\nprint(type(lines))\",\n",
       "  'f = open(\\'conversation.txt\\')\\nfor each_line in f:\\n    role, text = each_line.split(\\':\\', 1)\\n    print(\"{0} said : {1}\".format(role, text))\\nf.close()',\n",
       "  '# Read input from file\\nread_data = \\'\\'\\nf = open(\\'workfile.txt\\', \\'r\\')\\nread_data = f.read()\\n#print(\"First time: \" + read_data)\\n\\nread_data = f.read() # Should reading the same file again fetch the content?\\nf.close()\\n#f.read() # Should this throw error?\\n\\n\\nprint(\"First time: \" + read_data)\\n\\nprint(\"Second time: \" + read_again)',\n",
       "  '# Read input from file\\nread_data = \\'\\'\\nf = open(\\'workfile.txt\\', \\'r\\')\\nread_data = f.read()\\n#print(\"First time: \" + read_data)\\n\\nread_again = f.read() # Should reading the same file again fetch the content?\\nf.close()\\n#f.read() # Should this throw error?\\n\\n\\nprint(\"First time: \" + read_data)\\n\\nprint(\"Second time: \" + read_again)',\n",
       "  '# Read input from file\\nread_data = \\'\\'\\nf = open(\\'workfile.txt\\', \\'r\\')\\nread_data = f.read()\\n#print(\"First time: \" + read_data)\\n\\nread_again = f.read() # Should reading the same file again fetch the content?\\nf.close()\\n#f.read() # Should this throw error?\\n\\n\\nprint(\"First time: \" + read_data)\\n\\nprint(\"Second time: \" + read_again)',\n",
       "  '# Read input from file 2nd time\\n#read_data = \\'\\' # Pre-declaration not needed\\nf = open(\\'workfile.txt\\', \\'r\\')\\nread_data = f.read()\\nf.seek(100)\\nread_again = f.read()\\nf.close()\\n\\nprint(\"First time: \" + read_data)\\nprint()\\nprint(\"Second time: \" + read_again)',\n",
       "  '# Write into a file\\nread_data = \\'\\'\\nf = open(\\'workfile.txt\\')\\nread_data = f.read()\\nf.close()\\nprint(\"Inital data: \"+ read_data)\\n# Introduce the approach to use help\\ncap_data = read_data.swapcase()\\nprint (\"CAP data: \" + cap_data)\\n\\nf = open(\\'newfile.txt\\', \\'w\\')\\nf.write(cap_data)\\nf.close()',\n",
       "  \"aa = 'abc'\\nprint(dir(aa))\\n#dir('5')\",\n",
       "  \"aa = 'abc'\\nhelp(aa.zfill)\\naa.zfill(10)\\n#help(aa)\",\n",
       "  \"aa = 'abc'\\n#print (aa.__doc__)\\n#print('='*80)\\nprint (aa.zfill.__doc__)\",\n",
       "  'print(dir(__builtins__))',\n",
       "  \"# Read from a file, process the data and then write into the file\\n# Will cover this after data types.\\nread_data = ''\\nf = open('workfile.txt', 'r')\\nread_data = f.read()\\nf.close()\\n\\n# Perform some operation\\ndata_dict = {}\\nfor ii in read_data.split():\\n    if ii not in data_dict.keys():\\n        data_dict[ii] = 1\\n    else:\\n        data_dict[ii] += 1\\n\\nprint (data_dict)\\n\\nf = open('newfile.txt', 'w')\\nf.write(str(data_dict))\\nf.close()\",\n",
       "  \"# Read from a file, process the data and then write into the file\\n# Will cover this after data types.\\nread_data = ''\\nf = open('workfile.txt', 'r')\\nread_data = f.read()\\nf.close()\\n\\n# Perform some operation\\ndata_dict = {}\\nfor ii in set(read_data.split()):\\n    data_dict[ii] = read_data.split().count(ii)\\n\\nprint (data_dict)\\n\\nf = open('newfile.txt', 'w')\\nf.write(str(data_dict))\\nf.close()\",\n",
       "  '2 + 2',\n",
       "  \"'2'+2\",\n",
       "  'class Robot:\\n \\n    def __init__(self, name1=None, x = None):\\n        self.name = name1   \\n        \\n    def say_hi(self):\\n        if self.name:\\n            print(\"Hi, I am \" + self.name)\\n        else:\\n            print(\"Hi, I am a robot without a name\")\\n    \\n\\nx = Robot()\\nx.say_hi()\\n\\ny = Robot(\"Marvin\")\\ny.say_hi()\\n\\nz = Robot(\"Marvin\", \"xyz\")\\nz.say_hi()',\n",
       "  'class Robot:\\n \\n    def __init__(self, name=None):\\n        self.name = name   \\n        \\ndef say_hi(y):\\n    if y.name:\\n        print(\"Hi, I am \" + y.name)\\n    else:\\n        print(\"Hi, I am a robot without a name\")\\n    \\n\\nx = Robot(\"xyz\")\\nsay_hi()\\ny = Robot(\"Marvin\")\\nsay_hi(y)',\n",
       "  \"2+'2'\",\n",
       "  '10/50 + (5/2)- 5*6',\n",
       "  '5/2 # Normal division ',\n",
       "  '(int)(5/2)',\n",
       "  '10/3',\n",
       "  '5//2 # Floor division',\n",
       "  'aa = 5\\nbb = 10\\naa/bb',\n",
       "  \"aa = '5'\\nbb = 2\\naa/bb\",\n",
       "  \"class Date(object):\\n    def __init__(self, Year, Month, Day):\\n        self.year  = Year\\n        self.month = Month\\n        self.day   = Day\\n\\n    def __str__(self):\\n        return 'Date({}, {}, {})'.format(self.year, self.month, self.day)\\n\\n    def set_date(self, y, m, d):\\n        self.year = y\\n        self.month = m\\n        self.day = d\\n\\n    @classmethod\\n    def from_str(cls, date_str):\\n        '''Call as\\n           d = Date.from_str('2013-12-30')\\n        '''\\n        print(cls)\\n        year, month, day = map(int, date_str.split('-'))\\n        return cls(year, month, day)\",\n",
       "  \"d = Date(2019, 1, 8)\\nprint(d.__str__())\\nd.set_date(2019, 1, 9)\\nprint(d.__str__())\\n\\nd_alt = Date.from_str('2019-1-10')\\nprint(d_alt.__str__())\\nd_alt.set_date(2019, 1, 11)\\nprint(d_alt.__str__())\",\n",
       "  'class C: \\n\\n    counter = 0\\n    \\n    def __init__(self): \\n        type(self).counter += 1\\n\\n    def __del__(self):\\n        type(self).counter -= 1\\n\\nif __name__ == \"__main__\":\\n    x = C()\\n    print(\"Number of instances: : \" + str(C.counter))\\n    y = C()\\n    print(\"Number of instances: : \" + str(C.counter))\\n    del x\\n    print(\"Number of instances: : \" + str(C.counter))\\n    del y\\n    print(\"Number of instances: : \" + str(C.counter))',\n",
       "  'class Robot:\\n    \"\"\"Represents a robot, with a name.\"\"\"\\n\\n    # A class variable, counting the number of robots\\n    population = 0 # class variable: whose value is shared among all instances of a this class\\n\\n    def __init__(self, name):\\n        \"\"\"Initializes the data.\"\"\"\\n        self.name = name # Object variable\\n        print(\"(Initializing {})\".format(self.name))\\n\\n        # When this person is created, the robot\\n        # adds to the population\\n        Robot.population += 1\\n\\n    def die(self):\\n        \"\"\"I am dying.\"\"\"\\n        print(\"{} is being destroyed!\".format(self.name))\\n\\n        Robot.population -= 1\\n\\n        if Robot.population == 0:\\n            print(\"{} was the last one.\".format(self.name))\\n        else:\\n            print(\"There are still {:d} robots working.\".format(\\n                Robot.population))\\n\\n    def say_hi(self):\\n        \"\"\"Greeting by the robot.\\n        Yeah, they can do that.\"\"\"\\n        print(\"Greetings, my masters call me {}.\".format(self.name))\\n\\n    @classmethod # class method\\n    def how_many(cls):\\n        \"\"\"Prints the current population.\"\"\"\\n        print(\"We have {:d} robots.\".format(cls.population))\\n\\n\\ndroid1 = Robot(\"R2-D2\")\\ndroid1.say_hi()\\nRobot.how_many()\\n\\ndroid2 = Robot(\"C-3PO\")\\ndroid2.say_hi()\\nRobot.how_many()\\n\\nprint(\"\\\\nRobots can do some work here.\\\\n\")\\n\\nprint(\"Robots have finished their work. So let\\'s destroy them.\")\\ndroid1.die()\\ndroid2.die()\\n\\nRobot.how_many()',\n",
       "  'class Robot:\\n \\n    def __init__(self, name=None):\\n        self.name = name   \\n        \\n    def say_hi(self):\\n        if self.name:\\n            print(\"Hi, I am \" + self.name)\\n        else:\\n            print(\"Hi, I am a robot without a name\")\\n            \\n    def set_name(self, name):\\n        self.name = name\\n        \\n    def get_name(self):\\n        return self.name\\n    \\n\\nx = Robot()\\nx.set_name(\"Henry\")\\nx.say_hi()\\ny = Robot()\\ny.set_name(x.get_name())\\nprint(y.get_name())\\nz = Robot(\"Pawan\")\\nz.say_hi()',\n",
       "  'class Robot:\\n \\n    def __init__(self, \\n                 name=None,\\n                 build_year=None):\\n        self.name = name   \\n        self.build_year = build_year\\n        \\n    def say_hi(self):\\n        if self.name:\\n            print(\"Hi, I am \" + self.name)\\n        else:\\n            print(\"Hi, I am a robot without a name\")\\n        if self.build_year:\\n            print(\"I was built in \" + str(self.build_year))\\n        else:\\n            print(\"It\\'s not known, when I was created!\")\\n            \\n    def set_name(self, name):\\n        self.name = name\\n        \\n    def get_name(self):\\n        return self.name    \\n\\n    def set_build_year(self, by):\\n        self.build_year = by\\n        \\n    def get_build_year(self):\\n        return self.build_year    \\n    \\n\\nx = Robot(\"Henry\", 2008)\\ny = Robot()\\ny.set_name(\"Marvin\")\\nx.say_hi()\\ny.say_hi()',\n",
       "  'class A():\\n    \\n    def __init__(self):\\n        self.__priv = \"I am private\"\\n        self._prot = \"I am protected\"\\n        self.pub = \"I am public\"\\n\\n        \\nx = A()\\nprint(x.pub)\\nx.pub = \"Public Changed\"\\nprint(x.pub)\\nprint(x._prot)\\nx._prot = \"Protected Changed\" # Not a good practice\\nprint(x._prot)\\nprint(x.__priv)\\n    ',\n",
       "  \"aa = '5'\\nbb = '2'\\naa/bb\",\n",
       "  \"aa = '5'\\nbb = '2'\\naa/bb\",\n",
       "  \"# -, _, .\\nemail_address = 'supp-ort.india4@datacamp.com'\\n#re.search(r'\\\\S+@\\\\w+\\\\.\\\\w+', email_address).group() # Naga\\nre.search(r'[a-zA-Z0-9-_.]+@\\\\w+\\\\.\\\\w+', email_address).group() # Ramya\",\n",
       "  \"class Date(object):\\n    def __init__(self, Year, Month, Day):\\n        self.year  = Year\\n        self.month = Month\\n        self.day   = Day\\n\\n    def __str__(self):\\n        return 'Date({}, {}, {})'.format(self.year, self.month, self.day)\\n\\n    def set_date(self, y, m, d):\\n        self.year = y\\n        self.month = m\\n        self.day = d\\n\\n    @classmethod\\n    def from_str(cls, date_str):\\n        '''Call as\\n           d = Date.from_str('2013-12-30')\\n        '''\\n        print(cls)\\n        year, month, day = map(int, date_str.split('-'))\\n        return cls(year, month, day)\",\n",
       "  \"d = Date(2019, 1, 8)\\nprint(d.__str__())\\nd.set_date(2019, 1, 9)\\nprint(d.__str__())\\n\\nd_alt = Date.from_str('2019-1-10')\\nprint(d_alt.__str__())\\nd_alt.set_date(2019, 1, 11)\\nprint(d_alt.__str__())\",\n",
       "  'class C: \\n\\n    counter = 0\\n    \\n    def __init__(self): \\n        type(self).counter += 1\\n\\n    def __del__(self):\\n        type(self).counter -= 1\\n\\nif __name__ == \"__main__\":\\n    x = C()\\n    print(\"Number of instances: : \" + str(C.counter))\\n    y = C()\\n    print(\"Number of instances: : \" + str(C.counter))\\n    del x\\n    print(\"Number of instances: : \" + str(C.counter))\\n    del y\\n    print(\"Number of instances: : \" + str(C.counter))',\n",
       "  'class Robot:\\n    \"\"\"Represents a robot, with a name.\"\"\"\\n\\n    # A class variable, counting the number of robots\\n    population = 0 # class variable: whose value is shared among all instances of a this class\\n\\n    def __init__(self, name):\\n        \"\"\"Initializes the data.\"\"\"\\n        self.name = name # Object variable\\n        print(\"(Initializing {})\".format(self.name))\\n\\n        # When this person is created, the robot\\n        # adds to the population\\n        Robot.population += 1\\n\\n    def die(self):\\n        \"\"\"I am dying.\"\"\"\\n        print(\"{} is being destroyed!\".format(self.name))\\n\\n        Robot.population -= 1\\n\\n        if Robot.population == 0:\\n            print(\"{} was the last one.\".format(self.name))\\n        else:\\n            print(\"There are still {:d} robots working.\".format(\\n                Robot.population))\\n\\n    def say_hi(self):\\n        \"\"\"Greeting by the robot.\\n        Yeah, they can do that.\"\"\"\\n        print(\"Greetings, my masters call me {}.\".format(self.name))\\n\\n    @classmethod # class method\\n    def how_many(cls):\\n        \"\"\"Prints the current population.\"\"\"\\n        print(\"We have {:d} robots.\".format(cls.population))\\n\\n\\ndroid1 = Robot(\"R2-D2\")\\ndroid1.say_hi()\\nRobot.how_many()\\n\\ndroid2 = Robot(\"C-3PO\")\\ndroid2.say_hi()\\nRobot.how_many()\\n\\nprint(\"\\\\nRobots can do some work here.\\\\n\")\\n\\nprint(\"Robots have finished their work. So let\\'s destroy them.\")\\ndroid1.die()\\ndroid2.die()\\n\\nRobot.how_many()',\n",
       "  'class Robot:\\n \\n    def __init__(self, name=None):\\n        self.name = name   \\n        \\n    def say_hi(self):\\n        if self.name:\\n            print(\"Hi, I am \" + self.name)\\n        else:\\n            print(\"Hi, I am a robot without a name\")\\n            \\n    def set_name(self, name):\\n        self.name = name\\n        \\n    def get_name(self):\\n        return self.name\\n    \\n\\nx = Robot()\\nx.set_name(\"Henry\")\\nx.say_hi()\\ny = Robot()\\ny.set_name(x.get_name())\\nprint(y.get_name())\\nz = Robot(\"Pawan\")\\nz.say_hi()',\n",
       "  'class Robot:\\n \\n    def __init__(self, \\n                 name=None,\\n                 build_year=None):\\n        self.name = name   \\n        self.build_year = build_year\\n        \\n    def say_hi(self):\\n        if self.name:\\n            print(\"Hi, I am \" + self.name)\\n        else:\\n            print(\"Hi, I am a robot without a name\")\\n        if self.build_year:\\n            print(\"I was built in \" + str(self.build_year))\\n        else:\\n            print(\"It\\'s not known, when I was created!\")\\n            \\n    def set_name(self, name):\\n        self.name = name\\n        \\n    def get_name(self):\\n        return self.name    \\n\\n    def set_build_year(self, by):\\n        self.build_year = by\\n        \\n    def get_build_year(self):\\n        return self.build_year    \\n    \\n\\nx = Robot(\"Henry\", 2008)\\ny = Robot()\\ny.set_name(\"Marvin\")\\nx.say_hi()\\ny.say_hi()',\n",
       "  'class A():\\n    \\n    def __init__(self):\\n        self.__priv = \"I am private\"\\n        self._prot = \"I am protected\"\\n        self.pub = \"I am public\"\\n\\n        \\nx = A()\\nprint(x.pub)\\nx.pub = \"Public Changed\"\\nprint(x.pub)\\nprint(x._prot)\\nx._prot = \"Protected Changed\" # Not a good practice\\nprint(x._prot)\\nprint(x.__priv)\\n    ',\n",
       "  \"aa = 'newString'\\nprint(aa.capitalize())\\nprint(aa)\",\n",
       "  \"print('C:\\\\some\\\\name')  # here \\\\n means newline!\\nprint(r'C:\\\\some\\\\name')  # note the r before the quote\",\n",
       "  '# How to correct this?\\nprint(\\'\"Isn\\\\\\'t,\" she said.\\') ',\n",
       "  '# Multiline comment\\nprint(\"\"\"Usage: thingy [OPTIONS]\\n     -h                        Display this usage message\\n     -H hostname               Hostname to connect to\\n\"\"\")',\n",
       "  '# Multiline comment\\nprint(\"\"\"Usage: thingy [OPTIONS]\\n     -h                        Display this usage message\\n     -H hostname               Hostname to connect to\\n\"\"\")',\n",
       "  \"# String repeatation\\n# 3 times 'un', followed by 'ium'\\n3 * 'un' + 'ium'\",\n",
       "  \"# Breaking a long line\\ntext = ('Put several strings within parentheses '\\n    'to have them joined together.')\\ntext\",\n",
       "  \"word = 'Python'\\nprint(word[0])  # character in position 0\\nprint(word[5])  # character in position 5\\nprint(word[6])  # ????\",\n",
       "  \"# \\\\W - Uppercase w. Matches any character not part of \\\\w (lowercase w).\\nre.search(r'C\\\\Wke', 'C@ke').group()\",\n",
       "  \"word = 'Python'\\nprint(word[-1])  # last character\\nprint(word[-2])  # second-last character\\nprint(word[-6])  # First character \\nprint(word[-7])  # ???? \",\n",
       "  \"word = 'Python'\\nprint(word[0:2])  # characters from position 0 (included) to 2 (excluded)\\nprint(word[2:5])  # characters from position 2 (included) to 5 (excluded)\\nprint(word[2:10])  # ????\",\n",
       "  \"word = 'Python'\\nprint(word[:2])   # character from the beginning to position 2 (excluded)\\nprint(word[4:])   # characters from position 4 (included) to the end\\nprint(word[-2:])  # ????\\nprint(word[-4:-1]) #TBD\",\n",
       "  '# Length of string\\nprint(word)\\nprint(len(word))',\n",
       "  '# Length of string\\nprint(word)\\nprint(len(word))',\n",
       "  'import sys\\nprint(sys.getsizeof(word))',\n",
       "  'aa = \"something  : nothing\"\\nprint(type(aa.split()))\\nprint(aa.split())',\n",
       "  'aa = \" something  : nothing \"\\n#print(type(aa.split()))\\nprint(aa.split(\\':\\'))\\nprint (list(map(lambda x: x.strip(), aa.split(\\':\\'))))',\n",
       "  \"# This is my shopping list\\nshoplist = ['apple', 'mango', 'carrot', 'banana']\\nprint('I have', len(shoplist), 'items to purchase.')\\nprint('These items are:', end=' ')\\nfor item in shoplist:\\n    print(item, end=' ')\\nprint('\\\\nI also have to buy rice.')\\nshoplist.append('rice')\\nprint('My shopping list is now', shoplist)\\nprint('I will sort my list now')\\nshoplist.sort()\\nprint('Sorted shopping list is', shoplist)\\nprint('The first item I will buy is', shoplist[0])\\nolditem = shoplist[0]\\ndel shoplist[0]\\nprint('I bought the', olditem)\\nprint('My shopping list is now', shoplist)\",\n",
       "  'squares = [1, 4, 9, 16, 25]\\nprint(squares)\\nprint(type(squares))',\n",
       "  \"# Supports dissimilar data types  \\nsquares = [1, 4, 9, 'sixteen', 25]\\nprint(squares)\",\n",
       "  '# Indexing and slicing\\nprint(squares[0])  # indexing returns the item\\nprint(squares[-1]) # Last item\\nprint(squares[-3:])  # slicing returns a new list',\n",
       "  '#squares_odd = [1, 9, 25]\\n#squares_even = [4, 16, 36]\\n#squares = squares_even + squares_odd\\nprint(squares)',\n",
       "  \"squares = ['a', 'b', 'c']\\nnew_list = ['aa', 'bb', squares]\\nprint(new_list) # Guess the output of this print\\nprint(type(new_list))\\nprint(type(new_list[0]))\\nprint(type(new_list[1]))\\nprint(type(new_list[2]))\\nprint (new_list[2])\\nprint (new_list[2][2])\",\n",
       "  \"# Matrix formation\\na = ['a', 'b', 'c']\\nn = [1, 2, 3]\\nx = [a, n]\\nprint(x)\",\n",
       "  \"squares = [4, 16, 36, 1, 9, 25, 11]\\n\\nprint(type(squares))\\nprint(type(squares[0]))\\nsquares[5] = 'something'\\nprint(squares)\\nprint(type(squares[5]))\\n\\n# Will this work?\\nsquares[6] = 'nothing'\\nprint(squares)\",\n",
       "  \"# Adding element to a list\\nsquares.append('anything')\\nprint(squares)\",\n",
       "  '# Poping-out from list\\nprint(squares.pop(-1))\\nprint(squares)',\n",
       "  'print(squares.pop(2))\\nprint(squares)',\n",
       "  '# Length of list\\nprint(len(a))\\nprint(x)\\nprint(len(x))\\nprint(len(x[0]))',\n",
       "  \"# Replacing element in a list\\na = ['a', 'b', 'c', 'd', 'e', 'f', 'g', 'h', 'i']\\na[2:5] = ['C', 'D', 'E', 'XX']\\nprint(a)\",\n",
       "  \"# Replacing element in a string\\nmy_str = 'python'\\nmy_str[0] = 'j'\",\n",
       "  \"ii = [10, 20, 30, 40]\\nprint (10 in ii)\\nprint ('10' in ii)\",\n",
       "  \"# Python strings cannot be changed — they are immutable. Therefore, assigning to an indexed position in the string results in an error:\\nword = 'python'\\nword[0] = 'J'\\n'''\\nimmutable\\nAn object with a fixed value. Immutable objects include numbers, strings and tuples. Such an object cannot be altered. A new object has to be created if a different value has to be stored. They play an important role in places where a constant hash value is needed, for example as a key in a dictionary.\\n'''\",\n",
       "  'type(5)\\nx = 5\\nprint(type(x))\\nprint(id(x))\\ny = 5\\nprint(id(y))\\n\\nprint(type(x))\\nprint(id(x))\\ndel x\\ndel y\\nx = 5\\ny = 5\\n#print(id(x))\\nprint(id(y))\\n\\nprint(id(x))',\n",
       "  'type(10)\\nid(10)',\n",
       "  '# Example 1\\nx = \"Holberton\"\\ny = \"Holberton\"\\nz = x\\nprint(id(x))\\nprint(type(x))\\n\\nprint(id(y))\\nprint(id(z))\\nprint(x is y) #comparing the types\\nx = \"abc\"\\nprint(id(x))\\nprint(id(z))\\n\\n# Example 2\\na = 5\\nb = 50\\nprint(id(a))\\nprint(type(a))\\n\\nprint(id(b))\\n\\nprint(a is b) #comparing the types',\n",
       "  '# Example 1\\nx = \"Holberton\"\\ny = \"Holberton1\"\\nz = x\\nprint(id(x))\\nprint(id(y))\\nprint(id(z))\\nprint(type(x))',\n",
       "  \"x = 10\\ny = x\\nprint(id(x))\\nprint(id(y))\\n#x += 1\\n#print(id(x))\\n#print(id(y))\\nprint('='*80)\\na = 9\\nprint(id(a))\\nb = 9\\nprint(id(b))\\nz = a + 1\\n#z = 10\\nprint(id(z))\",\n",
       "  'print(type(10))',\n",
       "  \"a = ['a', 'b', 'c', 'd']\\nb = ['a', 'b', 'c', 'd']\\nc = a\\nprint(id(a))\\nprint(id(b))\\nprint(id(c))\\n\\na.append('e')\\nprint (a)\\nprint(id(a))\\nprint(id(c))\\nprint (c)\",\n",
       "  '# Example 1\\nx = \\'Holberton\\'\\nprint(\\'\\'.join([ii.upper() if ii == \\'o\\' else ii for ii in x]), flush=True)\\n\"\"\"\\nfor ii in x:\\n    #print(ii)\\n    if ii == \\'o\\':\\n        ii = ii.upper()\\n    else:\\n        pass\\n    aa.append(ii)\\n\"\"\"\\n#print(aa)',\n",
       "  'x = int(input(\"Please enter an integer: \"))\\n\\nif x < 0:\\n    x = 0\\n    print(\\'Negative changed to zero\\')\\nelif x == 0:\\n    print(\\'Zero\\')\\nelif x == 1:\\n    print(\\'Single\\')\\nelse:\\n    print(\\'More\\')',\n",
       "  'x = int(input(\"Please enter an integer: \"))\\n\\nif x < 0:\\n    x = 0\\n    print(\\'Negative changed to zero\\')\\nelif x == 0:\\n    print(\\'Zero\\')\\nelif x == 1:\\n    print(\\'Single\\')\\nelse:\\n    print(\\'More\\')',\n",
       "  \"number = 23\\nguess = int(input('Enter an integer : '))\\nif guess == number:\\n    # New block starts here\\n    print('Congratulations, you guessed it.')\\n    print('(but you do not win any prizes!)')\\n    # New block ends here\\nelif guess < number:\\n    # Another block\\n    print('No, it is a little higher than that')\\n    # You can do whatever you want in a block ...\\nelse:\\n    print('No, it is a little lower than that')\\n    \\n# you must have guessed > number to reach here\\nprint('Done')\\n# This last statement is always executed,\\n# after the if statement is executed.\",\n",
       "  \"# Measure some strings:\\nwords = ['cat', 'window', 'defenestrate']\\nfor w in words:\\n    print(w, len(w))\",\n",
       "  'end = \\'yy\\'\\nprint(end)\\n# Print without new line\\nprint (\"something\", end=end)\\nprint (\"nothing\")',\n",
       "  \"# Iterating through subset\\nwords = ['cat', 'window', 'defenestrate', 'something', 'nothing']\\nfor w in words[2:]:\\n    print(w, len(w))\",\n",
       "  \"# Iterate and conditionally select\\nwords = ['cat', 'window', 'defenestrate', 'something', 'nothing', 'dog', 'ball']\\nnew_list = []\\nnn = 0\\nfor w in words:\\n    if len(w) <= 4:\\n        print(w, len(w))\\n        new_list.append(w)\\nprint(new_list)\",\n",
       "  \"for i in range(1, 5):\\n    print(i)\\nelse:\\n    print('The for loop is over')\",\n",
       "  \"number = 23\\nrunning = False\\nwhile running:\\n    guess = int(input('Enter an integer : '))\\n    if guess == number:\\n        print('Congratulations, you guessed it.')\\n        # this causes the while loop to stop\\n        running = False\\n    elif guess < number:\\n        print('No, it is a little higher than that.')\\n    else:\\n        print('No, it is a little lower than that.')\\nelse:\\n    print('The while loop is over.')\\n    # Do anything else you want to do here\\nprint('Done')\",\n",
       "  'while True:\\n    in_str = input(\"Enter a string: \")\\n    if in_str == \\'quit\\':\\n        break\\n    else:\\n        print (f\"Entered string is {in_str}\")\\nelse:\\n    print(\"Out of while loop\")',\n",
       "  \"while True:\\n    s = input('Enter something : ')\\n    if s == 'quit':\\n        break\\n    print('Length of the string is', len(s))\\nprint('Done')\",\n",
       "  'aa = range(10)\\nprint(aa)\\nprint(type(aa))\\nprint(list(aa))\\nprint(type(range(10)))\\nprint(list(range(5))) # [0, 1, 2, 3, 4] = range(0,5,1)\\nprint(list(range(0,5,1)))\\nprint(list(range(5, 10))) # [5, 6, 7, 8, 9]\\nprint(list(range(5, 25, 5))) # [5, 10, 15, 20]\\nprint(list(range(5, -25, -5))) # [5, 0, -5, -10, -15, -20]',\n",
       "  'print(list(range(5,1,-1)))',\n",
       "  'aa = range(-25, 5, 5)\\nprint(type(aa))\\nprint((aa))',\n",
       "  'for ii in range(10):\\n    print (ii, end=\"\\\\t\")',\n",
       "  \"a = ['Mary', 'had', 'a', 'little', 'lamb']\\nfor i in range(len(a)):\\n    print(i, a[i])\",\n",
       "  'a = [\\'Mary\\', \\'had\\', \\'a\\', \\'little\\', \\'lamb\\']\\nfor index, element in enumerate(a):\\n    print(f\"{index}: {element}\")',\n",
       "  \"for n in range(2, 10):\\n    for x in range(2, n):\\n        if n % x == 0:\\n            print(n, 'equals', x, '*', n//x)\\n            break\\n    else:\\n        # loop fell through without finding a factor\\n        print(n, 'is a prime number')\",\n",
       "  'print (list(range(2,10)))',\n",
       "  'odd_list = []\\nfor num in range(2, 10):\\n    if num % 2 == 0:\\n        print(\"Found an even number. No need to store: \", num, )\\n        continue\\n    print(\"Found an odd number. Store it: \", num)\\n    odd_list.append(num)\\nprint(odd_list)',\n",
       "  'my_add(2,3)',\n",
       "  'def my_add(x,y):\\n    return x+y',\n",
       "  'my_add(2,3)',\n",
       "  'my_add(2,3)',\n",
       "  '\"\"\"\\ndef range(m):\\n    print(list(range(10)))\\n    print(\"something\")\\n    return 0\\n\"\"\"',\n",
       "  'range(10,20)',\n",
       "  'def fib(n):    # write Fibonacci series up to n\\n    \"\"\"Print a Fibonacci series up to n.\"\"\"\\n    a, b = 0, 1\\n    while a < n:\\n        print(a, end=\\' \\')\\n        a, b = b, a+b\\n    print()\\n    return 1\\n\\n# Now call the function we just defined:\\nfib(100000)\\nprint(type(fib))\\nprint(fib.__doc__)',\n",
       "  'f = fib\\nprint(id(fib))\\nprint(id(f))\\nprint(f(100)) # Check the return\\n\\ndel fib\\n\\nprint(id(f))\\nprint(f(100)) # Check the return',\n",
       "  'def fib2(n):  # return Fibonacci series up to n\\n    \"\"\"Return a list containing the Fibonacci series up to n.\"\"\"\\n    result = []\\n    a, b = 0, 1\\n    while a < n:\\n        result.append(a)    # see below\\n        a, b = b, a+b\\n    return result\\n\\nf100 = fib2(100)    # call it\\nf100                # write the result',\n",
       "  \"def ask_ok(prompt, retries=4, reminder='Please try again!'):\\n    while True:\\n        ok = input(prompt)\\n        if ok in ('y', 'ye', 'yes'):\\n            return True\\n        if ok in ('n', 'no', 'nop', 'nope'):\\n            return False\\n        retries = retries - 1\\n        if retries < 0:\\n            raise ValueError('invalid user response')\\n        print(reminder)\",\n",
       "  \"ask_ok('Do you really want to quit? ')\",\n",
       "  \"ask_ok('OK to overwrite the file?', 2)\",\n",
       "  \"ask_ok('OK to overwrite the file?', 2, 'Come on, only yes or no!')\",\n",
       "  'def parrot(voltage, state=\\'a stiff\\', action=\\'voom\\', type=\\'Norwegian Blue\\'):\\n    print(\"-- This parrot wouldn\\'t\", action, end=\\' \\')\\n    print(\"if you put\", voltage, \"volts through it.\")\\n    print(\"-- Lovely plumage, the\", type)\\n    print(\"-- It\\'s\", state, \"!\")',\n",
       "  \"parrot(1000)                                          # 1 positional argument\\nprint('='*80)\\nparrot(voltage=1000)                                  # 1 keyword argument\\nprint('='*80)\\nparrot(voltage=1000000, action='VOOOOOM')             # 2 keyword arguments\\nprint('='*80)\\nparrot(action='VOOOOOM', voltage=1000000)             # 2 keyword arguments\\nprint('='*80)\\nparrot('a million', 'bereft of life', 'jump')         # 3 positional arguments\\nprint('='*80)\\nparrot('a thousand', state='pushing up the daisies')  # 1 positional, 1 keyword\",\n",
       "  \"#parrot()                     # required argument missing\\nparrot(voltage=5.0, 'dead')  # non-keyword argument after a keyword argument\\n#parrot(110, voltage=220)     # duplicate value for the same argument\\n#parrot(actor='John Cleese')  # unknown keyword argument\",\n",
       "  \"#parrot()                     # required argument missing\\nparrot(voltage=5.0, 'dead')  # non-keyword argument after a keyword argument\\n#parrot(110, voltage=220)     # duplicate value for the same argument\\n#parrot(actor='John Cleese')  # unknown keyword argument\",\n",
       "  \"def foo(x = 'something', y = 10):\\n    print(x)\\nfoo(10)\\nfoo('nothing')\",\n",
       "  'def cheeseshop(kind, *arguments, **keywords):\\n    print(\"-- Do you have any\", kind, \"?\")\\n    print(\"-- I\\'m sorry, we\\'re all out of\", kind)\\n    for arg in arguments:\\n        print(arg)\\n    print(\"-\" * 40)\\n    for kw in keywords:\\n        print(kw, \":\", keywords[kw])',\n",
       "  'cheeseshop(\"Limburger\", \"It\\'s very runny, sir.\",\\n           \"It\\'s really very, VERY runny, sir.\",\\n           shopkeeper=\"Michael Palin\",\\n           client=\"John Cleese\",\\n           sketch=\"Cheese Shop Sketch\")',\n",
       "  \"#def foo(first_arg, **dict_args, *list_args):\\ndef foo(first_arg, *list_args, **dict_args):\\n    print(f'first_arg: {first_arg}')\\n    print(f'list_args: {list_args}')\\n    print(f'dict_args: {dict_args}')\\n#foo('first', d1='dd1', d2='dd2', 111, 22, 33)\\nfoo('first', 111, 22, 33, d1='dd1', d2='dd2')\",\n",
       "  'x= [1,2,3]\\nprint(dir(x))',\n",
       "  'print(help([].pop))',\n",
       "  'print(help([].index))',\n",
       "  'print(help([].append))',\n",
       "  'x = \"string\"\\nprint(dir(x))',\n",
       "  \"fruits = ['orange', 'apple', 'pear', 'banana', 'kiwi', 'apple', 'banana']\\nprint(fruits.count('apple'))\\nprint(fruits.count('tangerine'))\\nprint(fruits.index('banana')) # X\\nprint(fruits.index('banana', 4)\\nfruits.reverse()\\nprint(fruits)\\nfruits.append('grape')\\nprint(fruits)\\nfruits.sort()\\nprint(fruits)\\nprint(fruits.pop())\",\n",
       "  \"fruits = ['orange', 'apple', 'pear', 'banana', 'kiwi', 'apple', 'banana']\\nprint(fruits.count('apple'))\\nprint(fruits.count('tangerine'))\\nprint(fruits.index('banana')) # X\\nprint(fruits.index('banana', 4)\\nfruits.reverse()\\nprint(fruits)\\nfruits.append('grape')\\nprint(fruits)\\nfruits.sort()\\nprint(fruits)\\nprint(fruits.pop())\",\n",
       "  \"fruits = ['orange', 'apple', 'pear', 'banana', 'kiwi', 'apple', 'banana']\\nprint(fruits.count('apple'))\\nprint(fruits.count('tangerine'))\\nprint(fruits.index('banana')) # X\\nprint(fruits.index('banana', 4))\\nfruits.reverse()\\nprint(fruits)\\nfruits.append('grape')\\nprint(fruits)\\nfruits.sort()\\nprint(fruits)\\nprint(fruits.pop())\",\n",
       "  \"fruits = ['orange', 'apple', 'pear', 'banana', 'kiwi', 'apple', 'banana']\\nprint(fruits.count('apple'))\\nprint(fruits.count('tangerine'))\\nprint(fruits.index('banana')) # X\\nprint(fruits.index('banana', 4))\\nfruits.reverse()\\nprint(fruits)\\nfruits.append('grape')\\nprint(fruits)\\nfruits.sort()\\nprint(fruits)\\nprint(fruits.pop())\",\n",
       "  'stack = [3, 4, 5]\\nprint(stack)\\nstack.append(6)\\nstack.append(7)\\nprint(stack)\\nprint(stack.pop())\\nprint(stack)\\nprint(stack.pop())\\nprint(stack.pop())\\nprint(stack)',\n",
       "  'from collections import deque\\nqueue = deque([\"Eric\", \"John\", \"Michael\"])\\nqueue.append(\"Terry\")           # Terry arrives\\nqueue.append(\"Graham\")          # Graham arrives\\nqueue.popleft()                 # The first to arrive now leaves\\nqueue.popleft()                 # The second to arrive now leaves\\nprint(queue)                          # Remaining queue in order of arrival\\nprint(dir(queue))',\n",
       "  'squares = []\\nfor x in range(10):\\n    squares.append(x**2)\\nprint(squares)',\n",
       "  'a = [1, 2, 3, 4, 5]\\nprint([value if value % 2 == 1 else value **2 for value in a])',\n",
       "  'import time\\na = [1, 2, 3, 4, 5]\\n\\n# Start the timer\\nstart = time.time()\\n\\nfor i in range(0, 5000000):\\n    a = [value if value % 2 == 1 else value * 1 for value in a]\\n# Stop the timer\\nend = time.time()\\n#print(\"Input value is of type: {0} and {1}\".format(type(user_input), \\'something else\\'))\\nprint(\"Time consumed with comprehension: \" + str(end - start))\\n\\n# Restart the timer\\nstart = time.time()\\nfor i in range(0, 5000000):\\n    for j in range(len(a)):\\n        if a[j] % 2 == 1:\\n            a[j] = a[j]\\n        else:\\n            a[j] = a[j] * 1\\n# Stop the timer \\nend = time.time()\\nprint(\"Time consumed with loops: \" + str(end - start))',\n",
       "  'squares = [x**2 for x in range(10)]\\nprint(squares)',\n",
       "  'lst = [1,2,3,4,5,6,7,8,9]\\nsquares = []\\nfor x in lst:\\n    if (x % 2 == 0):\\n        squares.append(x**2)\\nprint(squares)',\n",
       "  'squares = [x**2 (for x in lst) (if (x % 2 == 0))]\\nprint(squares)',\n",
       "  'squares = [x**2 for x in lst if (x % 2 == 0)]\\nprint(squares)',\n",
       "  'squares = [x**2 for x in lst if (x % 2 == 0)]\\nprint(squares)',\n",
       "  'vec = [-4, -2, 0, 2, 4]\\nprint ([x*2 for x in vec])\\nprint ([x*2 for x in vec if x >= 0])',\n",
       "  '## Exercise: Find the sum of squares of odd numbers from -50 to +75\\nprint(sum([ii**2 for ii in range(-50,75) if ii%2 != 0]))',\n",
       "  \"freshfruit = ['  banana', '  loganberry ', 'passion fruit  ']\\nprint([weapon.strip() for weapon in freshfruit])\",\n",
       "  'matrix = [\\n    [1, 2, 3, 4],\\n    [5, 6, 7, 8],\\n    [9, 10, 11, 12],\\n    [91, 101, 111, 112]\\n]\\n\\n#[row[i] for row in matrix]\\nprint([[row[i] for row in matrix] for i in range(4)])',\n",
       "  'matrix = [\\n    [11,222],\\n    [333,5554]\\n]\\n\\nfor ii in range(2):\\n    for jj in range(2):\\n        print(matrix[ii][jj])\\n[[matrix[ii][jj] for jj in range(2)] for ii in range(2) ]',\n",
       "  'x = \"string\"\\nx',\n",
       "  'a = [-1, 1, 66.25, 333, 333, 66.25, 1234.5]\\nhelp(a.remove)\\nprint(a.remove(66.25))\\nprint(a)\\ndir(a)',\n",
       "  'a = [-1, 1, 66.25, 333, 333, 1234.5]\\ndel a[0]\\nprint(a)\\ndel a[2:4]\\nprint(a)\\ndel a[:]\\nprint(a)\\ndel a\\nprint(a)',\n",
       "  'class Robot:\\n    \"\"\"Represents a robot, with a name.\"\"\"\\n\\n    # A class variable, counting the number of robots\\n    population = 0 # class variable: whose value is shared among all instances of a this class\\n\\n    def __init__(self, name):\\n        \"\"\"Initializes the data.\"\"\"\\n        self.name = name # Object variable\\n        print(\"(Initializing {})\".format(self.name))\\n\\n        # When this person is created, the robot\\n        # adds to the population\\n        Robot.population += 1\\n\\n    def die(self):\\n        \"\"\"I am dying.\"\"\"\\n        print(\"{} is being destroyed!\".format(self.name))\\n\\n        Robot.population -= 1\\n\\n        if Robot.population == 0:\\n            print(\"{} was the last one.\".format(self.name))\\n        else:\\n            print(\"There are still {:d} robots working.\".format(\\n                Robot.population))\\n\\n    def say_hi(self):\\n        \"\"\"Greeting by the robot.\\n        Yeah, they can do that.\"\"\"\\n        print(\"Greetings, my masters call me {}.\".format(self.name))\\n\\n    @classmethod # class method\\n    def how_many(cls):\\n        \"\"\"Prints the current population.\"\"\"\\n        print(\"We have {:d} robots.\".format(cls.population))\\n\\n\\ndroid1 = Robot(\"R2-D2\")\\ndroid1.say_hi()\\nRobot.how_many()\\n\\ndroid2 = Robot(\"C-3PO\")\\ndroid2.say_hi()\\nRobot.how_many()\\n\\nprint(\"\\\\nRobots can do some work here.\\\\n\")\\n\\nprint(\"Robots have finished their work. So let\\'s destroy them.\")\\ndroid1.die()\\ndroid2.die()\\n\\nRobot.how_many()',\n",
       "  'class Robot:\\n \\n    def __init__(self, name=None):\\n        self.name = name   \\n        \\n    def say_hi(self):\\n        if self.name:\\n            print(\"Hi, I am \" + self.name)\\n        else:\\n            print(\"Hi, I am a robot without a name\")\\n            \\n    def set_name(self, name):\\n        self.name = name\\n        \\n    def get_name(self):\\n        return self.name\\n    \\n\\nx = Robot()\\nx.set_name(\"Henry\")\\nx.say_hi()\\ny = Robot()\\ny.set_name(x.get_name())\\nprint(y.get_name())\\nz = Robot(\"Pawan\")\\nz.say_hi()',\n",
       "  'class Robot:\\n \\n    def __init__(self, \\n                 name=None,\\n                 build_year=None):\\n        self.name = name   \\n        self.build_year = build_year\\n        \\n    def say_hi(self):\\n        if self.name:\\n            print(\"Hi, I am \" + self.name)\\n        else:\\n            print(\"Hi, I am a robot without a name\")\\n        if self.build_year:\\n            print(\"I was built in \" + str(self.build_year))\\n        else:\\n            print(\"It\\'s not known, when I was created!\")\\n            \\n    def set_name(self, name):\\n        self.name = name\\n        \\n    def get_name(self):\\n        return self.name    \\n\\n    def set_build_year(self, by):\\n        self.build_year = by\\n        \\n    def get_build_year(self):\\n        return self.build_year    \\n    \\n\\nx = Robot(\"Henry\", 2008)\\ny = Robot()\\ny.set_name(\"Marvin\")\\nx.say_hi()\\ny.say_hi()',\n",
       "  'class A():\\n    \\n    def __init__(self):\\n        self.__priv = \"I am private\"\\n        self._prot = \"I am protected\"\\n        self.pub = \"I am public\"\\n\\n        \\nx = A()\\nprint(x.pub)\\nx.pub = \"Public Changed\"\\nprint(x.pub)\\nprint(x._prot)\\nx._prot = \"Protected Changed\" # Not a good practice\\nprint(x._prot)\\nprint(x.__priv)\\n    ',\n",
       "  'a = [-1, 1, 66.25, 333, 333, 1234.5]\\ndel a[0]\\nprint(a)\\ndel a[2:4]\\nprint(a)\\ndel a[:]\\nprint(a)\\ndel a\\n#print(a)',\n",
       "  'a = [-1, 1, 66.25, 333, 333, 1234.5]\\ndel a[0]\\nprint(a)\\ndel a[2:4]\\nprint(a)\\ndel a[:]\\nprint(a)\\ndel a\\nprint(a)',\n",
       "  'a = [-1, 1, 66.25, 333, 333, 1234.5]\\ndel a[0]\\nprint(a)\\ndel a[2:4]\\nprint(a)\\ndel a[:]\\nprint(a)\\ndel a\\nprint(a)',\n",
       "  \"# -, _, .\\nemail_address = 'supp-ort.india4@datacamp.com'\\n#re.search(r'\\\\S+@\\\\w+\\\\.\\\\w+', email_address).group() # Naga\\nre.search(r'[a-zA-Z0-9-_.]+@\\\\w+\\\\.\\\\w+', email_address).group() # Ramya\",\n",
       "  \"class Date(object):\\n    def __init__(self, Year, Month, Day):\\n        self.year  = Year\\n        self.month = Month\\n        self.day   = Day\\n\\n    def __str__(self):\\n        return 'Date({}, {}, {})'.format(self.year, self.month, self.day)\\n\\n    def set_date(self, y, m, d):\\n        self.year = y\\n        self.month = m\\n        self.day = d\\n\\n    @classmethod\\n    def from_str(cls, date_str):\\n        '''Call as\\n           d = Date.from_str('2013-12-30')\\n        '''\\n        print(cls)\\n        year, month, day = map(int, date_str.split('-'))\\n        return cls(year, month, day)\",\n",
       "  \"d = Date(2019, 1, 8)\\nprint(d.__str__())\\nd.set_date(2019, 1, 9)\\nprint(d.__str__())\\n\\nd_alt = Date.from_str('2019-1-10')\\nprint(d_alt.__str__())\\nd_alt.set_date(2019, 1, 11)\\nprint(d_alt.__str__())\",\n",
       "  'class C: \\n\\n    counter = 0\\n    \\n    def __init__(self): \\n        type(self).counter += 1\\n\\n    def __del__(self):\\n        type(self).counter -= 1\\n\\nif __name__ == \"__main__\":\\n    x = C()\\n    print(\"Number of instances: : \" + str(C.counter))\\n    y = C()\\n    print(\"Number of instances: : \" + str(C.counter))\\n    del x\\n    print(\"Number of instances: : \" + str(C.counter))\\n    del y\\n    print(\"Number of instances: : \" + str(C.counter))',\n",
       "  'class Robot:\\n    \"\"\"Represents a robot, with a name.\"\"\"\\n\\n    # A class variable, counting the number of robots\\n    population = 0 # class variable: whose value is shared among all instances of a this class\\n\\n    def __init__(self, name):\\n        \"\"\"Initializes the data.\"\"\"\\n        self.name = name # Object variable\\n        print(\"(Initializing {})\".format(self.name))\\n\\n        # When this person is created, the robot\\n        # adds to the population\\n        Robot.population += 1\\n\\n    def die(self):\\n        \"\"\"I am dying.\"\"\"\\n        print(\"{} is being destroyed!\".format(self.name))\\n\\n        Robot.population -= 1\\n\\n        if Robot.population == 0:\\n            print(\"{} was the last one.\".format(self.name))\\n        else:\\n            print(\"There are still {:d} robots working.\".format(\\n                Robot.population))\\n\\n    def say_hi(self):\\n        \"\"\"Greeting by the robot.\\n        Yeah, they can do that.\"\"\"\\n        print(\"Greetings, my masters call me {}.\".format(self.name))\\n\\n    @classmethod # class method\\n    def how_many(cls):\\n        \"\"\"Prints the current population.\"\"\"\\n        print(\"We have {:d} robots.\".format(cls.population))\\n\\n\\ndroid1 = Robot(\"R2-D2\")\\ndroid1.say_hi()\\nRobot.how_many()\\n\\ndroid2 = Robot(\"C-3PO\")\\ndroid2.say_hi()\\nRobot.how_many()\\n\\nprint(\"\\\\nRobots can do some work here.\\\\n\")\\n\\nprint(\"Robots have finished their work. So let\\'s destroy them.\")\\ndroid1.die()\\ndroid2.die()\\n\\nRobot.how_many()',\n",
       "  'class Robot:\\n \\n    def __init__(self, name=None):\\n        self.name = name   \\n        \\n    def say_hi(self):\\n        if self.name:\\n            print(\"Hi, I am \" + self.name)\\n        else:\\n            print(\"Hi, I am a robot without a name\")\\n            \\n    def set_name(self, name):\\n        self.name = name\\n        \\n    def get_name(self):\\n        return self.name\\n    \\n\\nx = Robot()\\nx.set_name(\"Henry\")\\nx.say_hi()\\ny = Robot()\\ny.set_name(x.get_name())\\nprint(y.get_name())\\nz = Robot(\"Pawan\")\\nz.say_hi()',\n",
       "  'class Robot:\\n \\n    def __init__(self, \\n                 name=None,\\n                 build_year=None):\\n        self.name = name   \\n        self.build_year = build_year\\n        \\n    def say_hi(self):\\n        if self.name:\\n            print(\"Hi, I am \" + self.name)\\n        else:\\n            print(\"Hi, I am a robot without a name\")\\n        if self.build_year:\\n            print(\"I was built in \" + str(self.build_year))\\n        else:\\n            print(\"It\\'s not known, when I was created!\")\\n            \\n    def set_name(self, name):\\n        self.name = name\\n        \\n    def get_name(self):\\n        return self.name    \\n\\n    def set_build_year(self, by):\\n        self.build_year = by\\n        \\n    def get_build_year(self):\\n        return self.build_year    \\n    \\n\\nx = Robot(\"Henry\", 2008)\\ny = Robot()\\ny.set_name(\"Marvin\")\\nx.say_hi()\\ny.say_hi()',\n",
       "  'class A():\\n    \\n    def __init__(self):\\n        self.__priv = \"I am private\"\\n        self._prot = \"I am protected\"\\n        self.pub = \"I am public\"\\n\\n        \\nx = A()\\nprint(x.pub)\\nx.pub = \"Public Changed\"\\nprint(x.pub)\\nprint(x._prot)\\nx._prot = \"Protected Changed\" # Not a good practice\\nprint(x._prot)\\nprint(x.__priv)\\n    ',\n",
       "  '# empty tuple\\n# Output: ()\\nmy_tuple = ()\\nprint(my_tuple)\\n\\n# tuple having integers\\n# Output: (1, 2, 3)\\nmy_tuple = (1, 2, 3)\\nprint(my_tuple)\\n\\n# tuple with mixed datatypes\\n# Output: (1, \"Hello\", 3.4)\\nmy_tuple = (1, \"Hello\", 3.4)\\nprint(my_tuple)\\n\\n# nested tuple\\n# Output: (\"mouse\", [8, 4, 6], (1, 2, 3))\\nmy_tuple = (\"mouse\", [8, 4, 6], (1, 2, 3))\\nprint(my_tuple)',\n",
       "  '# empty tuple\\n# Output: ()\\nmy_tuple = ()\\nprint(my_tuple)\\n\\n# tuple having integers\\n# Output: (1, 2, 3)\\nmy_tuple = (1, 2, 3)\\nprint(my_tuple)\\n\\n# tuple with mixed datatypes\\n# Output: (1, \"Hello\", 3.4)\\nmy_tuple = (1, \"Hello\", 3.4)\\nprint(my_tuple)\\n\\n# nested tuple\\n# Output: (\"mouse\", [8, 4, 6], (1, 2, 3))\\nmy_tuple = (\"mouse\", [8, 4, 6], (1, 2, 3))\\nprint(my_tuple)',\n",
       "  'tup = (11,22,22)\\nprint(tup)\\nprint(tup[0])\\nprint(tup.count(22))\\nprint(tup.index(22))\\ntup[1] = 44',\n",
       "  \"# -, _, .\\nemail_address = 'supp-ort.india4@datacamp.com'\\n#re.search(r'\\\\S+@\\\\w+\\\\.\\\\w+', email_address).group() # Naga\\nre.search(r'[a-zA-Z0-9-_.]+@\\\\w+\\\\.\\\\w+', email_address).group() # Ramya\",\n",
       "  \"class Date(object):\\n    def __init__(self, Year, Month, Day):\\n        self.year  = Year\\n        self.month = Month\\n        self.day   = Day\\n\\n    def __str__(self):\\n        return 'Date({}, {}, {})'.format(self.year, self.month, self.day)\\n\\n    def set_date(self, y, m, d):\\n        self.year = y\\n        self.month = m\\n        self.day = d\\n\\n    @classmethod\\n    def from_str(cls, date_str):\\n        '''Call as\\n           d = Date.from_str('2013-12-30')\\n        '''\\n        print(cls)\\n        year, month, day = map(int, date_str.split('-'))\\n        return cls(year, month, day)\",\n",
       "  \"d = Date(2019, 1, 8)\\nprint(d.__str__())\\nd.set_date(2019, 1, 9)\\nprint(d.__str__())\\n\\nd_alt = Date.from_str('2019-1-10')\\nprint(d_alt.__str__())\\nd_alt.set_date(2019, 1, 11)\\nprint(d_alt.__str__())\",\n",
       "  'class C: \\n\\n    counter = 0\\n    \\n    def __init__(self): \\n        type(self).counter += 1\\n\\n    def __del__(self):\\n        type(self).counter -= 1\\n\\nif __name__ == \"__main__\":\\n    x = C()\\n    print(\"Number of instances: : \" + str(C.counter))\\n    y = C()\\n    print(\"Number of instances: : \" + str(C.counter))\\n    del x\\n    print(\"Number of instances: : \" + str(C.counter))\\n    del y\\n    print(\"Number of instances: : \" + str(C.counter))',\n",
       "  'class Robot:\\n    \"\"\"Represents a robot, with a name.\"\"\"\\n\\n    # A class variable, counting the number of robots\\n    population = 0 # class variable: whose value is shared among all instances of a this class\\n\\n    def __init__(self, name):\\n        \"\"\"Initializes the data.\"\"\"\\n        self.name = name # Object variable\\n        print(\"(Initializing {})\".format(self.name))\\n\\n        # When this person is created, the robot\\n        # adds to the population\\n        Robot.population += 1\\n\\n    def die(self):\\n        \"\"\"I am dying.\"\"\"\\n        print(\"{} is being destroyed!\".format(self.name))\\n\\n        Robot.population -= 1\\n\\n        if Robot.population == 0:\\n            print(\"{} was the last one.\".format(self.name))\\n        else:\\n            print(\"There are still {:d} robots working.\".format(\\n                Robot.population))\\n\\n    def say_hi(self):\\n        \"\"\"Greeting by the robot.\\n        Yeah, they can do that.\"\"\"\\n        print(\"Greetings, my masters call me {}.\".format(self.name))\\n\\n    @classmethod # class method\\n    def how_many(cls):\\n        \"\"\"Prints the current population.\"\"\"\\n        print(\"We have {:d} robots.\".format(cls.population))\\n\\n\\ndroid1 = Robot(\"R2-D2\")\\ndroid1.say_hi()\\nRobot.how_many()\\n\\ndroid2 = Robot(\"C-3PO\")\\ndroid2.say_hi()\\nRobot.how_many()\\n\\nprint(\"\\\\nRobots can do some work here.\\\\n\")\\n\\nprint(\"Robots have finished their work. So let\\'s destroy them.\")\\ndroid1.die()\\ndroid2.die()\\n\\nRobot.how_many()',\n",
       "  'class Robot:\\n \\n    def __init__(self, name=None):\\n        self.name = name   \\n        \\n    def say_hi(self):\\n        if self.name:\\n            print(\"Hi, I am \" + self.name)\\n        else:\\n            print(\"Hi, I am a robot without a name\")\\n            \\n    def set_name(self, name):\\n        self.name = name\\n        \\n    def get_name(self):\\n        return self.name\\n    \\n\\nx = Robot()\\nx.set_name(\"Henry\")\\nx.say_hi()\\ny = Robot()\\ny.set_name(x.get_name())\\nprint(y.get_name())\\nz = Robot(\"Pawan\")\\nz.say_hi()',\n",
       "  'class Robot:\\n \\n    def __init__(self, \\n                 name=None,\\n                 build_year=None):\\n        self.name = name   \\n        self.build_year = build_year\\n        \\n    def say_hi(self):\\n        if self.name:\\n            print(\"Hi, I am \" + self.name)\\n        else:\\n            print(\"Hi, I am a robot without a name\")\\n        if self.build_year:\\n            print(\"I was built in \" + str(self.build_year))\\n        else:\\n            print(\"It\\'s not known, when I was created!\")\\n            \\n    def set_name(self, name):\\n        self.name = name\\n        \\n    def get_name(self):\\n        return self.name    \\n\\n    def set_build_year(self, by):\\n        self.build_year = by\\n        \\n    def get_build_year(self):\\n        return self.build_year    \\n    \\n\\nx = Robot(\"Henry\", 2008)\\ny = Robot()\\ny.set_name(\"Marvin\")\\nx.say_hi()\\ny.say_hi()',\n",
       "  'class A():\\n    \\n    def __init__(self):\\n        self.__priv = \"I am private\"\\n        self._prot = \"I am protected\"\\n        self.pub = \"I am public\"\\n\\n        \\nx = A()\\nprint(x.pub)\\nx.pub = \"Public Changed\"\\nprint(x.pub)\\nprint(x._prot)\\nx._prot = \"Protected Changed\" # Not a good practice\\nprint(x._prot)\\nprint(x.__priv)\\n    ',\n",
       "  'tup = (11,22,22)\\nprint(tup)\\nprint(tup[0])\\nprint(tup.count(22))\\nprint(tup.index(22))\\ntup[1] = 44',\n",
       "  \"# -, _, .\\nemail_address = 'supp-ort.india4@datacamp.com'\\n#re.search(r'\\\\S+@\\\\w+\\\\.\\\\w+', email_address).group() # Naga\\nre.search(r'[a-zA-Z0-9-_.]+@\\\\w+\\\\.\\\\w+', email_address).group() # Ramya\",\n",
       "  \"class Date(object):\\n    def __init__(self, Year, Month, Day):\\n        self.year  = Year\\n        self.month = Month\\n        self.day   = Day\\n\\n    def __str__(self):\\n        return 'Date({}, {}, {})'.format(self.year, self.month, self.day)\\n\\n    def set_date(self, y, m, d):\\n        self.year = y\\n        self.month = m\\n        self.day = d\\n\\n    @classmethod\\n    def from_str(cls, date_str):\\n        '''Call as\\n           d = Date.from_str('2013-12-30')\\n        '''\\n        print(cls)\\n        year, month, day = map(int, date_str.split('-'))\\n        return cls(year, month, day)\",\n",
       "  \"d = Date(2019, 1, 8)\\nprint(d.__str__())\\nd.set_date(2019, 1, 9)\\nprint(d.__str__())\\n\\nd_alt = Date.from_str('2019-1-10')\\nprint(d_alt.__str__())\\nd_alt.set_date(2019, 1, 11)\\nprint(d_alt.__str__())\",\n",
       "  'class C: \\n\\n    counter = 0\\n    \\n    def __init__(self): \\n        type(self).counter += 1\\n\\n    def __del__(self):\\n        type(self).counter -= 1\\n\\nif __name__ == \"__main__\":\\n    x = C()\\n    print(\"Number of instances: : \" + str(C.counter))\\n    y = C()\\n    print(\"Number of instances: : \" + str(C.counter))\\n    del x\\n    print(\"Number of instances: : \" + str(C.counter))\\n    del y\\n    print(\"Number of instances: : \" + str(C.counter))',\n",
       "  'class Robot:\\n    \"\"\"Represents a robot, with a name.\"\"\"\\n\\n    # A class variable, counting the number of robots\\n    population = 0 # class variable: whose value is shared among all instances of a this class\\n\\n    def __init__(self, name):\\n        \"\"\"Initializes the data.\"\"\"\\n        self.name = name # Object variable\\n        print(\"(Initializing {})\".format(self.name))\\n\\n        # When this person is created, the robot\\n        # adds to the population\\n        Robot.population += 1\\n\\n    def die(self):\\n        \"\"\"I am dying.\"\"\"\\n        print(\"{} is being destroyed!\".format(self.name))\\n\\n        Robot.population -= 1\\n\\n        if Robot.population == 0:\\n            print(\"{} was the last one.\".format(self.name))\\n        else:\\n            print(\"There are still {:d} robots working.\".format(\\n                Robot.population))\\n\\n    def say_hi(self):\\n        \"\"\"Greeting by the robot.\\n        Yeah, they can do that.\"\"\"\\n        print(\"Greetings, my masters call me {}.\".format(self.name))\\n\\n    @classmethod # class method\\n    def how_many(cls):\\n        \"\"\"Prints the current population.\"\"\"\\n        print(\"We have {:d} robots.\".format(cls.population))\\n\\n\\ndroid1 = Robot(\"R2-D2\")\\ndroid1.say_hi()\\nRobot.how_many()\\n\\ndroid2 = Robot(\"C-3PO\")\\ndroid2.say_hi()\\nRobot.how_many()\\n\\nprint(\"\\\\nRobots can do some work here.\\\\n\")\\n\\nprint(\"Robots have finished their work. So let\\'s destroy them.\")\\ndroid1.die()\\ndroid2.die()\\n\\nRobot.how_many()',\n",
       "  'class Robot:\\n \\n    def __init__(self, name=None):\\n        self.name = name   \\n        \\n    def say_hi(self):\\n        if self.name:\\n            print(\"Hi, I am \" + self.name)\\n        else:\\n            print(\"Hi, I am a robot without a name\")\\n            \\n    def set_name(self, name):\\n        self.name = name\\n        \\n    def get_name(self):\\n        return self.name\\n    \\n\\nx = Robot()\\nx.set_name(\"Henry\")\\nx.say_hi()\\ny = Robot()\\ny.set_name(x.get_name())\\nprint(y.get_name())\\nz = Robot(\"Pawan\")\\nz.say_hi()',\n",
       "  'class Robot:\\n \\n    def __init__(self, \\n                 name=None,\\n                 build_year=None):\\n        self.name = name   \\n        self.build_year = build_year\\n        \\n    def say_hi(self):\\n        if self.name:\\n            print(\"Hi, I am \" + self.name)\\n        else:\\n            print(\"Hi, I am a robot without a name\")\\n        if self.build_year:\\n            print(\"I was built in \" + str(self.build_year))\\n        else:\\n            print(\"It\\'s not known, when I was created!\")\\n            \\n    def set_name(self, name):\\n        self.name = name\\n        \\n    def get_name(self):\\n        return self.name    \\n\\n    def set_build_year(self, by):\\n        self.build_year = by\\n        \\n    def get_build_year(self):\\n        return self.build_year    \\n    \\n\\nx = Robot(\"Henry\", 2008)\\ny = Robot()\\ny.set_name(\"Marvin\")\\nx.say_hi()\\ny.say_hi()',\n",
       "  'class A():\\n    \\n    def __init__(self):\\n        self.__priv = \"I am private\"\\n        self._prot = \"I am protected\"\\n        self.pub = \"I am public\"\\n\\n        \\nx = A()\\nprint(x.pub)\\nx.pub = \"Public Changed\"\\nprint(x.pub)\\nprint(x._prot)\\nx._prot = \"Protected Changed\" # Not a good practice\\nprint(x._prot)\\nprint(x.__priv)\\n    ',\n",
       "  'new_tup = (100,)\\nprint(new_tup)\\nnew_tup[1] = 55',\n",
       "  \"# I would recommend always using parentheses\\n# to indicate start and end of tuple\\n# even though parentheses are optional.\\n# Explicit is better than implicit.\\nzoo = ('python', 'elephant', 'penguin')\\nprint('Number of animals in the zoo is', len(zoo))\\nnew_zoo = 'monkey', 'camel', zoo # parentheses not required but are a good idea\\nprint('Number of cages in the new zoo is', len(new_zoo))\\nprint('All animals in new zoo are', new_zoo)\\nprint('Animals brought from old zoo are', new_zoo[2])\\nprint('Last animal brought from old zoo is', new_zoo[2][2])\\nprint('Number of animals in the new zoo is',\\nlen(new_zoo)-1+len(new_zoo[2]))\",\n",
       "  \"import timeit\\nprint(timeit.timeit('x=(1,2,3,4,5,6,7,8,9)', number=100000))\\n\\nprint(timeit.timeit('x=[1,2,3,4,5,6,7,8,9]', number=100000))\",\n",
       "  \"# Tuple 'n_tuple' with a list as one of its item.\\nn_tuple = (1, 1, [3,4])\\nprint(n_tuple)\\n#Items with same value have the same id.\\nid(n_tuple[0]) == id(n_tuple[1])\",\n",
       "  \"# List 'n_list' with a list as one of its item.\\nn_list = [1, 1, [3,4]]\\nprint(n_list)\\n#Items with same value have the same id.\\nid(n_list[0]) == id(n_list[1])\",\n",
       "  '(aa, bb, cc, dd) = (111, 222, 333, 444, 555)\\nprint(aa, bb, cc)',\n",
       "  \"class Date(object):\\n    def __init__(self, Year, Month, Day):\\n        self.year  = Year\\n        self.month = Month\\n        self.day   = Day\\n\\n    def __str__(self):\\n        return 'Date({}, {}, {})'.format(self.year, self.month, self.day)\\n\\n    def set_date(self, y, m, d):\\n        self.year = y\\n        self.month = m\\n        self.day = d\\n\\n    @classmethod\\n    def from_str(cls, date_str):\\n        '''Call as\\n           d = Date.from_str('2013-12-30')\\n        '''\\n        print(cls)\\n        year, month, day = map(int, date_str.split('-'))\\n        return cls(year, month, day)\",\n",
       "  \"d = Date(2019, 1, 8)\\nprint(d.__str__())\\nd.set_date(2019, 1, 9)\\nprint(d.__str__())\\n\\nd_alt = Date.from_str('2019-1-10')\\nprint(d_alt.__str__())\\nd_alt.set_date(2019, 1, 11)\\nprint(d_alt.__str__())\",\n",
       "  'class C: \\n\\n    counter = 0\\n    \\n    def __init__(self): \\n        type(self).counter += 1\\n\\n    def __del__(self):\\n        type(self).counter -= 1\\n\\nif __name__ == \"__main__\":\\n    x = C()\\n    print(\"Number of instances: : \" + str(C.counter))\\n    y = C()\\n    print(\"Number of instances: : \" + str(C.counter))\\n    del x\\n    print(\"Number of instances: : \" + str(C.counter))\\n    del y\\n    print(\"Number of instances: : \" + str(C.counter))',\n",
       "  'class Robot:\\n    \"\"\"Represents a robot, with a name.\"\"\"\\n\\n    # A class variable, counting the number of robots\\n    population = 0 # class variable: whose value is shared among all instances of a this class\\n\\n    def __init__(self, name):\\n        \"\"\"Initializes the data.\"\"\"\\n        self.name = name # Object variable\\n        print(\"(Initializing {})\".format(self.name))\\n\\n        # When this person is created, the robot\\n        # adds to the population\\n        Robot.population += 1\\n\\n    def die(self):\\n        \"\"\"I am dying.\"\"\"\\n        print(\"{} is being destroyed!\".format(self.name))\\n\\n        Robot.population -= 1\\n\\n        if Robot.population == 0:\\n            print(\"{} was the last one.\".format(self.name))\\n        else:\\n            print(\"There are still {:d} robots working.\".format(\\n                Robot.population))\\n\\n    def say_hi(self):\\n        \"\"\"Greeting by the robot.\\n        Yeah, they can do that.\"\"\"\\n        print(\"Greetings, my masters call me {}.\".format(self.name))\\n\\n    @classmethod # class method\\n    def how_many(cls):\\n        \"\"\"Prints the current population.\"\"\"\\n        print(\"We have {:d} robots.\".format(cls.population))\\n\\n\\ndroid1 = Robot(\"R2-D2\")\\ndroid1.say_hi()\\nRobot.how_many()\\n\\ndroid2 = Robot(\"C-3PO\")\\ndroid2.say_hi()\\nRobot.how_many()\\n\\nprint(\"\\\\nRobots can do some work here.\\\\n\")\\n\\nprint(\"Robots have finished their work. So let\\'s destroy them.\")\\ndroid1.die()\\ndroid2.die()\\n\\nRobot.how_many()',\n",
       "  'class Robot:\\n \\n    def __init__(self, name=None):\\n        self.name = name   \\n        \\n    def say_hi(self):\\n        if self.name:\\n            print(\"Hi, I am \" + self.name)\\n        else:\\n            print(\"Hi, I am a robot without a name\")\\n            \\n    def set_name(self, name):\\n        self.name = name\\n        \\n    def get_name(self):\\n        return self.name\\n    \\n\\nx = Robot()\\nx.set_name(\"Henry\")\\nx.say_hi()\\ny = Robot()\\ny.set_name(x.get_name())\\nprint(y.get_name())\\nz = Robot(\"Pawan\")\\nz.say_hi()',\n",
       "  'class Robot:\\n \\n    def __init__(self, \\n                 name=None,\\n                 build_year=None):\\n        self.name = name   \\n        self.build_year = build_year\\n        \\n    def say_hi(self):\\n        if self.name:\\n            print(\"Hi, I am \" + self.name)\\n        else:\\n            print(\"Hi, I am a robot without a name\")\\n        if self.build_year:\\n            print(\"I was built in \" + str(self.build_year))\\n        else:\\n            print(\"It\\'s not known, when I was created!\")\\n            \\n    def set_name(self, name):\\n        self.name = name\\n        \\n    def get_name(self):\\n        return self.name    \\n\\n    def set_build_year(self, by):\\n        self.build_year = by\\n        \\n    def get_build_year(self):\\n        return self.build_year    \\n    \\n\\nx = Robot(\"Henry\", 2008)\\ny = Robot()\\ny.set_name(\"Marvin\")\\nx.say_hi()\\ny.say_hi()',\n",
       "  'class A():\\n    \\n    def __init__(self):\\n        self.__priv = \"I am private\"\\n        self._prot = \"I am protected\"\\n        self.pub = \"I am public\"\\n\\n        \\nx = A()\\nprint(x.pub)\\nx.pub = \"Public Changed\"\\nprint(x.pub)\\nprint(x._prot)\\nx._prot = \"Protected Changed\" # Not a good practice\\nprint(x._prot)\\nprint(x.__priv)\\n    ',\n",
       "  '(aa, bb, cc, dd) = (111, 222, 333)\\n#print(aa, bb, cc)',\n",
       "  '[aa, bb, cc, dd] = [111, 222, 333]\\nprint(aa, bb, cc)',\n",
       "  \"basket = {'apple', 'orange', 'apple', 'pear', 'orange', 'banana'}\\nprint (basket)\\nprint(dir(basket))\",\n",
       "  \"basket = {'apple', 'orange', 'apple', 'pear', 'orange', 'banana'}\\nprint (basket)\\nprint(dir(basket))\",\n",
       "  \"basket = {'apple', 'orange', 'apple', 'pear', 'orange', 'banana'}\\nprint('orange' in basket)\\nprint('crabgrass' in basket)\",\n",
       "  'my_list = [1, 2, 3, 5, 5, 6, 7, 8, 8]\\nprint(my_list)\\nmy_set = set(my_list)\\nprint(my_set)',\n",
       "  \"# Demonstrate set operations on unique letters from two words\\na = set('abracadabra')\\nprint (a)\\nb = set('alacazam')\\nprint(a.union(b))\\nprint(a|b)\\nprint(a.intersection(b))\\nprint(a&b)\",\n",
       "  'aa = {11, 22, 33, 44, 44}\\nprint(aa)\\naa.',\n",
       "  \"def logger(msg):\\n    def log_message():\\n        print('Log:', msg)\\n    \\n    return log_message\\n\\nlog_hi = logger('Hi')\\nprint(log_hi)\\nlog_hi()\",\n",
       "  \"def outer_func():\\n    message = 'Hi'\\n    \\n    def inner_func():\\n        print(message)\\n        \\n    return inner_func\\n\\nmy_func = outer_func()\\n\\nmy_func()\",\n",
       "  \"def outer_func(msg):\\n    message = msg\\n    \\n    def inner_func():\\n        print(message)\\n        \\n    return inner_func\\n\\nhi_func = outer_func('Hi')\\nhello_func = outer_func('Hello')\\n\\nhi_func()\\nhello_func()\",\n",
       "  \"class Sentence(object):\\n    def __init__(self, msg):\\n        self.msg = msg\\n        self.words = self.msg.split()\\n        self.index = 0\\n\\n    def __iter__(self):\\n        return self\\n    \\n    def __next__(self):\\n        if (self.index >= len(self.words)):\\n            raise StopIteration\\n        idx = self.index\\n        self.index += 1\\n        return self.words[idx]\\n        \\nmy_sentence = Sentence('This is a test')\\n\\n#for word in my_sentence:\\n#    print(word)\\n\\nprint(my_sentence.__next__())\\nprint(next(my_sentence))\\nprint(next(my_sentence))\\nprint(next(my_sentence))\\nprint(next(my_sentence))\",\n",
       "  \"#bb = ('aa': 50, 'bb': 60)\",\n",
       "  'aa = {11, 22, 33, 44, 44}\\nprint(aa)',\n",
       "  \"tel = {'jack': 4098, 'sape': 4139}\\ntel['guido'] = 4127\\nprint(tel)\\nprint(tel['jack'])\\ndel tel['sape']\\ntel['irv'] = 4127\\nprint(tel)\",\n",
       "  \"tel = {'jack': 4098, 'sape': 4139}\\ntel['guido'] = 4127\\nprint(tel)\\nprint(tel['jack'])\\ndel tel['sape']\\ntel['irv'] = 4127\\nprint(tel)\",\n",
       "  'print((tel.keys()))',\n",
       "  'print(list(tel.keys()))\\nprint(tel.keys())\\nprint(sorted(tel.keys()))',\n",
       "  \"print('guido' in tel)\\nprint('jack' not in tel)\",\n",
       "  'print(sorted(tel.values()))',\n",
       "  'print(41299 in tel.values())',\n",
       "  \"print('guidox' in tel.keys())\",\n",
       "  'print(sorted(tel.items()))',\n",
       "  \"print(tel.get('guido'))\",\n",
       "  \"print(tel['guidox'])\",\n",
       "  \"print(tel.get('NA', 'NotPresent'))\",\n",
       "  \"tel.setdefault('New', 1234)\\nprint(tel)\",\n",
       "  \"tel['Newer'] = 3456\\nprint(tel)\",\n",
       "  \"tel['Newer'] = 3456\\nprint(tel)\",\n",
       "  'print(dir(tel))',\n",
       "  'print(help(tel.get))',\n",
       "  'print({str(x): x**2 for x in (2, 4, 6)})',\n",
       "  \"# Looping through dictionary\\nknights = {'gallahad': 'the pure', 'robin': 'the brave'}\\nfor k, v in knights.items():\\n    print(k,v)\",\n",
       "  '10/0',\n",
       "  \"# Looping through more than one sequence\\nquestions = ['name', 'quest', 'favorite color', 'xyx']\\nanswers = ['lancelot', 'the holy grail', 'blue']\\nfor q, a in zip(questions, answers):\\n    print('What is your {0}?  It is {1}.'.format(q, a))\",\n",
       "  \"# Looping through more than one sequence\\nquestions = ['name', 'quest', 'favorite color', 'xyx']\\nanswers = ['lancelot', 'the holy grail', 'blue']\\nfor q, a in zip(questions, answers):\\n    print('What is your {0}?  It is {1}.'.format(q, a))\",\n",
       "  \"# Obtaining the position index\\nquestions = ['name', 'quest', 'favorite color']\\nfor i, v in enumerate(questions):\\n    print(i, v)\",\n",
       "  \"# Obtaining the position index\\nquestions = ['name', 'quest', 'favorite color']\\nfor i, v in enumerate(sorted(questions)):\\n    print(i, v)\",\n",
       "  '# To loop over a sequence in reverse\\nfor i in reversed(range(1, 10, 2)):\\n    print(i)',\n",
       "  'print(list(range(1, 10, 2)))',\n",
       "  \"# To loop over a sequence in sorted order\\nbasket = ['apple', 'orange', 'apple', 'pear', 'orange', 'banana']\\nfor f in sorted(set(basket)):\\n    print(f)\",\n",
       "  \"while True print('Hello world')\",\n",
       "  \"num_list = [500, 600, 700]\\nalpha_list = ['x', 'y', 'z']\\n\\n\\ndef nested_loop():\\n    for number in num_list:\\n        print(number)\\n        for letter in alpha_list:\\n            print(letter)\\n\\nif __name__ == '__main__':\\n    nested_loop()\",\n",
       "  'aa = [1,2,3,4]\\nbb = [11,2,13,4]\\ncc = [1,12,3,4]\\n\\nif len(aa)== len(bb) == len(cc):\\n    print(True)\\nelse:\\n    print(False)',\n",
       "  'default ',\n",
       "  '10 * (1/0)',\n",
       "  '4 + spam*3',\n",
       "  \"'2' + 2\",\n",
       "  \"def this_fails():\\n    x = 1/0\\n\\ntry:\\n    this_fails()\\nexcept ZeroDivisionError as err:\\n    print('Handling run-time error:', err)\",\n",
       "  'def divide(x, y):\\n    try:\\n        result = x / y\\n        print(\"In Try\")\\n    except ZeroDivisionError:\\n        print(\"division by zero!\")\\n    else:\\n        print(\"result is\", result)\\n    finally:\\n        print(\"executing finally clause\")\\n        print(\"executing finally clause\")\\n        \\n#divide(2,3)\\nprint(\"=\"*40)\\ndivide(1,0)',\n",
       "  '1/0\\nprint(\"something\")',\n",
       "  's = \"Regular expressions easily explained!\"\\n\"easily\" in s',\n",
       "  'import re',\n",
       "  'pattern = r\"ie\"\\nstr1 = \"Cookie\"\\n# if ($str =~ m/^H.+d$/)\\nif re.search(pattern, str1):\\n#if re.match(pattern, str1):\\n    print(\"Match!\")\\nelse: \\n    print(\"Not a match!\")',\n",
       "  \"# . - A period. Matches any single character except newline character.\\nre.search(r'Co.k.e', 'Cookie').group()\",\n",
       "  \"x = re.search(r'Co.k.e', 'Cookie')\\nx.group()\",\n",
       "  \"x = re.search(r'(Co.)(k.e)', 'Cookie')\\nprint(x.group())\\nprint(x.group(1))\\nprint(x.group(2))\\nprint(x.groups())\",\n",
       "  'print(dir(x))',\n",
       "  'print(x.end())',\n",
       "  'print(x.endpos)',\n",
       "  \"m = re.match(r'(?P<user>\\\\w+)@(?P<website>\\\\w+)\\\\.(?P<extension>\\\\w+)','myname@hackerrank.com')\\nm.groupdict()\",\n",
       "  \"# \\\\w - Lowercase w. Matches any single letter, digit or underscore.\\nre.search(r'Co\\\\wk\\\\we', 'Co0kie').group()\",\n",
       "  \"# \\\\W - Uppercase w. Matches any character not part of \\\\w (lowercase w).\\nre.search(r'C\\\\Wke', 'C@ke').group()\",\n",
       "  \"# \\\\s - Lowercase s. Matches a single whitespace character like: space, newline, tab, return.\\nre.search(r'Eat\\\\scake', 'Eat cake').group()\",\n",
       "  \"# \\\\S - Uppercase s. Matches any character not part of \\\\s (lowercase s).\\nre.search(r'Cook\\\\Se', 'Cook!e').group()\",\n",
       "  \"# \\\\t - Lowercase t. Matches tab.\\nre.search(r'Eat\\\\tcake', 'Eat Cake').group()\\n\\n# \\\\n - Lowercase n. Matches newline.\\n\\n# \\\\r - Lowercase r. Matches return.\",\n",
       "  \"# \\\\d - Lowercase d. Matches decimal digit 0-9.\\nre.search(r'c\\\\d\\\\dkie', 'c00kie').group()\",\n",
       "  \"# ^ - Caret. Matches a pattern at the start of the string.\\nre.search(r'^Eat', 'Eat cake').group()\",\n",
       "  \"# $ - Matches a pattern at the end of string.\\nre.search(r'cake$', 'Eat cake').group()\",\n",
       "  \"# [abc] - Matches a or b or c.\\nre.search('[aaz]', 'Eat cake').group()\",\n",
       "  \"# [abc] - Matches a or b or c.\\nre.search('[aaz]', 'Eat cake').group()\",\n",
       "  \"# [a-zA-Z0-9] - Matches any letter from (a to z) or (A to Z) or (0 to 9). \\nre.search(r'Number: [0-9]', 'Number: 1').group()\",\n",
       "  \"# Matches any character except 5\\nre.search(r'Number: [^0-6]', 'Number: 7').group()\",\n",
       "  \"# \\\\A - Uppercase a. Matches only at the start of the string. Works across multiple lines as well.\\nre.search(r'\\\\A[A-E]ookie', 'Cookie').group()\",\n",
       "  \"# \\\\b - Lowercase b. Matches only the beginning or end of the word.\\nre.search(r'\\\\b[A-E]ookie', 'Cookie').group()\",\n",
       "  \"# \\\\ - Backslash.\\nre.search(r'Back\\\\\\\\stail', 'Back\\\\stail').group()\",\n",
       "  \"# + - Checks for one or more characters to its left.\\nre.search(r'Co+kie', 'Cooookie').group()\",\n",
       "  \"# + - Checks for one or more characters to its left.\\nre.search(r'C0?kie', 'Ckie').group()\",\n",
       "  \"# + - Checks for one or more characters to its left.\\nre.search(r'C*kie', 'Ckie').group()\",\n",
       "  \"# * - Checks for zero or more characters to its left.\\n# Checks for any occurrence of a or o or both in the given sequence\\nre.search(r'Ca*o*kie', 'Ckie').group()\",\n",
       "  \"# ? - Checks for exactly zero or one character to its left.\\n# Checks for exactly zero or one occurrence of a or o or both in the given sequence\\nre.search(r'Colou?r', 'Color').group()\",\n",
       "  \"# {x} - Repeat exactly x number of times.\\n# {x,} - Repeat at least x times or more.\\n# {x, y} - Repeat at least x times but no more than y times.\\nval = '987654321'\\n#re.search(r'\\\\d{5,8}', '0987654321').group()\\nre.search(r'\\\\d{5,8}', val).group()\",\n",
       "  \"# {x} - Repeat exactly x number of times.\\n# {x,} - Repeat at least x times or more.\\n# {x, y} - Repeat at least x times but no more than y times.\\nval = '987654321'\\nre.search(r'\\\\d+', val).group()\",\n",
       "  \"# {x} - Repeat exactly x number of times.\\n# {x,} - Repeat at least x times or more.\\n# {x, y} - Repeat at least x times but no more than y times.\\nre.search(r'\\\\w{5,12}', '0980a0007').group()\",\n",
       "  \"email_address = 'Please contact us at: support@datacamp.com'\\n#email_address = 'support@datacamp.com'\\nmatch = re.search(r'(\\\\S+)@(\\\\S+\\\\.(\\\\w+))', email_address)\\n\\nif match:\\n\\n    print(match.group()) # The whole matched text\\n    print(match.group(1)) # The username (group 1)\\n    print(match.group(2)) # The host (group 2)\\n    print(match.group(3)) # The host (group 2)\",\n",
       "  \"email_address = 'Please contact us at: support@datacamp.com'\\n#email_address = 'support@datacamp.com'\\nmatch = re.search(r'(?P<name>\\\\S+)@(?P<company>\\\\S+)\\\\.(?P<domain>\\\\w+)', email_address)\\n\\nif match:\\n\\n    print(match.group()) # The whole matched text\\n    print(match.group(1)) # The username (group 1)\\n    print(match.group(2)) # The host (group 2)\\n    print(match.group(3)) # The host (group 2)\\nprint(match.groupdict())\",\n",
       "  \"email_address = 'Please contact us at: supp@ort@da-ta-camp.com'\\n#email_address = 'support@datacamp.com'\\nre.search(r'\\\\S+@\\\\S+\\\\.\\\\w+', email_address).group()\",\n",
       "  \"# -, _, .\\nemail_address = 'supp-ort.india4@datacamp.com'\\n#re.search(r'\\\\S+@\\\\w+\\\\.\\\\w+', email_address).group() # Naga\\nre.search(r'[a-zA-Z0-9-_.]+@\\\\w+\\\\.\\\\w+', email_address).group() # Ramya\",\n",
       "  \"\\nemail_address = 'support@datacamp.com'\\nre.search(r'\\\\w+@\\\\w+\\\\.\\\\w+', email_address).group()\",\n",
       "  \"heading  = r'<h1>TITLE</h1>'\\nre.match(r'<.*>', heading).group()\",\n",
       "  \"heading  = r'<h1>TITLE</h1>'\\nre.match(r'<.*?>', heading).group()\",\n",
       "  \"heading  = r'<h1>TITLE</h1>'\\nre.search(r'<.*?>', heading).group()\",\n",
       "  'pattern = \"C\"\\nsequence1 = \"IceCream\"\\n\\n# No match since \"C\" is not at the start of \"IceCream\"\\nre.match(pattern, sequence1).group()',\n",
       "  'pattern = \"cookie\"\\nsequence = \"Cake and cookie\"\\n\\nre.search(pattern, sequence).group()',\n",
       "  'pattern = \"cookie\"\\nsequence = \"Cake and cookie\"\\n\\nre.search(pattern, sequence).group()',\n",
       "  'import re\\n\\npattern = \\'this\\'\\ntext = \\'Does this text match the pattern?\\'\\n\\nmatch = re.search(pattern, text)\\n\\ns = match.start()\\ne = match.end()\\n\\nprint (f\\'Found \"{match.re.pattern}\" in \"{match.string}\" from {s} to {e} (\"{text[s:e]}\")\\')',\n",
       "  '# findall\\nemail_address = \"Please contact us at: support@datacamp.com, xyz@datacamp.com\"\\n\\n#\\'addresses\\' is a list that stores all the possible match\\naddresses = re.findall(r\\'[\\\\w\\\\.-]+@[\\\\w\\\\.-]+\\', email_address)\\nfor address in addresses: \\n    print(address)',\n",
       "  '# Substitution\\nemail_address = \"Please contact us at: xyz@datacamp.com\"\\nnew_email_address = re.sub(r\\'([\\\\w\\\\.-]+)@([\\\\w\\\\.-]+)\\', r\\'support@datacamp.com\\', email_address)\\nprint(new_email_address)',\n",
       "  \"import re\\npattern = 'x'\\nrepl = 'y'\\nstring = 'replace x with y'\\nprint(re.subn(pattern, repl, string))\",\n",
       "  'import time\\na = [1, 2, 3, 4, 5]\\n\\n# Start the timer\\nstart = time.time()\\n\\nfor i in range(0, 5000000):\\n    a = [value if value % 2 == 1 else value * 1 for value in a]\\n# Stop the timer\\nend = time.time()\\n#print(\"Input value is of type: {0} and {1}\".format(type(user_input), \\'something else\\'))\\nprint(\"Time consumed with comprehension: \" + str(end - start))\\n\\n# Restart the timer\\nstart = time.time()\\nfor i in range(0, 5000000):\\n    for j in range(len(a)):\\n        if a[j] % 2 == 1:\\n            a[j] = a[j]\\n        else:\\n            a[j] = a[j] * 1\\n# Stop the timer \\nend = time.time()\\nprint(\"Time consumed with loops: \" + str(end - start))',\n",
       "  'my_str = \"Hello World\"\\nword_count = {}\\nfor ii in my_str:\\n    if ii not in word_count.keys():\\n        word_count[ii] = 1\\n    else:\\n        word_count[ii] += 1\\nprint(word_count)',\n",
       "  \"get_ipython().magic('pip install pep8')\",\n",
       "  'movies = [\"The Holy Grail\", 1975, \"Terry Jones & Terry Gilliam\", 91,\\n[\"Graham Chapman\", [\"Michael Palin\", \"John Cleese\",\\n\"Terry Gilliam\", \"Eric Idle\", \"Terry Jones\"]]]\\n\\nfor ii in movies:\\n    if isinstance(ii, int):\\n        print(\"Found data type: {0}, of value {1}\".format(type(ii), ii))\\n    elif isinstance(ii, str):\\n        print(\"Found data type: {0}, of value {1}\".format(type(ii), ii))\\n    elif isinstance(ii, list):\\n        print(\"Found data type: {0}, of value {1}\".format(type(ii), ii))\\n        for jj in ii:\\n            if isinstance(jj, int):\\n                print(\"Found data type: {0}, of value {1}\".format(type(jj), jj))\\n            elif isinstance(jj, str):\\n                print(\"Found data type: {0}, of value {1}\".format(type(jj), jj))\\n            elif isinstance(jj, list):\\n                print(\"Found data type: {0}, of value {1}\".format(type(jj), jj)) \\n                for kk in jj:\\n                    if isinstance(kk, int):\\n                        print(\"Found data type: {0}, of value {1}\".format(type(kk), kk))\\n                    elif isinstance(kk, str):\\n                        print(\"Found data type: {0}, of value {1}\".format(type(kk), kk))\\n                    elif isinstance(kk, list):\\n                        print(\"Found data type: {0}, of value {1}\".format(type(kk), kk))',\n",
       "  'movies = [\"The Holy Grail\", 1975, \"Terry Jones & Terry Gilliam\", 91,\\n[\"Graham Chapman\", [\"Michael Palin\", \"John Cleese\",\\n\"Terry Gilliam\", \"Eric Idle\", \"Terry Jones\"]]]\\n\\n\\ndef recurse_fn(big_data_struture):\\n    for ii in big_data_struture:\\n        if isinstance(ii, int):\\n            print(\"Found data type: {0}, of value {1}\".format(type(ii), ii))\\n        elif isinstance(ii, str):\\n            print(\"Found data type: {0}, of value {1}\".format(type(ii), ii))\\n        elif isinstance(ii, list):\\n            print(\"Found data type: {0}, of value {1}\".format(type(ii), ii))\\n            recurse_fn(ii)\\n        \\n\\nrecurse_fn(movies)',\n",
       "  'def scope_test():\\n    def do_local():\\n        #print(f\\'do_local: ID of spam before assignment: {id(spam)}\\')\\n        spam = \"spam local\"\\n        print(f\\'do_local: ID of spam after assignment: {id(spam)}\\')\\n        print(f\\'do_local: Value of spam after assignment: {spam}\\')\\n\\n    def do_nonlocal():\\n        nonlocal spam\\n        print(f\\'do_nonlocal: ID of spam before assignment: {id(spam)}\\')\\n        spam = \"spam nonlocal\"\\n        print(f\\'do_nonlocal: ID of spam after assignment: {id(spam)}\\')\\n        print(f\\'do_nonlocal: Value of spam after assignment: {spam}\\')\\n\\n    def do_global():\\n        global spam\\n        print(f\\'do_global: ID of spam before assignment: {id(spam)}\\')\\n        spam = \"spam global\"\\n        print(f\\'do_global: ID of spam after assignment: {id(spam)}\\')\\n\\n    spam = \"spam\"\\n    do_local()\\n    print(\"After local assignment:\", spam)\\n    do_nonlocal()\\n    print(\"After nonlocal assignment:\", spam)\\n    do_global()\\n    print(\"After global assignment:\", spam)\\n\\nspam = \"spam\"\\nscope_test()\\nprint(\"In global scope:\", spam)',\n",
       "  'x = \"global\"\\n\\ndef foo():\\n    print(\"x inside :\", x)\\n\\nfoo()\\nprint(\"x outside:\", x)',\n",
       "  'x = \"global\"\\n\\ndef foo():\\n    x = x * 2\\n    print(x)\\nfoo()',\n",
       "  'x = \"global\"\\n\\ndef foo():\\n    global x\\n    y = \"local\"\\n    x = x * 2\\n    print(x)\\n    print(y)\\n    \\nfoo()',\n",
       "  'def outer():\\n    x = \"local\"\\n    \\n    def inner():\\n        nonlocal x\\n        x = \"nonlocal\"\\n        print(\"inner:\", x)\\n    \\n    inner()\\n    print(\"outer:\", x)\\n\\nouter()',\n",
       "  'def scope_test():\\n    def do_local():\\n        spam = \"local spam\"\\n\\n    def do_nonlocal():\\n        #nonlocal spam\\n        spam = \"nonlocal spam\"\\n\\n    def do_global():\\n        #global spam\\n        spam = \"global spam\"\\n\\n    #spam = \"test spam\"\\n    do_local()\\n    print(\"After local assignment:\", spam)\\n    do_nonlocal()\\n    print(\"After nonlocal assignment:\", spam)\\n    do_global()\\n    print(\"After global assignment:\", spam)\\n\\nspam = \"main spam\"\\nscope_test()\\nprint(\"In global scope:\", spam)',\n",
       "  'def outside():\\n    msg = \"Outside!\"\\n    def inside():\\n        msg = \"Inside!\"\\n        print(msg)\\n    inside()\\n    print(msg)\\n\\noutside()',\n",
       "  'def outside():\\n    msg = \"Outside!\"\\n    def inside():\\n        msg = \"Inside!\"\\n        print(msg)\\n    inside()\\n    print(msg)\\n\\noutside()',\n",
       "  'def outside():\\n    msg = \"Outside!\"\\n    def inside():\\n        nonlocal msg\\n        msg = \"Inside!\"\\n        print(msg)\\n    inside()\\n    print(msg)\\n\\noutside()',\n",
       "  'x = 5\\ndef foo():\\n    #global x\\n    nonlocal x\\n    x = 6\\n    print(x)\\nfoo()\\nprint(x)',\n",
       "  \"def outer_func():\\n    message = 'Hi'\\n    \\n    def inner_func():\\n        print(message)\\n        \\n    return inner_func\\n\\nmy_func = outer_func()\\n\\nmy_func()\",\n",
       "  \"def outer_func(msg):\\n    message = msg\\n    \\n    def inner_func():\\n        print(message)\\n        \\n    return inner_func\\n\\nhi_func = outer_func('Hi')\\nhello_func = outer_func('Hello')\\n\\nhi_func()\\nhello_func()\",\n",
       "  \"class Sentence(object):\\n    def __init__(self, msg):\\n        self.msg = msg\\n        self.words = self.msg.split()\\n        self.index = 0\\n\\n    def __iter__(self):\\n        return self\\n    \\n    def __next__(self):\\n        if (self.index >= len(self.words)):\\n            raise StopIteration\\n        idx = self.index\\n        self.index += 1\\n        return self.words[idx]\\n        \\nmy_sentence = Sentence('This is a test')\\n\\n#for word in my_sentence:\\n#    print(word)\\n\\nprint(my_sentence.__next__())\\nprint(next(my_sentence))\\nprint(next(my_sentence))\\nprint(next(my_sentence))\\nprint(next(my_sentence))\",\n",
       "  'x = 5\\ndef foo():\\n    x = 6\\n    def bar():\\n        nonlocal x\\n        x = 6\\n        print(x)\\n    bar()\\n    print(x)\\nfoo()\\n\\nprint(x)',\n",
       "  'class Person:\\n    pass  # An empty block\\n\\nif __name__ == \"__main__\":\\n    p = Person()\\n    print(p)',\n",
       "  'class Person:\\n    pass  # An empty block\\n\\nif __name__ == \"__main__\":\\n    p = Person()\\n    print(p)',\n",
       "  'class Person:\\n    \"\"\"This is Person Class\"\"\"\\n    pass  # An empty block\\n\\np = Person()\\nprint(p.__doc__)',\n",
       "  'aa = 10\\nprint(aa.__doc__)',\n",
       "  'class MyClass:\\n    \"\"\"A simple example class\"\"\"\\n    i = 12345\\n\\n    def f(self):\\n        print(id(self))\\n        print(\"hello world\")\\n\\nif __name__ == \"__main__\":\\n    newObj = MyClass() # Class instantiation\\n    newObj.f()\\n    print(id(newObj))\\n    #When you call a method of this object as newObj.f(), this is automatically converted \\n    #by Python into MyClass.f(newObj) - this is all the special self is about.\\n    \\n    newObj1 = MyClass() # Class instantiation\\n    newObj1.f()\\n    print(id(newObj1))',\n",
       "  \"class Person:\\n    def say_hi(self):\\n        print('Hello, how are you?')\\n\\np = Person()\\np.say_hi()\\n# The previous 2 lines can also be written as\\n# Person().say_hi()\",\n",
       "  'sign = lambda x: (\\'+\\', \\'-\\')[x < 0]\\nclass Complex:\\n    def __init__(self, realpart, imagpart):\\n        self.r = realpart\\n        self.i = imagpart\\n\\n    def print_complex(self):\\n        print(\"Complex number is: {}{}i{}\".format(self.r, sign(self.i), abs(self.i)))\\n        \\nx = Complex(3.0, -4.5)\\nx.print_complex()',\n",
       "  'sign = lambda x: (\\'+\\', \\'-\\')[x < 0]\\nclass Complex:\\n    def __init__(self):\\n        #self.r = realpart\\n        #self.i = imagpart\\n    def initialize(self, real, image):\\n        self.r = realpart\\n        self.i = imagpart\\n    def print_complex(self):\\n        print(\"Complex number is: {}{}i{}\".format(self.r, sign(self.i), abs(self.i)))\\n        \\nx = Complex()\\nx.initalize(3.0, -4.5)\\nx.print_complex()',\n",
       "  'sign = lambda x: (\\'+\\', \\'-\\')[x < 0]\\nclass Complex:\\n    def __init__(self):\\n        #self.r = realpart\\n        #self.i = imagpart\\n        pass\\n    def initialize(self, real, image):\\n        self.r = realpart\\n        self.i = imagpart\\n    def print_complex(self):\\n        print(\"Complex number is: {}{}i{}\".format(self.r, sign(self.i), abs(self.i)))\\n        \\nx = Complex()\\nx.initalize(3.0, -4.5)\\nx.print_complex()',\n",
       "  'sign = lambda x: (\\'+\\', \\'-\\')[x < 0]\\nclass Complex:\\n\\n    \"\"\"\\n    def __init__(self):\\n        #self.r = realpart\\n        #self.i = imagpart\\n    \"\"\"    \\n    def initialize(self, real, image):\\n        self.r = realpart\\n        self.i = imagpart\\n    def print_complex(self):\\n        print(\"Complex number is: {}{}i{}\".format(self.r, sign(self.i), abs(self.i)))\\n        \\nx = Complex()\\nx.initalize(3.0, -4.5)\\nx.print_complex()',\n",
       "  'sign = lambda x: (\\'+\\', \\'-\\')[x < 0]\\nclass Complex:\\n\\n    \"\"\"\\n    def __init__(self):\\n        #self.r = realpart\\n        #self.i = imagpart\\n    \"\"\"    \\n    def initialize(self, real, image):\\n        self.r = realpart\\n        self.i = imagpart\\n    def print_complex(self):\\n        print(\"Complex number is: {}{}i{}\".format(self.r, sign(self.i), abs(self.i)))\\n        \\nx = Complex()\\nx.initialize(3.0, -4.5)\\nx.print_complex()',\n",
       "  'sign = lambda x: (\\'+\\', \\'-\\')[x < 0]\\nclass Complex:\\n\\n    \"\"\"\\n    def __init__(self):\\n        #self.r = realpart\\n        #self.i = imagpart\\n    \"\"\"    \\n    def initialize(self, real, image):\\n        self.r = real\\n        self.i = imag\\n    def print_complex(self):\\n        print(\"Complex number is: {}{}i{}\".format(self.r, sign(self.i), abs(self.i)))\\n        \\nx = Complex()\\nx.initialize(3.0, -4.5)\\nx.print_complex()',\n",
       "  'sign = lambda x: (\\'+\\', \\'-\\')[x < 0]\\nclass Complex:\\n\\n    \"\"\"\\n    def __init__(self):\\n        #self.r = realpart\\n        #self.i = imagpart\\n    \"\"\"    \\n    def initialize(self, real, imag):\\n        self.r = real\\n        self.i = imag\\n    def print_complex(self):\\n        print(\"Complex number is: {}{}i{}\".format(self.r, sign(self.i), abs(self.i)))\\n        \\nx = Complex()\\nx.initialize(3.0, -4.5)\\nx.print_complex()',\n",
       "  'sign = lambda x: (\\'+\\', \\'-\\')[x < 0]\\nclass Complex:\\n\\n    \"\"\"\\n    def __init__(self):\\n        #self.r = realpart\\n        #self.i = imagpart\\n    \"\"\"    \\n    def initialize(self, real, imag):\\n        self.r = real\\n        self.i = imag\\n    def print_complex(self):\\n        print(\"Complex number is: {}{}i{}\".format(self.r, sign(self.i), abs(self.i)))\\n        \\nx = Complex()\\nx.initialize(3.0, -4.5)\\nx.print_complex()',\n",
       "  'class Robot:\\n \\n    def __init__(self, name1=None, x = None):\\n        self.name = name1   \\n        \\n    def say_hi(self):\\n        if self.name:\\n            print(\"Hi, I am \" + self.name)\\n        else:\\n            print(\"Hi, I am a robot without a name\")\\n    \\n\\nx = Robot()\\nx.say_hi()\\n\\ny = Robot(\"Marvin\")\\ny.say_hi()\\n\\nz = Robot(\"Marvin\", \"xyz\")\\nz.say_hi()',\n",
       "  'class Robot:\\n \\n    def __init__(self, name1=None, x = None):\\n        self.name = name1   \\n        \\n    def say_hi(self):\\n        if self.name:\\n            print(\"Hi, I am \" + self.name)\\n        else:\\n            print(\"Hi, I am a robot without a name\")\\n    \\n\\nx = Robot()\\nx.say_hi()\\n\\ny = Robot(\"Marvin\")\\ny.say_hi()\\n\\nz = Robot(\"Marvin\", \"xyz\")\\nz.say_hi()',\n",
       "  'class Robot:\\n \\n    def __init__(self, name=None):\\n        self.name = name   \\n        \\ndef say_hi(y):\\n    if y.name:\\n        print(\"Hi, I am \" + y.name)\\n    else:\\n        print(\"Hi, I am a robot without a name\")\\n    \\n\\nx = Robot(\"xyz\")\\nsay_hi()\\ny = Robot(\"Marvin\")\\nsay_hi(y)',\n",
       "  \"def logger(msg):\\n    def log_message():\\n        print('Log:', msg)\\n    \\n    return log_message\\n\\nlog_hi = logger('Hi')\\nprint(log_hi)\\nlog_hi()\",\n",
       "  \"def outer_func():\\n    message = 'Hi'\\n    \\n    def inner_func():\\n        print(message)\\n        \\n    return inner_func\\n\\nmy_func = outer_func()\\n\\nmy_func()\",\n",
       "  \"def outer_func(msg):\\n    message = msg\\n    \\n    def inner_func():\\n        print(message)\\n        \\n    return inner_func\\n\\nhi_func = outer_func('Hi')\\nhello_func = outer_func('Hello')\\n\\nhi_func()\\nhello_func()\",\n",
       "  \"class Sentence(object):\\n    def __init__(self, msg):\\n        self.msg = msg\\n        self.words = self.msg.split()\\n        self.index = 0\\n\\n    def __iter__(self):\\n        return self\\n    \\n    def __next__(self):\\n        if (self.index >= len(self.words)):\\n            raise StopIteration\\n        idx = self.index\\n        self.index += 1\\n        return self.words[idx]\\n        \\nmy_sentence = Sentence('This is a test')\\n\\n#for word in my_sentence:\\n#    print(word)\\n\\nprint(my_sentence.__next__())\\nprint(next(my_sentence))\\nprint(next(my_sentence))\\nprint(next(my_sentence))\\nprint(next(my_sentence))\",\n",
       "  'class Point:\\n    def __init__( self, x=0, y=0):\\n        self.x = x\\n        self.y = y\\n    def set(self, x, y):\\n        self.x = x\\n        self.y = y\\n    def mygets(self):\\n        return self.x+ self.y\\n    def __del__(self):\\n        class_name = self.__class__.__name__\\n        print (\"{} destroyed\".format(class_name))\\n\\npt1 = Point()\\npt1.set(4,5)\\nprint(pt1.mygets())\\npt2 = pt1\\nprint(pt2.mygets())\\nprint (type(pt1), type(pt2))\\nprint (id(pt1), id(pt2))\\ndel pt1',\n",
       "  'a = 5\\nb = a\\nprint (id(a), id(b))',\n",
       "  'import sys\\naa = 121\\nprint (sys.getrefcount(121)) #-- Returns the reference count of the object.',\n",
       "  'del aa\\nprint (sys.getrefcount(121))',\n",
       "  \"import sys\\nprint('The command line arguments are:')\\nfor i in sys.argv:\\n    print(i)\\n    \\nprint(f'\\\\n\\\\nThe PYTHONPATH is: {sys.path}\\\\n')\",\n",
       "  'import os\\nprint(f\"\\\\n\\\\nThe PATH is: {os.getenv(\\'Path\\')}\\\\n\")\\n#os.getenv(\\'PATH\\')\\n\\nprint(f\"\\\\n\\\\nThe CWD is: {os.getcwd()}\\\\n\")\\nos.getcwdb()',\n",
       "  \"import os\\nif __name__ == '__main__':\\n    print('This program is being run by itself')\\nelse:\\n    print('I am being imported from another module')\",\n",
       "  \"def say_hi():\\n    print('Hi, this is mymodule speaking.')\\n__version__ = '0.1'\",\n",
       "  \"import mymodule\\nmymodule.say_hi()\\nprint('Version', mymodule.__version__)\",\n",
       "  \"from mymodule import say_hi, __version__\\nsay_hi()\\nprint('Version', __version__)\",\n",
       "  'vars()'],\n",
       " 'MyClass': __main__.MyClass,\n",
       " 'Out': {7: 885,\n",
       "  8: 0,\n",
       "  25: 'It Is Good Practice To Use The With Keyword When Dealing With File Objects.',\n",
       "  26: 'It Is Good Practice To Use The With Keyword When Dealing With File Objects.',\n",
       "  35: '0000000abc',\n",
       "  40: 4,\n",
       "  45: -27.3,\n",
       "  46: 2.5,\n",
       "  47: 2,\n",
       "  48: 3.3333333333333335,\n",
       "  49: 2,\n",
       "  50: 0.5,\n",
       "  74: 'unununium',\n",
       "  75: 'Put several strings within parentheses to have them joined together.',\n",
       "  103: 1716478400,\n",
       "  109: \"\\nfor ii in x:\\n    #print(ii)\\n    if ii == 'o':\\n        ii = ii.upper()\\n    else:\\n        pass\\n    aa.append(ii)\\n\",\n",
       "  132: 5,\n",
       "  133: 5,\n",
       "  134: '\\ndef range(m):\\n    print(list(range(10)))\\n    print(\"something\")\\n    return 0\\n',\n",
       "  135: range(10, 20),\n",
       "  138: [0, 1, 1, 2, 3, 5, 8, 13, 21, 34, 55, 89],\n",
       "  140: True,\n",
       "  141: True,\n",
       "  142: True,\n",
       "  174: [[11, 222], [333, 5554]],\n",
       "  175: 'string',\n",
       "  176: ['__add__',\n",
       "   '__class__',\n",
       "   '__contains__',\n",
       "   '__delattr__',\n",
       "   '__delitem__',\n",
       "   '__dir__',\n",
       "   '__doc__',\n",
       "   '__eq__',\n",
       "   '__format__',\n",
       "   '__ge__',\n",
       "   '__getattribute__',\n",
       "   '__getitem__',\n",
       "   '__gt__',\n",
       "   '__hash__',\n",
       "   '__iadd__',\n",
       "   '__imul__',\n",
       "   '__init__',\n",
       "   '__init_subclass__',\n",
       "   '__iter__',\n",
       "   '__le__',\n",
       "   '__len__',\n",
       "   '__lt__',\n",
       "   '__mul__',\n",
       "   '__ne__',\n",
       "   '__new__',\n",
       "   '__reduce__',\n",
       "   '__reduce_ex__',\n",
       "   '__repr__',\n",
       "   '__reversed__',\n",
       "   '__rmul__',\n",
       "   '__setattr__',\n",
       "   '__setitem__',\n",
       "   '__sizeof__',\n",
       "   '__str__',\n",
       "   '__subclasshook__',\n",
       "   'append',\n",
       "   'clear',\n",
       "   'copy',\n",
       "   'count',\n",
       "   'extend',\n",
       "   'index',\n",
       "   'insert',\n",
       "   'pop',\n",
       "   'remove',\n",
       "   'reverse',\n",
       "   'sort'],\n",
       "  216: True,\n",
       "  217: True,\n",
       "  277: True,\n",
       "  280: 'Cookie',\n",
       "  281: 'Cookie',\n",
       "  286: {'extension': 'com', 'user': 'myname', 'website': 'hackerrank'},\n",
       "  287: 'Co0kie',\n",
       "  288: 'C@ke',\n",
       "  289: 'Eat cake',\n",
       "  290: 'Cook!e',\n",
       "  292: 'c00kie',\n",
       "  293: 'Eat',\n",
       "  294: 'cake',\n",
       "  295: 'a',\n",
       "  296: 'a',\n",
       "  297: 'Number: 1',\n",
       "  298: 'Number: 7',\n",
       "  299: 'Cookie',\n",
       "  300: 'Cookie',\n",
       "  301: 'Back\\\\stail',\n",
       "  302: 'Cooookie',\n",
       "  303: 'Ckie',\n",
       "  304: 'Ckie',\n",
       "  305: 'Ckie',\n",
       "  306: 'Color',\n",
       "  307: '98765432',\n",
       "  308: '987654321',\n",
       "  309: '0980a0007',\n",
       "  312: 'supp@ort@da-ta-camp.com',\n",
       "  313: 'supp-ort.india4@datacamp.com',\n",
       "  314: 'support@datacamp.com',\n",
       "  315: '<h1>TITLE</h1>',\n",
       "  316: '<h1>',\n",
       "  317: '<h1>',\n",
       "  319: 'cookie',\n",
       "  320: 'cookie',\n",
       "  370: b'C:\\\\Backup\\\\INSOFE\\\\OneDrive\\\\Python\\\\ADP'},\n",
       " 'Person': __main__.Person,\n",
       " 'Point': __main__.Point,\n",
       " 'Robot': __main__.Robot,\n",
       " 'Sentence': __main__.Sentence,\n",
       " 'Singleton': __main__.Singleton,\n",
       " '_': b'C:\\\\Backup\\\\INSOFE\\\\OneDrive\\\\Python\\\\ADP',\n",
       " '_103': 1716478400,\n",
       " '_109': \"\\nfor ii in x:\\n    #print(ii)\\n    if ii == 'o':\\n        ii = ii.upper()\\n    else:\\n        pass\\n    aa.append(ii)\\n\",\n",
       " '_132': 5,\n",
       " '_133': 5,\n",
       " '_134': '\\ndef range(m):\\n    print(list(range(10)))\\n    print(\"something\")\\n    return 0\\n',\n",
       " '_135': range(10, 20),\n",
       " '_138': [0, 1, 1, 2, 3, 5, 8, 13, 21, 34, 55, 89],\n",
       " '_140': True,\n",
       " '_141': True,\n",
       " '_142': True,\n",
       " '_174': [[11, 222], [333, 5554]],\n",
       " '_175': 'string',\n",
       " '_176': ['__add__',\n",
       "  '__class__',\n",
       "  '__contains__',\n",
       "  '__delattr__',\n",
       "  '__delitem__',\n",
       "  '__dir__',\n",
       "  '__doc__',\n",
       "  '__eq__',\n",
       "  '__format__',\n",
       "  '__ge__',\n",
       "  '__getattribute__',\n",
       "  '__getitem__',\n",
       "  '__gt__',\n",
       "  '__hash__',\n",
       "  '__iadd__',\n",
       "  '__imul__',\n",
       "  '__init__',\n",
       "  '__init_subclass__',\n",
       "  '__iter__',\n",
       "  '__le__',\n",
       "  '__len__',\n",
       "  '__lt__',\n",
       "  '__mul__',\n",
       "  '__ne__',\n",
       "  '__new__',\n",
       "  '__reduce__',\n",
       "  '__reduce_ex__',\n",
       "  '__repr__',\n",
       "  '__reversed__',\n",
       "  '__rmul__',\n",
       "  '__setattr__',\n",
       "  '__setitem__',\n",
       "  '__sizeof__',\n",
       "  '__str__',\n",
       "  '__subclasshook__',\n",
       "  'append',\n",
       "  'clear',\n",
       "  'copy',\n",
       "  'count',\n",
       "  'extend',\n",
       "  'index',\n",
       "  'insert',\n",
       "  'pop',\n",
       "  'remove',\n",
       "  'reverse',\n",
       "  'sort'],\n",
       " '_216': True,\n",
       " '_217': True,\n",
       " '_25': 'It Is Good Practice To Use The With Keyword When Dealing With File Objects.',\n",
       " '_26': 'It Is Good Practice To Use The With Keyword When Dealing With File Objects.',\n",
       " '_277': True,\n",
       " '_280': 'Cookie',\n",
       " '_281': 'Cookie',\n",
       " '_286': {'extension': 'com', 'user': 'myname', 'website': 'hackerrank'},\n",
       " '_287': 'Co0kie',\n",
       " '_288': 'C@ke',\n",
       " '_289': 'Eat cake',\n",
       " '_290': 'Cook!e',\n",
       " '_292': 'c00kie',\n",
       " '_293': 'Eat',\n",
       " '_294': 'cake',\n",
       " '_295': 'a',\n",
       " '_296': 'a',\n",
       " '_297': 'Number: 1',\n",
       " '_298': 'Number: 7',\n",
       " '_299': 'Cookie',\n",
       " '_300': 'Cookie',\n",
       " '_301': 'Back\\\\stail',\n",
       " '_302': 'Cooookie',\n",
       " '_303': 'Ckie',\n",
       " '_304': 'Ckie',\n",
       " '_305': 'Ckie',\n",
       " '_306': 'Color',\n",
       " '_307': '98765432',\n",
       " '_308': '987654321',\n",
       " '_309': '0980a0007',\n",
       " '_312': 'supp@ort@da-ta-camp.com',\n",
       " '_313': 'supp-ort.india4@datacamp.com',\n",
       " '_314': 'support@datacamp.com',\n",
       " '_315': '<h1>TITLE</h1>',\n",
       " '_316': '<h1>',\n",
       " '_317': '<h1>',\n",
       " '_319': 'cookie',\n",
       " '_320': 'cookie',\n",
       " '_35': '0000000abc',\n",
       " '_370': b'C:\\\\Backup\\\\INSOFE\\\\OneDrive\\\\Python\\\\ADP',\n",
       " '_40': 4,\n",
       " '_45': -27.3,\n",
       " '_46': 2.5,\n",
       " '_47': 2,\n",
       " '_48': 3.3333333333333335,\n",
       " '_49': 2,\n",
       " '_50': 0.5,\n",
       " '_7': 885,\n",
       " '_74': 'unununium',\n",
       " '_75': 'Put several strings within parentheses to have them joined together.',\n",
       " '_8': 0,\n",
       " '__': 'cookie',\n",
       " '___': 'cookie',\n",
       " '__builtin__': <module 'builtins' (built-in)>,\n",
       " '__builtins__': <module 'builtins' (built-in)>,\n",
       " '__doc__': 'Automatically created module for IPython interactive environment',\n",
       " '__loader__': None,\n",
       " '__name__': '__main__',\n",
       " '__package__': None,\n",
       " '__spec__': None,\n",
       " '__version__': '0.1',\n",
       " '_dh': ['C:\\\\Backup\\\\INSOFE\\\\OneDrive\\\\Python\\\\ADP'],\n",
       " '_i': \"from mymodule import say_hi, __version__\\nsay_hi()\\nprint('Version', __version__)\",\n",
       " '_i1': '### Singleton',\n",
       " '_i10': '# Read input from user (interactive mode)\\n\\nuser_input = input(\"Please enter a number: \")\\n\\nprint (\"User input: \" + user_input)',\n",
       " '_i100': \"ii = [10, 20, 30, 40]\\nprint (10 in ii)\\nprint ('10' in ii)\",\n",
       " '_i101': \"# Python strings cannot be changed — they are immutable. Therefore, assigning to an indexed position in the string results in an error:\\nword = 'python'\\nword[0] = 'J'\\n'''\\nimmutable\\nAn object with a fixed value. Immutable objects include numbers, strings and tuples. Such an object cannot be altered. A new object has to be created if a different value has to be stored. They play an important role in places where a constant hash value is needed, for example as a key in a dictionary.\\n'''\",\n",
       " '_i102': 'type(5)\\nx = 5\\nprint(type(x))\\nprint(id(x))\\ny = 5\\nprint(id(y))\\n\\nprint(type(x))\\nprint(id(x))\\ndel x\\ndel y\\nx = 5\\ny = 5\\n#print(id(x))\\nprint(id(y))\\n\\nprint(id(x))',\n",
       " '_i103': 'type(10)\\nid(10)',\n",
       " '_i104': '# Example 1\\nx = \"Holberton\"\\ny = \"Holberton\"\\nz = x\\nprint(id(x))\\nprint(type(x))\\n\\nprint(id(y))\\nprint(id(z))\\nprint(x is y) #comparing the types\\nx = \"abc\"\\nprint(id(x))\\nprint(id(z))\\n\\n# Example 2\\na = 5\\nb = 50\\nprint(id(a))\\nprint(type(a))\\n\\nprint(id(b))\\n\\nprint(a is b) #comparing the types',\n",
       " '_i105': '# Example 1\\nx = \"Holberton\"\\ny = \"Holberton1\"\\nz = x\\nprint(id(x))\\nprint(id(y))\\nprint(id(z))\\nprint(type(x))',\n",
       " '_i106': \"x = 10\\ny = x\\nprint(id(x))\\nprint(id(y))\\n#x += 1\\n#print(id(x))\\n#print(id(y))\\nprint('='*80)\\na = 9\\nprint(id(a))\\nb = 9\\nprint(id(b))\\nz = a + 1\\n#z = 10\\nprint(id(z))\",\n",
       " '_i107': 'print(type(10))',\n",
       " '_i108': \"a = ['a', 'b', 'c', 'd']\\nb = ['a', 'b', 'c', 'd']\\nc = a\\nprint(id(a))\\nprint(id(b))\\nprint(id(c))\\n\\na.append('e')\\nprint (a)\\nprint(id(a))\\nprint(id(c))\\nprint (c)\",\n",
       " '_i109': '# Example 1\\nx = \\'Holberton\\'\\nprint(\\'\\'.join([ii.upper() if ii == \\'o\\' else ii for ii in x]), flush=True)\\n\"\"\"\\nfor ii in x:\\n    #print(ii)\\n    if ii == \\'o\\':\\n        ii = ii.upper()\\n    else:\\n        pass\\n    aa.append(ii)\\n\"\"\"\\n#print(aa)',\n",
       " '_i11': '# Read input from user (interactive mode)\\n\\nuser_input = input(\"Please enter a number: \")\\n\\n#print (\"User input: \" + str(user_input))\\n\\nprint (\"Input value is of type: %s\" %(user_input))\\nprint (\"Input value is of type: %s\" %(type(user_input)))',\n",
       " '_i110': 'x = int(input(\"Please enter an integer: \"))\\n\\nif x < 0:\\n    x = 0\\n    print(\\'Negative changed to zero\\')\\nelif x == 0:\\n    print(\\'Zero\\')\\nelif x == 1:\\n    print(\\'Single\\')\\nelse:\\n    print(\\'More\\')',\n",
       " '_i111': 'x = int(input(\"Please enter an integer: \"))\\n\\nif x < 0:\\n    x = 0\\n    print(\\'Negative changed to zero\\')\\nelif x == 0:\\n    print(\\'Zero\\')\\nelif x == 1:\\n    print(\\'Single\\')\\nelse:\\n    print(\\'More\\')',\n",
       " '_i112': \"number = 23\\nguess = int(input('Enter an integer : '))\\nif guess == number:\\n    # New block starts here\\n    print('Congratulations, you guessed it.')\\n    print('(but you do not win any prizes!)')\\n    # New block ends here\\nelif guess < number:\\n    # Another block\\n    print('No, it is a little higher than that')\\n    # You can do whatever you want in a block ...\\nelse:\\n    print('No, it is a little lower than that')\\n    \\n# you must have guessed > number to reach here\\nprint('Done')\\n# This last statement is always executed,\\n# after the if statement is executed.\",\n",
       " '_i113': \"# Measure some strings:\\nwords = ['cat', 'window', 'defenestrate']\\nfor w in words:\\n    print(w, len(w))\",\n",
       " '_i114': 'end = \\'yy\\'\\nprint(end)\\n# Print without new line\\nprint (\"something\", end=end)\\nprint (\"nothing\")',\n",
       " '_i115': \"# Iterating through subset\\nwords = ['cat', 'window', 'defenestrate', 'something', 'nothing']\\nfor w in words[2:]:\\n    print(w, len(w))\",\n",
       " '_i116': \"# Iterate and conditionally select\\nwords = ['cat', 'window', 'defenestrate', 'something', 'nothing', 'dog', 'ball']\\nnew_list = []\\nnn = 0\\nfor w in words:\\n    if len(w) <= 4:\\n        print(w, len(w))\\n        new_list.append(w)\\nprint(new_list)\",\n",
       " '_i117': \"for i in range(1, 5):\\n    print(i)\\nelse:\\n    print('The for loop is over')\",\n",
       " '_i118': \"number = 23\\nrunning = False\\nwhile running:\\n    guess = int(input('Enter an integer : '))\\n    if guess == number:\\n        print('Congratulations, you guessed it.')\\n        # this causes the while loop to stop\\n        running = False\\n    elif guess < number:\\n        print('No, it is a little higher than that.')\\n    else:\\n        print('No, it is a little lower than that.')\\nelse:\\n    print('The while loop is over.')\\n    # Do anything else you want to do here\\nprint('Done')\",\n",
       " '_i119': 'while True:\\n    in_str = input(\"Enter a string: \")\\n    if in_str == \\'quit\\':\\n        break\\n    else:\\n        print (f\"Entered string is {in_str}\")\\nelse:\\n    print(\"Out of while loop\")',\n",
       " '_i12': '# Identify the type of variable\\nprint (\"Input value is of type: %s\" %(type(user_input))) # Old approach\\n\\n# Another way\\nprint (\"Input value is of type: {0} and {1}\".format((user_input), \\'something else\\'))\\n\\n# One more approach - named param. \\nprint(\\'{0} and {1}\\'.format(\\'spam\\', \\'eggs\\'))\\nprint(\\'{1} and {0}\\'.format(\\'spam\\', \\'eggs\\'))\\n# param sequence can be changed.\\nprint(\\'This {food} is {adjective}.\\'.format(adjective=\\'absolutely horrible\\', food=\\'spam\\'))',\n",
       " '_i120': \"while True:\\n    s = input('Enter something : ')\\n    if s == 'quit':\\n        break\\n    print('Length of the string is', len(s))\\nprint('Done')\",\n",
       " '_i121': 'aa = range(10)\\nprint(aa)\\nprint(type(aa))\\nprint(list(aa))\\nprint(type(range(10)))\\nprint(list(range(5))) # [0, 1, 2, 3, 4] = range(0,5,1)\\nprint(list(range(0,5,1)))\\nprint(list(range(5, 10))) # [5, 6, 7, 8, 9]\\nprint(list(range(5, 25, 5))) # [5, 10, 15, 20]\\nprint(list(range(5, -25, -5))) # [5, 0, -5, -10, -15, -20]',\n",
       " '_i122': 'print(list(range(5,1,-1)))',\n",
       " '_i123': 'aa = range(-25, 5, 5)\\nprint(type(aa))\\nprint((aa))',\n",
       " '_i124': 'for ii in range(10):\\n    print (ii, end=\"\\\\t\")',\n",
       " '_i125': \"a = ['Mary', 'had', 'a', 'little', 'lamb']\\nfor i in range(len(a)):\\n    print(i, a[i])\",\n",
       " '_i126': 'a = [\\'Mary\\', \\'had\\', \\'a\\', \\'little\\', \\'lamb\\']\\nfor index, element in enumerate(a):\\n    print(f\"{index}: {element}\")',\n",
       " '_i127': \"for n in range(2, 10):\\n    for x in range(2, n):\\n        if n % x == 0:\\n            print(n, 'equals', x, '*', n//x)\\n            break\\n    else:\\n        # loop fell through without finding a factor\\n        print(n, 'is a prime number')\",\n",
       " '_i128': 'print (list(range(2,10)))',\n",
       " '_i129': 'odd_list = []\\nfor num in range(2, 10):\\n    if num % 2 == 0:\\n        print(\"Found an even number. No need to store: \", num, )\\n        continue\\n    print(\"Found an odd number. Store it: \", num)\\n    odd_list.append(num)\\nprint(odd_list)',\n",
       " '_i13': \"age = 20\\nname = 'Swaroop'\\nprint(f'{name} was {age} years old when he wrote this book') # notice the 'f' before the string\\nprint(f'Why is {name} playing with that python?') # notice the 'f' before the string\",\n",
       " '_i130': 'my_add(2,3)',\n",
       " '_i131': 'def my_add(x,y):\\n    return x+y',\n",
       " '_i132': 'my_add(2,3)',\n",
       " '_i133': 'my_add(2,3)',\n",
       " '_i134': '\"\"\"\\ndef range(m):\\n    print(list(range(10)))\\n    print(\"something\")\\n    return 0\\n\"\"\"',\n",
       " '_i135': 'range(10,20)',\n",
       " '_i136': 'def fib(n):    # write Fibonacci series up to n\\n    \"\"\"Print a Fibonacci series up to n.\"\"\"\\n    a, b = 0, 1\\n    while a < n:\\n        print(a, end=\\' \\')\\n        a, b = b, a+b\\n    print()\\n    return 1\\n\\n# Now call the function we just defined:\\nfib(100000)\\nprint(type(fib))\\nprint(fib.__doc__)',\n",
       " '_i137': 'f = fib\\nprint(id(fib))\\nprint(id(f))\\nprint(f(100)) # Check the return\\n\\ndel fib\\n\\nprint(id(f))\\nprint(f(100)) # Check the return',\n",
       " '_i138': 'def fib2(n):  # return Fibonacci series up to n\\n    \"\"\"Return a list containing the Fibonacci series up to n.\"\"\"\\n    result = []\\n    a, b = 0, 1\\n    while a < n:\\n        result.append(a)    # see below\\n        a, b = b, a+b\\n    return result\\n\\nf100 = fib2(100)    # call it\\nf100                # write the result',\n",
       " '_i139': \"def ask_ok(prompt, retries=4, reminder='Please try again!'):\\n    while True:\\n        ok = input(prompt)\\n        if ok in ('y', 'ye', 'yes'):\\n            return True\\n        if ok in ('n', 'no', 'nop', 'nope'):\\n            return False\\n        retries = retries - 1\\n        if retries < 0:\\n            raise ValueError('invalid user response')\\n        print(reminder)\",\n",
       " '_i14': \"# decimal (.) precision of 3 for float '0.333'\\nprint('{0:.6f} {1} {1:.6f}'.format(1.0/3, 2/3))\\n# fill with underscores (_) with the text centered\\n# (^) to 11 width '___hello___'\\nprint('{0:_^80}'.format('hello'))\\n# keyword-based 'Swaroop wrote A Byte of Python'\\nprint('{name} wrote {book}'.format(name='Swaroop', book='A Byte of Python'))\",\n",
       " '_i140': \"ask_ok('Do you really want to quit? ')\",\n",
       " '_i141': \"ask_ok('OK to overwrite the file?', 2)\",\n",
       " '_i142': \"ask_ok('OK to overwrite the file?', 2, 'Come on, only yes or no!')\",\n",
       " '_i143': 'def parrot(voltage, state=\\'a stiff\\', action=\\'voom\\', type=\\'Norwegian Blue\\'):\\n    print(\"-- This parrot wouldn\\'t\", action, end=\\' \\')\\n    print(\"if you put\", voltage, \"volts through it.\")\\n    print(\"-- Lovely plumage, the\", type)\\n    print(\"-- It\\'s\", state, \"!\")',\n",
       " '_i144': \"parrot(1000)                                          # 1 positional argument\\nprint('='*80)\\nparrot(voltage=1000)                                  # 1 keyword argument\\nprint('='*80)\\nparrot(voltage=1000000, action='VOOOOOM')             # 2 keyword arguments\\nprint('='*80)\\nparrot(action='VOOOOOM', voltage=1000000)             # 2 keyword arguments\\nprint('='*80)\\nparrot('a million', 'bereft of life', 'jump')         # 3 positional arguments\\nprint('='*80)\\nparrot('a thousand', state='pushing up the daisies')  # 1 positional, 1 keyword\",\n",
       " '_i145': \"#parrot()                     # required argument missing\\nparrot(voltage=5.0, 'dead')  # non-keyword argument after a keyword argument\\n#parrot(110, voltage=220)     # duplicate value for the same argument\\n#parrot(actor='John Cleese')  # unknown keyword argument\",\n",
       " '_i146': \"#parrot()                     # required argument missing\\nparrot(voltage=5.0, 'dead')  # non-keyword argument after a keyword argument\\n#parrot(110, voltage=220)     # duplicate value for the same argument\\n#parrot(actor='John Cleese')  # unknown keyword argument\",\n",
       " '_i147': \"def foo(x = 'something', y = 10):\\n    print(x)\\nfoo(10)\\nfoo('nothing')\",\n",
       " '_i148': 'def cheeseshop(kind, *arguments, **keywords):\\n    print(\"-- Do you have any\", kind, \"?\")\\n    print(\"-- I\\'m sorry, we\\'re all out of\", kind)\\n    for arg in arguments:\\n        print(arg)\\n    print(\"-\" * 40)\\n    for kw in keywords:\\n        print(kw, \":\", keywords[kw])',\n",
       " '_i149': 'cheeseshop(\"Limburger\", \"It\\'s very runny, sir.\",\\n           \"It\\'s really very, VERY runny, sir.\",\\n           shopkeeper=\"Michael Palin\",\\n           client=\"John Cleese\",\\n           sketch=\"Cheese Shop Sketch\")',\n",
       " '_i15': \"# Mutli line break with \\\\\\ns = 'This is a string. \\\\\\nThis continues the string.'\\nprint(s)\",\n",
       " '_i150': \"#def foo(first_arg, **dict_args, *list_args):\\ndef foo(first_arg, *list_args, **dict_args):\\n    print(f'first_arg: {first_arg}')\\n    print(f'list_args: {list_args}')\\n    print(f'dict_args: {dict_args}')\\n#foo('first', d1='dd1', d2='dd2', 111, 22, 33)\\nfoo('first', 111, 22, 33, d1='dd1', d2='dd2')\",\n",
       " '_i151': 'x= [1,2,3]\\nprint(dir(x))',\n",
       " '_i152': 'print(help([].pop))',\n",
       " '_i153': 'print(help([].index))',\n",
       " '_i154': 'print(help([].append))',\n",
       " '_i155': 'x = \"string\"\\nprint(dir(x))',\n",
       " '_i156': \"fruits = ['orange', 'apple', 'pear', 'banana', 'kiwi', 'apple', 'banana']\\nprint(fruits.count('apple'))\\nprint(fruits.count('tangerine'))\\nprint(fruits.index('banana')) # X\\nprint(fruits.index('banana', 4)\\nfruits.reverse()\\nprint(fruits)\\nfruits.append('grape')\\nprint(fruits)\\nfruits.sort()\\nprint(fruits)\\nprint(fruits.pop())\",\n",
       " '_i157': \"fruits = ['orange', 'apple', 'pear', 'banana', 'kiwi', 'apple', 'banana']\\nprint(fruits.count('apple'))\\nprint(fruits.count('tangerine'))\\nprint(fruits.index('banana')) # X\\nprint(fruits.index('banana', 4)\\nfruits.reverse()\\nprint(fruits)\\nfruits.append('grape')\\nprint(fruits)\\nfruits.sort()\\nprint(fruits)\\nprint(fruits.pop())\",\n",
       " '_i158': \"fruits = ['orange', 'apple', 'pear', 'banana', 'kiwi', 'apple', 'banana']\\nprint(fruits.count('apple'))\\nprint(fruits.count('tangerine'))\\nprint(fruits.index('banana')) # X\\nprint(fruits.index('banana', 4))\\nfruits.reverse()\\nprint(fruits)\\nfruits.append('grape')\\nprint(fruits)\\nfruits.sort()\\nprint(fruits)\\nprint(fruits.pop())\",\n",
       " '_i159': \"fruits = ['orange', 'apple', 'pear', 'banana', 'kiwi', 'apple', 'banana']\\nprint(fruits.count('apple'))\\nprint(fruits.count('tangerine'))\\nprint(fruits.index('banana')) # X\\nprint(fruits.index('banana', 4))\\nfruits.reverse()\\nprint(fruits)\\nfruits.append('grape')\\nprint(fruits)\\nfruits.sort()\\nprint(fruits)\\nprint(fruits.pop())\",\n",
       " '_i16': 'i = \\\\\\n5\\nprint(i)',\n",
       " '_i160': 'stack = [3, 4, 5]\\nprint(stack)\\nstack.append(6)\\nstack.append(7)\\nprint(stack)\\nprint(stack.pop())\\nprint(stack)\\nprint(stack.pop())\\nprint(stack.pop())\\nprint(stack)',\n",
       " '_i161': 'from collections import deque\\nqueue = deque([\"Eric\", \"John\", \"Michael\"])\\nqueue.append(\"Terry\")           # Terry arrives\\nqueue.append(\"Graham\")          # Graham arrives\\nqueue.popleft()                 # The first to arrive now leaves\\nqueue.popleft()                 # The second to arrive now leaves\\nprint(queue)                          # Remaining queue in order of arrival\\nprint(dir(queue))',\n",
       " '_i162': 'squares = []\\nfor x in range(10):\\n    squares.append(x**2)\\nprint(squares)',\n",
       " '_i163': 'a = [1, 2, 3, 4, 5]\\nprint([value if value % 2 == 1 else value **2 for value in a])',\n",
       " '_i164': 'import time\\na = [1, 2, 3, 4, 5]\\n\\n# Start the timer\\nstart = time.time()\\n\\nfor i in range(0, 5000000):\\n    a = [value if value % 2 == 1 else value * 1 for value in a]\\n# Stop the timer\\nend = time.time()\\n#print(\"Input value is of type: {0} and {1}\".format(type(user_input), \\'something else\\'))\\nprint(\"Time consumed with comprehension: \" + str(end - start))\\n\\n# Restart the timer\\nstart = time.time()\\nfor i in range(0, 5000000):\\n    for j in range(len(a)):\\n        if a[j] % 2 == 1:\\n            a[j] = a[j]\\n        else:\\n            a[j] = a[j] * 1\\n# Stop the timer \\nend = time.time()\\nprint(\"Time consumed with loops: \" + str(end - start))',\n",
       " '_i165': 'squares = [x**2 for x in range(10)]\\nprint(squares)',\n",
       " '_i166': 'lst = [1,2,3,4,5,6,7,8,9]\\nsquares = []\\nfor x in lst:\\n    if (x % 2 == 0):\\n        squares.append(x**2)\\nprint(squares)',\n",
       " '_i167': 'squares = [x**2 (for x in lst) (if (x % 2 == 0))]\\nprint(squares)',\n",
       " '_i168': 'squares = [x**2 for x in lst if (x % 2 == 0)]\\nprint(squares)',\n",
       " '_i169': 'squares = [x**2 for x in lst if (x % 2 == 0)]\\nprint(squares)',\n",
       " '_i17': 'ii = 5 + \\\\\\n6\\nprint(ii)',\n",
       " '_i170': 'vec = [-4, -2, 0, 2, 4]\\nprint ([x*2 for x in vec])\\nprint ([x*2 for x in vec if x >= 0])',\n",
       " '_i171': '## Exercise: Find the sum of squares of odd numbers from -50 to +75\\nprint(sum([ii**2 for ii in range(-50,75) if ii%2 != 0]))',\n",
       " '_i172': \"freshfruit = ['  banana', '  loganberry ', 'passion fruit  ']\\nprint([weapon.strip() for weapon in freshfruit])\",\n",
       " '_i173': 'matrix = [\\n    [1, 2, 3, 4],\\n    [5, 6, 7, 8],\\n    [9, 10, 11, 12],\\n    [91, 101, 111, 112]\\n]\\n\\n#[row[i] for row in matrix]\\nprint([[row[i] for row in matrix] for i in range(4)])',\n",
       " '_i174': 'matrix = [\\n    [11,222],\\n    [333,5554]\\n]\\n\\nfor ii in range(2):\\n    for jj in range(2):\\n        print(matrix[ii][jj])\\n[[matrix[ii][jj] for jj in range(2)] for ii in range(2) ]',\n",
       " '_i175': 'x = \"string\"\\nx',\n",
       " '_i176': 'a = [-1, 1, 66.25, 333, 333, 66.25, 1234.5]\\nhelp(a.remove)\\nprint(a.remove(66.25))\\nprint(a)\\ndir(a)',\n",
       " '_i177': 'a = [-1, 1, 66.25, 333, 333, 1234.5]\\ndel a[0]\\nprint(a)\\ndel a[2:4]\\nprint(a)\\ndel a[:]\\nprint(a)\\ndel a\\nprint(a)',\n",
       " '_i178': 'class Robot:\\n    \"\"\"Represents a robot, with a name.\"\"\"\\n\\n    # A class variable, counting the number of robots\\n    population = 0 # class variable: whose value is shared among all instances of a this class\\n\\n    def __init__(self, name):\\n        \"\"\"Initializes the data.\"\"\"\\n        self.name = name # Object variable\\n        print(\"(Initializing {})\".format(self.name))\\n\\n        # When this person is created, the robot\\n        # adds to the population\\n        Robot.population += 1\\n\\n    def die(self):\\n        \"\"\"I am dying.\"\"\"\\n        print(\"{} is being destroyed!\".format(self.name))\\n\\n        Robot.population -= 1\\n\\n        if Robot.population == 0:\\n            print(\"{} was the last one.\".format(self.name))\\n        else:\\n            print(\"There are still {:d} robots working.\".format(\\n                Robot.population))\\n\\n    def say_hi(self):\\n        \"\"\"Greeting by the robot.\\n        Yeah, they can do that.\"\"\"\\n        print(\"Greetings, my masters call me {}.\".format(self.name))\\n\\n    @classmethod # class method\\n    def how_many(cls):\\n        \"\"\"Prints the current population.\"\"\"\\n        print(\"We have {:d} robots.\".format(cls.population))\\n\\n\\ndroid1 = Robot(\"R2-D2\")\\ndroid1.say_hi()\\nRobot.how_many()\\n\\ndroid2 = Robot(\"C-3PO\")\\ndroid2.say_hi()\\nRobot.how_many()\\n\\nprint(\"\\\\nRobots can do some work here.\\\\n\")\\n\\nprint(\"Robots have finished their work. So let\\'s destroy them.\")\\ndroid1.die()\\ndroid2.die()\\n\\nRobot.how_many()',\n",
       " '_i179': 'class Robot:\\n \\n    def __init__(self, name=None):\\n        self.name = name   \\n        \\n    def say_hi(self):\\n        if self.name:\\n            print(\"Hi, I am \" + self.name)\\n        else:\\n            print(\"Hi, I am a robot without a name\")\\n            \\n    def set_name(self, name):\\n        self.name = name\\n        \\n    def get_name(self):\\n        return self.name\\n    \\n\\nx = Robot()\\nx.set_name(\"Henry\")\\nx.say_hi()\\ny = Robot()\\ny.set_name(x.get_name())\\nprint(y.get_name())\\nz = Robot(\"Pawan\")\\nz.say_hi()',\n",
       " '_i18': \"import math\\nprint('The value of PI is approximately {0:.3f}.'.format(math.pi))\",\n",
       " '_i180': 'class Robot:\\n \\n    def __init__(self, \\n                 name=None,\\n                 build_year=None):\\n        self.name = name   \\n        self.build_year = build_year\\n        \\n    def say_hi(self):\\n        if self.name:\\n            print(\"Hi, I am \" + self.name)\\n        else:\\n            print(\"Hi, I am a robot without a name\")\\n        if self.build_year:\\n            print(\"I was built in \" + str(self.build_year))\\n        else:\\n            print(\"It\\'s not known, when I was created!\")\\n            \\n    def set_name(self, name):\\n        self.name = name\\n        \\n    def get_name(self):\\n        return self.name    \\n\\n    def set_build_year(self, by):\\n        self.build_year = by\\n        \\n    def get_build_year(self):\\n        return self.build_year    \\n    \\n\\nx = Robot(\"Henry\", 2008)\\ny = Robot()\\ny.set_name(\"Marvin\")\\nx.say_hi()\\ny.say_hi()',\n",
       " '_i181': 'class A():\\n    \\n    def __init__(self):\\n        self.__priv = \"I am private\"\\n        self._prot = \"I am protected\"\\n        self.pub = \"I am public\"\\n\\n        \\nx = A()\\nprint(x.pub)\\nx.pub = \"Public Changed\"\\nprint(x.pub)\\nprint(x._prot)\\nx._prot = \"Protected Changed\" # Not a good practice\\nprint(x._prot)\\nprint(x.__priv)\\n    ',\n",
       " '_i182': 'a = [-1, 1, 66.25, 333, 333, 1234.5]\\ndel a[0]\\nprint(a)\\ndel a[2:4]\\nprint(a)\\ndel a[:]\\nprint(a)\\ndel a\\n#print(a)',\n",
       " '_i183': 'a = [-1, 1, 66.25, 333, 333, 1234.5]\\ndel a[0]\\nprint(a)\\ndel a[2:4]\\nprint(a)\\ndel a[:]\\nprint(a)\\ndel a\\nprint(a)',\n",
       " '_i184': 'a = [-1, 1, 66.25, 333, 333, 1234.5]\\ndel a[0]\\nprint(a)\\ndel a[2:4]\\nprint(a)\\ndel a[:]\\nprint(a)\\ndel a\\nprint(a)',\n",
       " '_i185': \"# -, _, .\\nemail_address = 'supp-ort.india4@datacamp.com'\\n#re.search(r'\\\\S+@\\\\w+\\\\.\\\\w+', email_address).group() # Naga\\nre.search(r'[a-zA-Z0-9-_.]+@\\\\w+\\\\.\\\\w+', email_address).group() # Ramya\",\n",
       " '_i186': \"class Date(object):\\n    def __init__(self, Year, Month, Day):\\n        self.year  = Year\\n        self.month = Month\\n        self.day   = Day\\n\\n    def __str__(self):\\n        return 'Date({}, {}, {})'.format(self.year, self.month, self.day)\\n\\n    def set_date(self, y, m, d):\\n        self.year = y\\n        self.month = m\\n        self.day = d\\n\\n    @classmethod\\n    def from_str(cls, date_str):\\n        '''Call as\\n           d = Date.from_str('2013-12-30')\\n        '''\\n        print(cls)\\n        year, month, day = map(int, date_str.split('-'))\\n        return cls(year, month, day)\",\n",
       " '_i187': \"d = Date(2019, 1, 8)\\nprint(d.__str__())\\nd.set_date(2019, 1, 9)\\nprint(d.__str__())\\n\\nd_alt = Date.from_str('2019-1-10')\\nprint(d_alt.__str__())\\nd_alt.set_date(2019, 1, 11)\\nprint(d_alt.__str__())\",\n",
       " '_i188': 'class C: \\n\\n    counter = 0\\n    \\n    def __init__(self): \\n        type(self).counter += 1\\n\\n    def __del__(self):\\n        type(self).counter -= 1\\n\\nif __name__ == \"__main__\":\\n    x = C()\\n    print(\"Number of instances: : \" + str(C.counter))\\n    y = C()\\n    print(\"Number of instances: : \" + str(C.counter))\\n    del x\\n    print(\"Number of instances: : \" + str(C.counter))\\n    del y\\n    print(\"Number of instances: : \" + str(C.counter))',\n",
       " '_i189': 'class Robot:\\n    \"\"\"Represents a robot, with a name.\"\"\"\\n\\n    # A class variable, counting the number of robots\\n    population = 0 # class variable: whose value is shared among all instances of a this class\\n\\n    def __init__(self, name):\\n        \"\"\"Initializes the data.\"\"\"\\n        self.name = name # Object variable\\n        print(\"(Initializing {})\".format(self.name))\\n\\n        # When this person is created, the robot\\n        # adds to the population\\n        Robot.population += 1\\n\\n    def die(self):\\n        \"\"\"I am dying.\"\"\"\\n        print(\"{} is being destroyed!\".format(self.name))\\n\\n        Robot.population -= 1\\n\\n        if Robot.population == 0:\\n            print(\"{} was the last one.\".format(self.name))\\n        else:\\n            print(\"There are still {:d} robots working.\".format(\\n                Robot.population))\\n\\n    def say_hi(self):\\n        \"\"\"Greeting by the robot.\\n        Yeah, they can do that.\"\"\"\\n        print(\"Greetings, my masters call me {}.\".format(self.name))\\n\\n    @classmethod # class method\\n    def how_many(cls):\\n        \"\"\"Prints the current population.\"\"\"\\n        print(\"We have {:d} robots.\".format(cls.population))\\n\\n\\ndroid1 = Robot(\"R2-D2\")\\ndroid1.say_hi()\\nRobot.how_many()\\n\\ndroid2 = Robot(\"C-3PO\")\\ndroid2.say_hi()\\nRobot.how_many()\\n\\nprint(\"\\\\nRobots can do some work here.\\\\n\")\\n\\nprint(\"Robots have finished their work. So let\\'s destroy them.\")\\ndroid1.die()\\ndroid2.die()\\n\\nRobot.how_many()',\n",
       " '_i19': '# Typecasting user input\\n# Read input from user (interactive mode)\\n\\nuser_input = int(input(\"Please enter a number: \"))\\n\\nprint (\"User input: {}, {}\".format(user_input, 3434)) # Should this work?',\n",
       " '_i190': 'class Robot:\\n \\n    def __init__(self, name=None):\\n        self.name = name   \\n        \\n    def say_hi(self):\\n        if self.name:\\n            print(\"Hi, I am \" + self.name)\\n        else:\\n            print(\"Hi, I am a robot without a name\")\\n            \\n    def set_name(self, name):\\n        self.name = name\\n        \\n    def get_name(self):\\n        return self.name\\n    \\n\\nx = Robot()\\nx.set_name(\"Henry\")\\nx.say_hi()\\ny = Robot()\\ny.set_name(x.get_name())\\nprint(y.get_name())\\nz = Robot(\"Pawan\")\\nz.say_hi()',\n",
       " '_i191': 'class Robot:\\n \\n    def __init__(self, \\n                 name=None,\\n                 build_year=None):\\n        self.name = name   \\n        self.build_year = build_year\\n        \\n    def say_hi(self):\\n        if self.name:\\n            print(\"Hi, I am \" + self.name)\\n        else:\\n            print(\"Hi, I am a robot without a name\")\\n        if self.build_year:\\n            print(\"I was built in \" + str(self.build_year))\\n        else:\\n            print(\"It\\'s not known, when I was created!\")\\n            \\n    def set_name(self, name):\\n        self.name = name\\n        \\n    def get_name(self):\\n        return self.name    \\n\\n    def set_build_year(self, by):\\n        self.build_year = by\\n        \\n    def get_build_year(self):\\n        return self.build_year    \\n    \\n\\nx = Robot(\"Henry\", 2008)\\ny = Robot()\\ny.set_name(\"Marvin\")\\nx.say_hi()\\ny.say_hi()',\n",
       " '_i192': 'class A():\\n    \\n    def __init__(self):\\n        self.__priv = \"I am private\"\\n        self._prot = \"I am protected\"\\n        self.pub = \"I am public\"\\n\\n        \\nx = A()\\nprint(x.pub)\\nx.pub = \"Public Changed\"\\nprint(x.pub)\\nprint(x._prot)\\nx._prot = \"Protected Changed\" # Not a good practice\\nprint(x._prot)\\nprint(x.__priv)\\n    ',\n",
       " '_i193': '# empty tuple\\n# Output: ()\\nmy_tuple = ()\\nprint(my_tuple)\\n\\n# tuple having integers\\n# Output: (1, 2, 3)\\nmy_tuple = (1, 2, 3)\\nprint(my_tuple)\\n\\n# tuple with mixed datatypes\\n# Output: (1, \"Hello\", 3.4)\\nmy_tuple = (1, \"Hello\", 3.4)\\nprint(my_tuple)\\n\\n# nested tuple\\n# Output: (\"mouse\", [8, 4, 6], (1, 2, 3))\\nmy_tuple = (\"mouse\", [8, 4, 6], (1, 2, 3))\\nprint(my_tuple)',\n",
       " '_i194': '# empty tuple\\n# Output: ()\\nmy_tuple = ()\\nprint(my_tuple)\\n\\n# tuple having integers\\n# Output: (1, 2, 3)\\nmy_tuple = (1, 2, 3)\\nprint(my_tuple)\\n\\n# tuple with mixed datatypes\\n# Output: (1, \"Hello\", 3.4)\\nmy_tuple = (1, \"Hello\", 3.4)\\nprint(my_tuple)\\n\\n# nested tuple\\n# Output: (\"mouse\", [8, 4, 6], (1, 2, 3))\\nmy_tuple = (\"mouse\", [8, 4, 6], (1, 2, 3))\\nprint(my_tuple)',\n",
       " '_i195': 'tup = (11,22,22)\\nprint(tup)\\nprint(tup[0])\\nprint(tup.count(22))\\nprint(tup.index(22))\\ntup[1] = 44',\n",
       " '_i196': \"# -, _, .\\nemail_address = 'supp-ort.india4@datacamp.com'\\n#re.search(r'\\\\S+@\\\\w+\\\\.\\\\w+', email_address).group() # Naga\\nre.search(r'[a-zA-Z0-9-_.]+@\\\\w+\\\\.\\\\w+', email_address).group() # Ramya\",\n",
       " '_i197': \"class Date(object):\\n    def __init__(self, Year, Month, Day):\\n        self.year  = Year\\n        self.month = Month\\n        self.day   = Day\\n\\n    def __str__(self):\\n        return 'Date({}, {}, {})'.format(self.year, self.month, self.day)\\n\\n    def set_date(self, y, m, d):\\n        self.year = y\\n        self.month = m\\n        self.day = d\\n\\n    @classmethod\\n    def from_str(cls, date_str):\\n        '''Call as\\n           d = Date.from_str('2013-12-30')\\n        '''\\n        print(cls)\\n        year, month, day = map(int, date_str.split('-'))\\n        return cls(year, month, day)\",\n",
       " '_i198': \"d = Date(2019, 1, 8)\\nprint(d.__str__())\\nd.set_date(2019, 1, 9)\\nprint(d.__str__())\\n\\nd_alt = Date.from_str('2019-1-10')\\nprint(d_alt.__str__())\\nd_alt.set_date(2019, 1, 11)\\nprint(d_alt.__str__())\",\n",
       " '_i199': 'class C: \\n\\n    counter = 0\\n    \\n    def __init__(self): \\n        type(self).counter += 1\\n\\n    def __del__(self):\\n        type(self).counter -= 1\\n\\nif __name__ == \"__main__\":\\n    x = C()\\n    print(\"Number of instances: : \" + str(C.counter))\\n    y = C()\\n    print(\"Number of instances: : \" + str(C.counter))\\n    del x\\n    print(\"Number of instances: : \" + str(C.counter))\\n    del y\\n    print(\"Number of instances: : \" + str(C.counter))',\n",
       " '_i2': 'class Singleton:\\n   __instance = None\\n   @staticmethod \\n   def getInstance():\\n      \"\"\" Static access method. \"\"\"\\n      if Singleton.__instance == None:\\n         Singleton()\\n      return Singleton.__instance\\n   def __init__(self):\\n      \"\"\" Virtually private constructor. \"\"\"\\n      if Singleton.__instance != None:\\n         raise Exception(\"This class is a singleton!\")\\n      else:\\n         Singleton.__instance = self\\ns = Singleton()\\nprint s\\n\\ns = Singleton.getInstance()\\nprint s\\n\\ns = Singleton.getInstance()\\nprint s',\n",
       " '_i20': \"with open('workfile.txt') as f:\\n    read_data = f.read()\\n#f.close()\\nprint(read_data)\",\n",
       " '_i200': 'class Robot:\\n    \"\"\"Represents a robot, with a name.\"\"\"\\n\\n    # A class variable, counting the number of robots\\n    population = 0 # class variable: whose value is shared among all instances of a this class\\n\\n    def __init__(self, name):\\n        \"\"\"Initializes the data.\"\"\"\\n        self.name = name # Object variable\\n        print(\"(Initializing {})\".format(self.name))\\n\\n        # When this person is created, the robot\\n        # adds to the population\\n        Robot.population += 1\\n\\n    def die(self):\\n        \"\"\"I am dying.\"\"\"\\n        print(\"{} is being destroyed!\".format(self.name))\\n\\n        Robot.population -= 1\\n\\n        if Robot.population == 0:\\n            print(\"{} was the last one.\".format(self.name))\\n        else:\\n            print(\"There are still {:d} robots working.\".format(\\n                Robot.population))\\n\\n    def say_hi(self):\\n        \"\"\"Greeting by the robot.\\n        Yeah, they can do that.\"\"\"\\n        print(\"Greetings, my masters call me {}.\".format(self.name))\\n\\n    @classmethod # class method\\n    def how_many(cls):\\n        \"\"\"Prints the current population.\"\"\"\\n        print(\"We have {:d} robots.\".format(cls.population))\\n\\n\\ndroid1 = Robot(\"R2-D2\")\\ndroid1.say_hi()\\nRobot.how_many()\\n\\ndroid2 = Robot(\"C-3PO\")\\ndroid2.say_hi()\\nRobot.how_many()\\n\\nprint(\"\\\\nRobots can do some work here.\\\\n\")\\n\\nprint(\"Robots have finished their work. So let\\'s destroy them.\")\\ndroid1.die()\\ndroid2.die()\\n\\nRobot.how_many()',\n",
       " '_i201': 'class Robot:\\n \\n    def __init__(self, name=None):\\n        self.name = name   \\n        \\n    def say_hi(self):\\n        if self.name:\\n            print(\"Hi, I am \" + self.name)\\n        else:\\n            print(\"Hi, I am a robot without a name\")\\n            \\n    def set_name(self, name):\\n        self.name = name\\n        \\n    def get_name(self):\\n        return self.name\\n    \\n\\nx = Robot()\\nx.set_name(\"Henry\")\\nx.say_hi()\\ny = Robot()\\ny.set_name(x.get_name())\\nprint(y.get_name())\\nz = Robot(\"Pawan\")\\nz.say_hi()',\n",
       " '_i202': 'class Robot:\\n \\n    def __init__(self, \\n                 name=None,\\n                 build_year=None):\\n        self.name = name   \\n        self.build_year = build_year\\n        \\n    def say_hi(self):\\n        if self.name:\\n            print(\"Hi, I am \" + self.name)\\n        else:\\n            print(\"Hi, I am a robot without a name\")\\n        if self.build_year:\\n            print(\"I was built in \" + str(self.build_year))\\n        else:\\n            print(\"It\\'s not known, when I was created!\")\\n            \\n    def set_name(self, name):\\n        self.name = name\\n        \\n    def get_name(self):\\n        return self.name    \\n\\n    def set_build_year(self, by):\\n        self.build_year = by\\n        \\n    def get_build_year(self):\\n        return self.build_year    \\n    \\n\\nx = Robot(\"Henry\", 2008)\\ny = Robot()\\ny.set_name(\"Marvin\")\\nx.say_hi()\\ny.say_hi()',\n",
       " '_i203': 'class A():\\n    \\n    def __init__(self):\\n        self.__priv = \"I am private\"\\n        self._prot = \"I am protected\"\\n        self.pub = \"I am public\"\\n\\n        \\nx = A()\\nprint(x.pub)\\nx.pub = \"Public Changed\"\\nprint(x.pub)\\nprint(x._prot)\\nx._prot = \"Protected Changed\" # Not a good practice\\nprint(x._prot)\\nprint(x.__priv)\\n    ',\n",
       " '_i204': 'tup = (11,22,22)\\nprint(tup)\\nprint(tup[0])\\nprint(tup.count(22))\\nprint(tup.index(22))\\ntup[1] = 44',\n",
       " '_i205': \"# -, _, .\\nemail_address = 'supp-ort.india4@datacamp.com'\\n#re.search(r'\\\\S+@\\\\w+\\\\.\\\\w+', email_address).group() # Naga\\nre.search(r'[a-zA-Z0-9-_.]+@\\\\w+\\\\.\\\\w+', email_address).group() # Ramya\",\n",
       " '_i206': \"class Date(object):\\n    def __init__(self, Year, Month, Day):\\n        self.year  = Year\\n        self.month = Month\\n        self.day   = Day\\n\\n    def __str__(self):\\n        return 'Date({}, {}, {})'.format(self.year, self.month, self.day)\\n\\n    def set_date(self, y, m, d):\\n        self.year = y\\n        self.month = m\\n        self.day = d\\n\\n    @classmethod\\n    def from_str(cls, date_str):\\n        '''Call as\\n           d = Date.from_str('2013-12-30')\\n        '''\\n        print(cls)\\n        year, month, day = map(int, date_str.split('-'))\\n        return cls(year, month, day)\",\n",
       " '_i207': \"d = Date(2019, 1, 8)\\nprint(d.__str__())\\nd.set_date(2019, 1, 9)\\nprint(d.__str__())\\n\\nd_alt = Date.from_str('2019-1-10')\\nprint(d_alt.__str__())\\nd_alt.set_date(2019, 1, 11)\\nprint(d_alt.__str__())\",\n",
       " '_i208': 'class C: \\n\\n    counter = 0\\n    \\n    def __init__(self): \\n        type(self).counter += 1\\n\\n    def __del__(self):\\n        type(self).counter -= 1\\n\\nif __name__ == \"__main__\":\\n    x = C()\\n    print(\"Number of instances: : \" + str(C.counter))\\n    y = C()\\n    print(\"Number of instances: : \" + str(C.counter))\\n    del x\\n    print(\"Number of instances: : \" + str(C.counter))\\n    del y\\n    print(\"Number of instances: : \" + str(C.counter))',\n",
       " '_i209': 'class Robot:\\n    \"\"\"Represents a robot, with a name.\"\"\"\\n\\n    # A class variable, counting the number of robots\\n    population = 0 # class variable: whose value is shared among all instances of a this class\\n\\n    def __init__(self, name):\\n        \"\"\"Initializes the data.\"\"\"\\n        self.name = name # Object variable\\n        print(\"(Initializing {})\".format(self.name))\\n\\n        # When this person is created, the robot\\n        # adds to the population\\n        Robot.population += 1\\n\\n    def die(self):\\n        \"\"\"I am dying.\"\"\"\\n        print(\"{} is being destroyed!\".format(self.name))\\n\\n        Robot.population -= 1\\n\\n        if Robot.population == 0:\\n            print(\"{} was the last one.\".format(self.name))\\n        else:\\n            print(\"There are still {:d} robots working.\".format(\\n                Robot.population))\\n\\n    def say_hi(self):\\n        \"\"\"Greeting by the robot.\\n        Yeah, they can do that.\"\"\"\\n        print(\"Greetings, my masters call me {}.\".format(self.name))\\n\\n    @classmethod # class method\\n    def how_many(cls):\\n        \"\"\"Prints the current population.\"\"\"\\n        print(\"We have {:d} robots.\".format(cls.population))\\n\\n\\ndroid1 = Robot(\"R2-D2\")\\ndroid1.say_hi()\\nRobot.how_many()\\n\\ndroid2 = Robot(\"C-3PO\")\\ndroid2.say_hi()\\nRobot.how_many()\\n\\nprint(\"\\\\nRobots can do some work here.\\\\n\")\\n\\nprint(\"Robots have finished their work. So let\\'s destroy them.\")\\ndroid1.die()\\ndroid2.die()\\n\\nRobot.how_many()',\n",
       " '_i21': \"with open('workfile.txt') as f:\\n    read_data = f.read().upper()\\n#f.close()\\nprint(read_data)\",\n",
       " '_i210': 'class Robot:\\n \\n    def __init__(self, name=None):\\n        self.name = name   \\n        \\n    def say_hi(self):\\n        if self.name:\\n            print(\"Hi, I am \" + self.name)\\n        else:\\n            print(\"Hi, I am a robot without a name\")\\n            \\n    def set_name(self, name):\\n        self.name = name\\n        \\n    def get_name(self):\\n        return self.name\\n    \\n\\nx = Robot()\\nx.set_name(\"Henry\")\\nx.say_hi()\\ny = Robot()\\ny.set_name(x.get_name())\\nprint(y.get_name())\\nz = Robot(\"Pawan\")\\nz.say_hi()',\n",
       " '_i211': 'class Robot:\\n \\n    def __init__(self, \\n                 name=None,\\n                 build_year=None):\\n        self.name = name   \\n        self.build_year = build_year\\n        \\n    def say_hi(self):\\n        if self.name:\\n            print(\"Hi, I am \" + self.name)\\n        else:\\n            print(\"Hi, I am a robot without a name\")\\n        if self.build_year:\\n            print(\"I was built in \" + str(self.build_year))\\n        else:\\n            print(\"It\\'s not known, when I was created!\")\\n            \\n    def set_name(self, name):\\n        self.name = name\\n        \\n    def get_name(self):\\n        return self.name    \\n\\n    def set_build_year(self, by):\\n        self.build_year = by\\n        \\n    def get_build_year(self):\\n        return self.build_year    \\n    \\n\\nx = Robot(\"Henry\", 2008)\\ny = Robot()\\ny.set_name(\"Marvin\")\\nx.say_hi()\\ny.say_hi()',\n",
       " '_i212': 'class A():\\n    \\n    def __init__(self):\\n        self.__priv = \"I am private\"\\n        self._prot = \"I am protected\"\\n        self.pub = \"I am public\"\\n\\n        \\nx = A()\\nprint(x.pub)\\nx.pub = \"Public Changed\"\\nprint(x.pub)\\nprint(x._prot)\\nx._prot = \"Protected Changed\" # Not a good practice\\nprint(x._prot)\\nprint(x.__priv)\\n    ',\n",
       " '_i213': 'new_tup = (100,)\\nprint(new_tup)\\nnew_tup[1] = 55',\n",
       " '_i214': \"# I would recommend always using parentheses\\n# to indicate start and end of tuple\\n# even though parentheses are optional.\\n# Explicit is better than implicit.\\nzoo = ('python', 'elephant', 'penguin')\\nprint('Number of animals in the zoo is', len(zoo))\\nnew_zoo = 'monkey', 'camel', zoo # parentheses not required but are a good idea\\nprint('Number of cages in the new zoo is', len(new_zoo))\\nprint('All animals in new zoo are', new_zoo)\\nprint('Animals brought from old zoo are', new_zoo[2])\\nprint('Last animal brought from old zoo is', new_zoo[2][2])\\nprint('Number of animals in the new zoo is',\\nlen(new_zoo)-1+len(new_zoo[2]))\",\n",
       " '_i215': \"import timeit\\nprint(timeit.timeit('x=(1,2,3,4,5,6,7,8,9)', number=100000))\\n\\nprint(timeit.timeit('x=[1,2,3,4,5,6,7,8,9]', number=100000))\",\n",
       " '_i216': \"# Tuple 'n_tuple' with a list as one of its item.\\nn_tuple = (1, 1, [3,4])\\nprint(n_tuple)\\n#Items with same value have the same id.\\nid(n_tuple[0]) == id(n_tuple[1])\",\n",
       " '_i217': \"# List 'n_list' with a list as one of its item.\\nn_list = [1, 1, [3,4]]\\nprint(n_list)\\n#Items with same value have the same id.\\nid(n_list[0]) == id(n_list[1])\",\n",
       " '_i218': '(aa, bb, cc, dd) = (111, 222, 333, 444, 555)\\nprint(aa, bb, cc)',\n",
       " '_i219': \"class Date(object):\\n    def __init__(self, Year, Month, Day):\\n        self.year  = Year\\n        self.month = Month\\n        self.day   = Day\\n\\n    def __str__(self):\\n        return 'Date({}, {}, {})'.format(self.year, self.month, self.day)\\n\\n    def set_date(self, y, m, d):\\n        self.year = y\\n        self.month = m\\n        self.day = d\\n\\n    @classmethod\\n    def from_str(cls, date_str):\\n        '''Call as\\n           d = Date.from_str('2013-12-30')\\n        '''\\n        print(cls)\\n        year, month, day = map(int, date_str.split('-'))\\n        return cls(year, month, day)\",\n",
       " '_i22': \"#TBD\\nwith open('workfile.txt') as f:\\n    lines = f.readlines()\\nprint(lines)\\nprint(type(lines))\",\n",
       " '_i220': \"d = Date(2019, 1, 8)\\nprint(d.__str__())\\nd.set_date(2019, 1, 9)\\nprint(d.__str__())\\n\\nd_alt = Date.from_str('2019-1-10')\\nprint(d_alt.__str__())\\nd_alt.set_date(2019, 1, 11)\\nprint(d_alt.__str__())\",\n",
       " '_i221': 'class C: \\n\\n    counter = 0\\n    \\n    def __init__(self): \\n        type(self).counter += 1\\n\\n    def __del__(self):\\n        type(self).counter -= 1\\n\\nif __name__ == \"__main__\":\\n    x = C()\\n    print(\"Number of instances: : \" + str(C.counter))\\n    y = C()\\n    print(\"Number of instances: : \" + str(C.counter))\\n    del x\\n    print(\"Number of instances: : \" + str(C.counter))\\n    del y\\n    print(\"Number of instances: : \" + str(C.counter))',\n",
       " '_i222': 'class Robot:\\n    \"\"\"Represents a robot, with a name.\"\"\"\\n\\n    # A class variable, counting the number of robots\\n    population = 0 # class variable: whose value is shared among all instances of a this class\\n\\n    def __init__(self, name):\\n        \"\"\"Initializes the data.\"\"\"\\n        self.name = name # Object variable\\n        print(\"(Initializing {})\".format(self.name))\\n\\n        # When this person is created, the robot\\n        # adds to the population\\n        Robot.population += 1\\n\\n    def die(self):\\n        \"\"\"I am dying.\"\"\"\\n        print(\"{} is being destroyed!\".format(self.name))\\n\\n        Robot.population -= 1\\n\\n        if Robot.population == 0:\\n            print(\"{} was the last one.\".format(self.name))\\n        else:\\n            print(\"There are still {:d} robots working.\".format(\\n                Robot.population))\\n\\n    def say_hi(self):\\n        \"\"\"Greeting by the robot.\\n        Yeah, they can do that.\"\"\"\\n        print(\"Greetings, my masters call me {}.\".format(self.name))\\n\\n    @classmethod # class method\\n    def how_many(cls):\\n        \"\"\"Prints the current population.\"\"\"\\n        print(\"We have {:d} robots.\".format(cls.population))\\n\\n\\ndroid1 = Robot(\"R2-D2\")\\ndroid1.say_hi()\\nRobot.how_many()\\n\\ndroid2 = Robot(\"C-3PO\")\\ndroid2.say_hi()\\nRobot.how_many()\\n\\nprint(\"\\\\nRobots can do some work here.\\\\n\")\\n\\nprint(\"Robots have finished their work. So let\\'s destroy them.\")\\ndroid1.die()\\ndroid2.die()\\n\\nRobot.how_many()',\n",
       " '_i223': 'class Robot:\\n \\n    def __init__(self, name=None):\\n        self.name = name   \\n        \\n    def say_hi(self):\\n        if self.name:\\n            print(\"Hi, I am \" + self.name)\\n        else:\\n            print(\"Hi, I am a robot without a name\")\\n            \\n    def set_name(self, name):\\n        self.name = name\\n        \\n    def get_name(self):\\n        return self.name\\n    \\n\\nx = Robot()\\nx.set_name(\"Henry\")\\nx.say_hi()\\ny = Robot()\\ny.set_name(x.get_name())\\nprint(y.get_name())\\nz = Robot(\"Pawan\")\\nz.say_hi()',\n",
       " '_i224': 'class Robot:\\n \\n    def __init__(self, \\n                 name=None,\\n                 build_year=None):\\n        self.name = name   \\n        self.build_year = build_year\\n        \\n    def say_hi(self):\\n        if self.name:\\n            print(\"Hi, I am \" + self.name)\\n        else:\\n            print(\"Hi, I am a robot without a name\")\\n        if self.build_year:\\n            print(\"I was built in \" + str(self.build_year))\\n        else:\\n            print(\"It\\'s not known, when I was created!\")\\n            \\n    def set_name(self, name):\\n        self.name = name\\n        \\n    def get_name(self):\\n        return self.name    \\n\\n    def set_build_year(self, by):\\n        self.build_year = by\\n        \\n    def get_build_year(self):\\n        return self.build_year    \\n    \\n\\nx = Robot(\"Henry\", 2008)\\ny = Robot()\\ny.set_name(\"Marvin\")\\nx.say_hi()\\ny.say_hi()',\n",
       " '_i225': 'class A():\\n    \\n    def __init__(self):\\n        self.__priv = \"I am private\"\\n        self._prot = \"I am protected\"\\n        self.pub = \"I am public\"\\n\\n        \\nx = A()\\nprint(x.pub)\\nx.pub = \"Public Changed\"\\nprint(x.pub)\\nprint(x._prot)\\nx._prot = \"Protected Changed\" # Not a good practice\\nprint(x._prot)\\nprint(x.__priv)\\n    ',\n",
       " '_i226': '(aa, bb, cc, dd) = (111, 222, 333)\\n#print(aa, bb, cc)',\n",
       " '_i227': '[aa, bb, cc, dd] = [111, 222, 333]\\nprint(aa, bb, cc)',\n",
       " '_i228': \"basket = {'apple', 'orange', 'apple', 'pear', 'orange', 'banana'}\\nprint (basket)\\nprint(dir(basket))\",\n",
       " '_i229': \"basket = {'apple', 'orange', 'apple', 'pear', 'orange', 'banana'}\\nprint (basket)\\nprint(dir(basket))\",\n",
       " '_i23': \"#TBD\\nwith open('workfile.txt') as f:\\n    lines = f.readlines()\\nlines = list(map(lambda x: x.rstrip().title(), lines))\\nprint(lines)\\nprint(type(lines))\",\n",
       " '_i230': \"basket = {'apple', 'orange', 'apple', 'pear', 'orange', 'banana'}\\nprint('orange' in basket)\\nprint('crabgrass' in basket)\",\n",
       " '_i231': 'my_list = [1, 2, 3, 5, 5, 6, 7, 8, 8]\\nprint(my_list)\\nmy_set = set(my_list)\\nprint(my_set)',\n",
       " '_i232': \"# Demonstrate set operations on unique letters from two words\\na = set('abracadabra')\\nprint (a)\\nb = set('alacazam')\\nprint(a.union(b))\\nprint(a|b)\\nprint(a.intersection(b))\\nprint(a&b)\",\n",
       " '_i233': 'aa = {11, 22, 33, 44, 44}\\nprint(aa)\\naa.',\n",
       " '_i234': \"def logger(msg):\\n    def log_message():\\n        print('Log:', msg)\\n    \\n    return log_message\\n\\nlog_hi = logger('Hi')\\nprint(log_hi)\\nlog_hi()\",\n",
       " '_i235': \"def outer_func():\\n    message = 'Hi'\\n    \\n    def inner_func():\\n        print(message)\\n        \\n    return inner_func\\n\\nmy_func = outer_func()\\n\\nmy_func()\",\n",
       " '_i236': \"def outer_func(msg):\\n    message = msg\\n    \\n    def inner_func():\\n        print(message)\\n        \\n    return inner_func\\n\\nhi_func = outer_func('Hi')\\nhello_func = outer_func('Hello')\\n\\nhi_func()\\nhello_func()\",\n",
       " '_i237': \"class Sentence(object):\\n    def __init__(self, msg):\\n        self.msg = msg\\n        self.words = self.msg.split()\\n        self.index = 0\\n\\n    def __iter__(self):\\n        return self\\n    \\n    def __next__(self):\\n        if (self.index >= len(self.words)):\\n            raise StopIteration\\n        idx = self.index\\n        self.index += 1\\n        return self.words[idx]\\n        \\nmy_sentence = Sentence('This is a test')\\n\\n#for word in my_sentence:\\n#    print(word)\\n\\nprint(my_sentence.__next__())\\nprint(next(my_sentence))\\nprint(next(my_sentence))\\nprint(next(my_sentence))\\nprint(next(my_sentence))\",\n",
       " '_i238': \"#bb = ('aa': 50, 'bb': 60)\",\n",
       " '_i239': 'aa = {11, 22, 33, 44, 44}\\nprint(aa)',\n",
       " '_i24': \"#TBD\\nwith open('workfile.txt') as f:\\n    lines = f.readlines()\\nlines = list(map(lambda x: x.rstrip().title(), lines))\\nprint(lines)\\nprint(type(lines))\\n\\nwith open('out_file.txt', 'w') as f1:\\n    f1.write(' '.join(lines))\",\n",
       " '_i240': \"tel = {'jack': 4098, 'sape': 4139}\\ntel['guido'] = 4127\\nprint(tel)\\nprint(tel['jack'])\\ndel tel['sape']\\ntel['irv'] = 4127\\nprint(tel)\",\n",
       " '_i241': \"tel = {'jack': 4098, 'sape': 4139}\\ntel['guido'] = 4127\\nprint(tel)\\nprint(tel['jack'])\\ndel tel['sape']\\ntel['irv'] = 4127\\nprint(tel)\",\n",
       " '_i242': 'print((tel.keys()))',\n",
       " '_i243': 'print(list(tel.keys()))\\nprint(tel.keys())\\nprint(sorted(tel.keys()))',\n",
       " '_i244': \"print('guido' in tel)\\nprint('jack' not in tel)\",\n",
       " '_i245': 'print(sorted(tel.values()))',\n",
       " '_i246': 'print(41299 in tel.values())',\n",
       " '_i247': \"print('guidox' in tel.keys())\",\n",
       " '_i248': 'print(sorted(tel.items()))',\n",
       " '_i249': \"print(tel.get('guido'))\",\n",
       " '_i25': 'lines[0].rstrip()',\n",
       " '_i250': \"print(tel['guidox'])\",\n",
       " '_i251': \"print(tel.get('NA', 'NotPresent'))\",\n",
       " '_i252': \"tel.setdefault('New', 1234)\\nprint(tel)\",\n",
       " '_i253': \"tel['Newer'] = 3456\\nprint(tel)\",\n",
       " '_i254': \"tel['Newer'] = 3456\\nprint(tel)\",\n",
       " '_i255': 'print(dir(tel))',\n",
       " '_i256': 'print(help(tel.get))',\n",
       " '_i257': 'print({str(x): x**2 for x in (2, 4, 6)})',\n",
       " '_i258': \"# Looping through dictionary\\nknights = {'gallahad': 'the pure', 'robin': 'the brave'}\\nfor k, v in knights.items():\\n    print(k,v)\",\n",
       " '_i259': '10/0',\n",
       " '_i26': 'lines[0]',\n",
       " '_i260': \"# Looping through more than one sequence\\nquestions = ['name', 'quest', 'favorite color', 'xyx']\\nanswers = ['lancelot', 'the holy grail', 'blue']\\nfor q, a in zip(questions, answers):\\n    print('What is your {0}?  It is {1}.'.format(q, a))\",\n",
       " '_i261': \"# Looping through more than one sequence\\nquestions = ['name', 'quest', 'favorite color', 'xyx']\\nanswers = ['lancelot', 'the holy grail', 'blue']\\nfor q, a in zip(questions, answers):\\n    print('What is your {0}?  It is {1}.'.format(q, a))\",\n",
       " '_i262': \"# Obtaining the position index\\nquestions = ['name', 'quest', 'favorite color']\\nfor i, v in enumerate(questions):\\n    print(i, v)\",\n",
       " '_i263': \"# Obtaining the position index\\nquestions = ['name', 'quest', 'favorite color']\\nfor i, v in enumerate(sorted(questions)):\\n    print(i, v)\",\n",
       " '_i264': '# To loop over a sequence in reverse\\nfor i in reversed(range(1, 10, 2)):\\n    print(i)',\n",
       " '_i265': 'print(list(range(1, 10, 2)))',\n",
       " '_i266': \"# To loop over a sequence in sorted order\\nbasket = ['apple', 'orange', 'apple', 'pear', 'orange', 'banana']\\nfor f in sorted(set(basket)):\\n    print(f)\",\n",
       " '_i267': \"while True print('Hello world')\",\n",
       " '_i268': \"num_list = [500, 600, 700]\\nalpha_list = ['x', 'y', 'z']\\n\\n\\ndef nested_loop():\\n    for number in num_list:\\n        print(number)\\n        for letter in alpha_list:\\n            print(letter)\\n\\nif __name__ == '__main__':\\n    nested_loop()\",\n",
       " '_i269': 'aa = [1,2,3,4]\\nbb = [11,2,13,4]\\ncc = [1,12,3,4]\\n\\nif len(aa)== len(bb) == len(cc):\\n    print(True)\\nelse:\\n    print(False)',\n",
       " '_i27': \"#TBD\\nwith open('workfile.txt') as f:\\n    lines = f.readline(10)\\nprint(lines)\\nprint(type(lines))\",\n",
       " '_i270': 'default ',\n",
       " '_i271': '10 * (1/0)',\n",
       " '_i272': '4 + spam*3',\n",
       " '_i273': \"'2' + 2\",\n",
       " '_i274': \"def this_fails():\\n    x = 1/0\\n\\ntry:\\n    this_fails()\\nexcept ZeroDivisionError as err:\\n    print('Handling run-time error:', err)\",\n",
       " '_i275': 'def divide(x, y):\\n    try:\\n        result = x / y\\n        print(\"In Try\")\\n    except ZeroDivisionError:\\n        print(\"division by zero!\")\\n    else:\\n        print(\"result is\", result)\\n    finally:\\n        print(\"executing finally clause\")\\n        print(\"executing finally clause\")\\n        \\n#divide(2,3)\\nprint(\"=\"*40)\\ndivide(1,0)',\n",
       " '_i276': '1/0\\nprint(\"something\")',\n",
       " '_i277': 's = \"Regular expressions easily explained!\"\\n\"easily\" in s',\n",
       " '_i278': 'import re',\n",
       " '_i279': 'pattern = r\"ie\"\\nstr1 = \"Cookie\"\\n# if ($str =~ m/^H.+d$/)\\nif re.search(pattern, str1):\\n#if re.match(pattern, str1):\\n    print(\"Match!\")\\nelse: \\n    print(\"Not a match!\")',\n",
       " '_i28': 'f = open(\\'conversation.txt\\')\\nfor each_line in f:\\n    role, text = each_line.split(\\':\\', 1)\\n    print(\"{0} said : {1}\".format(role, text))\\nf.close()',\n",
       " '_i280': \"# . - A period. Matches any single character except newline character.\\nre.search(r'Co.k.e', 'Cookie').group()\",\n",
       " '_i281': \"x = re.search(r'Co.k.e', 'Cookie')\\nx.group()\",\n",
       " '_i282': \"x = re.search(r'(Co.)(k.e)', 'Cookie')\\nprint(x.group())\\nprint(x.group(1))\\nprint(x.group(2))\\nprint(x.groups())\",\n",
       " '_i283': 'print(dir(x))',\n",
       " '_i284': 'print(x.end())',\n",
       " '_i285': 'print(x.endpos)',\n",
       " '_i286': \"m = re.match(r'(?P<user>\\\\w+)@(?P<website>\\\\w+)\\\\.(?P<extension>\\\\w+)','myname@hackerrank.com')\\nm.groupdict()\",\n",
       " '_i287': \"# \\\\w - Lowercase w. Matches any single letter, digit or underscore.\\nre.search(r'Co\\\\wk\\\\we', 'Co0kie').group()\",\n",
       " '_i288': \"# \\\\W - Uppercase w. Matches any character not part of \\\\w (lowercase w).\\nre.search(r'C\\\\Wke', 'C@ke').group()\",\n",
       " '_i289': \"# \\\\s - Lowercase s. Matches a single whitespace character like: space, newline, tab, return.\\nre.search(r'Eat\\\\scake', 'Eat cake').group()\",\n",
       " '_i29': '# Read input from file\\nread_data = \\'\\'\\nf = open(\\'workfile.txt\\', \\'r\\')\\nread_data = f.read()\\n#print(\"First time: \" + read_data)\\n\\nread_data = f.read() # Should reading the same file again fetch the content?\\nf.close()\\n#f.read() # Should this throw error?\\n\\n\\nprint(\"First time: \" + read_data)\\n\\nprint(\"Second time: \" + read_again)',\n",
       " '_i290': \"# \\\\S - Uppercase s. Matches any character not part of \\\\s (lowercase s).\\nre.search(r'Cook\\\\Se', 'Cook!e').group()\",\n",
       " '_i291': \"# \\\\t - Lowercase t. Matches tab.\\nre.search(r'Eat\\\\tcake', 'Eat Cake').group()\\n\\n# \\\\n - Lowercase n. Matches newline.\\n\\n# \\\\r - Lowercase r. Matches return.\",\n",
       " '_i292': \"# \\\\d - Lowercase d. Matches decimal digit 0-9.\\nre.search(r'c\\\\d\\\\dkie', 'c00kie').group()\",\n",
       " '_i293': \"# ^ - Caret. Matches a pattern at the start of the string.\\nre.search(r'^Eat', 'Eat cake').group()\",\n",
       " '_i294': \"# $ - Matches a pattern at the end of string.\\nre.search(r'cake$', 'Eat cake').group()\",\n",
       " '_i295': \"# [abc] - Matches a or b or c.\\nre.search('[aaz]', 'Eat cake').group()\",\n",
       " '_i296': \"# [abc] - Matches a or b or c.\\nre.search('[aaz]', 'Eat cake').group()\",\n",
       " '_i297': \"# [a-zA-Z0-9] - Matches any letter from (a to z) or (A to Z) or (0 to 9). \\nre.search(r'Number: [0-9]', 'Number: 1').group()\",\n",
       " '_i298': \"# Matches any character except 5\\nre.search(r'Number: [^0-6]', 'Number: 7').group()\",\n",
       " '_i299': \"# \\\\A - Uppercase a. Matches only at the start of the string. Works across multiple lines as well.\\nre.search(r'\\\\A[A-E]ookie', 'Cookie').group()\",\n",
       " '_i3': 'class Singleton:\\n   __instance = None\\n   @staticmethod \\n   def getInstance():\\n      \"\"\" Static access method. \"\"\"\\n      if Singleton.__instance == None:\\n         Singleton()\\n      return Singleton.__instance\\n   def __init__(self):\\n      \"\"\" Virtually private constructor. \"\"\"\\n      if Singleton.__instance != None:\\n         raise Exception(\"This class is a singleton!\")\\n      else:\\n         Singleton.__instance = self\\ns = Singleton()\\nprint(s)\\n\\ns = Singleton.getInstance()\\nprint(s)\\n\\ns = Singleton.getInstance()\\nprint(s)',\n",
       " '_i30': '# Read input from file\\nread_data = \\'\\'\\nf = open(\\'workfile.txt\\', \\'r\\')\\nread_data = f.read()\\n#print(\"First time: \" + read_data)\\n\\nread_again = f.read() # Should reading the same file again fetch the content?\\nf.close()\\n#f.read() # Should this throw error?\\n\\n\\nprint(\"First time: \" + read_data)\\n\\nprint(\"Second time: \" + read_again)',\n",
       " '_i300': \"# \\\\b - Lowercase b. Matches only the beginning or end of the word.\\nre.search(r'\\\\b[A-E]ookie', 'Cookie').group()\",\n",
       " '_i301': \"# \\\\ - Backslash.\\nre.search(r'Back\\\\\\\\stail', 'Back\\\\stail').group()\",\n",
       " '_i302': \"# + - Checks for one or more characters to its left.\\nre.search(r'Co+kie', 'Cooookie').group()\",\n",
       " '_i303': \"# + - Checks for one or more characters to its left.\\nre.search(r'C0?kie', 'Ckie').group()\",\n",
       " '_i304': \"# + - Checks for one or more characters to its left.\\nre.search(r'C*kie', 'Ckie').group()\",\n",
       " '_i305': \"# * - Checks for zero or more characters to its left.\\n# Checks for any occurrence of a or o or both in the given sequence\\nre.search(r'Ca*o*kie', 'Ckie').group()\",\n",
       " '_i306': \"# ? - Checks for exactly zero or one character to its left.\\n# Checks for exactly zero or one occurrence of a or o or both in the given sequence\\nre.search(r'Colou?r', 'Color').group()\",\n",
       " '_i307': \"# {x} - Repeat exactly x number of times.\\n# {x,} - Repeat at least x times or more.\\n# {x, y} - Repeat at least x times but no more than y times.\\nval = '987654321'\\n#re.search(r'\\\\d{5,8}', '0987654321').group()\\nre.search(r'\\\\d{5,8}', val).group()\",\n",
       " '_i308': \"# {x} - Repeat exactly x number of times.\\n# {x,} - Repeat at least x times or more.\\n# {x, y} - Repeat at least x times but no more than y times.\\nval = '987654321'\\nre.search(r'\\\\d+', val).group()\",\n",
       " '_i309': \"# {x} - Repeat exactly x number of times.\\n# {x,} - Repeat at least x times or more.\\n# {x, y} - Repeat at least x times but no more than y times.\\nre.search(r'\\\\w{5,12}', '0980a0007').group()\",\n",
       " '_i31': '# Read input from file\\nread_data = \\'\\'\\nf = open(\\'workfile.txt\\', \\'r\\')\\nread_data = f.read()\\n#print(\"First time: \" + read_data)\\n\\nread_again = f.read() # Should reading the same file again fetch the content?\\nf.close()\\n#f.read() # Should this throw error?\\n\\n\\nprint(\"First time: \" + read_data)\\n\\nprint(\"Second time: \" + read_again)',\n",
       " '_i310': \"email_address = 'Please contact us at: support@datacamp.com'\\n#email_address = 'support@datacamp.com'\\nmatch = re.search(r'(\\\\S+)@(\\\\S+\\\\.(\\\\w+))', email_address)\\n\\nif match:\\n\\n    print(match.group()) # The whole matched text\\n    print(match.group(1)) # The username (group 1)\\n    print(match.group(2)) # The host (group 2)\\n    print(match.group(3)) # The host (group 2)\",\n",
       " '_i311': \"email_address = 'Please contact us at: support@datacamp.com'\\n#email_address = 'support@datacamp.com'\\nmatch = re.search(r'(?P<name>\\\\S+)@(?P<company>\\\\S+)\\\\.(?P<domain>\\\\w+)', email_address)\\n\\nif match:\\n\\n    print(match.group()) # The whole matched text\\n    print(match.group(1)) # The username (group 1)\\n    print(match.group(2)) # The host (group 2)\\n    print(match.group(3)) # The host (group 2)\\nprint(match.groupdict())\",\n",
       " '_i312': \"email_address = 'Please contact us at: supp@ort@da-ta-camp.com'\\n#email_address = 'support@datacamp.com'\\nre.search(r'\\\\S+@\\\\S+\\\\.\\\\w+', email_address).group()\",\n",
       " '_i313': \"# -, _, .\\nemail_address = 'supp-ort.india4@datacamp.com'\\n#re.search(r'\\\\S+@\\\\w+\\\\.\\\\w+', email_address).group() # Naga\\nre.search(r'[a-zA-Z0-9-_.]+@\\\\w+\\\\.\\\\w+', email_address).group() # Ramya\",\n",
       " '_i314': \"\\nemail_address = 'support@datacamp.com'\\nre.search(r'\\\\w+@\\\\w+\\\\.\\\\w+', email_address).group()\",\n",
       " '_i315': \"heading  = r'<h1>TITLE</h1>'\\nre.match(r'<.*>', heading).group()\",\n",
       " '_i316': \"heading  = r'<h1>TITLE</h1>'\\nre.match(r'<.*?>', heading).group()\",\n",
       " '_i317': \"heading  = r'<h1>TITLE</h1>'\\nre.search(r'<.*?>', heading).group()\",\n",
       " '_i318': 'pattern = \"C\"\\nsequence1 = \"IceCream\"\\n\\n# No match since \"C\" is not at the start of \"IceCream\"\\nre.match(pattern, sequence1).group()',\n",
       " '_i319': 'pattern = \"cookie\"\\nsequence = \"Cake and cookie\"\\n\\nre.search(pattern, sequence).group()',\n",
       " '_i32': '# Read input from file 2nd time\\n#read_data = \\'\\' # Pre-declaration not needed\\nf = open(\\'workfile.txt\\', \\'r\\')\\nread_data = f.read()\\nf.seek(100)\\nread_again = f.read()\\nf.close()\\n\\nprint(\"First time: \" + read_data)\\nprint()\\nprint(\"Second time: \" + read_again)',\n",
       " '_i320': 'pattern = \"cookie\"\\nsequence = \"Cake and cookie\"\\n\\nre.search(pattern, sequence).group()',\n",
       " '_i321': 'import re\\n\\npattern = \\'this\\'\\ntext = \\'Does this text match the pattern?\\'\\n\\nmatch = re.search(pattern, text)\\n\\ns = match.start()\\ne = match.end()\\n\\nprint (f\\'Found \"{match.re.pattern}\" in \"{match.string}\" from {s} to {e} (\"{text[s:e]}\")\\')',\n",
       " '_i322': '# findall\\nemail_address = \"Please contact us at: support@datacamp.com, xyz@datacamp.com\"\\n\\n#\\'addresses\\' is a list that stores all the possible match\\naddresses = re.findall(r\\'[\\\\w\\\\.-]+@[\\\\w\\\\.-]+\\', email_address)\\nfor address in addresses: \\n    print(address)',\n",
       " '_i323': '# Substitution\\nemail_address = \"Please contact us at: xyz@datacamp.com\"\\nnew_email_address = re.sub(r\\'([\\\\w\\\\.-]+)@([\\\\w\\\\.-]+)\\', r\\'support@datacamp.com\\', email_address)\\nprint(new_email_address)',\n",
       " '_i324': \"import re\\npattern = 'x'\\nrepl = 'y'\\nstring = 'replace x with y'\\nprint(re.subn(pattern, repl, string))\",\n",
       " '_i325': 'import time\\na = [1, 2, 3, 4, 5]\\n\\n# Start the timer\\nstart = time.time()\\n\\nfor i in range(0, 5000000):\\n    a = [value if value % 2 == 1 else value * 1 for value in a]\\n# Stop the timer\\nend = time.time()\\n#print(\"Input value is of type: {0} and {1}\".format(type(user_input), \\'something else\\'))\\nprint(\"Time consumed with comprehension: \" + str(end - start))\\n\\n# Restart the timer\\nstart = time.time()\\nfor i in range(0, 5000000):\\n    for j in range(len(a)):\\n        if a[j] % 2 == 1:\\n            a[j] = a[j]\\n        else:\\n            a[j] = a[j] * 1\\n# Stop the timer \\nend = time.time()\\nprint(\"Time consumed with loops: \" + str(end - start))',\n",
       " '_i326': 'my_str = \"Hello World\"\\nword_count = {}\\nfor ii in my_str:\\n    if ii not in word_count.keys():\\n        word_count[ii] = 1\\n    else:\\n        word_count[ii] += 1\\nprint(word_count)',\n",
       " '_i327': 'pip install pep8',\n",
       " '_i328': 'movies = [\"The Holy Grail\", 1975, \"Terry Jones & Terry Gilliam\", 91,\\n[\"Graham Chapman\", [\"Michael Palin\", \"John Cleese\",\\n\"Terry Gilliam\", \"Eric Idle\", \"Terry Jones\"]]]\\n\\nfor ii in movies:\\n    if isinstance(ii, int):\\n        print(\"Found data type: {0}, of value {1}\".format(type(ii), ii))\\n    elif isinstance(ii, str):\\n        print(\"Found data type: {0}, of value {1}\".format(type(ii), ii))\\n    elif isinstance(ii, list):\\n        print(\"Found data type: {0}, of value {1}\".format(type(ii), ii))\\n        for jj in ii:\\n            if isinstance(jj, int):\\n                print(\"Found data type: {0}, of value {1}\".format(type(jj), jj))\\n            elif isinstance(jj, str):\\n                print(\"Found data type: {0}, of value {1}\".format(type(jj), jj))\\n            elif isinstance(jj, list):\\n                print(\"Found data type: {0}, of value {1}\".format(type(jj), jj)) \\n                for kk in jj:\\n                    if isinstance(kk, int):\\n                        print(\"Found data type: {0}, of value {1}\".format(type(kk), kk))\\n                    elif isinstance(kk, str):\\n                        print(\"Found data type: {0}, of value {1}\".format(type(kk), kk))\\n                    elif isinstance(kk, list):\\n                        print(\"Found data type: {0}, of value {1}\".format(type(kk), kk))',\n",
       " '_i329': 'movies = [\"The Holy Grail\", 1975, \"Terry Jones & Terry Gilliam\", 91,\\n[\"Graham Chapman\", [\"Michael Palin\", \"John Cleese\",\\n\"Terry Gilliam\", \"Eric Idle\", \"Terry Jones\"]]]\\n\\n\\ndef recurse_fn(big_data_struture):\\n    for ii in big_data_struture:\\n        if isinstance(ii, int):\\n            print(\"Found data type: {0}, of value {1}\".format(type(ii), ii))\\n        elif isinstance(ii, str):\\n            print(\"Found data type: {0}, of value {1}\".format(type(ii), ii))\\n        elif isinstance(ii, list):\\n            print(\"Found data type: {0}, of value {1}\".format(type(ii), ii))\\n            recurse_fn(ii)\\n        \\n\\nrecurse_fn(movies)',\n",
       " '_i33': '# Write into a file\\nread_data = \\'\\'\\nf = open(\\'workfile.txt\\')\\nread_data = f.read()\\nf.close()\\nprint(\"Inital data: \"+ read_data)\\n# Introduce the approach to use help\\ncap_data = read_data.swapcase()\\nprint (\"CAP data: \" + cap_data)\\n\\nf = open(\\'newfile.txt\\', \\'w\\')\\nf.write(cap_data)\\nf.close()',\n",
       " '_i330': 'def scope_test():\\n    def do_local():\\n        #print(f\\'do_local: ID of spam before assignment: {id(spam)}\\')\\n        spam = \"spam local\"\\n        print(f\\'do_local: ID of spam after assignment: {id(spam)}\\')\\n        print(f\\'do_local: Value of spam after assignment: {spam}\\')\\n\\n    def do_nonlocal():\\n        nonlocal spam\\n        print(f\\'do_nonlocal: ID of spam before assignment: {id(spam)}\\')\\n        spam = \"spam nonlocal\"\\n        print(f\\'do_nonlocal: ID of spam after assignment: {id(spam)}\\')\\n        print(f\\'do_nonlocal: Value of spam after assignment: {spam}\\')\\n\\n    def do_global():\\n        global spam\\n        print(f\\'do_global: ID of spam before assignment: {id(spam)}\\')\\n        spam = \"spam global\"\\n        print(f\\'do_global: ID of spam after assignment: {id(spam)}\\')\\n\\n    spam = \"spam\"\\n    do_local()\\n    print(\"After local assignment:\", spam)\\n    do_nonlocal()\\n    print(\"After nonlocal assignment:\", spam)\\n    do_global()\\n    print(\"After global assignment:\", spam)\\n\\nspam = \"spam\"\\nscope_test()\\nprint(\"In global scope:\", spam)',\n",
       " '_i331': 'x = \"global\"\\n\\ndef foo():\\n    print(\"x inside :\", x)\\n\\nfoo()\\nprint(\"x outside:\", x)',\n",
       " '_i332': 'x = \"global\"\\n\\ndef foo():\\n    x = x * 2\\n    print(x)\\nfoo()',\n",
       " '_i333': 'x = \"global\"\\n\\ndef foo():\\n    global x\\n    y = \"local\"\\n    x = x * 2\\n    print(x)\\n    print(y)\\n    \\nfoo()',\n",
       " '_i334': 'def outer():\\n    x = \"local\"\\n    \\n    def inner():\\n        nonlocal x\\n        x = \"nonlocal\"\\n        print(\"inner:\", x)\\n    \\n    inner()\\n    print(\"outer:\", x)\\n\\nouter()',\n",
       " '_i335': 'def scope_test():\\n    def do_local():\\n        spam = \"local spam\"\\n\\n    def do_nonlocal():\\n        #nonlocal spam\\n        spam = \"nonlocal spam\"\\n\\n    def do_global():\\n        #global spam\\n        spam = \"global spam\"\\n\\n    #spam = \"test spam\"\\n    do_local()\\n    print(\"After local assignment:\", spam)\\n    do_nonlocal()\\n    print(\"After nonlocal assignment:\", spam)\\n    do_global()\\n    print(\"After global assignment:\", spam)\\n\\nspam = \"main spam\"\\nscope_test()\\nprint(\"In global scope:\", spam)',\n",
       " '_i336': 'def outside():\\n    msg = \"Outside!\"\\n    def inside():\\n        msg = \"Inside!\"\\n        print(msg)\\n    inside()\\n    print(msg)\\n\\noutside()',\n",
       " '_i337': 'def outside():\\n    msg = \"Outside!\"\\n    def inside():\\n        msg = \"Inside!\"\\n        print(msg)\\n    inside()\\n    print(msg)\\n\\noutside()',\n",
       " '_i338': 'def outside():\\n    msg = \"Outside!\"\\n    def inside():\\n        nonlocal msg\\n        msg = \"Inside!\"\\n        print(msg)\\n    inside()\\n    print(msg)\\n\\noutside()',\n",
       " '_i339': 'x = 5\\ndef foo():\\n    #global x\\n    nonlocal x\\n    x = 6\\n    print(x)\\nfoo()\\nprint(x)',\n",
       " '_i34': \"aa = 'abc'\\nprint(dir(aa))\\n#dir('5')\",\n",
       " '_i340': \"def outer_func():\\n    message = 'Hi'\\n    \\n    def inner_func():\\n        print(message)\\n        \\n    return inner_func\\n\\nmy_func = outer_func()\\n\\nmy_func()\",\n",
       " '_i341': \"def outer_func(msg):\\n    message = msg\\n    \\n    def inner_func():\\n        print(message)\\n        \\n    return inner_func\\n\\nhi_func = outer_func('Hi')\\nhello_func = outer_func('Hello')\\n\\nhi_func()\\nhello_func()\",\n",
       " '_i342': \"class Sentence(object):\\n    def __init__(self, msg):\\n        self.msg = msg\\n        self.words = self.msg.split()\\n        self.index = 0\\n\\n    def __iter__(self):\\n        return self\\n    \\n    def __next__(self):\\n        if (self.index >= len(self.words)):\\n            raise StopIteration\\n        idx = self.index\\n        self.index += 1\\n        return self.words[idx]\\n        \\nmy_sentence = Sentence('This is a test')\\n\\n#for word in my_sentence:\\n#    print(word)\\n\\nprint(my_sentence.__next__())\\nprint(next(my_sentence))\\nprint(next(my_sentence))\\nprint(next(my_sentence))\\nprint(next(my_sentence))\",\n",
       " '_i343': 'x = 5\\ndef foo():\\n    x = 6\\n    def bar():\\n        nonlocal x\\n        x = 6\\n        print(x)\\n    bar()\\n    print(x)\\nfoo()\\n\\nprint(x)',\n",
       " '_i344': 'class Person:\\n    pass  # An empty block\\n\\nif __name__ == \"__main__\":\\n    p = Person()\\n    print(p)',\n",
       " '_i345': 'class Person:\\n    pass  # An empty block\\n\\nif __name__ == \"__main__\":\\n    p = Person()\\n    print(p)',\n",
       " '_i346': 'class Person:\\n    \"\"\"This is Person Class\"\"\"\\n    pass  # An empty block\\n\\np = Person()\\nprint(p.__doc__)',\n",
       " '_i347': 'aa = 10\\nprint(aa.__doc__)',\n",
       " '_i348': 'class MyClass:\\n    \"\"\"A simple example class\"\"\"\\n    i = 12345\\n\\n    def f(self):\\n        print(id(self))\\n        print(\"hello world\")\\n\\nif __name__ == \"__main__\":\\n    newObj = MyClass() # Class instantiation\\n    newObj.f()\\n    print(id(newObj))\\n    #When you call a method of this object as newObj.f(), this is automatically converted \\n    #by Python into MyClass.f(newObj) - this is all the special self is about.\\n    \\n    newObj1 = MyClass() # Class instantiation\\n    newObj1.f()\\n    print(id(newObj1))',\n",
       " '_i349': \"class Person:\\n    def say_hi(self):\\n        print('Hello, how are you?')\\n\\np = Person()\\np.say_hi()\\n# The previous 2 lines can also be written as\\n# Person().say_hi()\",\n",
       " '_i35': \"aa = 'abc'\\nhelp(aa.zfill)\\naa.zfill(10)\\n#help(aa)\",\n",
       " '_i350': 'sign = lambda x: (\\'+\\', \\'-\\')[x < 0]\\nclass Complex:\\n    def __init__(self, realpart, imagpart):\\n        self.r = realpart\\n        self.i = imagpart\\n\\n    def print_complex(self):\\n        print(\"Complex number is: {}{}i{}\".format(self.r, sign(self.i), abs(self.i)))\\n        \\nx = Complex(3.0, -4.5)\\nx.print_complex()',\n",
       " '_i351': 'sign = lambda x: (\\'+\\', \\'-\\')[x < 0]\\nclass Complex:\\n    def __init__(self):\\n        #self.r = realpart\\n        #self.i = imagpart\\n    def initialize(self, real, image):\\n        self.r = realpart\\n        self.i = imagpart\\n    def print_complex(self):\\n        print(\"Complex number is: {}{}i{}\".format(self.r, sign(self.i), abs(self.i)))\\n        \\nx = Complex()\\nx.initalize(3.0, -4.5)\\nx.print_complex()',\n",
       " '_i352': 'sign = lambda x: (\\'+\\', \\'-\\')[x < 0]\\nclass Complex:\\n    def __init__(self):\\n        #self.r = realpart\\n        #self.i = imagpart\\n        pass\\n    def initialize(self, real, image):\\n        self.r = realpart\\n        self.i = imagpart\\n    def print_complex(self):\\n        print(\"Complex number is: {}{}i{}\".format(self.r, sign(self.i), abs(self.i)))\\n        \\nx = Complex()\\nx.initalize(3.0, -4.5)\\nx.print_complex()',\n",
       " '_i353': 'sign = lambda x: (\\'+\\', \\'-\\')[x < 0]\\nclass Complex:\\n\\n    \"\"\"\\n    def __init__(self):\\n        #self.r = realpart\\n        #self.i = imagpart\\n    \"\"\"    \\n    def initialize(self, real, image):\\n        self.r = realpart\\n        self.i = imagpart\\n    def print_complex(self):\\n        print(\"Complex number is: {}{}i{}\".format(self.r, sign(self.i), abs(self.i)))\\n        \\nx = Complex()\\nx.initalize(3.0, -4.5)\\nx.print_complex()',\n",
       " '_i354': 'sign = lambda x: (\\'+\\', \\'-\\')[x < 0]\\nclass Complex:\\n\\n    \"\"\"\\n    def __init__(self):\\n        #self.r = realpart\\n        #self.i = imagpart\\n    \"\"\"    \\n    def initialize(self, real, image):\\n        self.r = realpart\\n        self.i = imagpart\\n    def print_complex(self):\\n        print(\"Complex number is: {}{}i{}\".format(self.r, sign(self.i), abs(self.i)))\\n        \\nx = Complex()\\nx.initialize(3.0, -4.5)\\nx.print_complex()',\n",
       " '_i355': 'sign = lambda x: (\\'+\\', \\'-\\')[x < 0]\\nclass Complex:\\n\\n    \"\"\"\\n    def __init__(self):\\n        #self.r = realpart\\n        #self.i = imagpart\\n    \"\"\"    \\n    def initialize(self, real, image):\\n        self.r = real\\n        self.i = imag\\n    def print_complex(self):\\n        print(\"Complex number is: {}{}i{}\".format(self.r, sign(self.i), abs(self.i)))\\n        \\nx = Complex()\\nx.initialize(3.0, -4.5)\\nx.print_complex()',\n",
       " '_i356': 'sign = lambda x: (\\'+\\', \\'-\\')[x < 0]\\nclass Complex:\\n\\n    \"\"\"\\n    def __init__(self):\\n        #self.r = realpart\\n        #self.i = imagpart\\n    \"\"\"    \\n    def initialize(self, real, imag):\\n        self.r = real\\n        self.i = imag\\n    def print_complex(self):\\n        print(\"Complex number is: {}{}i{}\".format(self.r, sign(self.i), abs(self.i)))\\n        \\nx = Complex()\\nx.initialize(3.0, -4.5)\\nx.print_complex()',\n",
       " '_i357': 'sign = lambda x: (\\'+\\', \\'-\\')[x < 0]\\nclass Complex:\\n\\n    \"\"\"\\n    def __init__(self):\\n        #self.r = realpart\\n        #self.i = imagpart\\n    \"\"\"    \\n    def initialize(self, real, imag):\\n        self.r = real\\n        self.i = imag\\n    def print_complex(self):\\n        print(\"Complex number is: {}{}i{}\".format(self.r, sign(self.i), abs(self.i)))\\n        \\nx = Complex()\\nx.initialize(3.0, -4.5)\\nx.print_complex()',\n",
       " '_i358': 'class Robot:\\n \\n    def __init__(self, name1=None, x = None):\\n        self.name = name1   \\n        \\n    def say_hi(self):\\n        if self.name:\\n            print(\"Hi, I am \" + self.name)\\n        else:\\n            print(\"Hi, I am a robot without a name\")\\n    \\n\\nx = Robot()\\nx.say_hi()\\n\\ny = Robot(\"Marvin\")\\ny.say_hi()\\n\\nz = Robot(\"Marvin\", \"xyz\")\\nz.say_hi()',\n",
       " '_i359': 'class Robot:\\n \\n    def __init__(self, name1=None, x = None):\\n        self.name = name1   \\n        \\n    def say_hi(self):\\n        if self.name:\\n            print(\"Hi, I am \" + self.name)\\n        else:\\n            print(\"Hi, I am a robot without a name\")\\n    \\n\\nx = Robot()\\nx.say_hi()\\n\\ny = Robot(\"Marvin\")\\ny.say_hi()\\n\\nz = Robot(\"Marvin\", \"xyz\")\\nz.say_hi()',\n",
       " '_i36': \"aa = 'abc'\\n#print (aa.__doc__)\\n#print('='*80)\\nprint (aa.zfill.__doc__)\",\n",
       " '_i360': 'class Robot:\\n \\n    def __init__(self, name=None):\\n        self.name = name   \\n        \\ndef say_hi(y):\\n    if y.name:\\n        print(\"Hi, I am \" + y.name)\\n    else:\\n        print(\"Hi, I am a robot without a name\")\\n    \\n\\nx = Robot(\"xyz\")\\nsay_hi()\\ny = Robot(\"Marvin\")\\nsay_hi(y)',\n",
       " '_i361': \"def logger(msg):\\n    def log_message():\\n        print('Log:', msg)\\n    \\n    return log_message\\n\\nlog_hi = logger('Hi')\\nprint(log_hi)\\nlog_hi()\",\n",
       " '_i362': \"def outer_func():\\n    message = 'Hi'\\n    \\n    def inner_func():\\n        print(message)\\n        \\n    return inner_func\\n\\nmy_func = outer_func()\\n\\nmy_func()\",\n",
       " '_i363': \"def outer_func(msg):\\n    message = msg\\n    \\n    def inner_func():\\n        print(message)\\n        \\n    return inner_func\\n\\nhi_func = outer_func('Hi')\\nhello_func = outer_func('Hello')\\n\\nhi_func()\\nhello_func()\",\n",
       " '_i364': \"class Sentence(object):\\n    def __init__(self, msg):\\n        self.msg = msg\\n        self.words = self.msg.split()\\n        self.index = 0\\n\\n    def __iter__(self):\\n        return self\\n    \\n    def __next__(self):\\n        if (self.index >= len(self.words)):\\n            raise StopIteration\\n        idx = self.index\\n        self.index += 1\\n        return self.words[idx]\\n        \\nmy_sentence = Sentence('This is a test')\\n\\n#for word in my_sentence:\\n#    print(word)\\n\\nprint(my_sentence.__next__())\\nprint(next(my_sentence))\\nprint(next(my_sentence))\\nprint(next(my_sentence))\\nprint(next(my_sentence))\",\n",
       " '_i365': 'class Point:\\n    def __init__( self, x=0, y=0):\\n        self.x = x\\n        self.y = y\\n    def set(self, x, y):\\n        self.x = x\\n        self.y = y\\n    def mygets(self):\\n        return self.x+ self.y\\n    def __del__(self):\\n        class_name = self.__class__.__name__\\n        print (\"{} destroyed\".format(class_name))\\n\\npt1 = Point()\\npt1.set(4,5)\\nprint(pt1.mygets())\\npt2 = pt1\\nprint(pt2.mygets())\\nprint (type(pt1), type(pt2))\\nprint (id(pt1), id(pt2))\\ndel pt1',\n",
       " '_i366': 'a = 5\\nb = a\\nprint (id(a), id(b))',\n",
       " '_i367': 'import sys\\naa = 121\\nprint (sys.getrefcount(121)) #-- Returns the reference count of the object.',\n",
       " '_i368': 'del aa\\nprint (sys.getrefcount(121))',\n",
       " '_i369': \"import sys\\nprint('The command line arguments are:')\\nfor i in sys.argv:\\n    print(i)\\n    \\nprint(f'\\\\n\\\\nThe PYTHONPATH is: {sys.path}\\\\n')\",\n",
       " '_i37': 'print(dir(__builtins__))',\n",
       " '_i370': 'import os\\nprint(f\"\\\\n\\\\nThe PATH is: {os.getenv(\\'Path\\')}\\\\n\")\\n#os.getenv(\\'PATH\\')\\n\\nprint(f\"\\\\n\\\\nThe CWD is: {os.getcwd()}\\\\n\")\\nos.getcwdb()',\n",
       " '_i371': \"import os\\nif __name__ == '__main__':\\n    print('This program is being run by itself')\\nelse:\\n    print('I am being imported from another module')\",\n",
       " '_i372': \"def say_hi():\\n    print('Hi, this is mymodule speaking.')\\n__version__ = '0.1'\",\n",
       " '_i373': \"import mymodule\\nmymodule.say_hi()\\nprint('Version', mymodule.__version__)\",\n",
       " '_i374': \"from mymodule import say_hi, __version__\\nsay_hi()\\nprint('Version', __version__)\",\n",
       " '_i375': 'vars()',\n",
       " '_i38': \"# Read from a file, process the data and then write into the file\\n# Will cover this after data types.\\nread_data = ''\\nf = open('workfile.txt', 'r')\\nread_data = f.read()\\nf.close()\\n\\n# Perform some operation\\ndata_dict = {}\\nfor ii in read_data.split():\\n    if ii not in data_dict.keys():\\n        data_dict[ii] = 1\\n    else:\\n        data_dict[ii] += 1\\n\\nprint (data_dict)\\n\\nf = open('newfile.txt', 'w')\\nf.write(str(data_dict))\\nf.close()\",\n",
       " '_i39': \"# Read from a file, process the data and then write into the file\\n# Will cover this after data types.\\nread_data = ''\\nf = open('workfile.txt', 'r')\\nread_data = f.read()\\nf.close()\\n\\n# Perform some operation\\ndata_dict = {}\\nfor ii in set(read_data.split()):\\n    data_dict[ii] = read_data.split().count(ii)\\n\\nprint (data_dict)\\n\\nf = open('newfile.txt', 'w')\\nf.write(str(data_dict))\\nf.close()\",\n",
       " '_i4': 'class Singleton:\\n    \\n    __instance = None\\n    \\n    @staticmethod \\n    def getInstance():\\n    \"\"\" Static access method. \"\"\"\\n    if Singleton.__instance == None:\\n        Singleton()\\n    return Singleton.__instance\\n\\n\\n    def __init__(self):\\n    \"\"\" Virtually private constructor. \"\"\"\\n    if Singleton.__instance != None:\\n        raise Exception(\"This class is a singleton!\")\\n    else:\\n        Singleton.__instance = self\\n        \\n        \\ns = Singleton()\\nprint(s)\\n\\ns = Singleton.getInstance()\\nprint(s)\\n\\ns = Singleton.getInstance()\\nprint(s)',\n",
       " '_i40': '2 + 2',\n",
       " '_i41': \"'2'+2\",\n",
       " '_i42': 'class Robot:\\n \\n    def __init__(self, name1=None, x = None):\\n        self.name = name1   \\n        \\n    def say_hi(self):\\n        if self.name:\\n            print(\"Hi, I am \" + self.name)\\n        else:\\n            print(\"Hi, I am a robot without a name\")\\n    \\n\\nx = Robot()\\nx.say_hi()\\n\\ny = Robot(\"Marvin\")\\ny.say_hi()\\n\\nz = Robot(\"Marvin\", \"xyz\")\\nz.say_hi()',\n",
       " '_i43': 'class Robot:\\n \\n    def __init__(self, name=None):\\n        self.name = name   \\n        \\ndef say_hi(y):\\n    if y.name:\\n        print(\"Hi, I am \" + y.name)\\n    else:\\n        print(\"Hi, I am a robot without a name\")\\n    \\n\\nx = Robot(\"xyz\")\\nsay_hi()\\ny = Robot(\"Marvin\")\\nsay_hi(y)',\n",
       " '_i44': \"2+'2'\",\n",
       " '_i45': '10/50 + (5/2)- 5*6',\n",
       " '_i46': '5/2 # Normal division ',\n",
       " '_i47': '(int)(5/2)',\n",
       " '_i48': '10/3',\n",
       " '_i49': '5//2 # Floor division',\n",
       " '_i5': 'class Singleton:\\n    \\n    __instance = None\\n    \\n    @staticmethod \\n    def getInstance():\\n    \"\"\" Static access method. \"\"\"\\n        if Singleton.__instance == None:\\n            Singleton()\\n        return Singleton.__instance\\n\\n\\n    def __init__(self):\\n    \"\"\" Virtually private constructor. \"\"\"\\n        if Singleton.__instance != None:\\n            raise Exception(\"This class is a singleton!\")\\n        else:\\n            Singleton.__instance = self\\n        \\n        \\ns = Singleton()\\nprint(s)\\n\\ns = Singleton.getInstance()\\nprint(s)\\n\\ns = Singleton.getInstance()\\nprint(s)',\n",
       " '_i50': 'aa = 5\\nbb = 10\\naa/bb',\n",
       " '_i51': \"aa = '5'\\nbb = 2\\naa/bb\",\n",
       " '_i52': \"class Date(object):\\n    def __init__(self, Year, Month, Day):\\n        self.year  = Year\\n        self.month = Month\\n        self.day   = Day\\n\\n    def __str__(self):\\n        return 'Date({}, {}, {})'.format(self.year, self.month, self.day)\\n\\n    def set_date(self, y, m, d):\\n        self.year = y\\n        self.month = m\\n        self.day = d\\n\\n    @classmethod\\n    def from_str(cls, date_str):\\n        '''Call as\\n           d = Date.from_str('2013-12-30')\\n        '''\\n        print(cls)\\n        year, month, day = map(int, date_str.split('-'))\\n        return cls(year, month, day)\",\n",
       " '_i53': \"d = Date(2019, 1, 8)\\nprint(d.__str__())\\nd.set_date(2019, 1, 9)\\nprint(d.__str__())\\n\\nd_alt = Date.from_str('2019-1-10')\\nprint(d_alt.__str__())\\nd_alt.set_date(2019, 1, 11)\\nprint(d_alt.__str__())\",\n",
       " '_i54': 'class C: \\n\\n    counter = 0\\n    \\n    def __init__(self): \\n        type(self).counter += 1\\n\\n    def __del__(self):\\n        type(self).counter -= 1\\n\\nif __name__ == \"__main__\":\\n    x = C()\\n    print(\"Number of instances: : \" + str(C.counter))\\n    y = C()\\n    print(\"Number of instances: : \" + str(C.counter))\\n    del x\\n    print(\"Number of instances: : \" + str(C.counter))\\n    del y\\n    print(\"Number of instances: : \" + str(C.counter))',\n",
       " '_i55': 'class Robot:\\n    \"\"\"Represents a robot, with a name.\"\"\"\\n\\n    # A class variable, counting the number of robots\\n    population = 0 # class variable: whose value is shared among all instances of a this class\\n\\n    def __init__(self, name):\\n        \"\"\"Initializes the data.\"\"\"\\n        self.name = name # Object variable\\n        print(\"(Initializing {})\".format(self.name))\\n\\n        # When this person is created, the robot\\n        # adds to the population\\n        Robot.population += 1\\n\\n    def die(self):\\n        \"\"\"I am dying.\"\"\"\\n        print(\"{} is being destroyed!\".format(self.name))\\n\\n        Robot.population -= 1\\n\\n        if Robot.population == 0:\\n            print(\"{} was the last one.\".format(self.name))\\n        else:\\n            print(\"There are still {:d} robots working.\".format(\\n                Robot.population))\\n\\n    def say_hi(self):\\n        \"\"\"Greeting by the robot.\\n        Yeah, they can do that.\"\"\"\\n        print(\"Greetings, my masters call me {}.\".format(self.name))\\n\\n    @classmethod # class method\\n    def how_many(cls):\\n        \"\"\"Prints the current population.\"\"\"\\n        print(\"We have {:d} robots.\".format(cls.population))\\n\\n\\ndroid1 = Robot(\"R2-D2\")\\ndroid1.say_hi()\\nRobot.how_many()\\n\\ndroid2 = Robot(\"C-3PO\")\\ndroid2.say_hi()\\nRobot.how_many()\\n\\nprint(\"\\\\nRobots can do some work here.\\\\n\")\\n\\nprint(\"Robots have finished their work. So let\\'s destroy them.\")\\ndroid1.die()\\ndroid2.die()\\n\\nRobot.how_many()',\n",
       " '_i56': 'class Robot:\\n \\n    def __init__(self, name=None):\\n        self.name = name   \\n        \\n    def say_hi(self):\\n        if self.name:\\n            print(\"Hi, I am \" + self.name)\\n        else:\\n            print(\"Hi, I am a robot without a name\")\\n            \\n    def set_name(self, name):\\n        self.name = name\\n        \\n    def get_name(self):\\n        return self.name\\n    \\n\\nx = Robot()\\nx.set_name(\"Henry\")\\nx.say_hi()\\ny = Robot()\\ny.set_name(x.get_name())\\nprint(y.get_name())\\nz = Robot(\"Pawan\")\\nz.say_hi()',\n",
       " '_i57': 'class Robot:\\n \\n    def __init__(self, \\n                 name=None,\\n                 build_year=None):\\n        self.name = name   \\n        self.build_year = build_year\\n        \\n    def say_hi(self):\\n        if self.name:\\n            print(\"Hi, I am \" + self.name)\\n        else:\\n            print(\"Hi, I am a robot without a name\")\\n        if self.build_year:\\n            print(\"I was built in \" + str(self.build_year))\\n        else:\\n            print(\"It\\'s not known, when I was created!\")\\n            \\n    def set_name(self, name):\\n        self.name = name\\n        \\n    def get_name(self):\\n        return self.name    \\n\\n    def set_build_year(self, by):\\n        self.build_year = by\\n        \\n    def get_build_year(self):\\n        return self.build_year    \\n    \\n\\nx = Robot(\"Henry\", 2008)\\ny = Robot()\\ny.set_name(\"Marvin\")\\nx.say_hi()\\ny.say_hi()',\n",
       " '_i58': 'class A():\\n    \\n    def __init__(self):\\n        self.__priv = \"I am private\"\\n        self._prot = \"I am protected\"\\n        self.pub = \"I am public\"\\n\\n        \\nx = A()\\nprint(x.pub)\\nx.pub = \"Public Changed\"\\nprint(x.pub)\\nprint(x._prot)\\nx._prot = \"Protected Changed\" # Not a good practice\\nprint(x._prot)\\nprint(x.__priv)\\n    ',\n",
       " '_i59': \"aa = '5'\\nbb = '2'\\naa/bb\",\n",
       " '_i6': 'class Singleton:\\n    \\n    __instance = None\\n    \\n    @staticmethod \\n    def getInstance():\\n        \"\"\" Static access method. \"\"\"\\n        if Singleton.__instance == None:\\n            Singleton()\\n        return Singleton.__instance\\n\\n\\n    def __init__(self):\\n        \"\"\" Virtually private constructor. \"\"\"\\n        if Singleton.__instance != None:\\n            raise Exception(\"This class is a singleton!\")\\n        else:\\n            Singleton.__instance = self\\n        \\n        \\ns = Singleton()\\nprint(s)\\n\\ns = Singleton.getInstance()\\nprint(s)\\n\\ns = Singleton.getInstance()\\nprint(s)',\n",
       " '_i60': \"aa = '5'\\nbb = '2'\\naa/bb\",\n",
       " '_i61': \"# -, _, .\\nemail_address = 'supp-ort.india4@datacamp.com'\\n#re.search(r'\\\\S+@\\\\w+\\\\.\\\\w+', email_address).group() # Naga\\nre.search(r'[a-zA-Z0-9-_.]+@\\\\w+\\\\.\\\\w+', email_address).group() # Ramya\",\n",
       " '_i62': \"class Date(object):\\n    def __init__(self, Year, Month, Day):\\n        self.year  = Year\\n        self.month = Month\\n        self.day   = Day\\n\\n    def __str__(self):\\n        return 'Date({}, {}, {})'.format(self.year, self.month, self.day)\\n\\n    def set_date(self, y, m, d):\\n        self.year = y\\n        self.month = m\\n        self.day = d\\n\\n    @classmethod\\n    def from_str(cls, date_str):\\n        '''Call as\\n           d = Date.from_str('2013-12-30')\\n        '''\\n        print(cls)\\n        year, month, day = map(int, date_str.split('-'))\\n        return cls(year, month, day)\",\n",
       " '_i63': \"d = Date(2019, 1, 8)\\nprint(d.__str__())\\nd.set_date(2019, 1, 9)\\nprint(d.__str__())\\n\\nd_alt = Date.from_str('2019-1-10')\\nprint(d_alt.__str__())\\nd_alt.set_date(2019, 1, 11)\\nprint(d_alt.__str__())\",\n",
       " '_i64': 'class C: \\n\\n    counter = 0\\n    \\n    def __init__(self): \\n        type(self).counter += 1\\n\\n    def __del__(self):\\n        type(self).counter -= 1\\n\\nif __name__ == \"__main__\":\\n    x = C()\\n    print(\"Number of instances: : \" + str(C.counter))\\n    y = C()\\n    print(\"Number of instances: : \" + str(C.counter))\\n    del x\\n    print(\"Number of instances: : \" + str(C.counter))\\n    del y\\n    print(\"Number of instances: : \" + str(C.counter))',\n",
       " '_i65': 'class Robot:\\n    \"\"\"Represents a robot, with a name.\"\"\"\\n\\n    # A class variable, counting the number of robots\\n    population = 0 # class variable: whose value is shared among all instances of a this class\\n\\n    def __init__(self, name):\\n        \"\"\"Initializes the data.\"\"\"\\n        self.name = name # Object variable\\n        print(\"(Initializing {})\".format(self.name))\\n\\n        # When this person is created, the robot\\n        # adds to the population\\n        Robot.population += 1\\n\\n    def die(self):\\n        \"\"\"I am dying.\"\"\"\\n        print(\"{} is being destroyed!\".format(self.name))\\n\\n        Robot.population -= 1\\n\\n        if Robot.population == 0:\\n            print(\"{} was the last one.\".format(self.name))\\n        else:\\n            print(\"There are still {:d} robots working.\".format(\\n                Robot.population))\\n\\n    def say_hi(self):\\n        \"\"\"Greeting by the robot.\\n        Yeah, they can do that.\"\"\"\\n        print(\"Greetings, my masters call me {}.\".format(self.name))\\n\\n    @classmethod # class method\\n    def how_many(cls):\\n        \"\"\"Prints the current population.\"\"\"\\n        print(\"We have {:d} robots.\".format(cls.population))\\n\\n\\ndroid1 = Robot(\"R2-D2\")\\ndroid1.say_hi()\\nRobot.how_many()\\n\\ndroid2 = Robot(\"C-3PO\")\\ndroid2.say_hi()\\nRobot.how_many()\\n\\nprint(\"\\\\nRobots can do some work here.\\\\n\")\\n\\nprint(\"Robots have finished their work. So let\\'s destroy them.\")\\ndroid1.die()\\ndroid2.die()\\n\\nRobot.how_many()',\n",
       " '_i66': 'class Robot:\\n \\n    def __init__(self, name=None):\\n        self.name = name   \\n        \\n    def say_hi(self):\\n        if self.name:\\n            print(\"Hi, I am \" + self.name)\\n        else:\\n            print(\"Hi, I am a robot without a name\")\\n            \\n    def set_name(self, name):\\n        self.name = name\\n        \\n    def get_name(self):\\n        return self.name\\n    \\n\\nx = Robot()\\nx.set_name(\"Henry\")\\nx.say_hi()\\ny = Robot()\\ny.set_name(x.get_name())\\nprint(y.get_name())\\nz = Robot(\"Pawan\")\\nz.say_hi()',\n",
       " '_i67': 'class Robot:\\n \\n    def __init__(self, \\n                 name=None,\\n                 build_year=None):\\n        self.name = name   \\n        self.build_year = build_year\\n        \\n    def say_hi(self):\\n        if self.name:\\n            print(\"Hi, I am \" + self.name)\\n        else:\\n            print(\"Hi, I am a robot without a name\")\\n        if self.build_year:\\n            print(\"I was built in \" + str(self.build_year))\\n        else:\\n            print(\"It\\'s not known, when I was created!\")\\n            \\n    def set_name(self, name):\\n        self.name = name\\n        \\n    def get_name(self):\\n        return self.name    \\n\\n    def set_build_year(self, by):\\n        self.build_year = by\\n        \\n    def get_build_year(self):\\n        return self.build_year    \\n    \\n\\nx = Robot(\"Henry\", 2008)\\ny = Robot()\\ny.set_name(\"Marvin\")\\nx.say_hi()\\ny.say_hi()',\n",
       " '_i68': 'class A():\\n    \\n    def __init__(self):\\n        self.__priv = \"I am private\"\\n        self._prot = \"I am protected\"\\n        self.pub = \"I am public\"\\n\\n        \\nx = A()\\nprint(x.pub)\\nx.pub = \"Public Changed\"\\nprint(x.pub)\\nprint(x._prot)\\nx._prot = \"Protected Changed\" # Not a good practice\\nprint(x._prot)\\nprint(x.__priv)\\n    ',\n",
       " '_i69': \"aa = 'newString'\\nprint(aa.capitalize())\\nprint(aa)\",\n",
       " '_i7': 'import gc\\ngc.collect()',\n",
       " '_i70': \"print('C:\\\\some\\\\name')  # here \\\\n means newline!\\nprint(r'C:\\\\some\\\\name')  # note the r before the quote\",\n",
       " '_i71': '# How to correct this?\\nprint(\\'\"Isn\\\\\\'t,\" she said.\\') ',\n",
       " '_i72': '# Multiline comment\\nprint(\"\"\"\\\\\\nUsage: thingy [OPTIONS]\\n     -h                        Display this usage message\\n     -H hostname               Hostname to connect to\\n\"\"\")',\n",
       " '_i73': '# Multiline comment\\nprint(\"\"\"\\\\\\nUsage: thingy [OPTIONS]\\n     -h                        Display this usage message\\n     -H hostname               Hostname to connect to\\n\"\"\")',\n",
       " '_i74': \"# String repeatation\\n# 3 times 'un', followed by 'ium'\\n3 * 'un' + 'ium'\",\n",
       " '_i75': \"# Breaking a long line\\ntext = ('Put several strings within parentheses '\\n    'to have them joined together.')\\ntext\",\n",
       " '_i76': \"word = 'Python'\\nprint(word[0])  # character in position 0\\nprint(word[5])  # character in position 5\\nprint(word[6])  # ????\",\n",
       " '_i77': \"# \\\\W - Uppercase w. Matches any character not part of \\\\w (lowercase w).\\nre.search(r'C\\\\Wke', 'C@ke').group()\",\n",
       " '_i78': \"word = 'Python'\\nprint(word[-1])  # last character\\nprint(word[-2])  # second-last character\\nprint(word[-6])  # First character \\nprint(word[-7])  # ???? \",\n",
       " '_i79': \"word = 'Python'\\nprint(word[0:2])  # characters from position 0 (included) to 2 (excluded)\\nprint(word[2:5])  # characters from position 2 (included) to 5 (excluded)\\nprint(word[2:10])  # ????\",\n",
       " '_i8': 'import gc\\ngc.collect()',\n",
       " '_i80': \"word = 'Python'\\nprint(word[:2])   # character from the beginning to position 2 (excluded)\\nprint(word[4:])   # characters from position 4 (included) to the end\\nprint(word[-2:])  # ????\\nprint(word[-4:-1]) #TBD\",\n",
       " '_i81': '# Length of string\\nprint(word)\\nprint(len(word))',\n",
       " '_i82': '# Length of string\\nprint(word)\\nprint(len(word))',\n",
       " '_i83': 'import sys\\nprint(sys.getsizeof(word))',\n",
       " '_i84': 'aa = \"something  : nothing\"\\nprint(type(aa.split()))\\nprint(aa.split())',\n",
       " '_i85': 'aa = \" something  : nothing \"\\n#print(type(aa.split()))\\nprint(aa.split(\\':\\'))\\nprint (list(map(lambda x: x.strip(), aa.split(\\':\\'))))',\n",
       " '_i86': \"# This is my shopping list\\nshoplist = ['apple', 'mango', 'carrot', 'banana']\\nprint('I have', len(shoplist), 'items to purchase.')\\nprint('These items are:', end=' ')\\nfor item in shoplist:\\n    print(item, end=' ')\\nprint('\\\\nI also have to buy rice.')\\nshoplist.append('rice')\\nprint('My shopping list is now', shoplist)\\nprint('I will sort my list now')\\nshoplist.sort()\\nprint('Sorted shopping list is', shoplist)\\nprint('The first item I will buy is', shoplist[0])\\nolditem = shoplist[0]\\ndel shoplist[0]\\nprint('I bought the', olditem)\\nprint('My shopping list is now', shoplist)\",\n",
       " '_i87': 'squares = [1, 4, 9, 16, 25]\\nprint(squares)\\nprint(type(squares))',\n",
       " '_i88': \"# Supports dissimilar data types  \\nsquares = [1, 4, 9, 'sixteen', 25]\\nprint(squares)\",\n",
       " '_i89': '# Indexing and slicing\\nprint(squares[0])  # indexing returns the item\\nprint(squares[-1]) # Last item\\nprint(squares[-3:])  # slicing returns a new list',\n",
       " '_i9': 'import this',\n",
       " '_i90': '#squares_odd = [1, 9, 25]\\n#squares_even = [4, 16, 36]\\n#squares = squares_even + squares_odd\\nprint(squares)',\n",
       " '_i91': \"squares = ['a', 'b', 'c']\\nnew_list = ['aa', 'bb', squares]\\nprint(new_list) # Guess the output of this print\\nprint(type(new_list))\\nprint(type(new_list[0]))\\nprint(type(new_list[1]))\\nprint(type(new_list[2]))\\nprint (new_list[2])\\nprint (new_list[2][2])\",\n",
       " '_i92': \"# Matrix formation\\na = ['a', 'b', 'c']\\nn = [1, 2, 3]\\nx = [a, n]\\nprint(x)\",\n",
       " '_i93': \"squares = [4, 16, 36, 1, 9, 25, 11]\\n\\nprint(type(squares))\\nprint(type(squares[0]))\\nsquares[5] = 'something'\\nprint(squares)\\nprint(type(squares[5]))\\n\\n# Will this work?\\nsquares[6] = 'nothing'\\nprint(squares)\",\n",
       " '_i94': \"# Adding element to a list\\nsquares.append('anything')\\nprint(squares)\",\n",
       " '_i95': '# Poping-out from list\\nprint(squares.pop(-1))\\nprint(squares)',\n",
       " '_i96': 'print(squares.pop(2))\\nprint(squares)',\n",
       " '_i97': '# Length of list\\nprint(len(a))\\nprint(x)\\nprint(len(x))\\nprint(len(x[0]))',\n",
       " '_i98': \"# Replacing element in a list\\na = ['a', 'b', 'c', 'd', 'e', 'f', 'g', 'h', 'i']\\na[2:5] = ['C', 'D', 'E', 'XX']\\nprint(a)\",\n",
       " '_i99': \"# Replacing element in a string\\nmy_str = 'python'\\nmy_str[0] = 'j'\",\n",
       " '_ih': ['',\n",
       "  '### Singleton',\n",
       "  'class Singleton:\\n   __instance = None\\n   @staticmethod \\n   def getInstance():\\n      \"\"\" Static access method. \"\"\"\\n      if Singleton.__instance == None:\\n         Singleton()\\n      return Singleton.__instance\\n   def __init__(self):\\n      \"\"\" Virtually private constructor. \"\"\"\\n      if Singleton.__instance != None:\\n         raise Exception(\"This class is a singleton!\")\\n      else:\\n         Singleton.__instance = self\\ns = Singleton()\\nprint s\\n\\ns = Singleton.getInstance()\\nprint s\\n\\ns = Singleton.getInstance()\\nprint s',\n",
       "  'class Singleton:\\n   __instance = None\\n   @staticmethod \\n   def getInstance():\\n      \"\"\" Static access method. \"\"\"\\n      if Singleton.__instance == None:\\n         Singleton()\\n      return Singleton.__instance\\n   def __init__(self):\\n      \"\"\" Virtually private constructor. \"\"\"\\n      if Singleton.__instance != None:\\n         raise Exception(\"This class is a singleton!\")\\n      else:\\n         Singleton.__instance = self\\ns = Singleton()\\nprint(s)\\n\\ns = Singleton.getInstance()\\nprint(s)\\n\\ns = Singleton.getInstance()\\nprint(s)',\n",
       "  'class Singleton:\\n    \\n    __instance = None\\n    \\n    @staticmethod \\n    def getInstance():\\n    \"\"\" Static access method. \"\"\"\\n    if Singleton.__instance == None:\\n        Singleton()\\n    return Singleton.__instance\\n\\n\\n    def __init__(self):\\n    \"\"\" Virtually private constructor. \"\"\"\\n    if Singleton.__instance != None:\\n        raise Exception(\"This class is a singleton!\")\\n    else:\\n        Singleton.__instance = self\\n        \\n        \\ns = Singleton()\\nprint(s)\\n\\ns = Singleton.getInstance()\\nprint(s)\\n\\ns = Singleton.getInstance()\\nprint(s)',\n",
       "  'class Singleton:\\n    \\n    __instance = None\\n    \\n    @staticmethod \\n    def getInstance():\\n    \"\"\" Static access method. \"\"\"\\n        if Singleton.__instance == None:\\n            Singleton()\\n        return Singleton.__instance\\n\\n\\n    def __init__(self):\\n    \"\"\" Virtually private constructor. \"\"\"\\n        if Singleton.__instance != None:\\n            raise Exception(\"This class is a singleton!\")\\n        else:\\n            Singleton.__instance = self\\n        \\n        \\ns = Singleton()\\nprint(s)\\n\\ns = Singleton.getInstance()\\nprint(s)\\n\\ns = Singleton.getInstance()\\nprint(s)',\n",
       "  'class Singleton:\\n    \\n    __instance = None\\n    \\n    @staticmethod \\n    def getInstance():\\n        \"\"\" Static access method. \"\"\"\\n        if Singleton.__instance == None:\\n            Singleton()\\n        return Singleton.__instance\\n\\n\\n    def __init__(self):\\n        \"\"\" Virtually private constructor. \"\"\"\\n        if Singleton.__instance != None:\\n            raise Exception(\"This class is a singleton!\")\\n        else:\\n            Singleton.__instance = self\\n        \\n        \\ns = Singleton()\\nprint(s)\\n\\ns = Singleton.getInstance()\\nprint(s)\\n\\ns = Singleton.getInstance()\\nprint(s)',\n",
       "  'import gc\\ngc.collect()',\n",
       "  'import gc\\ngc.collect()',\n",
       "  'import this',\n",
       "  '# Read input from user (interactive mode)\\n\\nuser_input = input(\"Please enter a number: \")\\n\\nprint (\"User input: \" + user_input)',\n",
       "  '# Read input from user (interactive mode)\\n\\nuser_input = input(\"Please enter a number: \")\\n\\n#print (\"User input: \" + str(user_input))\\n\\nprint (\"Input value is of type: %s\" %(user_input))\\nprint (\"Input value is of type: %s\" %(type(user_input)))',\n",
       "  '# Identify the type of variable\\nprint (\"Input value is of type: %s\" %(type(user_input))) # Old approach\\n\\n# Another way\\nprint (\"Input value is of type: {0} and {1}\".format((user_input), \\'something else\\'))\\n\\n# One more approach - named param. \\nprint(\\'{0} and {1}\\'.format(\\'spam\\', \\'eggs\\'))\\nprint(\\'{1} and {0}\\'.format(\\'spam\\', \\'eggs\\'))\\n# param sequence can be changed.\\nprint(\\'This {food} is {adjective}.\\'.format(adjective=\\'absolutely horrible\\', food=\\'spam\\'))',\n",
       "  \"age = 20\\nname = 'Swaroop'\\nprint(f'{name} was {age} years old when he wrote this book') # notice the 'f' before the string\\nprint(f'Why is {name} playing with that python?') # notice the 'f' before the string\",\n",
       "  \"# decimal (.) precision of 3 for float '0.333'\\nprint('{0:.6f} {1} {1:.6f}'.format(1.0/3, 2/3))\\n# fill with underscores (_) with the text centered\\n# (^) to 11 width '___hello___'\\nprint('{0:_^80}'.format('hello'))\\n# keyword-based 'Swaroop wrote A Byte of Python'\\nprint('{name} wrote {book}'.format(name='Swaroop', book='A Byte of Python'))\",\n",
       "  \"# Mutli line break with \\\\\\ns = 'This is a string. This continues the string.'\\nprint(s)\",\n",
       "  'i = 5\\nprint(i)',\n",
       "  'ii = 5 + 6\\nprint(ii)',\n",
       "  \"import math\\nprint('The value of PI is approximately {0:.3f}.'.format(math.pi))\",\n",
       "  '# Typecasting user input\\n# Read input from user (interactive mode)\\n\\nuser_input = int(input(\"Please enter a number: \"))\\n\\nprint (\"User input: {}, {}\".format(user_input, 3434)) # Should this work?',\n",
       "  \"with open('workfile.txt') as f:\\n    read_data = f.read()\\n#f.close()\\nprint(read_data)\",\n",
       "  \"with open('workfile.txt') as f:\\n    read_data = f.read().upper()\\n#f.close()\\nprint(read_data)\",\n",
       "  \"#TBD\\nwith open('workfile.txt') as f:\\n    lines = f.readlines()\\nprint(lines)\\nprint(type(lines))\",\n",
       "  \"#TBD\\nwith open('workfile.txt') as f:\\n    lines = f.readlines()\\nlines = list(map(lambda x: x.rstrip().title(), lines))\\nprint(lines)\\nprint(type(lines))\",\n",
       "  \"#TBD\\nwith open('workfile.txt') as f:\\n    lines = f.readlines()\\nlines = list(map(lambda x: x.rstrip().title(), lines))\\nprint(lines)\\nprint(type(lines))\\n\\nwith open('out_file.txt', 'w') as f1:\\n    f1.write(' '.join(lines))\",\n",
       "  'lines[0].rstrip()',\n",
       "  'lines[0]',\n",
       "  \"#TBD\\nwith open('workfile.txt') as f:\\n    lines = f.readline(10)\\nprint(lines)\\nprint(type(lines))\",\n",
       "  'f = open(\\'conversation.txt\\')\\nfor each_line in f:\\n    role, text = each_line.split(\\':\\', 1)\\n    print(\"{0} said : {1}\".format(role, text))\\nf.close()',\n",
       "  '# Read input from file\\nread_data = \\'\\'\\nf = open(\\'workfile.txt\\', \\'r\\')\\nread_data = f.read()\\n#print(\"First time: \" + read_data)\\n\\nread_data = f.read() # Should reading the same file again fetch the content?\\nf.close()\\n#f.read() # Should this throw error?\\n\\n\\nprint(\"First time: \" + read_data)\\n\\nprint(\"Second time: \" + read_again)',\n",
       "  '# Read input from file\\nread_data = \\'\\'\\nf = open(\\'workfile.txt\\', \\'r\\')\\nread_data = f.read()\\n#print(\"First time: \" + read_data)\\n\\nread_again = f.read() # Should reading the same file again fetch the content?\\nf.close()\\n#f.read() # Should this throw error?\\n\\n\\nprint(\"First time: \" + read_data)\\n\\nprint(\"Second time: \" + read_again)',\n",
       "  '# Read input from file\\nread_data = \\'\\'\\nf = open(\\'workfile.txt\\', \\'r\\')\\nread_data = f.read()\\n#print(\"First time: \" + read_data)\\n\\nread_again = f.read() # Should reading the same file again fetch the content?\\nf.close()\\n#f.read() # Should this throw error?\\n\\n\\nprint(\"First time: \" + read_data)\\n\\nprint(\"Second time: \" + read_again)',\n",
       "  '# Read input from file 2nd time\\n#read_data = \\'\\' # Pre-declaration not needed\\nf = open(\\'workfile.txt\\', \\'r\\')\\nread_data = f.read()\\nf.seek(100)\\nread_again = f.read()\\nf.close()\\n\\nprint(\"First time: \" + read_data)\\nprint()\\nprint(\"Second time: \" + read_again)',\n",
       "  '# Write into a file\\nread_data = \\'\\'\\nf = open(\\'workfile.txt\\')\\nread_data = f.read()\\nf.close()\\nprint(\"Inital data: \"+ read_data)\\n# Introduce the approach to use help\\ncap_data = read_data.swapcase()\\nprint (\"CAP data: \" + cap_data)\\n\\nf = open(\\'newfile.txt\\', \\'w\\')\\nf.write(cap_data)\\nf.close()',\n",
       "  \"aa = 'abc'\\nprint(dir(aa))\\n#dir('5')\",\n",
       "  \"aa = 'abc'\\nhelp(aa.zfill)\\naa.zfill(10)\\n#help(aa)\",\n",
       "  \"aa = 'abc'\\n#print (aa.__doc__)\\n#print('='*80)\\nprint (aa.zfill.__doc__)\",\n",
       "  'print(dir(__builtins__))',\n",
       "  \"# Read from a file, process the data and then write into the file\\n# Will cover this after data types.\\nread_data = ''\\nf = open('workfile.txt', 'r')\\nread_data = f.read()\\nf.close()\\n\\n# Perform some operation\\ndata_dict = {}\\nfor ii in read_data.split():\\n    if ii not in data_dict.keys():\\n        data_dict[ii] = 1\\n    else:\\n        data_dict[ii] += 1\\n\\nprint (data_dict)\\n\\nf = open('newfile.txt', 'w')\\nf.write(str(data_dict))\\nf.close()\",\n",
       "  \"# Read from a file, process the data and then write into the file\\n# Will cover this after data types.\\nread_data = ''\\nf = open('workfile.txt', 'r')\\nread_data = f.read()\\nf.close()\\n\\n# Perform some operation\\ndata_dict = {}\\nfor ii in set(read_data.split()):\\n    data_dict[ii] = read_data.split().count(ii)\\n\\nprint (data_dict)\\n\\nf = open('newfile.txt', 'w')\\nf.write(str(data_dict))\\nf.close()\",\n",
       "  '2 + 2',\n",
       "  \"'2'+2\",\n",
       "  'class Robot:\\n \\n    def __init__(self, name1=None, x = None):\\n        self.name = name1   \\n        \\n    def say_hi(self):\\n        if self.name:\\n            print(\"Hi, I am \" + self.name)\\n        else:\\n            print(\"Hi, I am a robot without a name\")\\n    \\n\\nx = Robot()\\nx.say_hi()\\n\\ny = Robot(\"Marvin\")\\ny.say_hi()\\n\\nz = Robot(\"Marvin\", \"xyz\")\\nz.say_hi()',\n",
       "  'class Robot:\\n \\n    def __init__(self, name=None):\\n        self.name = name   \\n        \\ndef say_hi(y):\\n    if y.name:\\n        print(\"Hi, I am \" + y.name)\\n    else:\\n        print(\"Hi, I am a robot without a name\")\\n    \\n\\nx = Robot(\"xyz\")\\nsay_hi()\\ny = Robot(\"Marvin\")\\nsay_hi(y)',\n",
       "  \"2+'2'\",\n",
       "  '10/50 + (5/2)- 5*6',\n",
       "  '5/2 # Normal division ',\n",
       "  '(int)(5/2)',\n",
       "  '10/3',\n",
       "  '5//2 # Floor division',\n",
       "  'aa = 5\\nbb = 10\\naa/bb',\n",
       "  \"aa = '5'\\nbb = 2\\naa/bb\",\n",
       "  \"class Date(object):\\n    def __init__(self, Year, Month, Day):\\n        self.year  = Year\\n        self.month = Month\\n        self.day   = Day\\n\\n    def __str__(self):\\n        return 'Date({}, {}, {})'.format(self.year, self.month, self.day)\\n\\n    def set_date(self, y, m, d):\\n        self.year = y\\n        self.month = m\\n        self.day = d\\n\\n    @classmethod\\n    def from_str(cls, date_str):\\n        '''Call as\\n           d = Date.from_str('2013-12-30')\\n        '''\\n        print(cls)\\n        year, month, day = map(int, date_str.split('-'))\\n        return cls(year, month, day)\",\n",
       "  \"d = Date(2019, 1, 8)\\nprint(d.__str__())\\nd.set_date(2019, 1, 9)\\nprint(d.__str__())\\n\\nd_alt = Date.from_str('2019-1-10')\\nprint(d_alt.__str__())\\nd_alt.set_date(2019, 1, 11)\\nprint(d_alt.__str__())\",\n",
       "  'class C: \\n\\n    counter = 0\\n    \\n    def __init__(self): \\n        type(self).counter += 1\\n\\n    def __del__(self):\\n        type(self).counter -= 1\\n\\nif __name__ == \"__main__\":\\n    x = C()\\n    print(\"Number of instances: : \" + str(C.counter))\\n    y = C()\\n    print(\"Number of instances: : \" + str(C.counter))\\n    del x\\n    print(\"Number of instances: : \" + str(C.counter))\\n    del y\\n    print(\"Number of instances: : \" + str(C.counter))',\n",
       "  'class Robot:\\n    \"\"\"Represents a robot, with a name.\"\"\"\\n\\n    # A class variable, counting the number of robots\\n    population = 0 # class variable: whose value is shared among all instances of a this class\\n\\n    def __init__(self, name):\\n        \"\"\"Initializes the data.\"\"\"\\n        self.name = name # Object variable\\n        print(\"(Initializing {})\".format(self.name))\\n\\n        # When this person is created, the robot\\n        # adds to the population\\n        Robot.population += 1\\n\\n    def die(self):\\n        \"\"\"I am dying.\"\"\"\\n        print(\"{} is being destroyed!\".format(self.name))\\n\\n        Robot.population -= 1\\n\\n        if Robot.population == 0:\\n            print(\"{} was the last one.\".format(self.name))\\n        else:\\n            print(\"There are still {:d} robots working.\".format(\\n                Robot.population))\\n\\n    def say_hi(self):\\n        \"\"\"Greeting by the robot.\\n        Yeah, they can do that.\"\"\"\\n        print(\"Greetings, my masters call me {}.\".format(self.name))\\n\\n    @classmethod # class method\\n    def how_many(cls):\\n        \"\"\"Prints the current population.\"\"\"\\n        print(\"We have {:d} robots.\".format(cls.population))\\n\\n\\ndroid1 = Robot(\"R2-D2\")\\ndroid1.say_hi()\\nRobot.how_many()\\n\\ndroid2 = Robot(\"C-3PO\")\\ndroid2.say_hi()\\nRobot.how_many()\\n\\nprint(\"\\\\nRobots can do some work here.\\\\n\")\\n\\nprint(\"Robots have finished their work. So let\\'s destroy them.\")\\ndroid1.die()\\ndroid2.die()\\n\\nRobot.how_many()',\n",
       "  'class Robot:\\n \\n    def __init__(self, name=None):\\n        self.name = name   \\n        \\n    def say_hi(self):\\n        if self.name:\\n            print(\"Hi, I am \" + self.name)\\n        else:\\n            print(\"Hi, I am a robot without a name\")\\n            \\n    def set_name(self, name):\\n        self.name = name\\n        \\n    def get_name(self):\\n        return self.name\\n    \\n\\nx = Robot()\\nx.set_name(\"Henry\")\\nx.say_hi()\\ny = Robot()\\ny.set_name(x.get_name())\\nprint(y.get_name())\\nz = Robot(\"Pawan\")\\nz.say_hi()',\n",
       "  'class Robot:\\n \\n    def __init__(self, \\n                 name=None,\\n                 build_year=None):\\n        self.name = name   \\n        self.build_year = build_year\\n        \\n    def say_hi(self):\\n        if self.name:\\n            print(\"Hi, I am \" + self.name)\\n        else:\\n            print(\"Hi, I am a robot without a name\")\\n        if self.build_year:\\n            print(\"I was built in \" + str(self.build_year))\\n        else:\\n            print(\"It\\'s not known, when I was created!\")\\n            \\n    def set_name(self, name):\\n        self.name = name\\n        \\n    def get_name(self):\\n        return self.name    \\n\\n    def set_build_year(self, by):\\n        self.build_year = by\\n        \\n    def get_build_year(self):\\n        return self.build_year    \\n    \\n\\nx = Robot(\"Henry\", 2008)\\ny = Robot()\\ny.set_name(\"Marvin\")\\nx.say_hi()\\ny.say_hi()',\n",
       "  'class A():\\n    \\n    def __init__(self):\\n        self.__priv = \"I am private\"\\n        self._prot = \"I am protected\"\\n        self.pub = \"I am public\"\\n\\n        \\nx = A()\\nprint(x.pub)\\nx.pub = \"Public Changed\"\\nprint(x.pub)\\nprint(x._prot)\\nx._prot = \"Protected Changed\" # Not a good practice\\nprint(x._prot)\\nprint(x.__priv)\\n    ',\n",
       "  \"aa = '5'\\nbb = '2'\\naa/bb\",\n",
       "  \"aa = '5'\\nbb = '2'\\naa/bb\",\n",
       "  \"# -, _, .\\nemail_address = 'supp-ort.india4@datacamp.com'\\n#re.search(r'\\\\S+@\\\\w+\\\\.\\\\w+', email_address).group() # Naga\\nre.search(r'[a-zA-Z0-9-_.]+@\\\\w+\\\\.\\\\w+', email_address).group() # Ramya\",\n",
       "  \"class Date(object):\\n    def __init__(self, Year, Month, Day):\\n        self.year  = Year\\n        self.month = Month\\n        self.day   = Day\\n\\n    def __str__(self):\\n        return 'Date({}, {}, {})'.format(self.year, self.month, self.day)\\n\\n    def set_date(self, y, m, d):\\n        self.year = y\\n        self.month = m\\n        self.day = d\\n\\n    @classmethod\\n    def from_str(cls, date_str):\\n        '''Call as\\n           d = Date.from_str('2013-12-30')\\n        '''\\n        print(cls)\\n        year, month, day = map(int, date_str.split('-'))\\n        return cls(year, month, day)\",\n",
       "  \"d = Date(2019, 1, 8)\\nprint(d.__str__())\\nd.set_date(2019, 1, 9)\\nprint(d.__str__())\\n\\nd_alt = Date.from_str('2019-1-10')\\nprint(d_alt.__str__())\\nd_alt.set_date(2019, 1, 11)\\nprint(d_alt.__str__())\",\n",
       "  'class C: \\n\\n    counter = 0\\n    \\n    def __init__(self): \\n        type(self).counter += 1\\n\\n    def __del__(self):\\n        type(self).counter -= 1\\n\\nif __name__ == \"__main__\":\\n    x = C()\\n    print(\"Number of instances: : \" + str(C.counter))\\n    y = C()\\n    print(\"Number of instances: : \" + str(C.counter))\\n    del x\\n    print(\"Number of instances: : \" + str(C.counter))\\n    del y\\n    print(\"Number of instances: : \" + str(C.counter))',\n",
       "  'class Robot:\\n    \"\"\"Represents a robot, with a name.\"\"\"\\n\\n    # A class variable, counting the number of robots\\n    population = 0 # class variable: whose value is shared among all instances of a this class\\n\\n    def __init__(self, name):\\n        \"\"\"Initializes the data.\"\"\"\\n        self.name = name # Object variable\\n        print(\"(Initializing {})\".format(self.name))\\n\\n        # When this person is created, the robot\\n        # adds to the population\\n        Robot.population += 1\\n\\n    def die(self):\\n        \"\"\"I am dying.\"\"\"\\n        print(\"{} is being destroyed!\".format(self.name))\\n\\n        Robot.population -= 1\\n\\n        if Robot.population == 0:\\n            print(\"{} was the last one.\".format(self.name))\\n        else:\\n            print(\"There are still {:d} robots working.\".format(\\n                Robot.population))\\n\\n    def say_hi(self):\\n        \"\"\"Greeting by the robot.\\n        Yeah, they can do that.\"\"\"\\n        print(\"Greetings, my masters call me {}.\".format(self.name))\\n\\n    @classmethod # class method\\n    def how_many(cls):\\n        \"\"\"Prints the current population.\"\"\"\\n        print(\"We have {:d} robots.\".format(cls.population))\\n\\n\\ndroid1 = Robot(\"R2-D2\")\\ndroid1.say_hi()\\nRobot.how_many()\\n\\ndroid2 = Robot(\"C-3PO\")\\ndroid2.say_hi()\\nRobot.how_many()\\n\\nprint(\"\\\\nRobots can do some work here.\\\\n\")\\n\\nprint(\"Robots have finished their work. So let\\'s destroy them.\")\\ndroid1.die()\\ndroid2.die()\\n\\nRobot.how_many()',\n",
       "  'class Robot:\\n \\n    def __init__(self, name=None):\\n        self.name = name   \\n        \\n    def say_hi(self):\\n        if self.name:\\n            print(\"Hi, I am \" + self.name)\\n        else:\\n            print(\"Hi, I am a robot without a name\")\\n            \\n    def set_name(self, name):\\n        self.name = name\\n        \\n    def get_name(self):\\n        return self.name\\n    \\n\\nx = Robot()\\nx.set_name(\"Henry\")\\nx.say_hi()\\ny = Robot()\\ny.set_name(x.get_name())\\nprint(y.get_name())\\nz = Robot(\"Pawan\")\\nz.say_hi()',\n",
       "  'class Robot:\\n \\n    def __init__(self, \\n                 name=None,\\n                 build_year=None):\\n        self.name = name   \\n        self.build_year = build_year\\n        \\n    def say_hi(self):\\n        if self.name:\\n            print(\"Hi, I am \" + self.name)\\n        else:\\n            print(\"Hi, I am a robot without a name\")\\n        if self.build_year:\\n            print(\"I was built in \" + str(self.build_year))\\n        else:\\n            print(\"It\\'s not known, when I was created!\")\\n            \\n    def set_name(self, name):\\n        self.name = name\\n        \\n    def get_name(self):\\n        return self.name    \\n\\n    def set_build_year(self, by):\\n        self.build_year = by\\n        \\n    def get_build_year(self):\\n        return self.build_year    \\n    \\n\\nx = Robot(\"Henry\", 2008)\\ny = Robot()\\ny.set_name(\"Marvin\")\\nx.say_hi()\\ny.say_hi()',\n",
       "  'class A():\\n    \\n    def __init__(self):\\n        self.__priv = \"I am private\"\\n        self._prot = \"I am protected\"\\n        self.pub = \"I am public\"\\n\\n        \\nx = A()\\nprint(x.pub)\\nx.pub = \"Public Changed\"\\nprint(x.pub)\\nprint(x._prot)\\nx._prot = \"Protected Changed\" # Not a good practice\\nprint(x._prot)\\nprint(x.__priv)\\n    ',\n",
       "  \"aa = 'newString'\\nprint(aa.capitalize())\\nprint(aa)\",\n",
       "  \"print('C:\\\\some\\\\name')  # here \\\\n means newline!\\nprint(r'C:\\\\some\\\\name')  # note the r before the quote\",\n",
       "  '# How to correct this?\\nprint(\\'\"Isn\\\\\\'t,\" she said.\\') ',\n",
       "  '# Multiline comment\\nprint(\"\"\"Usage: thingy [OPTIONS]\\n     -h                        Display this usage message\\n     -H hostname               Hostname to connect to\\n\"\"\")',\n",
       "  '# Multiline comment\\nprint(\"\"\"Usage: thingy [OPTIONS]\\n     -h                        Display this usage message\\n     -H hostname               Hostname to connect to\\n\"\"\")',\n",
       "  \"# String repeatation\\n# 3 times 'un', followed by 'ium'\\n3 * 'un' + 'ium'\",\n",
       "  \"# Breaking a long line\\ntext = ('Put several strings within parentheses '\\n    'to have them joined together.')\\ntext\",\n",
       "  \"word = 'Python'\\nprint(word[0])  # character in position 0\\nprint(word[5])  # character in position 5\\nprint(word[6])  # ????\",\n",
       "  \"# \\\\W - Uppercase w. Matches any character not part of \\\\w (lowercase w).\\nre.search(r'C\\\\Wke', 'C@ke').group()\",\n",
       "  \"word = 'Python'\\nprint(word[-1])  # last character\\nprint(word[-2])  # second-last character\\nprint(word[-6])  # First character \\nprint(word[-7])  # ???? \",\n",
       "  \"word = 'Python'\\nprint(word[0:2])  # characters from position 0 (included) to 2 (excluded)\\nprint(word[2:5])  # characters from position 2 (included) to 5 (excluded)\\nprint(word[2:10])  # ????\",\n",
       "  \"word = 'Python'\\nprint(word[:2])   # character from the beginning to position 2 (excluded)\\nprint(word[4:])   # characters from position 4 (included) to the end\\nprint(word[-2:])  # ????\\nprint(word[-4:-1]) #TBD\",\n",
       "  '# Length of string\\nprint(word)\\nprint(len(word))',\n",
       "  '# Length of string\\nprint(word)\\nprint(len(word))',\n",
       "  'import sys\\nprint(sys.getsizeof(word))',\n",
       "  'aa = \"something  : nothing\"\\nprint(type(aa.split()))\\nprint(aa.split())',\n",
       "  'aa = \" something  : nothing \"\\n#print(type(aa.split()))\\nprint(aa.split(\\':\\'))\\nprint (list(map(lambda x: x.strip(), aa.split(\\':\\'))))',\n",
       "  \"# This is my shopping list\\nshoplist = ['apple', 'mango', 'carrot', 'banana']\\nprint('I have', len(shoplist), 'items to purchase.')\\nprint('These items are:', end=' ')\\nfor item in shoplist:\\n    print(item, end=' ')\\nprint('\\\\nI also have to buy rice.')\\nshoplist.append('rice')\\nprint('My shopping list is now', shoplist)\\nprint('I will sort my list now')\\nshoplist.sort()\\nprint('Sorted shopping list is', shoplist)\\nprint('The first item I will buy is', shoplist[0])\\nolditem = shoplist[0]\\ndel shoplist[0]\\nprint('I bought the', olditem)\\nprint('My shopping list is now', shoplist)\",\n",
       "  'squares = [1, 4, 9, 16, 25]\\nprint(squares)\\nprint(type(squares))',\n",
       "  \"# Supports dissimilar data types  \\nsquares = [1, 4, 9, 'sixteen', 25]\\nprint(squares)\",\n",
       "  '# Indexing and slicing\\nprint(squares[0])  # indexing returns the item\\nprint(squares[-1]) # Last item\\nprint(squares[-3:])  # slicing returns a new list',\n",
       "  '#squares_odd = [1, 9, 25]\\n#squares_even = [4, 16, 36]\\n#squares = squares_even + squares_odd\\nprint(squares)',\n",
       "  \"squares = ['a', 'b', 'c']\\nnew_list = ['aa', 'bb', squares]\\nprint(new_list) # Guess the output of this print\\nprint(type(new_list))\\nprint(type(new_list[0]))\\nprint(type(new_list[1]))\\nprint(type(new_list[2]))\\nprint (new_list[2])\\nprint (new_list[2][2])\",\n",
       "  \"# Matrix formation\\na = ['a', 'b', 'c']\\nn = [1, 2, 3]\\nx = [a, n]\\nprint(x)\",\n",
       "  \"squares = [4, 16, 36, 1, 9, 25, 11]\\n\\nprint(type(squares))\\nprint(type(squares[0]))\\nsquares[5] = 'something'\\nprint(squares)\\nprint(type(squares[5]))\\n\\n# Will this work?\\nsquares[6] = 'nothing'\\nprint(squares)\",\n",
       "  \"# Adding element to a list\\nsquares.append('anything')\\nprint(squares)\",\n",
       "  '# Poping-out from list\\nprint(squares.pop(-1))\\nprint(squares)',\n",
       "  'print(squares.pop(2))\\nprint(squares)',\n",
       "  '# Length of list\\nprint(len(a))\\nprint(x)\\nprint(len(x))\\nprint(len(x[0]))',\n",
       "  \"# Replacing element in a list\\na = ['a', 'b', 'c', 'd', 'e', 'f', 'g', 'h', 'i']\\na[2:5] = ['C', 'D', 'E', 'XX']\\nprint(a)\",\n",
       "  \"# Replacing element in a string\\nmy_str = 'python'\\nmy_str[0] = 'j'\",\n",
       "  \"ii = [10, 20, 30, 40]\\nprint (10 in ii)\\nprint ('10' in ii)\",\n",
       "  \"# Python strings cannot be changed — they are immutable. Therefore, assigning to an indexed position in the string results in an error:\\nword = 'python'\\nword[0] = 'J'\\n'''\\nimmutable\\nAn object with a fixed value. Immutable objects include numbers, strings and tuples. Such an object cannot be altered. A new object has to be created if a different value has to be stored. They play an important role in places where a constant hash value is needed, for example as a key in a dictionary.\\n'''\",\n",
       "  'type(5)\\nx = 5\\nprint(type(x))\\nprint(id(x))\\ny = 5\\nprint(id(y))\\n\\nprint(type(x))\\nprint(id(x))\\ndel x\\ndel y\\nx = 5\\ny = 5\\n#print(id(x))\\nprint(id(y))\\n\\nprint(id(x))',\n",
       "  'type(10)\\nid(10)',\n",
       "  '# Example 1\\nx = \"Holberton\"\\ny = \"Holberton\"\\nz = x\\nprint(id(x))\\nprint(type(x))\\n\\nprint(id(y))\\nprint(id(z))\\nprint(x is y) #comparing the types\\nx = \"abc\"\\nprint(id(x))\\nprint(id(z))\\n\\n# Example 2\\na = 5\\nb = 50\\nprint(id(a))\\nprint(type(a))\\n\\nprint(id(b))\\n\\nprint(a is b) #comparing the types',\n",
       "  '# Example 1\\nx = \"Holberton\"\\ny = \"Holberton1\"\\nz = x\\nprint(id(x))\\nprint(id(y))\\nprint(id(z))\\nprint(type(x))',\n",
       "  \"x = 10\\ny = x\\nprint(id(x))\\nprint(id(y))\\n#x += 1\\n#print(id(x))\\n#print(id(y))\\nprint('='*80)\\na = 9\\nprint(id(a))\\nb = 9\\nprint(id(b))\\nz = a + 1\\n#z = 10\\nprint(id(z))\",\n",
       "  'print(type(10))',\n",
       "  \"a = ['a', 'b', 'c', 'd']\\nb = ['a', 'b', 'c', 'd']\\nc = a\\nprint(id(a))\\nprint(id(b))\\nprint(id(c))\\n\\na.append('e')\\nprint (a)\\nprint(id(a))\\nprint(id(c))\\nprint (c)\",\n",
       "  '# Example 1\\nx = \\'Holberton\\'\\nprint(\\'\\'.join([ii.upper() if ii == \\'o\\' else ii for ii in x]), flush=True)\\n\"\"\"\\nfor ii in x:\\n    #print(ii)\\n    if ii == \\'o\\':\\n        ii = ii.upper()\\n    else:\\n        pass\\n    aa.append(ii)\\n\"\"\"\\n#print(aa)',\n",
       "  'x = int(input(\"Please enter an integer: \"))\\n\\nif x < 0:\\n    x = 0\\n    print(\\'Negative changed to zero\\')\\nelif x == 0:\\n    print(\\'Zero\\')\\nelif x == 1:\\n    print(\\'Single\\')\\nelse:\\n    print(\\'More\\')',\n",
       "  'x = int(input(\"Please enter an integer: \"))\\n\\nif x < 0:\\n    x = 0\\n    print(\\'Negative changed to zero\\')\\nelif x == 0:\\n    print(\\'Zero\\')\\nelif x == 1:\\n    print(\\'Single\\')\\nelse:\\n    print(\\'More\\')',\n",
       "  \"number = 23\\nguess = int(input('Enter an integer : '))\\nif guess == number:\\n    # New block starts here\\n    print('Congratulations, you guessed it.')\\n    print('(but you do not win any prizes!)')\\n    # New block ends here\\nelif guess < number:\\n    # Another block\\n    print('No, it is a little higher than that')\\n    # You can do whatever you want in a block ...\\nelse:\\n    print('No, it is a little lower than that')\\n    \\n# you must have guessed > number to reach here\\nprint('Done')\\n# This last statement is always executed,\\n# after the if statement is executed.\",\n",
       "  \"# Measure some strings:\\nwords = ['cat', 'window', 'defenestrate']\\nfor w in words:\\n    print(w, len(w))\",\n",
       "  'end = \\'yy\\'\\nprint(end)\\n# Print without new line\\nprint (\"something\", end=end)\\nprint (\"nothing\")',\n",
       "  \"# Iterating through subset\\nwords = ['cat', 'window', 'defenestrate', 'something', 'nothing']\\nfor w in words[2:]:\\n    print(w, len(w))\",\n",
       "  \"# Iterate and conditionally select\\nwords = ['cat', 'window', 'defenestrate', 'something', 'nothing', 'dog', 'ball']\\nnew_list = []\\nnn = 0\\nfor w in words:\\n    if len(w) <= 4:\\n        print(w, len(w))\\n        new_list.append(w)\\nprint(new_list)\",\n",
       "  \"for i in range(1, 5):\\n    print(i)\\nelse:\\n    print('The for loop is over')\",\n",
       "  \"number = 23\\nrunning = False\\nwhile running:\\n    guess = int(input('Enter an integer : '))\\n    if guess == number:\\n        print('Congratulations, you guessed it.')\\n        # this causes the while loop to stop\\n        running = False\\n    elif guess < number:\\n        print('No, it is a little higher than that.')\\n    else:\\n        print('No, it is a little lower than that.')\\nelse:\\n    print('The while loop is over.')\\n    # Do anything else you want to do here\\nprint('Done')\",\n",
       "  'while True:\\n    in_str = input(\"Enter a string: \")\\n    if in_str == \\'quit\\':\\n        break\\n    else:\\n        print (f\"Entered string is {in_str}\")\\nelse:\\n    print(\"Out of while loop\")',\n",
       "  \"while True:\\n    s = input('Enter something : ')\\n    if s == 'quit':\\n        break\\n    print('Length of the string is', len(s))\\nprint('Done')\",\n",
       "  'aa = range(10)\\nprint(aa)\\nprint(type(aa))\\nprint(list(aa))\\nprint(type(range(10)))\\nprint(list(range(5))) # [0, 1, 2, 3, 4] = range(0,5,1)\\nprint(list(range(0,5,1)))\\nprint(list(range(5, 10))) # [5, 6, 7, 8, 9]\\nprint(list(range(5, 25, 5))) # [5, 10, 15, 20]\\nprint(list(range(5, -25, -5))) # [5, 0, -5, -10, -15, -20]',\n",
       "  'print(list(range(5,1,-1)))',\n",
       "  'aa = range(-25, 5, 5)\\nprint(type(aa))\\nprint((aa))',\n",
       "  'for ii in range(10):\\n    print (ii, end=\"\\\\t\")',\n",
       "  \"a = ['Mary', 'had', 'a', 'little', 'lamb']\\nfor i in range(len(a)):\\n    print(i, a[i])\",\n",
       "  'a = [\\'Mary\\', \\'had\\', \\'a\\', \\'little\\', \\'lamb\\']\\nfor index, element in enumerate(a):\\n    print(f\"{index}: {element}\")',\n",
       "  \"for n in range(2, 10):\\n    for x in range(2, n):\\n        if n % x == 0:\\n            print(n, 'equals', x, '*', n//x)\\n            break\\n    else:\\n        # loop fell through without finding a factor\\n        print(n, 'is a prime number')\",\n",
       "  'print (list(range(2,10)))',\n",
       "  'odd_list = []\\nfor num in range(2, 10):\\n    if num % 2 == 0:\\n        print(\"Found an even number. No need to store: \", num, )\\n        continue\\n    print(\"Found an odd number. Store it: \", num)\\n    odd_list.append(num)\\nprint(odd_list)',\n",
       "  'my_add(2,3)',\n",
       "  'def my_add(x,y):\\n    return x+y',\n",
       "  'my_add(2,3)',\n",
       "  'my_add(2,3)',\n",
       "  '\"\"\"\\ndef range(m):\\n    print(list(range(10)))\\n    print(\"something\")\\n    return 0\\n\"\"\"',\n",
       "  'range(10,20)',\n",
       "  'def fib(n):    # write Fibonacci series up to n\\n    \"\"\"Print a Fibonacci series up to n.\"\"\"\\n    a, b = 0, 1\\n    while a < n:\\n        print(a, end=\\' \\')\\n        a, b = b, a+b\\n    print()\\n    return 1\\n\\n# Now call the function we just defined:\\nfib(100000)\\nprint(type(fib))\\nprint(fib.__doc__)',\n",
       "  'f = fib\\nprint(id(fib))\\nprint(id(f))\\nprint(f(100)) # Check the return\\n\\ndel fib\\n\\nprint(id(f))\\nprint(f(100)) # Check the return',\n",
       "  'def fib2(n):  # return Fibonacci series up to n\\n    \"\"\"Return a list containing the Fibonacci series up to n.\"\"\"\\n    result = []\\n    a, b = 0, 1\\n    while a < n:\\n        result.append(a)    # see below\\n        a, b = b, a+b\\n    return result\\n\\nf100 = fib2(100)    # call it\\nf100                # write the result',\n",
       "  \"def ask_ok(prompt, retries=4, reminder='Please try again!'):\\n    while True:\\n        ok = input(prompt)\\n        if ok in ('y', 'ye', 'yes'):\\n            return True\\n        if ok in ('n', 'no', 'nop', 'nope'):\\n            return False\\n        retries = retries - 1\\n        if retries < 0:\\n            raise ValueError('invalid user response')\\n        print(reminder)\",\n",
       "  \"ask_ok('Do you really want to quit? ')\",\n",
       "  \"ask_ok('OK to overwrite the file?', 2)\",\n",
       "  \"ask_ok('OK to overwrite the file?', 2, 'Come on, only yes or no!')\",\n",
       "  'def parrot(voltage, state=\\'a stiff\\', action=\\'voom\\', type=\\'Norwegian Blue\\'):\\n    print(\"-- This parrot wouldn\\'t\", action, end=\\' \\')\\n    print(\"if you put\", voltage, \"volts through it.\")\\n    print(\"-- Lovely plumage, the\", type)\\n    print(\"-- It\\'s\", state, \"!\")',\n",
       "  \"parrot(1000)                                          # 1 positional argument\\nprint('='*80)\\nparrot(voltage=1000)                                  # 1 keyword argument\\nprint('='*80)\\nparrot(voltage=1000000, action='VOOOOOM')             # 2 keyword arguments\\nprint('='*80)\\nparrot(action='VOOOOOM', voltage=1000000)             # 2 keyword arguments\\nprint('='*80)\\nparrot('a million', 'bereft of life', 'jump')         # 3 positional arguments\\nprint('='*80)\\nparrot('a thousand', state='pushing up the daisies')  # 1 positional, 1 keyword\",\n",
       "  \"#parrot()                     # required argument missing\\nparrot(voltage=5.0, 'dead')  # non-keyword argument after a keyword argument\\n#parrot(110, voltage=220)     # duplicate value for the same argument\\n#parrot(actor='John Cleese')  # unknown keyword argument\",\n",
       "  \"#parrot()                     # required argument missing\\nparrot(voltage=5.0, 'dead')  # non-keyword argument after a keyword argument\\n#parrot(110, voltage=220)     # duplicate value for the same argument\\n#parrot(actor='John Cleese')  # unknown keyword argument\",\n",
       "  \"def foo(x = 'something', y = 10):\\n    print(x)\\nfoo(10)\\nfoo('nothing')\",\n",
       "  'def cheeseshop(kind, *arguments, **keywords):\\n    print(\"-- Do you have any\", kind, \"?\")\\n    print(\"-- I\\'m sorry, we\\'re all out of\", kind)\\n    for arg in arguments:\\n        print(arg)\\n    print(\"-\" * 40)\\n    for kw in keywords:\\n        print(kw, \":\", keywords[kw])',\n",
       "  'cheeseshop(\"Limburger\", \"It\\'s very runny, sir.\",\\n           \"It\\'s really very, VERY runny, sir.\",\\n           shopkeeper=\"Michael Palin\",\\n           client=\"John Cleese\",\\n           sketch=\"Cheese Shop Sketch\")',\n",
       "  \"#def foo(first_arg, **dict_args, *list_args):\\ndef foo(first_arg, *list_args, **dict_args):\\n    print(f'first_arg: {first_arg}')\\n    print(f'list_args: {list_args}')\\n    print(f'dict_args: {dict_args}')\\n#foo('first', d1='dd1', d2='dd2', 111, 22, 33)\\nfoo('first', 111, 22, 33, d1='dd1', d2='dd2')\",\n",
       "  'x= [1,2,3]\\nprint(dir(x))',\n",
       "  'print(help([].pop))',\n",
       "  'print(help([].index))',\n",
       "  'print(help([].append))',\n",
       "  'x = \"string\"\\nprint(dir(x))',\n",
       "  \"fruits = ['orange', 'apple', 'pear', 'banana', 'kiwi', 'apple', 'banana']\\nprint(fruits.count('apple'))\\nprint(fruits.count('tangerine'))\\nprint(fruits.index('banana')) # X\\nprint(fruits.index('banana', 4)\\nfruits.reverse()\\nprint(fruits)\\nfruits.append('grape')\\nprint(fruits)\\nfruits.sort()\\nprint(fruits)\\nprint(fruits.pop())\",\n",
       "  \"fruits = ['orange', 'apple', 'pear', 'banana', 'kiwi', 'apple', 'banana']\\nprint(fruits.count('apple'))\\nprint(fruits.count('tangerine'))\\nprint(fruits.index('banana')) # X\\nprint(fruits.index('banana', 4)\\nfruits.reverse()\\nprint(fruits)\\nfruits.append('grape')\\nprint(fruits)\\nfruits.sort()\\nprint(fruits)\\nprint(fruits.pop())\",\n",
       "  \"fruits = ['orange', 'apple', 'pear', 'banana', 'kiwi', 'apple', 'banana']\\nprint(fruits.count('apple'))\\nprint(fruits.count('tangerine'))\\nprint(fruits.index('banana')) # X\\nprint(fruits.index('banana', 4))\\nfruits.reverse()\\nprint(fruits)\\nfruits.append('grape')\\nprint(fruits)\\nfruits.sort()\\nprint(fruits)\\nprint(fruits.pop())\",\n",
       "  \"fruits = ['orange', 'apple', 'pear', 'banana', 'kiwi', 'apple', 'banana']\\nprint(fruits.count('apple'))\\nprint(fruits.count('tangerine'))\\nprint(fruits.index('banana')) # X\\nprint(fruits.index('banana', 4))\\nfruits.reverse()\\nprint(fruits)\\nfruits.append('grape')\\nprint(fruits)\\nfruits.sort()\\nprint(fruits)\\nprint(fruits.pop())\",\n",
       "  'stack = [3, 4, 5]\\nprint(stack)\\nstack.append(6)\\nstack.append(7)\\nprint(stack)\\nprint(stack.pop())\\nprint(stack)\\nprint(stack.pop())\\nprint(stack.pop())\\nprint(stack)',\n",
       "  'from collections import deque\\nqueue = deque([\"Eric\", \"John\", \"Michael\"])\\nqueue.append(\"Terry\")           # Terry arrives\\nqueue.append(\"Graham\")          # Graham arrives\\nqueue.popleft()                 # The first to arrive now leaves\\nqueue.popleft()                 # The second to arrive now leaves\\nprint(queue)                          # Remaining queue in order of arrival\\nprint(dir(queue))',\n",
       "  'squares = []\\nfor x in range(10):\\n    squares.append(x**2)\\nprint(squares)',\n",
       "  'a = [1, 2, 3, 4, 5]\\nprint([value if value % 2 == 1 else value **2 for value in a])',\n",
       "  'import time\\na = [1, 2, 3, 4, 5]\\n\\n# Start the timer\\nstart = time.time()\\n\\nfor i in range(0, 5000000):\\n    a = [value if value % 2 == 1 else value * 1 for value in a]\\n# Stop the timer\\nend = time.time()\\n#print(\"Input value is of type: {0} and {1}\".format(type(user_input), \\'something else\\'))\\nprint(\"Time consumed with comprehension: \" + str(end - start))\\n\\n# Restart the timer\\nstart = time.time()\\nfor i in range(0, 5000000):\\n    for j in range(len(a)):\\n        if a[j] % 2 == 1:\\n            a[j] = a[j]\\n        else:\\n            a[j] = a[j] * 1\\n# Stop the timer \\nend = time.time()\\nprint(\"Time consumed with loops: \" + str(end - start))',\n",
       "  'squares = [x**2 for x in range(10)]\\nprint(squares)',\n",
       "  'lst = [1,2,3,4,5,6,7,8,9]\\nsquares = []\\nfor x in lst:\\n    if (x % 2 == 0):\\n        squares.append(x**2)\\nprint(squares)',\n",
       "  'squares = [x**2 (for x in lst) (if (x % 2 == 0))]\\nprint(squares)',\n",
       "  'squares = [x**2 for x in lst if (x % 2 == 0)]\\nprint(squares)',\n",
       "  'squares = [x**2 for x in lst if (x % 2 == 0)]\\nprint(squares)',\n",
       "  'vec = [-4, -2, 0, 2, 4]\\nprint ([x*2 for x in vec])\\nprint ([x*2 for x in vec if x >= 0])',\n",
       "  '## Exercise: Find the sum of squares of odd numbers from -50 to +75\\nprint(sum([ii**2 for ii in range(-50,75) if ii%2 != 0]))',\n",
       "  \"freshfruit = ['  banana', '  loganberry ', 'passion fruit  ']\\nprint([weapon.strip() for weapon in freshfruit])\",\n",
       "  'matrix = [\\n    [1, 2, 3, 4],\\n    [5, 6, 7, 8],\\n    [9, 10, 11, 12],\\n    [91, 101, 111, 112]\\n]\\n\\n#[row[i] for row in matrix]\\nprint([[row[i] for row in matrix] for i in range(4)])',\n",
       "  'matrix = [\\n    [11,222],\\n    [333,5554]\\n]\\n\\nfor ii in range(2):\\n    for jj in range(2):\\n        print(matrix[ii][jj])\\n[[matrix[ii][jj] for jj in range(2)] for ii in range(2) ]',\n",
       "  'x = \"string\"\\nx',\n",
       "  'a = [-1, 1, 66.25, 333, 333, 66.25, 1234.5]\\nhelp(a.remove)\\nprint(a.remove(66.25))\\nprint(a)\\ndir(a)',\n",
       "  'a = [-1, 1, 66.25, 333, 333, 1234.5]\\ndel a[0]\\nprint(a)\\ndel a[2:4]\\nprint(a)\\ndel a[:]\\nprint(a)\\ndel a\\nprint(a)',\n",
       "  'class Robot:\\n    \"\"\"Represents a robot, with a name.\"\"\"\\n\\n    # A class variable, counting the number of robots\\n    population = 0 # class variable: whose value is shared among all instances of a this class\\n\\n    def __init__(self, name):\\n        \"\"\"Initializes the data.\"\"\"\\n        self.name = name # Object variable\\n        print(\"(Initializing {})\".format(self.name))\\n\\n        # When this person is created, the robot\\n        # adds to the population\\n        Robot.population += 1\\n\\n    def die(self):\\n        \"\"\"I am dying.\"\"\"\\n        print(\"{} is being destroyed!\".format(self.name))\\n\\n        Robot.population -= 1\\n\\n        if Robot.population == 0:\\n            print(\"{} was the last one.\".format(self.name))\\n        else:\\n            print(\"There are still {:d} robots working.\".format(\\n                Robot.population))\\n\\n    def say_hi(self):\\n        \"\"\"Greeting by the robot.\\n        Yeah, they can do that.\"\"\"\\n        print(\"Greetings, my masters call me {}.\".format(self.name))\\n\\n    @classmethod # class method\\n    def how_many(cls):\\n        \"\"\"Prints the current population.\"\"\"\\n        print(\"We have {:d} robots.\".format(cls.population))\\n\\n\\ndroid1 = Robot(\"R2-D2\")\\ndroid1.say_hi()\\nRobot.how_many()\\n\\ndroid2 = Robot(\"C-3PO\")\\ndroid2.say_hi()\\nRobot.how_many()\\n\\nprint(\"\\\\nRobots can do some work here.\\\\n\")\\n\\nprint(\"Robots have finished their work. So let\\'s destroy them.\")\\ndroid1.die()\\ndroid2.die()\\n\\nRobot.how_many()',\n",
       "  'class Robot:\\n \\n    def __init__(self, name=None):\\n        self.name = name   \\n        \\n    def say_hi(self):\\n        if self.name:\\n            print(\"Hi, I am \" + self.name)\\n        else:\\n            print(\"Hi, I am a robot without a name\")\\n            \\n    def set_name(self, name):\\n        self.name = name\\n        \\n    def get_name(self):\\n        return self.name\\n    \\n\\nx = Robot()\\nx.set_name(\"Henry\")\\nx.say_hi()\\ny = Robot()\\ny.set_name(x.get_name())\\nprint(y.get_name())\\nz = Robot(\"Pawan\")\\nz.say_hi()',\n",
       "  'class Robot:\\n \\n    def __init__(self, \\n                 name=None,\\n                 build_year=None):\\n        self.name = name   \\n        self.build_year = build_year\\n        \\n    def say_hi(self):\\n        if self.name:\\n            print(\"Hi, I am \" + self.name)\\n        else:\\n            print(\"Hi, I am a robot without a name\")\\n        if self.build_year:\\n            print(\"I was built in \" + str(self.build_year))\\n        else:\\n            print(\"It\\'s not known, when I was created!\")\\n            \\n    def set_name(self, name):\\n        self.name = name\\n        \\n    def get_name(self):\\n        return self.name    \\n\\n    def set_build_year(self, by):\\n        self.build_year = by\\n        \\n    def get_build_year(self):\\n        return self.build_year    \\n    \\n\\nx = Robot(\"Henry\", 2008)\\ny = Robot()\\ny.set_name(\"Marvin\")\\nx.say_hi()\\ny.say_hi()',\n",
       "  'class A():\\n    \\n    def __init__(self):\\n        self.__priv = \"I am private\"\\n        self._prot = \"I am protected\"\\n        self.pub = \"I am public\"\\n\\n        \\nx = A()\\nprint(x.pub)\\nx.pub = \"Public Changed\"\\nprint(x.pub)\\nprint(x._prot)\\nx._prot = \"Protected Changed\" # Not a good practice\\nprint(x._prot)\\nprint(x.__priv)\\n    ',\n",
       "  'a = [-1, 1, 66.25, 333, 333, 1234.5]\\ndel a[0]\\nprint(a)\\ndel a[2:4]\\nprint(a)\\ndel a[:]\\nprint(a)\\ndel a\\n#print(a)',\n",
       "  'a = [-1, 1, 66.25, 333, 333, 1234.5]\\ndel a[0]\\nprint(a)\\ndel a[2:4]\\nprint(a)\\ndel a[:]\\nprint(a)\\ndel a\\nprint(a)',\n",
       "  'a = [-1, 1, 66.25, 333, 333, 1234.5]\\ndel a[0]\\nprint(a)\\ndel a[2:4]\\nprint(a)\\ndel a[:]\\nprint(a)\\ndel a\\nprint(a)',\n",
       "  \"# -, _, .\\nemail_address = 'supp-ort.india4@datacamp.com'\\n#re.search(r'\\\\S+@\\\\w+\\\\.\\\\w+', email_address).group() # Naga\\nre.search(r'[a-zA-Z0-9-_.]+@\\\\w+\\\\.\\\\w+', email_address).group() # Ramya\",\n",
       "  \"class Date(object):\\n    def __init__(self, Year, Month, Day):\\n        self.year  = Year\\n        self.month = Month\\n        self.day   = Day\\n\\n    def __str__(self):\\n        return 'Date({}, {}, {})'.format(self.year, self.month, self.day)\\n\\n    def set_date(self, y, m, d):\\n        self.year = y\\n        self.month = m\\n        self.day = d\\n\\n    @classmethod\\n    def from_str(cls, date_str):\\n        '''Call as\\n           d = Date.from_str('2013-12-30')\\n        '''\\n        print(cls)\\n        year, month, day = map(int, date_str.split('-'))\\n        return cls(year, month, day)\",\n",
       "  \"d = Date(2019, 1, 8)\\nprint(d.__str__())\\nd.set_date(2019, 1, 9)\\nprint(d.__str__())\\n\\nd_alt = Date.from_str('2019-1-10')\\nprint(d_alt.__str__())\\nd_alt.set_date(2019, 1, 11)\\nprint(d_alt.__str__())\",\n",
       "  'class C: \\n\\n    counter = 0\\n    \\n    def __init__(self): \\n        type(self).counter += 1\\n\\n    def __del__(self):\\n        type(self).counter -= 1\\n\\nif __name__ == \"__main__\":\\n    x = C()\\n    print(\"Number of instances: : \" + str(C.counter))\\n    y = C()\\n    print(\"Number of instances: : \" + str(C.counter))\\n    del x\\n    print(\"Number of instances: : \" + str(C.counter))\\n    del y\\n    print(\"Number of instances: : \" + str(C.counter))',\n",
       "  'class Robot:\\n    \"\"\"Represents a robot, with a name.\"\"\"\\n\\n    # A class variable, counting the number of robots\\n    population = 0 # class variable: whose value is shared among all instances of a this class\\n\\n    def __init__(self, name):\\n        \"\"\"Initializes the data.\"\"\"\\n        self.name = name # Object variable\\n        print(\"(Initializing {})\".format(self.name))\\n\\n        # When this person is created, the robot\\n        # adds to the population\\n        Robot.population += 1\\n\\n    def die(self):\\n        \"\"\"I am dying.\"\"\"\\n        print(\"{} is being destroyed!\".format(self.name))\\n\\n        Robot.population -= 1\\n\\n        if Robot.population == 0:\\n            print(\"{} was the last one.\".format(self.name))\\n        else:\\n            print(\"There are still {:d} robots working.\".format(\\n                Robot.population))\\n\\n    def say_hi(self):\\n        \"\"\"Greeting by the robot.\\n        Yeah, they can do that.\"\"\"\\n        print(\"Greetings, my masters call me {}.\".format(self.name))\\n\\n    @classmethod # class method\\n    def how_many(cls):\\n        \"\"\"Prints the current population.\"\"\"\\n        print(\"We have {:d} robots.\".format(cls.population))\\n\\n\\ndroid1 = Robot(\"R2-D2\")\\ndroid1.say_hi()\\nRobot.how_many()\\n\\ndroid2 = Robot(\"C-3PO\")\\ndroid2.say_hi()\\nRobot.how_many()\\n\\nprint(\"\\\\nRobots can do some work here.\\\\n\")\\n\\nprint(\"Robots have finished their work. So let\\'s destroy them.\")\\ndroid1.die()\\ndroid2.die()\\n\\nRobot.how_many()',\n",
       "  'class Robot:\\n \\n    def __init__(self, name=None):\\n        self.name = name   \\n        \\n    def say_hi(self):\\n        if self.name:\\n            print(\"Hi, I am \" + self.name)\\n        else:\\n            print(\"Hi, I am a robot without a name\")\\n            \\n    def set_name(self, name):\\n        self.name = name\\n        \\n    def get_name(self):\\n        return self.name\\n    \\n\\nx = Robot()\\nx.set_name(\"Henry\")\\nx.say_hi()\\ny = Robot()\\ny.set_name(x.get_name())\\nprint(y.get_name())\\nz = Robot(\"Pawan\")\\nz.say_hi()',\n",
       "  'class Robot:\\n \\n    def __init__(self, \\n                 name=None,\\n                 build_year=None):\\n        self.name = name   \\n        self.build_year = build_year\\n        \\n    def say_hi(self):\\n        if self.name:\\n            print(\"Hi, I am \" + self.name)\\n        else:\\n            print(\"Hi, I am a robot without a name\")\\n        if self.build_year:\\n            print(\"I was built in \" + str(self.build_year))\\n        else:\\n            print(\"It\\'s not known, when I was created!\")\\n            \\n    def set_name(self, name):\\n        self.name = name\\n        \\n    def get_name(self):\\n        return self.name    \\n\\n    def set_build_year(self, by):\\n        self.build_year = by\\n        \\n    def get_build_year(self):\\n        return self.build_year    \\n    \\n\\nx = Robot(\"Henry\", 2008)\\ny = Robot()\\ny.set_name(\"Marvin\")\\nx.say_hi()\\ny.say_hi()',\n",
       "  'class A():\\n    \\n    def __init__(self):\\n        self.__priv = \"I am private\"\\n        self._prot = \"I am protected\"\\n        self.pub = \"I am public\"\\n\\n        \\nx = A()\\nprint(x.pub)\\nx.pub = \"Public Changed\"\\nprint(x.pub)\\nprint(x._prot)\\nx._prot = \"Protected Changed\" # Not a good practice\\nprint(x._prot)\\nprint(x.__priv)\\n    ',\n",
       "  '# empty tuple\\n# Output: ()\\nmy_tuple = ()\\nprint(my_tuple)\\n\\n# tuple having integers\\n# Output: (1, 2, 3)\\nmy_tuple = (1, 2, 3)\\nprint(my_tuple)\\n\\n# tuple with mixed datatypes\\n# Output: (1, \"Hello\", 3.4)\\nmy_tuple = (1, \"Hello\", 3.4)\\nprint(my_tuple)\\n\\n# nested tuple\\n# Output: (\"mouse\", [8, 4, 6], (1, 2, 3))\\nmy_tuple = (\"mouse\", [8, 4, 6], (1, 2, 3))\\nprint(my_tuple)',\n",
       "  '# empty tuple\\n# Output: ()\\nmy_tuple = ()\\nprint(my_tuple)\\n\\n# tuple having integers\\n# Output: (1, 2, 3)\\nmy_tuple = (1, 2, 3)\\nprint(my_tuple)\\n\\n# tuple with mixed datatypes\\n# Output: (1, \"Hello\", 3.4)\\nmy_tuple = (1, \"Hello\", 3.4)\\nprint(my_tuple)\\n\\n# nested tuple\\n# Output: (\"mouse\", [8, 4, 6], (1, 2, 3))\\nmy_tuple = (\"mouse\", [8, 4, 6], (1, 2, 3))\\nprint(my_tuple)',\n",
       "  'tup = (11,22,22)\\nprint(tup)\\nprint(tup[0])\\nprint(tup.count(22))\\nprint(tup.index(22))\\ntup[1] = 44',\n",
       "  \"# -, _, .\\nemail_address = 'supp-ort.india4@datacamp.com'\\n#re.search(r'\\\\S+@\\\\w+\\\\.\\\\w+', email_address).group() # Naga\\nre.search(r'[a-zA-Z0-9-_.]+@\\\\w+\\\\.\\\\w+', email_address).group() # Ramya\",\n",
       "  \"class Date(object):\\n    def __init__(self, Year, Month, Day):\\n        self.year  = Year\\n        self.month = Month\\n        self.day   = Day\\n\\n    def __str__(self):\\n        return 'Date({}, {}, {})'.format(self.year, self.month, self.day)\\n\\n    def set_date(self, y, m, d):\\n        self.year = y\\n        self.month = m\\n        self.day = d\\n\\n    @classmethod\\n    def from_str(cls, date_str):\\n        '''Call as\\n           d = Date.from_str('2013-12-30')\\n        '''\\n        print(cls)\\n        year, month, day = map(int, date_str.split('-'))\\n        return cls(year, month, day)\",\n",
       "  \"d = Date(2019, 1, 8)\\nprint(d.__str__())\\nd.set_date(2019, 1, 9)\\nprint(d.__str__())\\n\\nd_alt = Date.from_str('2019-1-10')\\nprint(d_alt.__str__())\\nd_alt.set_date(2019, 1, 11)\\nprint(d_alt.__str__())\",\n",
       "  'class C: \\n\\n    counter = 0\\n    \\n    def __init__(self): \\n        type(self).counter += 1\\n\\n    def __del__(self):\\n        type(self).counter -= 1\\n\\nif __name__ == \"__main__\":\\n    x = C()\\n    print(\"Number of instances: : \" + str(C.counter))\\n    y = C()\\n    print(\"Number of instances: : \" + str(C.counter))\\n    del x\\n    print(\"Number of instances: : \" + str(C.counter))\\n    del y\\n    print(\"Number of instances: : \" + str(C.counter))',\n",
       "  'class Robot:\\n    \"\"\"Represents a robot, with a name.\"\"\"\\n\\n    # A class variable, counting the number of robots\\n    population = 0 # class variable: whose value is shared among all instances of a this class\\n\\n    def __init__(self, name):\\n        \"\"\"Initializes the data.\"\"\"\\n        self.name = name # Object variable\\n        print(\"(Initializing {})\".format(self.name))\\n\\n        # When this person is created, the robot\\n        # adds to the population\\n        Robot.population += 1\\n\\n    def die(self):\\n        \"\"\"I am dying.\"\"\"\\n        print(\"{} is being destroyed!\".format(self.name))\\n\\n        Robot.population -= 1\\n\\n        if Robot.population == 0:\\n            print(\"{} was the last one.\".format(self.name))\\n        else:\\n            print(\"There are still {:d} robots working.\".format(\\n                Robot.population))\\n\\n    def say_hi(self):\\n        \"\"\"Greeting by the robot.\\n        Yeah, they can do that.\"\"\"\\n        print(\"Greetings, my masters call me {}.\".format(self.name))\\n\\n    @classmethod # class method\\n    def how_many(cls):\\n        \"\"\"Prints the current population.\"\"\"\\n        print(\"We have {:d} robots.\".format(cls.population))\\n\\n\\ndroid1 = Robot(\"R2-D2\")\\ndroid1.say_hi()\\nRobot.how_many()\\n\\ndroid2 = Robot(\"C-3PO\")\\ndroid2.say_hi()\\nRobot.how_many()\\n\\nprint(\"\\\\nRobots can do some work here.\\\\n\")\\n\\nprint(\"Robots have finished their work. So let\\'s destroy them.\")\\ndroid1.die()\\ndroid2.die()\\n\\nRobot.how_many()',\n",
       "  'class Robot:\\n \\n    def __init__(self, name=None):\\n        self.name = name   \\n        \\n    def say_hi(self):\\n        if self.name:\\n            print(\"Hi, I am \" + self.name)\\n        else:\\n            print(\"Hi, I am a robot without a name\")\\n            \\n    def set_name(self, name):\\n        self.name = name\\n        \\n    def get_name(self):\\n        return self.name\\n    \\n\\nx = Robot()\\nx.set_name(\"Henry\")\\nx.say_hi()\\ny = Robot()\\ny.set_name(x.get_name())\\nprint(y.get_name())\\nz = Robot(\"Pawan\")\\nz.say_hi()',\n",
       "  'class Robot:\\n \\n    def __init__(self, \\n                 name=None,\\n                 build_year=None):\\n        self.name = name   \\n        self.build_year = build_year\\n        \\n    def say_hi(self):\\n        if self.name:\\n            print(\"Hi, I am \" + self.name)\\n        else:\\n            print(\"Hi, I am a robot without a name\")\\n        if self.build_year:\\n            print(\"I was built in \" + str(self.build_year))\\n        else:\\n            print(\"It\\'s not known, when I was created!\")\\n            \\n    def set_name(self, name):\\n        self.name = name\\n        \\n    def get_name(self):\\n        return self.name    \\n\\n    def set_build_year(self, by):\\n        self.build_year = by\\n        \\n    def get_build_year(self):\\n        return self.build_year    \\n    \\n\\nx = Robot(\"Henry\", 2008)\\ny = Robot()\\ny.set_name(\"Marvin\")\\nx.say_hi()\\ny.say_hi()',\n",
       "  'class A():\\n    \\n    def __init__(self):\\n        self.__priv = \"I am private\"\\n        self._prot = \"I am protected\"\\n        self.pub = \"I am public\"\\n\\n        \\nx = A()\\nprint(x.pub)\\nx.pub = \"Public Changed\"\\nprint(x.pub)\\nprint(x._prot)\\nx._prot = \"Protected Changed\" # Not a good practice\\nprint(x._prot)\\nprint(x.__priv)\\n    ',\n",
       "  'tup = (11,22,22)\\nprint(tup)\\nprint(tup[0])\\nprint(tup.count(22))\\nprint(tup.index(22))\\ntup[1] = 44',\n",
       "  \"# -, _, .\\nemail_address = 'supp-ort.india4@datacamp.com'\\n#re.search(r'\\\\S+@\\\\w+\\\\.\\\\w+', email_address).group() # Naga\\nre.search(r'[a-zA-Z0-9-_.]+@\\\\w+\\\\.\\\\w+', email_address).group() # Ramya\",\n",
       "  \"class Date(object):\\n    def __init__(self, Year, Month, Day):\\n        self.year  = Year\\n        self.month = Month\\n        self.day   = Day\\n\\n    def __str__(self):\\n        return 'Date({}, {}, {})'.format(self.year, self.month, self.day)\\n\\n    def set_date(self, y, m, d):\\n        self.year = y\\n        self.month = m\\n        self.day = d\\n\\n    @classmethod\\n    def from_str(cls, date_str):\\n        '''Call as\\n           d = Date.from_str('2013-12-30')\\n        '''\\n        print(cls)\\n        year, month, day = map(int, date_str.split('-'))\\n        return cls(year, month, day)\",\n",
       "  \"d = Date(2019, 1, 8)\\nprint(d.__str__())\\nd.set_date(2019, 1, 9)\\nprint(d.__str__())\\n\\nd_alt = Date.from_str('2019-1-10')\\nprint(d_alt.__str__())\\nd_alt.set_date(2019, 1, 11)\\nprint(d_alt.__str__())\",\n",
       "  'class C: \\n\\n    counter = 0\\n    \\n    def __init__(self): \\n        type(self).counter += 1\\n\\n    def __del__(self):\\n        type(self).counter -= 1\\n\\nif __name__ == \"__main__\":\\n    x = C()\\n    print(\"Number of instances: : \" + str(C.counter))\\n    y = C()\\n    print(\"Number of instances: : \" + str(C.counter))\\n    del x\\n    print(\"Number of instances: : \" + str(C.counter))\\n    del y\\n    print(\"Number of instances: : \" + str(C.counter))',\n",
       "  'class Robot:\\n    \"\"\"Represents a robot, with a name.\"\"\"\\n\\n    # A class variable, counting the number of robots\\n    population = 0 # class variable: whose value is shared among all instances of a this class\\n\\n    def __init__(self, name):\\n        \"\"\"Initializes the data.\"\"\"\\n        self.name = name # Object variable\\n        print(\"(Initializing {})\".format(self.name))\\n\\n        # When this person is created, the robot\\n        # adds to the population\\n        Robot.population += 1\\n\\n    def die(self):\\n        \"\"\"I am dying.\"\"\"\\n        print(\"{} is being destroyed!\".format(self.name))\\n\\n        Robot.population -= 1\\n\\n        if Robot.population == 0:\\n            print(\"{} was the last one.\".format(self.name))\\n        else:\\n            print(\"There are still {:d} robots working.\".format(\\n                Robot.population))\\n\\n    def say_hi(self):\\n        \"\"\"Greeting by the robot.\\n        Yeah, they can do that.\"\"\"\\n        print(\"Greetings, my masters call me {}.\".format(self.name))\\n\\n    @classmethod # class method\\n    def how_many(cls):\\n        \"\"\"Prints the current population.\"\"\"\\n        print(\"We have {:d} robots.\".format(cls.population))\\n\\n\\ndroid1 = Robot(\"R2-D2\")\\ndroid1.say_hi()\\nRobot.how_many()\\n\\ndroid2 = Robot(\"C-3PO\")\\ndroid2.say_hi()\\nRobot.how_many()\\n\\nprint(\"\\\\nRobots can do some work here.\\\\n\")\\n\\nprint(\"Robots have finished their work. So let\\'s destroy them.\")\\ndroid1.die()\\ndroid2.die()\\n\\nRobot.how_many()',\n",
       "  'class Robot:\\n \\n    def __init__(self, name=None):\\n        self.name = name   \\n        \\n    def say_hi(self):\\n        if self.name:\\n            print(\"Hi, I am \" + self.name)\\n        else:\\n            print(\"Hi, I am a robot without a name\")\\n            \\n    def set_name(self, name):\\n        self.name = name\\n        \\n    def get_name(self):\\n        return self.name\\n    \\n\\nx = Robot()\\nx.set_name(\"Henry\")\\nx.say_hi()\\ny = Robot()\\ny.set_name(x.get_name())\\nprint(y.get_name())\\nz = Robot(\"Pawan\")\\nz.say_hi()',\n",
       "  'class Robot:\\n \\n    def __init__(self, \\n                 name=None,\\n                 build_year=None):\\n        self.name = name   \\n        self.build_year = build_year\\n        \\n    def say_hi(self):\\n        if self.name:\\n            print(\"Hi, I am \" + self.name)\\n        else:\\n            print(\"Hi, I am a robot without a name\")\\n        if self.build_year:\\n            print(\"I was built in \" + str(self.build_year))\\n        else:\\n            print(\"It\\'s not known, when I was created!\")\\n            \\n    def set_name(self, name):\\n        self.name = name\\n        \\n    def get_name(self):\\n        return self.name    \\n\\n    def set_build_year(self, by):\\n        self.build_year = by\\n        \\n    def get_build_year(self):\\n        return self.build_year    \\n    \\n\\nx = Robot(\"Henry\", 2008)\\ny = Robot()\\ny.set_name(\"Marvin\")\\nx.say_hi()\\ny.say_hi()',\n",
       "  'class A():\\n    \\n    def __init__(self):\\n        self.__priv = \"I am private\"\\n        self._prot = \"I am protected\"\\n        self.pub = \"I am public\"\\n\\n        \\nx = A()\\nprint(x.pub)\\nx.pub = \"Public Changed\"\\nprint(x.pub)\\nprint(x._prot)\\nx._prot = \"Protected Changed\" # Not a good practice\\nprint(x._prot)\\nprint(x.__priv)\\n    ',\n",
       "  'new_tup = (100,)\\nprint(new_tup)\\nnew_tup[1] = 55',\n",
       "  \"# I would recommend always using parentheses\\n# to indicate start and end of tuple\\n# even though parentheses are optional.\\n# Explicit is better than implicit.\\nzoo = ('python', 'elephant', 'penguin')\\nprint('Number of animals in the zoo is', len(zoo))\\nnew_zoo = 'monkey', 'camel', zoo # parentheses not required but are a good idea\\nprint('Number of cages in the new zoo is', len(new_zoo))\\nprint('All animals in new zoo are', new_zoo)\\nprint('Animals brought from old zoo are', new_zoo[2])\\nprint('Last animal brought from old zoo is', new_zoo[2][2])\\nprint('Number of animals in the new zoo is',\\nlen(new_zoo)-1+len(new_zoo[2]))\",\n",
       "  \"import timeit\\nprint(timeit.timeit('x=(1,2,3,4,5,6,7,8,9)', number=100000))\\n\\nprint(timeit.timeit('x=[1,2,3,4,5,6,7,8,9]', number=100000))\",\n",
       "  \"# Tuple 'n_tuple' with a list as one of its item.\\nn_tuple = (1, 1, [3,4])\\nprint(n_tuple)\\n#Items with same value have the same id.\\nid(n_tuple[0]) == id(n_tuple[1])\",\n",
       "  \"# List 'n_list' with a list as one of its item.\\nn_list = [1, 1, [3,4]]\\nprint(n_list)\\n#Items with same value have the same id.\\nid(n_list[0]) == id(n_list[1])\",\n",
       "  '(aa, bb, cc, dd) = (111, 222, 333, 444, 555)\\nprint(aa, bb, cc)',\n",
       "  \"class Date(object):\\n    def __init__(self, Year, Month, Day):\\n        self.year  = Year\\n        self.month = Month\\n        self.day   = Day\\n\\n    def __str__(self):\\n        return 'Date({}, {}, {})'.format(self.year, self.month, self.day)\\n\\n    def set_date(self, y, m, d):\\n        self.year = y\\n        self.month = m\\n        self.day = d\\n\\n    @classmethod\\n    def from_str(cls, date_str):\\n        '''Call as\\n           d = Date.from_str('2013-12-30')\\n        '''\\n        print(cls)\\n        year, month, day = map(int, date_str.split('-'))\\n        return cls(year, month, day)\",\n",
       "  \"d = Date(2019, 1, 8)\\nprint(d.__str__())\\nd.set_date(2019, 1, 9)\\nprint(d.__str__())\\n\\nd_alt = Date.from_str('2019-1-10')\\nprint(d_alt.__str__())\\nd_alt.set_date(2019, 1, 11)\\nprint(d_alt.__str__())\",\n",
       "  'class C: \\n\\n    counter = 0\\n    \\n    def __init__(self): \\n        type(self).counter += 1\\n\\n    def __del__(self):\\n        type(self).counter -= 1\\n\\nif __name__ == \"__main__\":\\n    x = C()\\n    print(\"Number of instances: : \" + str(C.counter))\\n    y = C()\\n    print(\"Number of instances: : \" + str(C.counter))\\n    del x\\n    print(\"Number of instances: : \" + str(C.counter))\\n    del y\\n    print(\"Number of instances: : \" + str(C.counter))',\n",
       "  'class Robot:\\n    \"\"\"Represents a robot, with a name.\"\"\"\\n\\n    # A class variable, counting the number of robots\\n    population = 0 # class variable: whose value is shared among all instances of a this class\\n\\n    def __init__(self, name):\\n        \"\"\"Initializes the data.\"\"\"\\n        self.name = name # Object variable\\n        print(\"(Initializing {})\".format(self.name))\\n\\n        # When this person is created, the robot\\n        # adds to the population\\n        Robot.population += 1\\n\\n    def die(self):\\n        \"\"\"I am dying.\"\"\"\\n        print(\"{} is being destroyed!\".format(self.name))\\n\\n        Robot.population -= 1\\n\\n        if Robot.population == 0:\\n            print(\"{} was the last one.\".format(self.name))\\n        else:\\n            print(\"There are still {:d} robots working.\".format(\\n                Robot.population))\\n\\n    def say_hi(self):\\n        \"\"\"Greeting by the robot.\\n        Yeah, they can do that.\"\"\"\\n        print(\"Greetings, my masters call me {}.\".format(self.name))\\n\\n    @classmethod # class method\\n    def how_many(cls):\\n        \"\"\"Prints the current population.\"\"\"\\n        print(\"We have {:d} robots.\".format(cls.population))\\n\\n\\ndroid1 = Robot(\"R2-D2\")\\ndroid1.say_hi()\\nRobot.how_many()\\n\\ndroid2 = Robot(\"C-3PO\")\\ndroid2.say_hi()\\nRobot.how_many()\\n\\nprint(\"\\\\nRobots can do some work here.\\\\n\")\\n\\nprint(\"Robots have finished their work. So let\\'s destroy them.\")\\ndroid1.die()\\ndroid2.die()\\n\\nRobot.how_many()',\n",
       "  'class Robot:\\n \\n    def __init__(self, name=None):\\n        self.name = name   \\n        \\n    def say_hi(self):\\n        if self.name:\\n            print(\"Hi, I am \" + self.name)\\n        else:\\n            print(\"Hi, I am a robot without a name\")\\n            \\n    def set_name(self, name):\\n        self.name = name\\n        \\n    def get_name(self):\\n        return self.name\\n    \\n\\nx = Robot()\\nx.set_name(\"Henry\")\\nx.say_hi()\\ny = Robot()\\ny.set_name(x.get_name())\\nprint(y.get_name())\\nz = Robot(\"Pawan\")\\nz.say_hi()',\n",
       "  'class Robot:\\n \\n    def __init__(self, \\n                 name=None,\\n                 build_year=None):\\n        self.name = name   \\n        self.build_year = build_year\\n        \\n    def say_hi(self):\\n        if self.name:\\n            print(\"Hi, I am \" + self.name)\\n        else:\\n            print(\"Hi, I am a robot without a name\")\\n        if self.build_year:\\n            print(\"I was built in \" + str(self.build_year))\\n        else:\\n            print(\"It\\'s not known, when I was created!\")\\n            \\n    def set_name(self, name):\\n        self.name = name\\n        \\n    def get_name(self):\\n        return self.name    \\n\\n    def set_build_year(self, by):\\n        self.build_year = by\\n        \\n    def get_build_year(self):\\n        return self.build_year    \\n    \\n\\nx = Robot(\"Henry\", 2008)\\ny = Robot()\\ny.set_name(\"Marvin\")\\nx.say_hi()\\ny.say_hi()',\n",
       "  'class A():\\n    \\n    def __init__(self):\\n        self.__priv = \"I am private\"\\n        self._prot = \"I am protected\"\\n        self.pub = \"I am public\"\\n\\n        \\nx = A()\\nprint(x.pub)\\nx.pub = \"Public Changed\"\\nprint(x.pub)\\nprint(x._prot)\\nx._prot = \"Protected Changed\" # Not a good practice\\nprint(x._prot)\\nprint(x.__priv)\\n    ',\n",
       "  '(aa, bb, cc, dd) = (111, 222, 333)\\n#print(aa, bb, cc)',\n",
       "  '[aa, bb, cc, dd] = [111, 222, 333]\\nprint(aa, bb, cc)',\n",
       "  \"basket = {'apple', 'orange', 'apple', 'pear', 'orange', 'banana'}\\nprint (basket)\\nprint(dir(basket))\",\n",
       "  \"basket = {'apple', 'orange', 'apple', 'pear', 'orange', 'banana'}\\nprint (basket)\\nprint(dir(basket))\",\n",
       "  \"basket = {'apple', 'orange', 'apple', 'pear', 'orange', 'banana'}\\nprint('orange' in basket)\\nprint('crabgrass' in basket)\",\n",
       "  'my_list = [1, 2, 3, 5, 5, 6, 7, 8, 8]\\nprint(my_list)\\nmy_set = set(my_list)\\nprint(my_set)',\n",
       "  \"# Demonstrate set operations on unique letters from two words\\na = set('abracadabra')\\nprint (a)\\nb = set('alacazam')\\nprint(a.union(b))\\nprint(a|b)\\nprint(a.intersection(b))\\nprint(a&b)\",\n",
       "  'aa = {11, 22, 33, 44, 44}\\nprint(aa)\\naa.',\n",
       "  \"def logger(msg):\\n    def log_message():\\n        print('Log:', msg)\\n    \\n    return log_message\\n\\nlog_hi = logger('Hi')\\nprint(log_hi)\\nlog_hi()\",\n",
       "  \"def outer_func():\\n    message = 'Hi'\\n    \\n    def inner_func():\\n        print(message)\\n        \\n    return inner_func\\n\\nmy_func = outer_func()\\n\\nmy_func()\",\n",
       "  \"def outer_func(msg):\\n    message = msg\\n    \\n    def inner_func():\\n        print(message)\\n        \\n    return inner_func\\n\\nhi_func = outer_func('Hi')\\nhello_func = outer_func('Hello')\\n\\nhi_func()\\nhello_func()\",\n",
       "  \"class Sentence(object):\\n    def __init__(self, msg):\\n        self.msg = msg\\n        self.words = self.msg.split()\\n        self.index = 0\\n\\n    def __iter__(self):\\n        return self\\n    \\n    def __next__(self):\\n        if (self.index >= len(self.words)):\\n            raise StopIteration\\n        idx = self.index\\n        self.index += 1\\n        return self.words[idx]\\n        \\nmy_sentence = Sentence('This is a test')\\n\\n#for word in my_sentence:\\n#    print(word)\\n\\nprint(my_sentence.__next__())\\nprint(next(my_sentence))\\nprint(next(my_sentence))\\nprint(next(my_sentence))\\nprint(next(my_sentence))\",\n",
       "  \"#bb = ('aa': 50, 'bb': 60)\",\n",
       "  'aa = {11, 22, 33, 44, 44}\\nprint(aa)',\n",
       "  \"tel = {'jack': 4098, 'sape': 4139}\\ntel['guido'] = 4127\\nprint(tel)\\nprint(tel['jack'])\\ndel tel['sape']\\ntel['irv'] = 4127\\nprint(tel)\",\n",
       "  \"tel = {'jack': 4098, 'sape': 4139}\\ntel['guido'] = 4127\\nprint(tel)\\nprint(tel['jack'])\\ndel tel['sape']\\ntel['irv'] = 4127\\nprint(tel)\",\n",
       "  'print((tel.keys()))',\n",
       "  'print(list(tel.keys()))\\nprint(tel.keys())\\nprint(sorted(tel.keys()))',\n",
       "  \"print('guido' in tel)\\nprint('jack' not in tel)\",\n",
       "  'print(sorted(tel.values()))',\n",
       "  'print(41299 in tel.values())',\n",
       "  \"print('guidox' in tel.keys())\",\n",
       "  'print(sorted(tel.items()))',\n",
       "  \"print(tel.get('guido'))\",\n",
       "  \"print(tel['guidox'])\",\n",
       "  \"print(tel.get('NA', 'NotPresent'))\",\n",
       "  \"tel.setdefault('New', 1234)\\nprint(tel)\",\n",
       "  \"tel['Newer'] = 3456\\nprint(tel)\",\n",
       "  \"tel['Newer'] = 3456\\nprint(tel)\",\n",
       "  'print(dir(tel))',\n",
       "  'print(help(tel.get))',\n",
       "  'print({str(x): x**2 for x in (2, 4, 6)})',\n",
       "  \"# Looping through dictionary\\nknights = {'gallahad': 'the pure', 'robin': 'the brave'}\\nfor k, v in knights.items():\\n    print(k,v)\",\n",
       "  '10/0',\n",
       "  \"# Looping through more than one sequence\\nquestions = ['name', 'quest', 'favorite color', 'xyx']\\nanswers = ['lancelot', 'the holy grail', 'blue']\\nfor q, a in zip(questions, answers):\\n    print('What is your {0}?  It is {1}.'.format(q, a))\",\n",
       "  \"# Looping through more than one sequence\\nquestions = ['name', 'quest', 'favorite color', 'xyx']\\nanswers = ['lancelot', 'the holy grail', 'blue']\\nfor q, a in zip(questions, answers):\\n    print('What is your {0}?  It is {1}.'.format(q, a))\",\n",
       "  \"# Obtaining the position index\\nquestions = ['name', 'quest', 'favorite color']\\nfor i, v in enumerate(questions):\\n    print(i, v)\",\n",
       "  \"# Obtaining the position index\\nquestions = ['name', 'quest', 'favorite color']\\nfor i, v in enumerate(sorted(questions)):\\n    print(i, v)\",\n",
       "  '# To loop over a sequence in reverse\\nfor i in reversed(range(1, 10, 2)):\\n    print(i)',\n",
       "  'print(list(range(1, 10, 2)))',\n",
       "  \"# To loop over a sequence in sorted order\\nbasket = ['apple', 'orange', 'apple', 'pear', 'orange', 'banana']\\nfor f in sorted(set(basket)):\\n    print(f)\",\n",
       "  \"while True print('Hello world')\",\n",
       "  \"num_list = [500, 600, 700]\\nalpha_list = ['x', 'y', 'z']\\n\\n\\ndef nested_loop():\\n    for number in num_list:\\n        print(number)\\n        for letter in alpha_list:\\n            print(letter)\\n\\nif __name__ == '__main__':\\n    nested_loop()\",\n",
       "  'aa = [1,2,3,4]\\nbb = [11,2,13,4]\\ncc = [1,12,3,4]\\n\\nif len(aa)== len(bb) == len(cc):\\n    print(True)\\nelse:\\n    print(False)',\n",
       "  'default ',\n",
       "  '10 * (1/0)',\n",
       "  '4 + spam*3',\n",
       "  \"'2' + 2\",\n",
       "  \"def this_fails():\\n    x = 1/0\\n\\ntry:\\n    this_fails()\\nexcept ZeroDivisionError as err:\\n    print('Handling run-time error:', err)\",\n",
       "  'def divide(x, y):\\n    try:\\n        result = x / y\\n        print(\"In Try\")\\n    except ZeroDivisionError:\\n        print(\"division by zero!\")\\n    else:\\n        print(\"result is\", result)\\n    finally:\\n        print(\"executing finally clause\")\\n        print(\"executing finally clause\")\\n        \\n#divide(2,3)\\nprint(\"=\"*40)\\ndivide(1,0)',\n",
       "  '1/0\\nprint(\"something\")',\n",
       "  's = \"Regular expressions easily explained!\"\\n\"easily\" in s',\n",
       "  'import re',\n",
       "  'pattern = r\"ie\"\\nstr1 = \"Cookie\"\\n# if ($str =~ m/^H.+d$/)\\nif re.search(pattern, str1):\\n#if re.match(pattern, str1):\\n    print(\"Match!\")\\nelse: \\n    print(\"Not a match!\")',\n",
       "  \"# . - A period. Matches any single character except newline character.\\nre.search(r'Co.k.e', 'Cookie').group()\",\n",
       "  \"x = re.search(r'Co.k.e', 'Cookie')\\nx.group()\",\n",
       "  \"x = re.search(r'(Co.)(k.e)', 'Cookie')\\nprint(x.group())\\nprint(x.group(1))\\nprint(x.group(2))\\nprint(x.groups())\",\n",
       "  'print(dir(x))',\n",
       "  'print(x.end())',\n",
       "  'print(x.endpos)',\n",
       "  \"m = re.match(r'(?P<user>\\\\w+)@(?P<website>\\\\w+)\\\\.(?P<extension>\\\\w+)','myname@hackerrank.com')\\nm.groupdict()\",\n",
       "  \"# \\\\w - Lowercase w. Matches any single letter, digit or underscore.\\nre.search(r'Co\\\\wk\\\\we', 'Co0kie').group()\",\n",
       "  \"# \\\\W - Uppercase w. Matches any character not part of \\\\w (lowercase w).\\nre.search(r'C\\\\Wke', 'C@ke').group()\",\n",
       "  \"# \\\\s - Lowercase s. Matches a single whitespace character like: space, newline, tab, return.\\nre.search(r'Eat\\\\scake', 'Eat cake').group()\",\n",
       "  \"# \\\\S - Uppercase s. Matches any character not part of \\\\s (lowercase s).\\nre.search(r'Cook\\\\Se', 'Cook!e').group()\",\n",
       "  \"# \\\\t - Lowercase t. Matches tab.\\nre.search(r'Eat\\\\tcake', 'Eat Cake').group()\\n\\n# \\\\n - Lowercase n. Matches newline.\\n\\n# \\\\r - Lowercase r. Matches return.\",\n",
       "  \"# \\\\d - Lowercase d. Matches decimal digit 0-9.\\nre.search(r'c\\\\d\\\\dkie', 'c00kie').group()\",\n",
       "  \"# ^ - Caret. Matches a pattern at the start of the string.\\nre.search(r'^Eat', 'Eat cake').group()\",\n",
       "  \"# $ - Matches a pattern at the end of string.\\nre.search(r'cake$', 'Eat cake').group()\",\n",
       "  \"# [abc] - Matches a or b or c.\\nre.search('[aaz]', 'Eat cake').group()\",\n",
       "  \"# [abc] - Matches a or b or c.\\nre.search('[aaz]', 'Eat cake').group()\",\n",
       "  \"# [a-zA-Z0-9] - Matches any letter from (a to z) or (A to Z) or (0 to 9). \\nre.search(r'Number: [0-9]', 'Number: 1').group()\",\n",
       "  \"# Matches any character except 5\\nre.search(r'Number: [^0-6]', 'Number: 7').group()\",\n",
       "  \"# \\\\A - Uppercase a. Matches only at the start of the string. Works across multiple lines as well.\\nre.search(r'\\\\A[A-E]ookie', 'Cookie').group()\",\n",
       "  \"# \\\\b - Lowercase b. Matches only the beginning or end of the word.\\nre.search(r'\\\\b[A-E]ookie', 'Cookie').group()\",\n",
       "  \"# \\\\ - Backslash.\\nre.search(r'Back\\\\\\\\stail', 'Back\\\\stail').group()\",\n",
       "  \"# + - Checks for one or more characters to its left.\\nre.search(r'Co+kie', 'Cooookie').group()\",\n",
       "  \"# + - Checks for one or more characters to its left.\\nre.search(r'C0?kie', 'Ckie').group()\",\n",
       "  \"# + - Checks for one or more characters to its left.\\nre.search(r'C*kie', 'Ckie').group()\",\n",
       "  \"# * - Checks for zero or more characters to its left.\\n# Checks for any occurrence of a or o or both in the given sequence\\nre.search(r'Ca*o*kie', 'Ckie').group()\",\n",
       "  \"# ? - Checks for exactly zero or one character to its left.\\n# Checks for exactly zero or one occurrence of a or o or both in the given sequence\\nre.search(r'Colou?r', 'Color').group()\",\n",
       "  \"# {x} - Repeat exactly x number of times.\\n# {x,} - Repeat at least x times or more.\\n# {x, y} - Repeat at least x times but no more than y times.\\nval = '987654321'\\n#re.search(r'\\\\d{5,8}', '0987654321').group()\\nre.search(r'\\\\d{5,8}', val).group()\",\n",
       "  \"# {x} - Repeat exactly x number of times.\\n# {x,} - Repeat at least x times or more.\\n# {x, y} - Repeat at least x times but no more than y times.\\nval = '987654321'\\nre.search(r'\\\\d+', val).group()\",\n",
       "  \"# {x} - Repeat exactly x number of times.\\n# {x,} - Repeat at least x times or more.\\n# {x, y} - Repeat at least x times but no more than y times.\\nre.search(r'\\\\w{5,12}', '0980a0007').group()\",\n",
       "  \"email_address = 'Please contact us at: support@datacamp.com'\\n#email_address = 'support@datacamp.com'\\nmatch = re.search(r'(\\\\S+)@(\\\\S+\\\\.(\\\\w+))', email_address)\\n\\nif match:\\n\\n    print(match.group()) # The whole matched text\\n    print(match.group(1)) # The username (group 1)\\n    print(match.group(2)) # The host (group 2)\\n    print(match.group(3)) # The host (group 2)\",\n",
       "  \"email_address = 'Please contact us at: support@datacamp.com'\\n#email_address = 'support@datacamp.com'\\nmatch = re.search(r'(?P<name>\\\\S+)@(?P<company>\\\\S+)\\\\.(?P<domain>\\\\w+)', email_address)\\n\\nif match:\\n\\n    print(match.group()) # The whole matched text\\n    print(match.group(1)) # The username (group 1)\\n    print(match.group(2)) # The host (group 2)\\n    print(match.group(3)) # The host (group 2)\\nprint(match.groupdict())\",\n",
       "  \"email_address = 'Please contact us at: supp@ort@da-ta-camp.com'\\n#email_address = 'support@datacamp.com'\\nre.search(r'\\\\S+@\\\\S+\\\\.\\\\w+', email_address).group()\",\n",
       "  \"# -, _, .\\nemail_address = 'supp-ort.india4@datacamp.com'\\n#re.search(r'\\\\S+@\\\\w+\\\\.\\\\w+', email_address).group() # Naga\\nre.search(r'[a-zA-Z0-9-_.]+@\\\\w+\\\\.\\\\w+', email_address).group() # Ramya\",\n",
       "  \"\\nemail_address = 'support@datacamp.com'\\nre.search(r'\\\\w+@\\\\w+\\\\.\\\\w+', email_address).group()\",\n",
       "  \"heading  = r'<h1>TITLE</h1>'\\nre.match(r'<.*>', heading).group()\",\n",
       "  \"heading  = r'<h1>TITLE</h1>'\\nre.match(r'<.*?>', heading).group()\",\n",
       "  \"heading  = r'<h1>TITLE</h1>'\\nre.search(r'<.*?>', heading).group()\",\n",
       "  'pattern = \"C\"\\nsequence1 = \"IceCream\"\\n\\n# No match since \"C\" is not at the start of \"IceCream\"\\nre.match(pattern, sequence1).group()',\n",
       "  'pattern = \"cookie\"\\nsequence = \"Cake and cookie\"\\n\\nre.search(pattern, sequence).group()',\n",
       "  'pattern = \"cookie\"\\nsequence = \"Cake and cookie\"\\n\\nre.search(pattern, sequence).group()',\n",
       "  'import re\\n\\npattern = \\'this\\'\\ntext = \\'Does this text match the pattern?\\'\\n\\nmatch = re.search(pattern, text)\\n\\ns = match.start()\\ne = match.end()\\n\\nprint (f\\'Found \"{match.re.pattern}\" in \"{match.string}\" from {s} to {e} (\"{text[s:e]}\")\\')',\n",
       "  '# findall\\nemail_address = \"Please contact us at: support@datacamp.com, xyz@datacamp.com\"\\n\\n#\\'addresses\\' is a list that stores all the possible match\\naddresses = re.findall(r\\'[\\\\w\\\\.-]+@[\\\\w\\\\.-]+\\', email_address)\\nfor address in addresses: \\n    print(address)',\n",
       "  '# Substitution\\nemail_address = \"Please contact us at: xyz@datacamp.com\"\\nnew_email_address = re.sub(r\\'([\\\\w\\\\.-]+)@([\\\\w\\\\.-]+)\\', r\\'support@datacamp.com\\', email_address)\\nprint(new_email_address)',\n",
       "  \"import re\\npattern = 'x'\\nrepl = 'y'\\nstring = 'replace x with y'\\nprint(re.subn(pattern, repl, string))\",\n",
       "  'import time\\na = [1, 2, 3, 4, 5]\\n\\n# Start the timer\\nstart = time.time()\\n\\nfor i in range(0, 5000000):\\n    a = [value if value % 2 == 1 else value * 1 for value in a]\\n# Stop the timer\\nend = time.time()\\n#print(\"Input value is of type: {0} and {1}\".format(type(user_input), \\'something else\\'))\\nprint(\"Time consumed with comprehension: \" + str(end - start))\\n\\n# Restart the timer\\nstart = time.time()\\nfor i in range(0, 5000000):\\n    for j in range(len(a)):\\n        if a[j] % 2 == 1:\\n            a[j] = a[j]\\n        else:\\n            a[j] = a[j] * 1\\n# Stop the timer \\nend = time.time()\\nprint(\"Time consumed with loops: \" + str(end - start))',\n",
       "  'my_str = \"Hello World\"\\nword_count = {}\\nfor ii in my_str:\\n    if ii not in word_count.keys():\\n        word_count[ii] = 1\\n    else:\\n        word_count[ii] += 1\\nprint(word_count)',\n",
       "  \"get_ipython().magic('pip install pep8')\",\n",
       "  'movies = [\"The Holy Grail\", 1975, \"Terry Jones & Terry Gilliam\", 91,\\n[\"Graham Chapman\", [\"Michael Palin\", \"John Cleese\",\\n\"Terry Gilliam\", \"Eric Idle\", \"Terry Jones\"]]]\\n\\nfor ii in movies:\\n    if isinstance(ii, int):\\n        print(\"Found data type: {0}, of value {1}\".format(type(ii), ii))\\n    elif isinstance(ii, str):\\n        print(\"Found data type: {0}, of value {1}\".format(type(ii), ii))\\n    elif isinstance(ii, list):\\n        print(\"Found data type: {0}, of value {1}\".format(type(ii), ii))\\n        for jj in ii:\\n            if isinstance(jj, int):\\n                print(\"Found data type: {0}, of value {1}\".format(type(jj), jj))\\n            elif isinstance(jj, str):\\n                print(\"Found data type: {0}, of value {1}\".format(type(jj), jj))\\n            elif isinstance(jj, list):\\n                print(\"Found data type: {0}, of value {1}\".format(type(jj), jj)) \\n                for kk in jj:\\n                    if isinstance(kk, int):\\n                        print(\"Found data type: {0}, of value {1}\".format(type(kk), kk))\\n                    elif isinstance(kk, str):\\n                        print(\"Found data type: {0}, of value {1}\".format(type(kk), kk))\\n                    elif isinstance(kk, list):\\n                        print(\"Found data type: {0}, of value {1}\".format(type(kk), kk))',\n",
       "  'movies = [\"The Holy Grail\", 1975, \"Terry Jones & Terry Gilliam\", 91,\\n[\"Graham Chapman\", [\"Michael Palin\", \"John Cleese\",\\n\"Terry Gilliam\", \"Eric Idle\", \"Terry Jones\"]]]\\n\\n\\ndef recurse_fn(big_data_struture):\\n    for ii in big_data_struture:\\n        if isinstance(ii, int):\\n            print(\"Found data type: {0}, of value {1}\".format(type(ii), ii))\\n        elif isinstance(ii, str):\\n            print(\"Found data type: {0}, of value {1}\".format(type(ii), ii))\\n        elif isinstance(ii, list):\\n            print(\"Found data type: {0}, of value {1}\".format(type(ii), ii))\\n            recurse_fn(ii)\\n        \\n\\nrecurse_fn(movies)',\n",
       "  'def scope_test():\\n    def do_local():\\n        #print(f\\'do_local: ID of spam before assignment: {id(spam)}\\')\\n        spam = \"spam local\"\\n        print(f\\'do_local: ID of spam after assignment: {id(spam)}\\')\\n        print(f\\'do_local: Value of spam after assignment: {spam}\\')\\n\\n    def do_nonlocal():\\n        nonlocal spam\\n        print(f\\'do_nonlocal: ID of spam before assignment: {id(spam)}\\')\\n        spam = \"spam nonlocal\"\\n        print(f\\'do_nonlocal: ID of spam after assignment: {id(spam)}\\')\\n        print(f\\'do_nonlocal: Value of spam after assignment: {spam}\\')\\n\\n    def do_global():\\n        global spam\\n        print(f\\'do_global: ID of spam before assignment: {id(spam)}\\')\\n        spam = \"spam global\"\\n        print(f\\'do_global: ID of spam after assignment: {id(spam)}\\')\\n\\n    spam = \"spam\"\\n    do_local()\\n    print(\"After local assignment:\", spam)\\n    do_nonlocal()\\n    print(\"After nonlocal assignment:\", spam)\\n    do_global()\\n    print(\"After global assignment:\", spam)\\n\\nspam = \"spam\"\\nscope_test()\\nprint(\"In global scope:\", spam)',\n",
       "  'x = \"global\"\\n\\ndef foo():\\n    print(\"x inside :\", x)\\n\\nfoo()\\nprint(\"x outside:\", x)',\n",
       "  'x = \"global\"\\n\\ndef foo():\\n    x = x * 2\\n    print(x)\\nfoo()',\n",
       "  'x = \"global\"\\n\\ndef foo():\\n    global x\\n    y = \"local\"\\n    x = x * 2\\n    print(x)\\n    print(y)\\n    \\nfoo()',\n",
       "  'def outer():\\n    x = \"local\"\\n    \\n    def inner():\\n        nonlocal x\\n        x = \"nonlocal\"\\n        print(\"inner:\", x)\\n    \\n    inner()\\n    print(\"outer:\", x)\\n\\nouter()',\n",
       "  'def scope_test():\\n    def do_local():\\n        spam = \"local spam\"\\n\\n    def do_nonlocal():\\n        #nonlocal spam\\n        spam = \"nonlocal spam\"\\n\\n    def do_global():\\n        #global spam\\n        spam = \"global spam\"\\n\\n    #spam = \"test spam\"\\n    do_local()\\n    print(\"After local assignment:\", spam)\\n    do_nonlocal()\\n    print(\"After nonlocal assignment:\", spam)\\n    do_global()\\n    print(\"After global assignment:\", spam)\\n\\nspam = \"main spam\"\\nscope_test()\\nprint(\"In global scope:\", spam)',\n",
       "  'def outside():\\n    msg = \"Outside!\"\\n    def inside():\\n        msg = \"Inside!\"\\n        print(msg)\\n    inside()\\n    print(msg)\\n\\noutside()',\n",
       "  'def outside():\\n    msg = \"Outside!\"\\n    def inside():\\n        msg = \"Inside!\"\\n        print(msg)\\n    inside()\\n    print(msg)\\n\\noutside()',\n",
       "  'def outside():\\n    msg = \"Outside!\"\\n    def inside():\\n        nonlocal msg\\n        msg = \"Inside!\"\\n        print(msg)\\n    inside()\\n    print(msg)\\n\\noutside()',\n",
       "  'x = 5\\ndef foo():\\n    #global x\\n    nonlocal x\\n    x = 6\\n    print(x)\\nfoo()\\nprint(x)',\n",
       "  \"def outer_func():\\n    message = 'Hi'\\n    \\n    def inner_func():\\n        print(message)\\n        \\n    return inner_func\\n\\nmy_func = outer_func()\\n\\nmy_func()\",\n",
       "  \"def outer_func(msg):\\n    message = msg\\n    \\n    def inner_func():\\n        print(message)\\n        \\n    return inner_func\\n\\nhi_func = outer_func('Hi')\\nhello_func = outer_func('Hello')\\n\\nhi_func()\\nhello_func()\",\n",
       "  \"class Sentence(object):\\n    def __init__(self, msg):\\n        self.msg = msg\\n        self.words = self.msg.split()\\n        self.index = 0\\n\\n    def __iter__(self):\\n        return self\\n    \\n    def __next__(self):\\n        if (self.index >= len(self.words)):\\n            raise StopIteration\\n        idx = self.index\\n        self.index += 1\\n        return self.words[idx]\\n        \\nmy_sentence = Sentence('This is a test')\\n\\n#for word in my_sentence:\\n#    print(word)\\n\\nprint(my_sentence.__next__())\\nprint(next(my_sentence))\\nprint(next(my_sentence))\\nprint(next(my_sentence))\\nprint(next(my_sentence))\",\n",
       "  'x = 5\\ndef foo():\\n    x = 6\\n    def bar():\\n        nonlocal x\\n        x = 6\\n        print(x)\\n    bar()\\n    print(x)\\nfoo()\\n\\nprint(x)',\n",
       "  'class Person:\\n    pass  # An empty block\\n\\nif __name__ == \"__main__\":\\n    p = Person()\\n    print(p)',\n",
       "  'class Person:\\n    pass  # An empty block\\n\\nif __name__ == \"__main__\":\\n    p = Person()\\n    print(p)',\n",
       "  'class Person:\\n    \"\"\"This is Person Class\"\"\"\\n    pass  # An empty block\\n\\np = Person()\\nprint(p.__doc__)',\n",
       "  'aa = 10\\nprint(aa.__doc__)',\n",
       "  'class MyClass:\\n    \"\"\"A simple example class\"\"\"\\n    i = 12345\\n\\n    def f(self):\\n        print(id(self))\\n        print(\"hello world\")\\n\\nif __name__ == \"__main__\":\\n    newObj = MyClass() # Class instantiation\\n    newObj.f()\\n    print(id(newObj))\\n    #When you call a method of this object as newObj.f(), this is automatically converted \\n    #by Python into MyClass.f(newObj) - this is all the special self is about.\\n    \\n    newObj1 = MyClass() # Class instantiation\\n    newObj1.f()\\n    print(id(newObj1))',\n",
       "  \"class Person:\\n    def say_hi(self):\\n        print('Hello, how are you?')\\n\\np = Person()\\np.say_hi()\\n# The previous 2 lines can also be written as\\n# Person().say_hi()\",\n",
       "  'sign = lambda x: (\\'+\\', \\'-\\')[x < 0]\\nclass Complex:\\n    def __init__(self, realpart, imagpart):\\n        self.r = realpart\\n        self.i = imagpart\\n\\n    def print_complex(self):\\n        print(\"Complex number is: {}{}i{}\".format(self.r, sign(self.i), abs(self.i)))\\n        \\nx = Complex(3.0, -4.5)\\nx.print_complex()',\n",
       "  'sign = lambda x: (\\'+\\', \\'-\\')[x < 0]\\nclass Complex:\\n    def __init__(self):\\n        #self.r = realpart\\n        #self.i = imagpart\\n    def initialize(self, real, image):\\n        self.r = realpart\\n        self.i = imagpart\\n    def print_complex(self):\\n        print(\"Complex number is: {}{}i{}\".format(self.r, sign(self.i), abs(self.i)))\\n        \\nx = Complex()\\nx.initalize(3.0, -4.5)\\nx.print_complex()',\n",
       "  'sign = lambda x: (\\'+\\', \\'-\\')[x < 0]\\nclass Complex:\\n    def __init__(self):\\n        #self.r = realpart\\n        #self.i = imagpart\\n        pass\\n    def initialize(self, real, image):\\n        self.r = realpart\\n        self.i = imagpart\\n    def print_complex(self):\\n        print(\"Complex number is: {}{}i{}\".format(self.r, sign(self.i), abs(self.i)))\\n        \\nx = Complex()\\nx.initalize(3.0, -4.5)\\nx.print_complex()',\n",
       "  'sign = lambda x: (\\'+\\', \\'-\\')[x < 0]\\nclass Complex:\\n\\n    \"\"\"\\n    def __init__(self):\\n        #self.r = realpart\\n        #self.i = imagpart\\n    \"\"\"    \\n    def initialize(self, real, image):\\n        self.r = realpart\\n        self.i = imagpart\\n    def print_complex(self):\\n        print(\"Complex number is: {}{}i{}\".format(self.r, sign(self.i), abs(self.i)))\\n        \\nx = Complex()\\nx.initalize(3.0, -4.5)\\nx.print_complex()',\n",
       "  'sign = lambda x: (\\'+\\', \\'-\\')[x < 0]\\nclass Complex:\\n\\n    \"\"\"\\n    def __init__(self):\\n        #self.r = realpart\\n        #self.i = imagpart\\n    \"\"\"    \\n    def initialize(self, real, image):\\n        self.r = realpart\\n        self.i = imagpart\\n    def print_complex(self):\\n        print(\"Complex number is: {}{}i{}\".format(self.r, sign(self.i), abs(self.i)))\\n        \\nx = Complex()\\nx.initialize(3.0, -4.5)\\nx.print_complex()',\n",
       "  'sign = lambda x: (\\'+\\', \\'-\\')[x < 0]\\nclass Complex:\\n\\n    \"\"\"\\n    def __init__(self):\\n        #self.r = realpart\\n        #self.i = imagpart\\n    \"\"\"    \\n    def initialize(self, real, image):\\n        self.r = real\\n        self.i = imag\\n    def print_complex(self):\\n        print(\"Complex number is: {}{}i{}\".format(self.r, sign(self.i), abs(self.i)))\\n        \\nx = Complex()\\nx.initialize(3.0, -4.5)\\nx.print_complex()',\n",
       "  'sign = lambda x: (\\'+\\', \\'-\\')[x < 0]\\nclass Complex:\\n\\n    \"\"\"\\n    def __init__(self):\\n        #self.r = realpart\\n        #self.i = imagpart\\n    \"\"\"    \\n    def initialize(self, real, imag):\\n        self.r = real\\n        self.i = imag\\n    def print_complex(self):\\n        print(\"Complex number is: {}{}i{}\".format(self.r, sign(self.i), abs(self.i)))\\n        \\nx = Complex()\\nx.initialize(3.0, -4.5)\\nx.print_complex()',\n",
       "  'sign = lambda x: (\\'+\\', \\'-\\')[x < 0]\\nclass Complex:\\n\\n    \"\"\"\\n    def __init__(self):\\n        #self.r = realpart\\n        #self.i = imagpart\\n    \"\"\"    \\n    def initialize(self, real, imag):\\n        self.r = real\\n        self.i = imag\\n    def print_complex(self):\\n        print(\"Complex number is: {}{}i{}\".format(self.r, sign(self.i), abs(self.i)))\\n        \\nx = Complex()\\nx.initialize(3.0, -4.5)\\nx.print_complex()',\n",
       "  'class Robot:\\n \\n    def __init__(self, name1=None, x = None):\\n        self.name = name1   \\n        \\n    def say_hi(self):\\n        if self.name:\\n            print(\"Hi, I am \" + self.name)\\n        else:\\n            print(\"Hi, I am a robot without a name\")\\n    \\n\\nx = Robot()\\nx.say_hi()\\n\\ny = Robot(\"Marvin\")\\ny.say_hi()\\n\\nz = Robot(\"Marvin\", \"xyz\")\\nz.say_hi()',\n",
       "  'class Robot:\\n \\n    def __init__(self, name1=None, x = None):\\n        self.name = name1   \\n        \\n    def say_hi(self):\\n        if self.name:\\n            print(\"Hi, I am \" + self.name)\\n        else:\\n            print(\"Hi, I am a robot without a name\")\\n    \\n\\nx = Robot()\\nx.say_hi()\\n\\ny = Robot(\"Marvin\")\\ny.say_hi()\\n\\nz = Robot(\"Marvin\", \"xyz\")\\nz.say_hi()',\n",
       "  'class Robot:\\n \\n    def __init__(self, name=None):\\n        self.name = name   \\n        \\ndef say_hi(y):\\n    if y.name:\\n        print(\"Hi, I am \" + y.name)\\n    else:\\n        print(\"Hi, I am a robot without a name\")\\n    \\n\\nx = Robot(\"xyz\")\\nsay_hi()\\ny = Robot(\"Marvin\")\\nsay_hi(y)',\n",
       "  \"def logger(msg):\\n    def log_message():\\n        print('Log:', msg)\\n    \\n    return log_message\\n\\nlog_hi = logger('Hi')\\nprint(log_hi)\\nlog_hi()\",\n",
       "  \"def outer_func():\\n    message = 'Hi'\\n    \\n    def inner_func():\\n        print(message)\\n        \\n    return inner_func\\n\\nmy_func = outer_func()\\n\\nmy_func()\",\n",
       "  \"def outer_func(msg):\\n    message = msg\\n    \\n    def inner_func():\\n        print(message)\\n        \\n    return inner_func\\n\\nhi_func = outer_func('Hi')\\nhello_func = outer_func('Hello')\\n\\nhi_func()\\nhello_func()\",\n",
       "  \"class Sentence(object):\\n    def __init__(self, msg):\\n        self.msg = msg\\n        self.words = self.msg.split()\\n        self.index = 0\\n\\n    def __iter__(self):\\n        return self\\n    \\n    def __next__(self):\\n        if (self.index >= len(self.words)):\\n            raise StopIteration\\n        idx = self.index\\n        self.index += 1\\n        return self.words[idx]\\n        \\nmy_sentence = Sentence('This is a test')\\n\\n#for word in my_sentence:\\n#    print(word)\\n\\nprint(my_sentence.__next__())\\nprint(next(my_sentence))\\nprint(next(my_sentence))\\nprint(next(my_sentence))\\nprint(next(my_sentence))\",\n",
       "  'class Point:\\n    def __init__( self, x=0, y=0):\\n        self.x = x\\n        self.y = y\\n    def set(self, x, y):\\n        self.x = x\\n        self.y = y\\n    def mygets(self):\\n        return self.x+ self.y\\n    def __del__(self):\\n        class_name = self.__class__.__name__\\n        print (\"{} destroyed\".format(class_name))\\n\\npt1 = Point()\\npt1.set(4,5)\\nprint(pt1.mygets())\\npt2 = pt1\\nprint(pt2.mygets())\\nprint (type(pt1), type(pt2))\\nprint (id(pt1), id(pt2))\\ndel pt1',\n",
       "  'a = 5\\nb = a\\nprint (id(a), id(b))',\n",
       "  'import sys\\naa = 121\\nprint (sys.getrefcount(121)) #-- Returns the reference count of the object.',\n",
       "  'del aa\\nprint (sys.getrefcount(121))',\n",
       "  \"import sys\\nprint('The command line arguments are:')\\nfor i in sys.argv:\\n    print(i)\\n    \\nprint(f'\\\\n\\\\nThe PYTHONPATH is: {sys.path}\\\\n')\",\n",
       "  'import os\\nprint(f\"\\\\n\\\\nThe PATH is: {os.getenv(\\'Path\\')}\\\\n\")\\n#os.getenv(\\'PATH\\')\\n\\nprint(f\"\\\\n\\\\nThe CWD is: {os.getcwd()}\\\\n\")\\nos.getcwdb()',\n",
       "  \"import os\\nif __name__ == '__main__':\\n    print('This program is being run by itself')\\nelse:\\n    print('I am being imported from another module')\",\n",
       "  \"def say_hi():\\n    print('Hi, this is mymodule speaking.')\\n__version__ = '0.1'\",\n",
       "  \"import mymodule\\nmymodule.say_hi()\\nprint('Version', mymodule.__version__)\",\n",
       "  \"from mymodule import say_hi, __version__\\nsay_hi()\\nprint('Version', __version__)\",\n",
       "  'vars()'],\n",
       " '_ii': \"import mymodule\\nmymodule.say_hi()\\nprint('Version', mymodule.__version__)\",\n",
       " '_iii': \"def say_hi():\\n    print('Hi, this is mymodule speaking.')\\n__version__ = '0.1'\",\n",
       " '_oh': {7: 885,\n",
       "  8: 0,\n",
       "  25: 'It Is Good Practice To Use The With Keyword When Dealing With File Objects.',\n",
       "  26: 'It Is Good Practice To Use The With Keyword When Dealing With File Objects.',\n",
       "  35: '0000000abc',\n",
       "  40: 4,\n",
       "  45: -27.3,\n",
       "  46: 2.5,\n",
       "  47: 2,\n",
       "  48: 3.3333333333333335,\n",
       "  49: 2,\n",
       "  50: 0.5,\n",
       "  74: 'unununium',\n",
       "  75: 'Put several strings within parentheses to have them joined together.',\n",
       "  103: 1716478400,\n",
       "  109: \"\\nfor ii in x:\\n    #print(ii)\\n    if ii == 'o':\\n        ii = ii.upper()\\n    else:\\n        pass\\n    aa.append(ii)\\n\",\n",
       "  132: 5,\n",
       "  133: 5,\n",
       "  134: '\\ndef range(m):\\n    print(list(range(10)))\\n    print(\"something\")\\n    return 0\\n',\n",
       "  135: range(10, 20),\n",
       "  138: [0, 1, 1, 2, 3, 5, 8, 13, 21, 34, 55, 89],\n",
       "  140: True,\n",
       "  141: True,\n",
       "  142: True,\n",
       "  174: [[11, 222], [333, 5554]],\n",
       "  175: 'string',\n",
       "  176: ['__add__',\n",
       "   '__class__',\n",
       "   '__contains__',\n",
       "   '__delattr__',\n",
       "   '__delitem__',\n",
       "   '__dir__',\n",
       "   '__doc__',\n",
       "   '__eq__',\n",
       "   '__format__',\n",
       "   '__ge__',\n",
       "   '__getattribute__',\n",
       "   '__getitem__',\n",
       "   '__gt__',\n",
       "   '__hash__',\n",
       "   '__iadd__',\n",
       "   '__imul__',\n",
       "   '__init__',\n",
       "   '__init_subclass__',\n",
       "   '__iter__',\n",
       "   '__le__',\n",
       "   '__len__',\n",
       "   '__lt__',\n",
       "   '__mul__',\n",
       "   '__ne__',\n",
       "   '__new__',\n",
       "   '__reduce__',\n",
       "   '__reduce_ex__',\n",
       "   '__repr__',\n",
       "   '__reversed__',\n",
       "   '__rmul__',\n",
       "   '__setattr__',\n",
       "   '__setitem__',\n",
       "   '__sizeof__',\n",
       "   '__str__',\n",
       "   '__subclasshook__',\n",
       "   'append',\n",
       "   'clear',\n",
       "   'copy',\n",
       "   'count',\n",
       "   'extend',\n",
       "   'index',\n",
       "   'insert',\n",
       "   'pop',\n",
       "   'remove',\n",
       "   'reverse',\n",
       "   'sort'],\n",
       "  216: True,\n",
       "  217: True,\n",
       "  277: True,\n",
       "  280: 'Cookie',\n",
       "  281: 'Cookie',\n",
       "  286: {'extension': 'com', 'user': 'myname', 'website': 'hackerrank'},\n",
       "  287: 'Co0kie',\n",
       "  288: 'C@ke',\n",
       "  289: 'Eat cake',\n",
       "  290: 'Cook!e',\n",
       "  292: 'c00kie',\n",
       "  293: 'Eat',\n",
       "  294: 'cake',\n",
       "  295: 'a',\n",
       "  296: 'a',\n",
       "  297: 'Number: 1',\n",
       "  298: 'Number: 7',\n",
       "  299: 'Cookie',\n",
       "  300: 'Cookie',\n",
       "  301: 'Back\\\\stail',\n",
       "  302: 'Cooookie',\n",
       "  303: 'Ckie',\n",
       "  304: 'Ckie',\n",
       "  305: 'Ckie',\n",
       "  306: 'Color',\n",
       "  307: '98765432',\n",
       "  308: '987654321',\n",
       "  309: '0980a0007',\n",
       "  312: 'supp@ort@da-ta-camp.com',\n",
       "  313: 'supp-ort.india4@datacamp.com',\n",
       "  314: 'support@datacamp.com',\n",
       "  315: '<h1>TITLE</h1>',\n",
       "  316: '<h1>',\n",
       "  317: '<h1>',\n",
       "  319: 'cookie',\n",
       "  320: 'cookie',\n",
       "  370: b'C:\\\\Backup\\\\INSOFE\\\\OneDrive\\\\Python\\\\ADP'},\n",
       " 'a': 5,\n",
       " 'address': 'xyz@datacamp.com',\n",
       " 'addresses': ['support@datacamp.com', 'xyz@datacamp.com'],\n",
       " 'age': 20,\n",
       " 'alpha_list': ['x', 'y', 'z'],\n",
       " 'answers': ['lancelot', 'the holy grail', 'blue'],\n",
       " 'ask_ok': <function __main__.ask_ok>,\n",
       " 'b': 5,\n",
       " 'basket': ['apple', 'orange', 'apple', 'pear', 'orange', 'banana'],\n",
       " 'bb': [11, 2, 13, 4],\n",
       " 'c': ['a', 'b', 'c', 'd', 'e'],\n",
       " 'cap_data': 'iT IS GOOD PRACTICE TO USE THE WITH KEYWORD WHEN DEALING WITH FILE OBJECTS.\\ntHE ADVANTAGE IS THAT THE FILE IS PROPERLY CLOSED AFTER ITS SUITE FINISHES, EVEN IF AN EXCEPTION IS RAISED AT SOME POINT. \\nuSING WITH IS ALSO MUCH SHORTER THAN WRITING EQUIVALENT TRY-FINALLY BLOCKS.',\n",
       " 'cc': [1, 12, 3, 4],\n",
       " 'cheeseshop': <function __main__.cheeseshop>,\n",
       " 'd': <__main__.Date at 0x23e040f6a58>,\n",
       " 'd_alt': <__main__.Date at 0x23e0411ec50>,\n",
       " 'data_dict': {'It': 1,\n",
       "  'The': 1,\n",
       "  'Using': 1,\n",
       "  'advantage': 1,\n",
       "  'after': 1,\n",
       "  'also': 1,\n",
       "  'an': 1,\n",
       "  'at': 1,\n",
       "  'blocks.': 1,\n",
       "  'closed': 1,\n",
       "  'dealing': 1,\n",
       "  'equivalent': 1,\n",
       "  'even': 1,\n",
       "  'exception': 1,\n",
       "  'file': 2,\n",
       "  'finishes,': 1,\n",
       "  'good': 1,\n",
       "  'if': 1,\n",
       "  'is': 5,\n",
       "  'its': 1,\n",
       "  'keyword': 1,\n",
       "  'much': 1,\n",
       "  'objects.': 1,\n",
       "  'point.': 1,\n",
       "  'practice': 1,\n",
       "  'properly': 1,\n",
       "  'raised': 1,\n",
       "  'shorter': 1,\n",
       "  'some': 1,\n",
       "  'suite': 1,\n",
       "  'than': 1,\n",
       "  'that': 1,\n",
       "  'the': 2,\n",
       "  'to': 1,\n",
       "  'try-finally': 1,\n",
       "  'use': 1,\n",
       "  'when': 1,\n",
       "  'with': 3,\n",
       "  'writing': 1},\n",
       " 'deque': collections.deque,\n",
       " 'divide': <function __main__.divide>,\n",
       " 'droid1': <__main__.Robot at 0x23e040d6978>,\n",
       " 'droid2': <__main__.Robot at 0x23e04116fd0>,\n",
       " 'e': 9,\n",
       " 'each_line': 'Man: You most certainly did not!',\n",
       " 'element': 'lamb',\n",
       " 'email_address': 'Please contact us at: xyz@datacamp.com',\n",
       " 'end': 1550254416.0424397,\n",
       " 'exit': <IPython.core.autocall.ZMQExitAutocall at 0x23e02ea5080>,\n",
       " 'f': 'pear',\n",
       " 'f1': <_io.TextIOWrapper name='out_file.txt' mode='w' encoding='cp1252'>,\n",
       " 'f100': [0, 1, 1, 2, 3, 5, 8, 13, 21, 34, 55, 89],\n",
       " 'fib2': <function __main__.fib2>,\n",
       " 'foo': <function __main__.foo>,\n",
       " 'freshfruit': ['  banana', '  loganberry ', 'passion fruit  '],\n",
       " 'fruits': ['apple', 'apple', 'banana', 'banana', 'grape', 'kiwi', 'orange'],\n",
       " 'gc': <module 'gc' (built-in)>,\n",
       " 'get_ipython': <bound method InteractiveShell.get_ipython of <ipykernel.zmqshell.ZMQInteractiveShell object at 0x0000023E02E2ABE0>>,\n",
       " 'guess': 666,\n",
       " 'heading': '<h1>TITLE</h1>',\n",
       " 'hello_func': <function __main__.outer_func.<locals>.inner_func>,\n",
       " 'hi_func': <function __main__.outer_func.<locals>.inner_func>,\n",
       " 'i': 'C:\\\\Users\\\\firdo\\\\AppData\\\\Roaming\\\\jupyter\\\\runtime\\\\kernel-87ced550-d3e5-4883-8beb-2bbaedc1849c.json',\n",
       " 'ii': ['Graham Chapman',\n",
       "  ['Michael Palin',\n",
       "   'John Cleese',\n",
       "   'Terry Gilliam',\n",
       "   'Eric Idle',\n",
       "   'Terry Jones']],\n",
       " 'in_str': 'quit',\n",
       " 'index': 4,\n",
       " 'item': 'banana',\n",
       " 'j': 4,\n",
       " 'jj': ['Michael Palin',\n",
       "  'John Cleese',\n",
       "  'Terry Gilliam',\n",
       "  'Eric Idle',\n",
       "  'Terry Jones'],\n",
       " 'k': 'robin',\n",
       " 'kk': 'Terry Jones',\n",
       " 'knights': {'gallahad': 'the pure', 'robin': 'the brave'},\n",
       " 'lines': 'It is good',\n",
       " 'log_hi': <function __main__.logger.<locals>.log_message>,\n",
       " 'logger': <function __main__.logger>,\n",
       " 'lst': [1, 2, 3, 4, 5, 6, 7, 8, 9],\n",
       " 'm': <_sre.SRE_Match object; span=(0, 21), match='myname@hackerrank.com'>,\n",
       " 'match': <_sre.SRE_Match object; span=(5, 9), match='this'>,\n",
       " 'math': <module 'math' (built-in)>,\n",
       " 'matrix': [[11, 222], [333, 5554]],\n",
       " 'movies': ['The Holy Grail',\n",
       "  1975,\n",
       "  'Terry Jones & Terry Gilliam',\n",
       "  91,\n",
       "  ['Graham Chapman',\n",
       "   ['Michael Palin',\n",
       "    'John Cleese',\n",
       "    'Terry Gilliam',\n",
       "    'Eric Idle',\n",
       "    'Terry Jones']]],\n",
       " 'my_add': <function __main__.my_add>,\n",
       " 'my_func': <function __main__.outer_func.<locals>.inner_func>,\n",
       " 'my_list': [1, 2, 3, 5, 5, 6, 7, 8, 8],\n",
       " 'my_sentence': <__main__.Sentence at 0x23e04220f98>,\n",
       " 'my_set': {1, 2, 3, 5, 6, 7, 8},\n",
       " 'my_str': 'Hello World',\n",
       " 'my_tuple': ('mouse', [8, 4, 6], (1, 2, 3)),\n",
       " 'n': 9,\n",
       " 'n_list': [1, 1, [3, 4]],\n",
       " 'n_tuple': (1, 1, [3, 4]),\n",
       " 'name': 'Swaroop',\n",
       " 'nested_loop': <function __main__.nested_loop>,\n",
       " 'newObj': <__main__.MyClass at 0x23e041065f8>,\n",
       " 'newObj1': <__main__.MyClass at 0x23e04106cc0>,\n",
       " 'new_email_address': 'Please contact us at: support@datacamp.com',\n",
       " 'new_list': ['cat', 'dog', 'ball'],\n",
       " 'new_tup': (100,),\n",
       " 'new_zoo': ('monkey', 'camel', ('python', 'elephant', 'penguin')),\n",
       " 'nn': 0,\n",
       " 'num': 9,\n",
       " 'num_list': [500, 600, 700],\n",
       " 'number': 23,\n",
       " 'odd_list': [3, 5, 7, 9],\n",
       " 'olditem': 'apple',\n",
       " 'os': <module 'os' from 'C:\\\\Users\\\\firdo\\\\Anaconda3\\\\lib\\\\os.py'>,\n",
       " 'outer': <function __main__.outer>,\n",
       " 'outer_func': <function __main__.outer_func>,\n",
       " 'outside': <function __main__.outside>,\n",
       " 'p': <__main__.Person at 0x23e04129550>,\n",
       " 'parrot': <function __main__.parrot>,\n",
       " 'pattern': 'x',\n",
       " 'pt2': <__main__.Point at 0x23e04223080>,\n",
       " 'q': 'favorite color',\n",
       " 'questions': ['name', 'quest', 'favorite color'],\n",
       " 'queue': deque(['Michael', 'Terry', 'Graham']),\n",
       " 'quit': <IPython.core.autocall.ZMQExitAutocall at 0x23e02ea5080>,\n",
       " 're': <module 're' from 'C:\\\\Users\\\\firdo\\\\Anaconda3\\\\lib\\\\re.py'>,\n",
       " 'read_again': 'he file is properly closed after its suite finishes, even if an exception is raised at some point. \\nUsing with is also much shorter than writing equivalent try-finally blocks.',\n",
       " 'read_data': 'It is good practice to use the with keyword when dealing with file objects.\\nThe advantage is that the file is properly closed after its suite finishes, even if an exception is raised at some point. \\nUsing with is also much shorter than writing equivalent try-finally blocks.',\n",
       " 'recurse_fn': <function __main__.recurse_fn>,\n",
       " 'repl': 'y',\n",
       " 'role': 'Man',\n",
       " 'running': False,\n",
       " 's': 5,\n",
       " 'say_hi': <function __main__.say_hi>,\n",
       " 'scope_test': <function __main__.scope_test>,\n",
       " 'sequence': 'Cake and cookie',\n",
       " 'sequence1': 'IceCream',\n",
       " 'shoplist': ['banana', 'carrot', 'mango', 'rice'],\n",
       " 'sign': <function __main__.<lambda>>,\n",
       " 'spam': 'main spam',\n",
       " 'squares': [4, 16, 36, 64],\n",
       " 'stack': [3, 4],\n",
       " 'start': 1550254407.964735,\n",
       " 'str1': 'Cookie',\n",
       " 'string': 'replace x with y',\n",
       " 'sys': <module 'sys' (built-in)>,\n",
       " 'tel': {'New': 1234, 'Newer': 3456, 'guido': 4127, 'irv': 4127, 'jack': 4098},\n",
       " 'text': 'Does this text match the pattern?',\n",
       " 'this': <module 'this' from 'C:\\\\Users\\\\firdo\\\\Anaconda3\\\\lib\\\\this.py'>,\n",
       " 'this_fails': <function __main__.this_fails>,\n",
       " 'time': <module 'time' (built-in)>,\n",
       " 'timeit': <module 'timeit' from 'C:\\\\Users\\\\firdo\\\\Anaconda3\\\\lib\\\\timeit.py'>,\n",
       " 'tup': (11, 22, 22),\n",
       " 'user_input': 2334,\n",
       " 'v': 'quest',\n",
       " 'val': '987654321',\n",
       " 'vec': [-4, -2, 0, 2, 4],\n",
       " 'w': 'ball',\n",
       " 'word': 'python',\n",
       " 'word_count': {' ': 1,\n",
       "  'H': 1,\n",
       "  'W': 1,\n",
       "  'd': 1,\n",
       "  'e': 1,\n",
       "  'l': 3,\n",
       "  'o': 2,\n",
       "  'r': 1},\n",
       " 'words': ['cat',\n",
       "  'window',\n",
       "  'defenestrate',\n",
       "  'something',\n",
       "  'nothing',\n",
       "  'dog',\n",
       "  'ball'],\n",
       " 'x': <__main__.Robot at 0x23e0420cda0>,\n",
       " 'y': <__main__.Robot at 0x23e040752b0>,\n",
       " 'z': <__main__.Robot at 0x23e04075c50>,\n",
       " 'zoo': ('python', 'elephant', 'penguin')}"
      ]
     },
     "execution_count": 375,
     "metadata": {},
     "output_type": "execute_result"
    }
   ],
   "source": [
    "vars()"
   ]
  },
  {
   "cell_type": "raw",
   "metadata": {},
   "source": [
    "TBD: __slots__, @property, class local reference"
   ]
  },
  {
   "cell_type": "markdown",
   "metadata": {},
   "source": [
    "### Alternative Constructor\n",
    "https://www.youtube.com/watch?v=HTLu2DFOdTg&t=1808s"
   ]
  },
  {
   "cell_type": "code",
   "execution_count": 376,
   "metadata": {
    "collapsed": true
   },
   "outputs": [],
   "source": [
    "class Date(object):\n",
    "    def __init__(self, Year, Month, Day):\n",
    "        self.year  = Year\n",
    "        self.month = Month\n",
    "        self.day   = Day\n",
    "\n",
    "    def __str__(self):\n",
    "        return 'Date({}, {}, {})'.format(self.year, self.month, self.day)\n",
    "\n",
    "    def set_date(self, y, m, d):\n",
    "        self.year = y\n",
    "        self.month = m\n",
    "        self.day = d\n",
    "\n",
    "    @classmethod\n",
    "    def from_str(cls, date_str):\n",
    "        '''Call as\n",
    "           d = Date.from_str('2013-12-30')\n",
    "        '''\n",
    "        print(cls)\n",
    "        year, month, day = map(int, date_str.split('-'))\n",
    "        return cls(year, month, day)"
   ]
  },
  {
   "cell_type": "code",
   "execution_count": 377,
   "metadata": {},
   "outputs": [
    {
     "name": "stdout",
     "output_type": "stream",
     "text": [
      "Date(2019, 1, 8)\n",
      "Date(2019, 1, 9)\n",
      "<class '__main__.Date'>\n",
      "Date(2019, 1, 10)\n",
      "Date(2019, 1, 11)\n"
     ]
    }
   ],
   "source": [
    "d = Date(2019, 1, 8)\n",
    "print(d.__str__())\n",
    "d.set_date(2019, 1, 9)\n",
    "print(d.__str__())\n",
    "\n",
    "d_alt = Date.from_str('2019-1-10')\n",
    "print(d_alt.__str__())\n",
    "d_alt.set_date(2019, 1, 11)\n",
    "print(d_alt.__str__())"
   ]
  },
  {
   "cell_type": "markdown",
   "metadata": {},
   "source": [
    "### Class And Object Variables"
   ]
  },
  {
   "cell_type": "code",
   "execution_count": 378,
   "metadata": {},
   "outputs": [
    {
     "name": "stdout",
     "output_type": "stream",
     "text": [
      "Number of instances: : 1\n",
      "Number of instances: : 2\n",
      "Number of instances: : 1\n",
      "Number of instances: : 0\n"
     ]
    }
   ],
   "source": [
    "class C: \n",
    "\n",
    "    counter = 0\n",
    "    \n",
    "    def __init__(self): \n",
    "        type(self).counter += 1\n",
    "\n",
    "    def __del__(self):\n",
    "        type(self).counter -= 1\n",
    "\n",
    "if __name__ == \"__main__\":\n",
    "    x = C()\n",
    "    print(\"Number of instances: : \" + str(C.counter))\n",
    "    y = C()\n",
    "    print(\"Number of instances: : \" + str(C.counter))\n",
    "    del x\n",
    "    print(\"Number of instances: : \" + str(C.counter))\n",
    "    del y\n",
    "    print(\"Number of instances: : \" + str(C.counter))"
   ]
  },
  {
   "cell_type": "code",
   "execution_count": 379,
   "metadata": {},
   "outputs": [
    {
     "name": "stdout",
     "output_type": "stream",
     "text": [
      "(Initializing R2-D2)\n",
      "Greetings, my masters call me R2-D2.\n",
      "We have 1 robots.\n",
      "(Initializing C-3PO)\n",
      "Greetings, my masters call me C-3PO.\n",
      "We have 2 robots.\n",
      "\n",
      "Robots can do some work here.\n",
      "\n",
      "Robots have finished their work. So let's destroy them.\n",
      "R2-D2 is being destroyed!\n",
      "There are still 1 robots working.\n",
      "C-3PO is being destroyed!\n",
      "C-3PO was the last one.\n",
      "We have 0 robots.\n"
     ]
    }
   ],
   "source": [
    "class Robot:\n",
    "    \"\"\"Represents a robot, with a name.\"\"\"\n",
    "\n",
    "    # A class variable, counting the number of robots\n",
    "    population = 0 # class variable: whose value is shared among all instances of a this class\n",
    "\n",
    "    def __init__(self, name):\n",
    "        \"\"\"Initializes the data.\"\"\"\n",
    "        self.name = name # Object variable\n",
    "        print(\"(Initializing {})\".format(self.name))\n",
    "\n",
    "        # When this person is created, the robot\n",
    "        # adds to the population\n",
    "        Robot.population += 1\n",
    "\n",
    "    def die(self):\n",
    "        \"\"\"I am dying.\"\"\"\n",
    "        print(\"{} is being destroyed!\".format(self.name))\n",
    "\n",
    "        Robot.population -= 1\n",
    "\n",
    "        if Robot.population == 0:\n",
    "            print(\"{} was the last one.\".format(self.name))\n",
    "        else:\n",
    "            print(\"There are still {:d} robots working.\".format(\n",
    "                Robot.population))\n",
    "\n",
    "    def say_hi(self):\n",
    "        \"\"\"Greeting by the robot.\n",
    "        Yeah, they can do that.\"\"\"\n",
    "        print(\"Greetings, my masters call me {}.\".format(self.name))\n",
    "\n",
    "    @classmethod # class method\n",
    "    def how_many(cls):\n",
    "        \"\"\"Prints the current population.\"\"\"\n",
    "        print(\"We have {:d} robots.\".format(cls.population))\n",
    "\n",
    "\n",
    "droid1 = Robot(\"R2-D2\")\n",
    "droid1.say_hi()\n",
    "Robot.how_many()\n",
    "\n",
    "droid2 = Robot(\"C-3PO\")\n",
    "droid2.say_hi()\n",
    "Robot.how_many()\n",
    "\n",
    "print(\"\\nRobots can do some work here.\\n\")\n",
    "\n",
    "print(\"Robots have finished their work. So let's destroy them.\")\n",
    "droid1.die()\n",
    "droid2.die()\n",
    "\n",
    "Robot.how_many()"
   ]
  },
  {
   "cell_type": "markdown",
   "metadata": {},
   "source": [
    "### Data Abstraction, Data Encapsulation, and Information Hiding\n",
    "Data Abstraction = Data Encapsulation + Data Hiding  \n",
    "Encapsulation: Bundling of data with the methods  \n",
    "Hiding: Internal information or data is \"hidden\", so that it can't be accidentally changed"
   ]
  },
  {
   "cell_type": "code",
   "execution_count": 380,
   "metadata": {},
   "outputs": [
    {
     "name": "stdout",
     "output_type": "stream",
     "text": [
      "Hi, I am Henry\n",
      "Henry\n",
      "Hi, I am Pawan\n"
     ]
    }
   ],
   "source": [
    "class Robot:\n",
    " \n",
    "    def __init__(self, name=None):\n",
    "        self.name = name   \n",
    "        \n",
    "    def say_hi(self):\n",
    "        if self.name:\n",
    "            print(\"Hi, I am \" + self.name)\n",
    "        else:\n",
    "            print(\"Hi, I am a robot without a name\")\n",
    "            \n",
    "    def set_name(self, name):\n",
    "        self.name = name\n",
    "        \n",
    "    def get_name(self):\n",
    "        return self.name\n",
    "    \n",
    "\n",
    "x = Robot()\n",
    "x.set_name(\"Henry\")\n",
    "x.say_hi()\n",
    "y = Robot()\n",
    "y.set_name(x.get_name())\n",
    "print(y.get_name())\n",
    "z = Robot(\"Pawan\")\n",
    "z.say_hi()"
   ]
  },
  {
   "cell_type": "code",
   "execution_count": 381,
   "metadata": {},
   "outputs": [
    {
     "name": "stdout",
     "output_type": "stream",
     "text": [
      "Hi, I am Henry\n",
      "I was built in 2008\n",
      "Hi, I am Marvin\n",
      "It's not known, when I was created!\n"
     ]
    }
   ],
   "source": [
    "class Robot:\n",
    " \n",
    "    def __init__(self, \n",
    "                 name=None,\n",
    "                 build_year=None):\n",
    "        self.name = name   \n",
    "        self.build_year = build_year\n",
    "        \n",
    "    def say_hi(self):\n",
    "        if self.name:\n",
    "            print(\"Hi, I am \" + self.name)\n",
    "        else:\n",
    "            print(\"Hi, I am a robot without a name\")\n",
    "        if self.build_year:\n",
    "            print(\"I was built in \" + str(self.build_year))\n",
    "        else:\n",
    "            print(\"It's not known, when I was created!\")\n",
    "            \n",
    "    def set_name(self, name):\n",
    "        self.name = name\n",
    "        \n",
    "    def get_name(self):\n",
    "        return self.name    \n",
    "\n",
    "    def set_build_year(self, by):\n",
    "        self.build_year = by\n",
    "        \n",
    "    def get_build_year(self):\n",
    "        return self.build_year    \n",
    "    \n",
    "\n",
    "x = Robot(\"Henry\", 2008)\n",
    "y = Robot()\n",
    "y.set_name(\"Marvin\")\n",
    "x.say_hi()\n",
    "y.say_hi()"
   ]
  },
  {
   "cell_type": "markdown",
   "metadata": {},
   "source": [
    "### Public- Protected- and Private Attributes"
   ]
  },
  {
   "cell_type": "markdown",
   "metadata": {},
   "source": [
    "\n",
    "name: Public: These attributes can be freely used inside or outside of a class definition.  \n",
    "_name: Protected: Protected attributes should not be used outside of the class definition, unless inside of a subclass definition.  \n",
    "\\__name: Private: This kind of attribute is inaccessible and invisible. It's neither possible to read nor write to those attributes, except inside of the class definition itself."
   ]
  },
  {
   "cell_type": "code",
   "execution_count": 382,
   "metadata": {},
   "outputs": [
    {
     "name": "stdout",
     "output_type": "stream",
     "text": [
      "I am public\n",
      "Public Changed\n",
      "I am protected\n",
      "Protected Changed\n"
     ]
    },
    {
     "ename": "AttributeError",
     "evalue": "'A' object has no attribute '__priv'",
     "output_type": "error",
     "traceback": [
      "\u001b[1;31m---------------------------------------------------------------------------\u001b[0m",
      "\u001b[1;31mAttributeError\u001b[0m                            Traceback (most recent call last)",
      "\u001b[1;32m<ipython-input-382-f4b80b46fa39>\u001b[0m in \u001b[0;36m<module>\u001b[1;34m()\u001b[0m\n\u001b[0;32m     14\u001b[0m \u001b[0mx\u001b[0m\u001b[1;33m.\u001b[0m\u001b[0m_prot\u001b[0m \u001b[1;33m=\u001b[0m \u001b[1;34m\"Protected Changed\"\u001b[0m \u001b[1;31m# Not a good practice\u001b[0m\u001b[1;33m\u001b[0m\u001b[0m\n\u001b[0;32m     15\u001b[0m \u001b[0mprint\u001b[0m\u001b[1;33m(\u001b[0m\u001b[0mx\u001b[0m\u001b[1;33m.\u001b[0m\u001b[0m_prot\u001b[0m\u001b[1;33m)\u001b[0m\u001b[1;33m\u001b[0m\u001b[0m\n\u001b[1;32m---> 16\u001b[1;33m \u001b[0mprint\u001b[0m\u001b[1;33m(\u001b[0m\u001b[0mx\u001b[0m\u001b[1;33m.\u001b[0m\u001b[0m__priv\u001b[0m\u001b[1;33m)\u001b[0m\u001b[1;33m\u001b[0m\u001b[0m\n\u001b[0m\u001b[0;32m     17\u001b[0m \u001b[1;33m\u001b[0m\u001b[0m\n",
      "\u001b[1;31mAttributeError\u001b[0m: 'A' object has no attribute '__priv'"
     ]
    }
   ],
   "source": [
    "class A():\n",
    "    \n",
    "    def __init__(self):\n",
    "        self.__priv = \"I am private\"\n",
    "        self._prot = \"I am protected\"\n",
    "        self.pub = \"I am public\"\n",
    "\n",
    "        \n",
    "x = A()\n",
    "print(x.pub)\n",
    "x.pub = \"Public Changed\"\n",
    "print(x.pub)\n",
    "print(x._prot)\n",
    "x._prot = \"Protected Changed\" # Not a good practice\n",
    "print(x._prot)\n",
    "print(x.__priv)\n",
    "    "
   ]
  },
  {
   "cell_type": "code",
   "execution_count": 383,
   "metadata": {},
   "outputs": [
    {
     "name": "stdout",
     "output_type": "stream",
     "text": [
      "Hi, I am Marvin\n",
      "I was built in the year 1979!\n",
      "Hi, I am Caliban\n",
      "I was built in the year 1993!\n"
     ]
    }
   ],
   "source": [
    "class Robot:\n",
    " \n",
    "    def __init__(self, name=None, build_year=2000):\n",
    "        self.__name = name\n",
    "        self.__build_year = build_year\n",
    "        \n",
    "    def say_hi(self):\n",
    "        if self.__name:\n",
    "            print(\"Hi, I am \" + self.__name)\n",
    "        else:\n",
    "            print(\"Hi, I am a robot without a name\")\n",
    "            \n",
    "    def set_name(self, name):\n",
    "        self.__name = name\n",
    "        \n",
    "    def get_name(self):\n",
    "        return self.__name    \n",
    "\n",
    "    def set_build_year(self, by):\n",
    "        self.__build_year = by\n",
    "        \n",
    "    def get_build_year(self):\n",
    "        return self.__build_year    \n",
    "    \n",
    "    def __repr__(self):\n",
    "        return \"Robot('\" + self.__name + \"', \" +  str(self.__build_year) +  \")\"\n",
    "\n",
    "    def __str__(self):\n",
    "        return \"Name: \" + self.__name + \", Build Year: \" +  str(self.__build_year)\n",
    "\n",
    "     \n",
    "if __name__ == \"__main__\":\n",
    "    x = Robot(\"Marvin\", 1979)\n",
    "    y = Robot(\"Caliban\", 1943)\n",
    "    for rob in [x, y]:\n",
    "        rob.say_hi()\n",
    "        if rob.get_name() == \"Caliban\":\n",
    "            rob.set_build_year(1993)\n",
    "        print(\"I was built in the year \" + str(rob.get_build_year()) + \"!\")"
   ]
  },
  {
   "cell_type": "markdown",
   "metadata": {},
   "source": [
    "### Static Methods"
   ]
  },
  {
   "cell_type": "code",
   "execution_count": 385,
   "metadata": {},
   "outputs": [
    {
     "name": "stdout",
     "output_type": "stream",
     "text": [
      "1\n",
      "2\n"
     ]
    }
   ],
   "source": [
    "class Robot:\n",
    "    __counter = 0\n",
    "    \n",
    "    def __init__(self):\n",
    "        type(self).__counter += 1\n",
    "        #print(__name__) This is crappy\n",
    "        \n",
    "    def RobotInstances(self):\n",
    "        return Robot.__counter\n",
    "        \n",
    "\n",
    "if __name__ == \"__main__\":\n",
    "    x = Robot()\n",
    "    print(x.RobotInstances())\n",
    "    y = Robot()\n",
    "    print(x.RobotInstances())"
   ]
  },
  {
   "cell_type": "code",
   "execution_count": 386,
   "metadata": {},
   "outputs": [
    {
     "name": "stdout",
     "output_type": "stream",
     "text": [
      "0\n",
      "1\n",
      "2\n",
      "2\n"
     ]
    }
   ],
   "source": [
    "class Robot:\n",
    "    __counter = 0\n",
    "    \n",
    "    def __init__(self):\n",
    "        type(self).__counter += 1\n",
    "        \n",
    "    @staticmethod\n",
    "    def RobotInstances():\n",
    "        return Robot.__counter\n",
    "        \n",
    "\n",
    "if __name__ == \"__main__\":\n",
    "    print(Robot.RobotInstances())\n",
    "    x = Robot()\n",
    "    print(x.RobotInstances())\n",
    "    y = Robot()\n",
    "    print(x.RobotInstances())\n",
    "    print(Robot.RobotInstances())"
   ]
  },
  {
   "cell_type": "markdown",
   "metadata": {},
   "source": [
    "### Inheritance"
   ]
  },
  {
   "cell_type": "code",
   "execution_count": 387,
   "metadata": {},
   "outputs": [
    {
     "name": "stdout",
     "output_type": "stream",
     "text": [
      "(Initialized SchoolMember: Surya)\n",
      "(Initialized Teacher: Surya)\n",
      "(Initialized SchoolMember: Supriya)\n",
      "(Initialized Student: Supriya)\n",
      "\n",
      "Name:\"Surya\" Age:\"40\" Salary: \"30000\"\n",
      "Name:\"Supriya\" Age:\"25\" Marks: \"75\"\n"
     ]
    }
   ],
   "source": [
    "class SchoolMember():\n",
    "    '''Represents any school member.'''\n",
    "    def __init__(self, name, age):\n",
    "        self.name = name\n",
    "        self.age = age\n",
    "        print('(Initialized SchoolMember: {})'.format(self.name))\n",
    "\n",
    "    def tell(self):\n",
    "        '''Tell my details.'''\n",
    "        print('Name:\"{}\" Age:\"{}\"'.format(self.name, self.age), end=\" \")\n",
    "\n",
    "\n",
    "class Teacher(SchoolMember):\n",
    "    '''Represents a teacher.'''\n",
    "    def __init__(self, name, age, salary):\n",
    "        SchoolMember.__init__(self, name, age)\n",
    "        self.salary = salary\n",
    "        print('(Initialized Teacher: {})'.format(self.name))\n",
    "\n",
    "    def tell(self):\n",
    "        SchoolMember.tell(self)\n",
    "        print('Salary: \"{:d}\"'.format(self.salary))\n",
    "\n",
    "\n",
    "class Student(SchoolMember):\n",
    "    '''Represents a student.'''\n",
    "    def __init__(self, name, age, marks):\n",
    "        SchoolMember.__init__(self, name, age)\n",
    "        self.marks = marks\n",
    "        print('(Initialized Student: {})'.format(self.name))\n",
    "\n",
    "    def tell(self):\n",
    "        SchoolMember.tell(self)\n",
    "        print('Marks: \"{:d}\"'.format(self.marks))\n",
    "\n",
    "t = Teacher('Surya', 40, 30000)\n",
    "s = Student('Supriya', 25, 75)\n",
    "\n",
    "# prints a blank line\n",
    "print()\n",
    "\n",
    "t.tell()\n",
    "s.tell()"
   ]
  },
  {
   "cell_type": "code",
   "execution_count": 388,
   "metadata": {},
   "outputs": [
    {
     "name": "stdout",
     "output_type": "stream",
     "text": [
      "m of A called\n",
      "None\n",
      "m of B called\n",
      "None\n",
      "m of C called\n",
      "None\n"
     ]
    }
   ],
   "source": [
    "class A:\n",
    "    def m(self):\n",
    "        print(\"m of A called\")\n",
    "\n",
    "class B(A):\n",
    "    def m(self):\n",
    "        print(\"m of B called\")\n",
    "    \n",
    "class C(A):\n",
    "    def m(self):\n",
    "        print(\"m of C called\")\n",
    "\n",
    "aa = A()\n",
    "print (aa.m())\n",
    "\n",
    "bb = B()\n",
    "print (bb.m())\n",
    "\n",
    "cc = C()\n",
    "print (cc.m())"
   ]
  },
  {
   "cell_type": "code",
   "execution_count": 389,
   "metadata": {},
   "outputs": [
    {
     "name": "stdout",
     "output_type": "stream",
     "text": [
      "m of C called\n",
      "None\n"
     ]
    }
   ],
   "source": [
    "class A:\n",
    "    def m(self):\n",
    "        print(\"m of A called\")\n",
    "\n",
    "class B(A):\n",
    "    def m(self):\n",
    "        print(\"m of B called\")\n",
    "    \n",
    "class C(A):\n",
    "    def m(self):\n",
    "        print(\"m of C called\")\n",
    "\n",
    "class D(C,B): # change the sequence\n",
    "    pass\n",
    "\n",
    "xx = D()\n",
    "\n",
    "print (xx.m())"
   ]
  },
  {
   "cell_type": "code",
   "execution_count": 390,
   "metadata": {
    "collapsed": true
   },
   "outputs": [],
   "source": [
    "### Polymorphism"
   ]
  },
  {
   "cell_type": "code",
   "execution_count": 391,
   "metadata": {},
   "outputs": [
    {
     "ename": "SyntaxError",
     "evalue": "invalid syntax (<ipython-input-391-15042350e1ad>, line 2)",
     "output_type": "error",
     "traceback": [
      "\u001b[1;36m  File \u001b[1;32m\"<ipython-input-391-15042350e1ad>\"\u001b[1;36m, line \u001b[1;32m2\u001b[0m\n\u001b[1;33m    using namespace std;\u001b[0m\n\u001b[1;37m                  ^\u001b[0m\n\u001b[1;31mSyntaxError\u001b[0m\u001b[1;31m:\u001b[0m invalid syntax\n"
     ]
    }
   ],
   "source": [
    "#include <iostream>\n",
    "using namespace std;\n",
    "\n",
    "void f(int x, int y ) {\n",
    "    cout << \"values: \" << x << \", \" << x << endl;\n",
    "}\n",
    "\n",
    "void f(int x, double y ) {\n",
    "    cout << \"values: \" << x << \", \" << x << endl;\n",
    "}\n",
    "\n",
    "void f(double x, int y ) {\n",
    "    cout << \"values: \" << x << \", \" << x << endl;\n",
    "}\n",
    "\n",
    "void f(double x, double y ) {\n",
    "    cout << \"values: \" << x << \", \" << x << endl;\n",
    "}\n",
    "\n",
    "\n",
    "int main()\n",
    "{\n",
    "    f(42, 43); \n",
    "    f(42, 43.7); \n",
    "    f(42.3,43);\n",
    "    f(42.0, 43.9); \n",
    "}"
   ]
  },
  {
   "cell_type": "code",
   "execution_count": 392,
   "metadata": {},
   "outputs": [
    {
     "name": "stdout",
     "output_type": "stream",
     "text": [
      "Groarrr\n",
      "Woof woof!\n"
     ]
    }
   ],
   "source": [
    "class Bear(object):\n",
    "    def sound(self):\n",
    "        print (\"Groarrr\")\n",
    "class Dog(object):\n",
    "    def sound(self):\n",
    "        print (\"Woof woof!\")\n",
    "\n",
    "def makeSound(animalType):\n",
    "    animalType.sound()\n",
    " \n",
    " \n",
    "bearObj = Bear()\n",
    "dogObj = Dog()\n",
    " \n",
    "makeSound(bearObj)\n",
    "makeSound(dogObj)"
   ]
  },
  {
   "cell_type": "markdown",
   "metadata": {},
   "source": [
    "### Built-In Class Attributes\n",
    "Every Python class keeps following built-in attributes and they can be accessed using dot operator like any other attribute −\n",
    "\n",
    "\\__dict\\__ − Dictionary containing the class's namespace.\n",
    "\n",
    "\\__doc\\__ − Class documentation string or none, if undefined.\n",
    "\n",
    "\\__name\\__ − Class name.\n",
    "\n",
    "\\__module\\__ − Module name in which the class is defined. This attribute is \"\\__main\\__\" in interactive mode.\n",
    "\n",
    "\\__bases\\__ − A possibly empty tuple containing the base classes, in the order of their occurrence in the base class list.\n",
    "\n",
    "For the above class let us try to access all these attributes −"
   ]
  },
  {
   "cell_type": "code",
   "execution_count": 394,
   "metadata": {},
   "outputs": [
    {
     "name": "stdout",
     "output_type": "stream",
     "text": [
      "Employee.__doc__: Common base class for all employees\n",
      "Employee.__name__: Employee\n",
      "Employee.__module__: __main__\n",
      "Employee.__bases__: (<class 'object'>,)\n",
      "Employee.__dict__: {'__module__': '__main__', '__doc__': 'Common base class for all employees', 'empCount': 0, '__init__': <function Employee.__init__ at 0x0000023E0422F620>, 'displayCount': <function Employee.displayCount at 0x0000023E0422F598>, 'displayEmployee': <function Employee.displayEmployee at 0x0000023E0422F510>, '__dict__': <attribute '__dict__' of 'Employee' objects>, '__weakref__': <attribute '__weakref__' of 'Employee' objects>}\n"
     ]
    }
   ],
   "source": [
    "class Employee:\n",
    "    'Common base class for all employees'\n",
    "    empCount = 0\n",
    "\n",
    "    def __init__(self, name, salary):\n",
    "        self.name = name\n",
    "        self.salary = salary\n",
    "        Employee.empCount += 1\n",
    "   \n",
    "    def displayCount(self):\n",
    "        print (\"Total Employee {}\".format (Employee.empCount))\n",
    "\n",
    "    def displayEmployee(self):\n",
    "        print (\"Name : {}, Salary: {}\", format(self.name, self.salary))\n",
    "\n",
    "print (\"Employee.__doc__:\", Employee.__doc__)\n",
    "print (\"Employee.__name__:\", Employee.__name__)\n",
    "print (\"Employee.__module__:\", Employee.__module__)\n",
    "print (\"Employee.__bases__:\", Employee.__bases__)\n",
    "print (\"Employee.__dict__:\", Employee.__dict__)"
   ]
  },
  {
   "cell_type": "markdown",
   "metadata": {},
   "source": [
    "### Singleton"
   ]
  },
  {
   "cell_type": "code",
   "execution_count": 395,
   "metadata": {},
   "outputs": [
    {
     "name": "stdout",
     "output_type": "stream",
     "text": [
      "<__main__.Singleton object at 0x0000023E0404EBA8>\n",
      "<__main__.Singleton object at 0x0000023E0404EBA8>\n",
      "<__main__.Singleton object at 0x0000023E0404EBA8>\n"
     ]
    }
   ],
   "source": [
    "class Singleton:\n",
    "    \n",
    "    __instance = None\n",
    "    \n",
    "    @staticmethod \n",
    "    def getInstance():\n",
    "        \"\"\" Static access method. \"\"\"\n",
    "        if Singleton.__instance == None:\n",
    "            Singleton()\n",
    "        return Singleton.__instance\n",
    "\n",
    "\n",
    "    def __init__(self):\n",
    "        \"\"\" Virtually private constructor. \"\"\"\n",
    "        if Singleton.__instance != None:\n",
    "            raise Exception(\"This class is a singleton!\")\n",
    "        else:\n",
    "            Singleton.__instance = self\n",
    "        \n",
    "        \n",
    "s = Singleton()\n",
    "print(s)\n",
    "\n",
    "s = Singleton.getInstance()\n",
    "print(s)\n",
    "\n",
    "s = Singleton.getInstance()\n",
    "print(s)"
   ]
  },
  {
   "cell_type": "markdown",
   "metadata": {},
   "source": [
    "## Module\n",
    "__Try with IDE__"
   ]
  },
  {
   "cell_type": "code",
   "execution_count": 396,
   "metadata": {
    "collapsed": true
   },
   "outputs": [],
   "source": [
    "# Define a function\n",
    "def world():\n",
    "    print(\"Hello, World!\")\n",
    "\n",
    "# Define a variable\n",
    "shark = \"Sammy\"\n",
    "\n",
    "\n",
    "# Define a class\n",
    "class Octopus:\n",
    "    def __init__(self, name, color):\n",
    "        print(\"Value of __name__: \" + __name__)\n",
    "        self.color = color\n",
    "        self.name = name\n",
    "\n",
    "    def tell_me_about_the_octopus(self):\n",
    "        print(\"This octopus is \" + self.color + \".\")\n",
    "        print(self.name + \" is the octopus's name.\")"
   ]
  },
  {
   "cell_type": "code",
   "execution_count": 397,
   "metadata": {},
   "outputs": [
    {
     "name": "stdout",
     "output_type": "stream",
     "text": [
      "Hello, World!\n",
      "Sammy\n"
     ]
    },
    {
     "data": {
      "text/plain": [
       "'\\n# Call class\\njesse = hello.Octopus(\"Jesse\", \"orange\")\\njesse.tell_me_about_the_octopus()\\n'"
      ]
     },
     "execution_count": 397,
     "metadata": {},
     "output_type": "execute_result"
    }
   ],
   "source": [
    "# Import hello module\n",
    "#import hello\n",
    "#import hello as h\n",
    "#from hello import world\n",
    "#from hello import shark,world\n",
    "\n",
    "\n",
    "# Call function\n",
    "#hello.world() #import hello\n",
    "#h.world() # import hello as h\n",
    "world() #from hello import world\n",
    "\n",
    "# Print variable\n",
    "#print(hello.shark) #import hello\n",
    "#print(h.shark) # import hello as h\n",
    "print(shark) # from hello import shark\n",
    "'''\n",
    "# Call class\n",
    "jesse = hello.Octopus(\"Jesse\", \"orange\")\n",
    "jesse.tell_me_about_the_octopus()\n",
    "'''"
   ]
  },
  {
   "cell_type": "markdown",
   "metadata": {},
   "source": [
    "## HackerRank"
   ]
  },
  {
   "cell_type": "markdown",
   "metadata": {},
   "source": [
    "Task\n",
    "\n",
    "Perform append, pop, popleft and appendleft methods on an empty deque .\n",
    "\n",
    "Input Format\n",
    "\n",
    "The first line contains an integer , the number of operations. \n",
    "The next  lines contains the space separated names of methods and their values.\n",
    "\n",
    "Constraints\n",
    "\n",
    "\n",
    "Output Format\n",
    "\n",
    "Print the space separated elements of deque .\n",
    "\n",
    "Sample Input\n",
    "\n",
    "6\n",
    "append 1\n",
    "append 2\n",
    "append 3\n",
    "appendleft 4\n",
    "pop\n",
    "popleft\n",
    "Sample Output\n",
    "\n",
    "1 2"
   ]
  },
  {
   "cell_type": "code",
   "execution_count": 401,
   "metadata": {},
   "outputs": [
    {
     "name": "stdout",
     "output_type": "stream",
     "text": [
      "2\n",
      "append 2222\n",
      "pop\n",
      "11 22 33 44 "
     ]
    },
    {
     "data": {
      "text/plain": [
       "{None}"
      ]
     },
     "execution_count": 401,
     "metadata": {},
     "output_type": "execute_result"
    }
   ],
   "source": [
    "from collections import deque\n",
    "d = deque([11, 22, 33, 44])\n",
    "operations = []\n",
    "num_of_operation = int(input())\n",
    "for ii in range(1, num_of_operation + 1):\n",
    "    operations.append(input())\n",
    "for ii in operations:\n",
    "    try:\n",
    "        getattr(d, ii.split()[0])(ii.split()[1])\n",
    "    except :\n",
    "        getattr(d, ii.split()[0])()\n",
    "{print(x, end=' ') for x in d}"
   ]
  },
  {
   "cell_type": "code",
   "execution_count": 402,
   "metadata": {},
   "outputs": [
    {
     "name": "stdout",
     "output_type": "stream",
     "text": [
      "2\n",
      "append 33\n",
      "append 334\n",
      "11 22 33 44 33 334 "
     ]
    },
    {
     "data": {
      "text/plain": [
       "{None}"
      ]
     },
     "execution_count": 402,
     "metadata": {},
     "output_type": "execute_result"
    }
   ],
   "source": [
    "from collections import deque\n",
    "d = deque([11, 22, 33, 44])\n",
    "operations = []\n",
    "num_of_operation = int(input())\n",
    "for ii in range(1, num_of_operation + 1):\n",
    "    input_val = input()\n",
    "    try:\n",
    "        getattr(d, input_val.split()[0])(input_val.split()[1])\n",
    "    except :\n",
    "        getattr(d, input_val.split()[0])()\n",
    "{print(x, end=' ') for x in d}"
   ]
  },
  {
   "cell_type": "code",
   "execution_count": 403,
   "metadata": {},
   "outputs": [
    {
     "name": "stdout",
     "output_type": "stream",
     "text": [
      "2\n",
      "append 7782\n",
      "append 376\n",
      "7782 376\n"
     ]
    }
   ],
   "source": [
    "from collections import deque\n",
    "d = deque()\n",
    "for _ in range(int(input())):\n",
    "    inp = input().split()\n",
    "    getattr(d, inp[0])(*[inp[1]] if len(inp) > 1 else [])\n",
    "print(*[item for item in d])"
   ]
  },
  {
   "cell_type": "code",
   "execution_count": 404,
   "metadata": {},
   "outputs": [
    {
     "name": "stdout",
     "output_type": "stream",
     "text": [
      "2\n",
      "append 333\n",
      "append 1111\n",
      "333 1111\n"
     ]
    }
   ],
   "source": [
    "from collections import deque\n",
    "queue = deque()\n",
    "for _ in range(int(input())):\n",
    "    exec('queue.{0}({1})'.format(*input().split()+['']))\n",
    "print(*queue)"
   ]
  },
  {
   "cell_type": "markdown",
   "metadata": {},
   "source": [
    "### Using Debugger"
   ]
  },
  {
   "cell_type": "code",
   "execution_count": null,
   "metadata": {},
   "outputs": [
    {
     "name": "stdout",
     "output_type": "stream",
     "text": [
      "--Return--\n",
      "> <ipython-input-406-59d4be465a2f>(9)<module>()->None\n",
      "-> pdb.set_trace()\n"
     ]
    }
   ],
   "source": [
    "# -*- coding: utf-8 -*-\n",
    "\"\"\"\n",
    "Created on Tue Feb 27 15:56:53 2018\n",
    "\n",
    "@author: nasimm\n",
    "\"\"\"\n",
    "\n",
    "import pdb\n",
    "pdb.set_trace()\n",
    "\n",
    "def calc(i, n):\n",
    "    j = i * n\n",
    "    return j\n",
    "\n",
    "def f(n):\n",
    "    for i in range(n):\n",
    "        j = calc(i, n)\n",
    "        print (i, j)\n",
    "    return\n",
    "\n",
    "    if __name__ == '__main__':\n",
    "        f(5)"
   ]
  },
  {
   "cell_type": "markdown",
   "metadata": {},
   "source": [
    "__Notes:__\n",
    "\n",
    "* Two approaches \n",
    "  - Import the debugger library (import pdb) and set the trace (pdb.set_trace())\n",
    "  - Run the python script using option '-m pdb'\n",
    "* Get help: 'help'\n",
    "* Listing lines: 'l(ist) [first [,last] | .]' or longlist | ll\n",
    "* Setting Breakpoints: b(reak) [ ([filename:]lineno | function) [, condition] ]\n",
    "* Clearing Breakpoints: cl(ear) filename:lineno or cl(ear) [bpnumber [bpnumber...]]\n",
    "* Disabling Breakpoints: disable bpnumber [bpnumber ...]\n",
    "* Stack trace: bt or w(here)\n",
    "* Printing variable values: p\n",
    "* Continuing execution: c(ont(inue))\n",
    "* continue till the end of the function: r(eturn)\n",
    "* Datatype of the variable: whatis arg\n",
    "\n",
    "\n",
    "\n"
   ]
  },
  {
   "cell_type": "code",
   "execution_count": 3,
   "metadata": {},
   "outputs": [
    {
     "name": "stdout",
     "output_type": "stream",
     "text": [
      "True\n"
     ]
    }
   ],
   "source": [
    "aa = [1,2,3,4]\n",
    "bb = [11,2,13,4]\n",
    "cc = [1,12,3,4]\n",
    "\n",
    "if len(aa)== len(bb) == len(cc):\n",
    "    print(True)\n",
    "else:\n",
    "    print(False)"
   ]
  },
  {
   "cell_type": "markdown",
   "metadata": {},
   "source": [
    "### Interiew"
   ]
  },
  {
   "cell_type": "code",
   "execution_count": null,
   "metadata": {},
   "outputs": [],
   "source": [
    "default "
   ]
  },
  {
   "cell_type": "markdown",
   "metadata": {},
   "source": [
    "### Thread"
   ]
  },
  {
   "cell_type": "code",
   "execution_count": 2,
   "metadata": {},
   "outputs": [
    {
     "name": "stdout",
     "output_type": "stream",
     "text": [
      "Starting Thread-1\n",
      "Starting Thread-2\n",
      "Thread-1: Fri Feb 15 23:59:52 2019\n",
      "Thread-1: Fri Feb 15 23:59:53 2019\n",
      "Thread-2: Fri Feb 15 23:59:53 2019\n",
      "Thread-1: Fri Feb 15 23:59:54 2019\n",
      "Thread-1: Fri Feb 15 23:59:55 2019\n",
      "Thread-2: Fri Feb 15 23:59:55 2019\n",
      "Thread-1: Fri Feb 15 23:59:56 2019\n",
      "Exiting Thread-1\n",
      "Thread-2: Fri Feb 15 23:59:57 2019\n",
      "Thread-2: Fri Feb 15 23:59:59 2019\n",
      "Thread-2: Sat Feb 16 00:00:01 2019\n",
      "Exiting Main ThreadExiting Thread-2\n",
      "\n"
     ]
    }
   ],
   "source": [
    "import threading\n",
    "import time\n",
    "\n",
    "exitFlag = 0\n",
    "\n",
    "class myThread (threading.Thread):\n",
    "    def __init__(self, threadID, name, counter):\n",
    "        threading.Thread.__init__(self)\n",
    "        self.threadID = threadID\n",
    "        self.name = name\n",
    "        self.counter = counter\n",
    "    def run(self):\n",
    "        print (\"Starting \" + self.name)\n",
    "        print_time(self.name, 5, self.counter)\n",
    "        print (\"Exiting \" + self.name)\n",
    "\n",
    "def print_time(threadName, counter, delay):\n",
    "    while counter:\n",
    "        if exitFlag:\n",
    "             threadName.exit()\n",
    "        time.sleep(delay)\n",
    "        print (\"%s: %s\" % (threadName, time.ctime(time.time())))\n",
    "        counter -= 1\n",
    "\n",
    "# Create new threads\n",
    "thread1 = myThread(1, \"Thread-1\", 1)\n",
    "thread2 = myThread(2, \"Thread-2\", 2)\n",
    "\n",
    "# Start new Threads\n",
    "thread1.start()\n",
    "thread2.start()\n",
    "\n",
    "# Add threads to thread list\n",
    "threads = []\n",
    "threads.append(thread1)\n",
    "threads.append(thread2)\n",
    "\n",
    "# Wait for all threads to complete\n",
    "for t in threads:\n",
    "    t.join()\n",
    "\n",
    "print (\"Exiting Main Thread\")"
   ]
  },
  {
   "cell_type": "code",
   "execution_count": 4,
   "metadata": {},
   "outputs": [
    {
     "name": "stdout",
     "output_type": "stream",
     "text": [
      "0\t11\t22\t33\t44\t55\t66\t77\t88\t99\t0\t22\t44\t66\t88\t110\t132\t154\t176\t198\t[11, 11, 11, 11, 11, 11, 11, 11, 11, 11, 22, 22, 22, 22, 22, 22, 22, 22, 22, 22]\n",
      "DONE\n"
     ]
    }
   ],
   "source": [
    "from threading import Thread\n",
    "import time\n",
    "\n",
    "def update_list(lst, num):\n",
    "    for ii in range(10):\n",
    "        lst.append(num)\n",
    "        print(ii*num, end='\\t')\n",
    "        time.sleep(0.5)\n",
    "\n",
    "if __name__ == \"__main__\":\n",
    "    thread_list = []\n",
    "    data_list = []\n",
    "    \n",
    "    thread1 = Thread(target=update_list(lst= data_list, num=11, ))\n",
    "    thread2 = Thread(target=update_list(lst= data_list, num=22, ))\n",
    "    \n",
    "    thread_list.extend([thread1, thread2])\n",
    "    \n",
    "    for thr in thread_list:\n",
    "        thr.start()\n",
    "    \n",
    "    for thr in thread_list:\n",
    "        thr.join()\n",
    "    \n",
    "    print(data_list)\n",
    "    print(\"DONE\")\n",
    "    "
   ]
  },
  {
   "cell_type": "code",
   "execution_count": 5,
   "metadata": {},
   "outputs": [
    {
     "name": "stdout",
     "output_type": "stream",
     "text": [
      "Hello\n",
      "HiThread ID: Hello_Thread\n",
      "\n",
      "Thread Property: {'_target': None, '_name': 'Hello_Thread', '_args': (), '_kwargs': {}, '_daemonic': False, '_ident': 19580, '_tstate_lock': <locked _thread.lock object at 0x000001E9DF714C60>, '_started': <threading.Event object at 0x000001E9E2154BA8>, '_is_stopped': False, '_initialized': True, '_stderr': <ipykernel.iostream.OutStream object at 0x000001E9E1033BA8>, 'count': 10}\n",
      "HelloHi\n",
      "\n",
      "HelloHi\n",
      "\n",
      "Hello\n",
      "Hi\n",
      "HiHello\n",
      "\n",
      "HiHello\n",
      "\n",
      "HiHello\n",
      "\n",
      "HelloHi\n",
      "\n",
      "HelloHi\n",
      "\n",
      "HelloHi\n",
      "\n",
      "Thread ID: Hi_Thread\n",
      "Thread Property: {'_target': None, '_name': 'Hi_Thread', '_args': (), '_kwargs': {}, '_daemonic': False, '_ident': 9460, '_tstate_lock': <unlocked _thread.lock object at 0x000001E9E216A0D0>, '_started': <threading.Event object at 0x000001E9E10AF198>, '_is_stopped': False, '_initialized': True, '_stderr': <ipykernel.iostream.OutStream object at 0x000001E9E1033BA8>, 'count': 10}\n",
      "DONE\n"
     ]
    }
   ],
   "source": [
    "# https://wiki.python.org/moin/GlobalInterpreterLock\n",
    "# https://docs.python-guide.org/starting/which-python/\n",
    "\n",
    "# https://www.quantstart.com/articles/Parallelising-Python-with-Threading-and-Multiprocessing\n",
    "# https://medium.com/@nbosco/multithreading-vs-multiprocessing-in-python-c7dc88b50b5b\n",
    "from threading import Thread\n",
    "import time\n",
    "\n",
    "class ThreadHi(Thread):\n",
    "    \n",
    "    def __init__(self, count):\n",
    "        Thread.__init__(self)\n",
    "        self.count = count\n",
    "        \n",
    "    def run(self):\n",
    "        for ii in range(self.count):\n",
    "            print('Hi')\n",
    "            time.sleep(2)\n",
    "            \n",
    "class ThreadHello(Thread):\n",
    "    \n",
    "    def __init__(self, count):\n",
    "        Thread.__init__(self)\n",
    "        self.count = count\n",
    "        \n",
    "    def run(self):\n",
    "        for ii in range(self.count):\n",
    "            print('Hello')\n",
    "            time.sleep(2)\n",
    "            \n",
    "if __name__ == \"__main__\":\n",
    "    num_threads = 2\n",
    "    thread_list = list()\n",
    "    count = 10\n",
    "    \n",
    "    thread1 = ThreadHello(count)\n",
    "    thread1.setName('Hello_Thread')\n",
    "    thread1.start()\n",
    "    thread_list.append(thread1)\n",
    "    \n",
    "    thread2 = ThreadHi(count)\n",
    "    thread2.setName('Hi_Thread')\n",
    "    thread2.start()\n",
    "    thread_list.append(thread2)\n",
    "    \n",
    "    for thr in thread_list:\n",
    "        print(f\"Thread ID: {thr.getName()}\")\n",
    "        print(f\"Thread Property: {thr.__dict__}\")\n",
    "        \n",
    "        thr.join()\n",
    "    \n",
    "    print(\"DONE\")"
   ]
  },
  {
   "cell_type": "code",
   "execution_count": 6,
   "metadata": {},
   "outputs": [
    {
     "name": "stdout",
     "output_type": "stream",
     "text": [
      "ID: 0\n",
      "ID: 0\n",
      "ID: 1\n",
      "ID: 1\n",
      "List processing complete.\n",
      "[0.9715301888891803, 0.8205905560078103, 0.658708407520445, 0.42989780874050076]\n"
     ]
    }
   ],
   "source": [
    "\n",
    "# thread_test.py\n",
    "\n",
    "import random\n",
    "import threading\n",
    "\n",
    "\n",
    "def list_append(count, ID, out_list):\n",
    "    \"\"\"\n",
    "    Creates an empty list and then appends a\n",
    "    random number to the list 'count' number\n",
    "    of times. A CPU-heavy operation!\n",
    "    \"\"\"\n",
    "    for i in range(count):\n",
    "        print(f\"ID: {ID}\")\n",
    "        out_list.append(random.random())\n",
    "\n",
    "if __name__ == \"__main__\":\n",
    "    size = 2   # Number of random numbers to add\n",
    "    threads = 2   # Number of threads to create\n",
    "\n",
    "    # Create a list of jobs and then iterate through\n",
    "    # the number of threads appending each thread to\n",
    "    # the job list\n",
    "    out_list = list()\n",
    "    jobs = []\n",
    "    for i in range(0, threads):\n",
    "        \n",
    "        thread = threading.Thread(target=list_append(size, i, out_list))\n",
    "        jobs.append(thread)\n",
    "\n",
    "    # Start the threads (i.e. calculate the random number lists)\n",
    "    for j in jobs:\n",
    "        j.start()\n",
    "\n",
    "    # Ensure all of the threads have finished\n",
    "    for j in jobs:\n",
    "        j.join()\n",
    "\n",
    "    print(\"List processing complete.\")\n",
    "    print(out_list)"
   ]
  },
  {
   "cell_type": "markdown",
   "metadata": {},
   "source": [
    "### Decorators"
   ]
  },
  {
   "cell_type": "code",
   "execution_count": 7,
   "metadata": {},
   "outputs": [
    {
     "name": "stdout",
     "output_type": "stream",
     "text": [
      "In decorator function\n",
      "In decorator function\n",
      "In wrapper function\n",
      "In actual function: sos_native\n",
      "sos_native took 8.033990859985352 mil seconds\n",
      "In wrapper function\n",
      "In actual function: sos_pow\n",
      "sos_pow took 0.0 mil seconds\n"
     ]
    }
   ],
   "source": [
    "import time\n",
    "import math\n",
    "\n",
    "def time_it(func_ptr):\n",
    "    print(\"In decorator function\")\n",
    "    def wrapper(*args, **kwargs):\n",
    "        print(\"In wrapper function\")\n",
    "        start = time.time()\n",
    "        result = func_ptr(*args, **kwargs)\n",
    "        end = time.time()\n",
    "        print(f\"{func_ptr.__name__} took {(end-start)*1000} mil seconds\")\n",
    "        return result\n",
    "    \n",
    "    return wrapper\n",
    "\n",
    "\n",
    "\n",
    "@time_it\n",
    "def sos_native(num_list):\n",
    "    print(\"In actual function: sos_native\")\n",
    "    return (sum([ii**ii for ii in num_list]))\n",
    "        \n",
    "@time_it\n",
    "def sos_pow(num_list):\n",
    "    print(\"In actual function: sos_pow\")\n",
    "    return (sum([math.pow(ii, 2) for ii in num_list]))\n",
    "    \n",
    "    \n",
    "if __name__ == \"__main__\":\n",
    "    \n",
    "    num_list = range(1000)\n",
    "    native = sos_native(num_list)\n",
    "    power = sos_pow(num_list)"
   ]
  },
  {
   "cell_type": "markdown",
   "metadata": {},
   "source": [
    "### First-Class Functions"
   ]
  },
  {
   "cell_type": "raw",
   "metadata": {},
   "source": [
    "In computer science, a programming language is said to support first-class functions (or function literal) if it treats functions as first-class objects. Specifically, this means that the language supports constructing new functions during the execution of a program, storing them in data structures, passing them as arguments to other functions, and returning them as the values of other functions."
   ]
  },
  {
   "cell_type": "code",
   "execution_count": 8,
   "metadata": {},
   "outputs": [
    {
     "name": "stdout",
     "output_type": "stream",
     "text": [
      "<function logger.<locals>.log_message at 0x000001E9E2125B70>\n",
      "Log: Hi\n"
     ]
    }
   ],
   "source": [
    "def logger(msg):\n",
    "    def log_message():\n",
    "        print('Log:', msg)\n",
    "    \n",
    "    return log_message\n",
    "\n",
    "log_hi = logger('Hi')\n",
    "print(log_hi)\n",
    "log_hi()"
   ]
  },
  {
   "cell_type": "markdown",
   "metadata": {},
   "source": [
    "### Closure"
   ]
  },
  {
   "cell_type": "raw",
   "metadata": {},
   "source": [
    "A closure is an inner function that remembers and has access to variables in the local scope in which it was created, even after the outer function has finished executing"
   ]
  },
  {
   "cell_type": "code",
   "execution_count": 9,
   "metadata": {},
   "outputs": [
    {
     "name": "stdout",
     "output_type": "stream",
     "text": [
      "Hi\n"
     ]
    }
   ],
   "source": [
    "def outer_func():\n",
    "    message = 'Hi'\n",
    "    \n",
    "    def inner_func():\n",
    "        print(message)\n",
    "        \n",
    "    return inner_func\n",
    "\n",
    "my_func = outer_func()\n",
    "\n",
    "my_func()\n"
   ]
  },
  {
   "cell_type": "code",
   "execution_count": 10,
   "metadata": {},
   "outputs": [
    {
     "name": "stdout",
     "output_type": "stream",
     "text": [
      "Hi\n",
      "Hello\n"
     ]
    }
   ],
   "source": [
    "def outer_func(msg):\n",
    "    message = msg\n",
    "    \n",
    "    def inner_func():\n",
    "        print(message)\n",
    "        \n",
    "    return inner_func\n",
    "\n",
    "hi_func = outer_func('Hi')\n",
    "hello_func = outer_func('Hello')\n",
    "\n",
    "hi_func()\n",
    "hello_func()\n"
   ]
  },
  {
   "cell_type": "markdown",
   "metadata": {},
   "source": [
    "### Iterators"
   ]
  },
  {
   "cell_type": "code",
   "execution_count": 11,
   "metadata": {},
   "outputs": [
    {
     "name": "stdout",
     "output_type": "stream",
     "text": [
      "This\n",
      "is\n",
      "a\n",
      "test\n"
     ]
    },
    {
     "ename": "StopIteration",
     "evalue": "",
     "output_type": "error",
     "traceback": [
      "\u001b[1;31m---------------------------------------------------------------------------\u001b[0m",
      "\u001b[1;31mStopIteration\u001b[0m                             Traceback (most recent call last)",
      "\u001b[1;32m<ipython-input-11-2fac8e0b8b93>\u001b[0m in \u001b[0;36m<module>\u001b[1;34m()\u001b[0m\n\u001b[0;32m     24\u001b[0m \u001b[0mprint\u001b[0m\u001b[1;33m(\u001b[0m\u001b[0mnext\u001b[0m\u001b[1;33m(\u001b[0m\u001b[0mmy_sentence\u001b[0m\u001b[1;33m)\u001b[0m\u001b[1;33m)\u001b[0m\u001b[1;33m\u001b[0m\u001b[0m\n\u001b[0;32m     25\u001b[0m \u001b[0mprint\u001b[0m\u001b[1;33m(\u001b[0m\u001b[0mnext\u001b[0m\u001b[1;33m(\u001b[0m\u001b[0mmy_sentence\u001b[0m\u001b[1;33m)\u001b[0m\u001b[1;33m)\u001b[0m\u001b[1;33m\u001b[0m\u001b[0m\n\u001b[1;32m---> 26\u001b[1;33m \u001b[0mprint\u001b[0m\u001b[1;33m(\u001b[0m\u001b[0mnext\u001b[0m\u001b[1;33m(\u001b[0m\u001b[0mmy_sentence\u001b[0m\u001b[1;33m)\u001b[0m\u001b[1;33m)\u001b[0m\u001b[1;33m\u001b[0m\u001b[0m\n\u001b[0m",
      "\u001b[1;32m<ipython-input-11-2fac8e0b8b93>\u001b[0m in \u001b[0;36m__next__\u001b[1;34m(self)\u001b[0m\n\u001b[0;32m     10\u001b[0m     \u001b[1;32mdef\u001b[0m \u001b[0m__next__\u001b[0m\u001b[1;33m(\u001b[0m\u001b[0mself\u001b[0m\u001b[1;33m)\u001b[0m\u001b[1;33m:\u001b[0m\u001b[1;33m\u001b[0m\u001b[0m\n\u001b[0;32m     11\u001b[0m         \u001b[1;32mif\u001b[0m \u001b[1;33m(\u001b[0m\u001b[0mself\u001b[0m\u001b[1;33m.\u001b[0m\u001b[0mindex\u001b[0m \u001b[1;33m>=\u001b[0m \u001b[0mlen\u001b[0m\u001b[1;33m(\u001b[0m\u001b[0mself\u001b[0m\u001b[1;33m.\u001b[0m\u001b[0mwords\u001b[0m\u001b[1;33m)\u001b[0m\u001b[1;33m)\u001b[0m\u001b[1;33m:\u001b[0m\u001b[1;33m\u001b[0m\u001b[0m\n\u001b[1;32m---> 12\u001b[1;33m             \u001b[1;32mraise\u001b[0m \u001b[0mStopIteration\u001b[0m\u001b[1;33m\u001b[0m\u001b[0m\n\u001b[0m\u001b[0;32m     13\u001b[0m         \u001b[0midx\u001b[0m \u001b[1;33m=\u001b[0m \u001b[0mself\u001b[0m\u001b[1;33m.\u001b[0m\u001b[0mindex\u001b[0m\u001b[1;33m\u001b[0m\u001b[0m\n\u001b[0;32m     14\u001b[0m         \u001b[0mself\u001b[0m\u001b[1;33m.\u001b[0m\u001b[0mindex\u001b[0m \u001b[1;33m+=\u001b[0m \u001b[1;36m1\u001b[0m\u001b[1;33m\u001b[0m\u001b[0m\n",
      "\u001b[1;31mStopIteration\u001b[0m: "
     ]
    }
   ],
   "source": [
    "class Sentence(object):\n",
    "    def __init__(self, msg):\n",
    "        self.msg = msg\n",
    "        self.words = self.msg.split()\n",
    "        self.index = 0\n",
    "\n",
    "    def __iter__(self):\n",
    "        return self\n",
    "    \n",
    "    def __next__(self):\n",
    "        if (self.index >= len(self.words)):\n",
    "            raise StopIteration\n",
    "        idx = self.index\n",
    "        self.index += 1\n",
    "        return self.words[idx]\n",
    "        \n",
    "my_sentence = Sentence('This is a test')\n",
    "\n",
    "#for word in my_sentence:\n",
    "#    print(word)\n",
    "\n",
    "print(my_sentence.__next__())\n",
    "print(next(my_sentence))\n",
    "print(next(my_sentence))\n",
    "print(next(my_sentence))\n",
    "print(next(my_sentence))"
   ]
  },
  {
   "cell_type": "markdown",
   "metadata": {},
   "source": [
    "### Generators"
   ]
  },
  {
   "cell_type": "code",
   "execution_count": 12,
   "metadata": {},
   "outputs": [
    {
     "name": "stdout",
     "output_type": "stream",
     "text": [
      "This\n",
      "is\n",
      "a\n",
      "new\n",
      "test\n"
     ]
    },
    {
     "ename": "StopIteration",
     "evalue": "",
     "output_type": "error",
     "traceback": [
      "\u001b[1;31m---------------------------------------------------------------------------\u001b[0m",
      "\u001b[1;31mStopIteration\u001b[0m                             Traceback (most recent call last)",
      "\u001b[1;32m<ipython-input-12-5c05ef2af6c0>\u001b[0m in \u001b[0;36m<module>\u001b[1;34m()\u001b[0m\n\u001b[0;32m     13\u001b[0m \u001b[0mprint\u001b[0m\u001b[1;33m(\u001b[0m\u001b[0mnext\u001b[0m\u001b[1;33m(\u001b[0m\u001b[0mmy_sentence\u001b[0m\u001b[1;33m)\u001b[0m\u001b[1;33m)\u001b[0m\u001b[1;33m\u001b[0m\u001b[0m\n\u001b[0;32m     14\u001b[0m \u001b[0mprint\u001b[0m\u001b[1;33m(\u001b[0m\u001b[0mnext\u001b[0m\u001b[1;33m(\u001b[0m\u001b[0mmy_sentence\u001b[0m\u001b[1;33m)\u001b[0m\u001b[1;33m)\u001b[0m\u001b[1;33m\u001b[0m\u001b[0m\n\u001b[1;32m---> 15\u001b[1;33m \u001b[0mprint\u001b[0m\u001b[1;33m(\u001b[0m\u001b[0mnext\u001b[0m\u001b[1;33m(\u001b[0m\u001b[0mmy_sentence\u001b[0m\u001b[1;33m)\u001b[0m\u001b[1;33m)\u001b[0m\u001b[1;33m\u001b[0m\u001b[0m\n\u001b[0m",
      "\u001b[1;31mStopIteration\u001b[0m: "
     ]
    }
   ],
   "source": [
    "def sentence(msg):\n",
    "    for word in msg.split():\n",
    "        yield word\n",
    "        \n",
    "my_sentence = sentence('This is a new test')\n",
    "\n",
    "#for word in my_sentence:\n",
    "#    print(word)\n",
    "\n",
    "print(my_sentence.__next__())\n",
    "print(next(my_sentence))\n",
    "print(next(my_sentence))\n",
    "print(next(my_sentence))\n",
    "print(next(my_sentence))\n",
    "print(next(my_sentence))"
   ]
  },
  {
   "cell_type": "markdown",
   "metadata": {},
   "source": [
    "### Memory Profiler"
   ]
  },
  {
   "cell_type": "code",
   "execution_count": null,
   "metadata": {},
   "outputs": [],
   "source": [
    "#!pip install memory_profiler"
   ]
  },
  {
   "cell_type": "code",
   "execution_count": null,
   "metadata": {},
   "outputs": [],
   "source": [
    "!where python"
   ]
  },
  {
   "cell_type": "code",
   "execution_count": 13,
   "metadata": {},
   "outputs": [
    {
     "name": "stdout",
     "output_type": "stream",
     "text": [
      "Memory (Before): [66.20703125]Mb \n",
      "Memory (After): [66.2109375]Mb \n",
      "Took 0.00013540498255074074 Seconds\n"
     ]
    }
   ],
   "source": [
    "import memory_profiler\n",
    "import random\n",
    "import time\n",
    "\n",
    "names = ['John', 'Corey', 'Adam', 'Steve', 'Rick', 'Thomas']\n",
    "majors = ['Math', 'Engineering', 'CompSci', 'Arts', 'Business']\n",
    "\n",
    "print(f\"Memory (Before): {memory_profiler.memory_usage()}Mb \")\n",
    "\n",
    "def people_list(num_people):\n",
    "    result = []\n",
    "    for i in range(num_people):\n",
    "        person = {\n",
    "                    'id': i,\n",
    "                    'name': random.choice(names),\n",
    "                    'major': random.choice(majors)\n",
    "                }\n",
    "        result.append(person)\n",
    "    return result\n",
    "\n",
    "def people_generator(num_people):\n",
    "    for i in range(num_people):\n",
    "        person = {\n",
    "                    'id': i,\n",
    "                    'name': random.choice(names),\n",
    "                    'major': random.choice(majors)\n",
    "                }\n",
    "        yield person\n",
    "\n",
    "# t1 = time.clock()\n",
    "# people = people_list(1000000)\n",
    "# t2 = time.clock()\n",
    "\n",
    "t1 = time.clock()\n",
    "people = people_generator(1000000)\n",
    "t2 = time.clock()\n",
    "\n",
    "print(f\"Memory (After): {memory_profiler.memory_usage()}Mb \")\n",
    "\n",
    "print(f\"Took {t2-t1} Seconds\")\n"
   ]
  },
  {
   "cell_type": "markdown",
   "metadata": {},
   "source": [
    "### Binary search"
   ]
  },
  {
   "cell_type": "code",
   "execution_count": 15,
   "metadata": {},
   "outputs": [
    {
     "name": "stdout",
     "output_type": "stream",
     "text": [
      "False\n",
      "True\n"
     ]
    }
   ],
   "source": [
    "def binary_search(item_list,item):\n",
    "    first = 0\n",
    "    last = len(item_list)-1\n",
    "    found = False\n",
    "    while( first<=last and not found):\n",
    "        mid = (first + last)//2\n",
    "        if item_list[mid] == item :\n",
    "            found = True\n",
    "        else:\n",
    "            if item < item_list[mid]:\n",
    "                last = mid - 1\n",
    "            else:\n",
    "                first = mid + 1\t\n",
    "    return found\n",
    "\n",
    "print(binary_search([1,2,3,5,8], 6))\n",
    "print(binary_search([1,2,3,5,8], 5))"
   ]
  },
  {
   "cell_type": "code",
   "execution_count": 16,
   "metadata": {},
   "outputs": [
    {
     "name": "stdout",
     "output_type": "stream",
     "text": [
      "a2b3c2d4\n"
     ]
    }
   ],
   "source": [
    "### Finding count of repeated number of elements - SAP Labs 16th Nov 2018\n",
    "# Input: aabbbccdddd\n",
    "# Output: a2b3c2d4\n",
    "\n",
    "# Soln with in-built functions\n",
    "\n",
    "in_str = 'aabbbccdddd'\n",
    "out_str = ''\n",
    "for ii in sorted(set(in_str)):\n",
    "    out_str += ii + str(in_str.count(ii))\n",
    "print(out_str)"
   ]
  },
  {
   "cell_type": "code",
   "execution_count": 17,
   "metadata": {},
   "outputs": [
    {
     "name": "stdout",
     "output_type": "stream",
     "text": [
      "a2b3c2d4\n"
     ]
    }
   ],
   "source": [
    "### Finding count of repeated number of elements - SAP Labs 16th Nov 2018\n",
    "# Input: aabbbccdddd\n",
    "# Output: a2b3c2d4\n",
    "\n",
    "# Soln without in-built functions\n",
    "\n",
    "in_str = 'aabbbccdddd'\n",
    "out_str = ''\n",
    "running_char = in_str[0]\n",
    "count = 1\n",
    "\n",
    "for current_char in in_str[1:]:\n",
    "    if running_char != current_char:\n",
    "        out_str += running_char + str(count)\n",
    "        count = 1\n",
    "        running_char = current_char\n",
    "    else:\n",
    "        count += 1\n",
    "else:\n",
    "    out_str += running_char + str(count)\n",
    "    \n",
    "print(out_str)"
   ]
  },
  {
   "cell_type": "code",
   "execution_count": 18,
   "metadata": {},
   "outputs": [
    {
     "name": "stdout",
     "output_type": "stream",
     "text": [
      "Int: Largest = 66 and Second Largest = 11\n",
      "Int: Largest = 66 and Second Largest = 22\n",
      "Int: Largest = 66 and Second Largest = 55\n",
      "Int: Largest = 66 and Second Largest = 55\n",
      "Int: Largest = 88 and Second Largest = 66\n",
      "Int: Largest = 88 and Second Largest = 66\n",
      "Int: Largest = 88 and Second Largest = 66\n",
      "Final: Largest = 88 and Second Largest = 66\n"
     ]
    }
   ],
   "source": [
    "### Find the 2nd largest number in a list, with using sort - Micro Focus 6th Dec 2018\n",
    "# Input: [11, 22, 55, 44, 88, 66]\n",
    "# Output: 66\n",
    "\n",
    "in_str = [66, 11, 22, 55, 44, 88, 66, 88]\n",
    "largest = max(in_str[0], in_str[1])\n",
    "second_largest = min(in_str[0], in_str[1])\n",
    "print(f\"Int: Largest = {largest} and Second Largest = {second_largest}\")\n",
    "for ii in range(2, len(in_str)):\n",
    "    # When the new number is between second_largest & larest\n",
    "    if second_largest < in_str[ii] < largest:\n",
    "        second_largest = in_str[ii]\n",
    "    # When the new number is more than largest\n",
    "    elif in_str[ii] > largest:\n",
    "        second_largest, largest = largest, in_str[ii]\n",
    "\n",
    "    print(f\"Int: Largest = {largest} and Second Largest = {second_largest}\")\n",
    "\n",
    "print(f\"Final: Largest = {largest} and Second Largest = {second_largest}\")\n",
    "        \n"
   ]
  },
  {
   "cell_type": "code",
   "execution_count": 19,
   "metadata": {},
   "outputs": [
    {
     "name": "stdout",
     "output_type": "stream",
     "text": [
      "*\n",
      "**\n",
      "***\n",
      "****\n",
      "*****\n",
      "****\n",
      "***\n",
      "**\n",
      "*\n"
     ]
    }
   ],
   "source": [
    "### Given a number, print * formation like below - Micro Focus 6th Dec 2018\n",
    "# For n = 5\n",
    "\"\"\"\n",
    "*\n",
    "**\n",
    "***\n",
    "****\n",
    "*****\n",
    "****\n",
    "***\n",
    "**\n",
    "*\n",
    "\"\"\"\n",
    "n = 5\n",
    "for ii in list(range(1, n)) + list(range(n, 0, -1)):\n",
    "    print(\"*\"*ii)"
   ]
  },
  {
   "cell_type": "code",
   "execution_count": 20,
   "metadata": {},
   "outputs": [
    {
     "name": "stdout",
     "output_type": "stream",
     "text": [
      "      *\n",
      "     ***\n",
      "    *****\n",
      "   *******\n",
      "  *********\n",
      " ***********\n",
      "  *********\n",
      "   *******\n",
      "    *****\n",
      "     ***\n",
      "      *\n"
     ]
    }
   ],
   "source": [
    "### Given a number, print * formation like below - Micro Focus 6th Dec 2018\n",
    "# For n = 11\n",
    "\"\"\"\n",
    "     *\n",
    "    ***\n",
    "   *****\n",
    "  *******\n",
    " *********\n",
    "***********\n",
    " *********\n",
    "  *******\n",
    "   *****\n",
    "    ***\n",
    "     *\n",
    "\"\"\"\n",
    "n = 11\n",
    "for ii in list(range(1, n, 2)) + list(range(n, 0, -2)):\n",
    "    print(\" \"*((n-ii)//2), \"*\"*ii)"
   ]
  },
  {
   "cell_type": "code",
   "execution_count": null,
   "metadata": {
    "collapsed": true
   },
   "outputs": [],
   "source": []
  },
  {
   "cell_type": "code",
   "execution_count": 21,
   "metadata": {},
   "outputs": [
    {
     "name": "stdout",
     "output_type": "stream",
     "text": [
      "Int: Largest = 2|Second Largest = -5| Smallest = -5| Second Smallest = 2\n",
      "Int: Largest = 2|Second Largest = 0| Smallest = -5| Second Smallest = 2\n",
      "Int: Largest = 4|Second Largest = 2| Smallest = -5| Second Smallest = 2\n",
      "Int: Largest = 4|Second Largest = 2| Smallest = -6| Second Smallest = -5\n",
      "Int: Largest = 4|Second Largest = 3| Smallest = -6| Second Smallest = -5\n",
      "Int: Largest = 4|Second Largest = 3| Smallest = -6| Second Smallest = -5\n",
      "Int: Largest = 4|Second Largest = 3| Smallest = -6| Second Smallest = -5\n",
      "Final: Largest = 4|Second Largest = 3| Smallest = -6| Second Smallest = -5\n",
      "30\n"
     ]
    }
   ],
   "source": [
    "### From a given list of numbers, find two numbers which will give largest product - Accion Labs 14th Nov 2018\n",
    "# Input: [2, -5, 0, 4, -6, 3, -1, 1]\n",
    "# Output: 30\n",
    "\n",
    "in_str = [2, -5, 0, 4, -6, 3, -1, 1]\n",
    "largest = second_smallest = max(in_str[0], in_str[1])\n",
    "second_largest = smallest = min(in_str[0], in_str[1])\n",
    "\n",
    "print(f\"Int: Largest = {largest}|Second Largest = {second_largest}| Smallest = {smallest}| Second Smallest = {second_smallest}\")\n",
    "for ii in range(2, len(in_str)):\n",
    "    # When the new number is between second_largest & larest\n",
    "    if second_largest < in_str[ii] < largest:\n",
    "        second_largest = in_str[ii]\n",
    "    # When the new number is more than largest\n",
    "    elif in_str[ii] > largest:\n",
    "        second_largest, largest = largest, in_str[ii]\n",
    "    # When the new number is between smallest & second smallest\n",
    "    elif smallest > in_str[ii] > second_smallest:\n",
    "        second_smallest = in_str[ii]\n",
    "    # When the number is less than smallest\n",
    "    elif in_str[ii] < smallest:\n",
    "        second_smallest, smallest = smallest, in_str[ii]\n",
    "\n",
    "    print(f\"Int: Largest = {largest}|Second Largest = {second_largest}| Smallest = {smallest}| Second Smallest = {second_smallest}\")\n",
    "\n",
    "print(f\"Final: Largest = {largest}|Second Largest = {second_largest}| Smallest = {smallest}| Second Smallest = {second_smallest}\")\n",
    "\n",
    "print(max(largest*second_largest, smallest*second_smallest))\n"
   ]
  },
  {
   "cell_type": "code",
   "execution_count": 22,
   "metadata": {
    "collapsed": true
   },
   "outputs": [],
   "source": [
    "### HCL 26th Dec 2018\n",
    "# Multithreading\n",
    "# Class design\n"
   ]
  },
  {
   "cell_type": "code",
   "execution_count": 23,
   "metadata": {},
   "outputs": [
    {
     "name": "stdout",
     "output_type": "stream",
     "text": [
      "**********************************Initial list**********************************\n",
      "Base: [4, 8, [11, 22, 33], 2, 10, 15, 18] with list id 2104033571656 \n",
      "simp 8 @ 1716478336, comp [11, 22, 33] @ 2104033571592\n",
      "--------------------------------------------------------------------------------\n",
      "Ref: [4, 8, [11, 22, 33], 2, 10, 15, 18] with list id 2104033571656 \n",
      "simp 8 @ 1716478336, comp [11, 22, 33] @ 2104033571592\n",
      "--------------------------------------------------------------------------------\n",
      "Cloning: [4, 8, [11, 22, 33], 2, 10, 15, 18] with list id 2104033571720 \n",
      "simp 8 @ 1716478336, comp [11, 22, 33] @ 2104033571592\n",
      "--------------------------------------------------------------------------------\n",
      "Extend: [4, 8, [11, 22, 33], 2, 10, 15, 18] with list id 2104033571528 \n",
      "simp 8 @ 1716478336, comp [11, 22, 33] @ 2104033571592\n",
      "--------------------------------------------------------------------------------\n",
      "Shallow: [4, 8, [11, 22, 33], 2, 10, 15, 18] with list id 2104033571976 \n",
      "simp 8 @ 1716478336, comp [11, 22, 33] @ 2104033571592\n",
      "--------------------------------------------------------------------------------\n",
      "Deep: [4, 8, [11, 22, 33], 2, 10, 15, 18] with list id 2104033571912 \n",
      "simp 8 @ 1716478336, comp [11, 22, 33] @ 2104033572040\n",
      "**************************************END***************************************\n",
      "**************************Modify the list - simple ele**************************\n",
      "Base: [4, 88, [11, 22, 33], 2, 10, 15, 18] with list id 2104033571656 \n",
      "simp 88 @ 1716480896, comp [11, 22, 33] @ 2104033571592\n",
      "--------------------------------------------------------------------------------\n",
      "Ref: [4, 88, [11, 22, 33], 2, 10, 15, 18] with list id 2104033571656 \n",
      "simp 88 @ 1716480896, comp [11, 22, 33] @ 2104033571592\n",
      "--------------------------------------------------------------------------------\n",
      "Cloning: [4, 8, [11, 22, 33], 2, 10, 15, 18] with list id 2104033571720 \n",
      "simp 8 @ 1716478336, comp [11, 22, 33] @ 2104033571592\n",
      "--------------------------------------------------------------------------------\n",
      "Extend: [4, 8, [11, 22, 33], 2, 10, 15, 18] with list id 2104033571528 \n",
      "simp 8 @ 1716478336, comp [11, 22, 33] @ 2104033571592\n",
      "--------------------------------------------------------------------------------\n",
      "Shallow: [4, 8, [11, 22, 33], 2, 10, 15, 18] with list id 2104033571976 \n",
      "simp 8 @ 1716478336, comp [11, 22, 33] @ 2104033571592\n",
      "--------------------------------------------------------------------------------\n",
      "Deep: [4, 8, [11, 22, 33], 2, 10, 15, 18] with list id 2104033571912 \n",
      "simp 8 @ 1716478336, comp [11, 22, 33] @ 2104033572040\n",
      "**************************************END***************************************\n",
      "*************************Modify the list - complex ele**************************\n",
      "Base: [4, 88, [11, 22, 9999], 2, 10, 15, 18] with list id 2104033571656 \n",
      "simp 88 @ 1716480896, comp [11, 22, 9999] @ 2104033571592\n",
      "--------------------------------------------------------------------------------\n",
      "Ref: [4, 88, [11, 22, 9999], 2, 10, 15, 18] with list id 2104033571656 \n",
      "simp 88 @ 1716480896, comp [11, 22, 9999] @ 2104033571592\n",
      "--------------------------------------------------------------------------------\n",
      "Cloning: [4, 8, [11, 22, 9999], 2, 10, 15, 18] with list id 2104033571720 \n",
      "simp 8 @ 1716478336, comp [11, 22, 9999] @ 2104033571592\n",
      "--------------------------------------------------------------------------------\n",
      "Extend: [4, 8, [11, 22, 9999], 2, 10, 15, 18] with list id 2104033571528 \n",
      "simp 8 @ 1716478336, comp [11, 22, 9999] @ 2104033571592\n",
      "--------------------------------------------------------------------------------\n",
      "Shallow: [4, 8, [11, 22, 9999], 2, 10, 15, 18] with list id 2104033571976 \n",
      "simp 8 @ 1716478336, comp [11, 22, 9999] @ 2104033571592\n",
      "--------------------------------------------------------------------------------\n",
      "Deep: [4, 8, [11, 22, 33], 2, 10, 15, 18] with list id 2104033571912 \n",
      "simp 8 @ 1716478336, comp [11, 22, 33] @ 2104033572040\n",
      "**************************************END***************************************\n",
      "*********************Modify the list - Append a simple ele**********************\n",
      "Base: [4, 88, [11, 22, 9999], 2, 10, 15, 18, 7777] with list id 2104033571656 \n",
      "simp 88 @ 1716480896, comp [11, 22, 9999] @ 2104033571592\n",
      "--------------------------------------------------------------------------------\n",
      "Ref: [4, 88, [11, 22, 9999], 2, 10, 15, 18, 7777] with list id 2104033571656 \n",
      "simp 88 @ 1716480896, comp [11, 22, 9999] @ 2104033571592\n",
      "--------------------------------------------------------------------------------\n",
      "Cloning: [4, 8, [11, 22, 9999], 2, 10, 15, 18] with list id 2104033571720 \n",
      "simp 8 @ 1716478336, comp [11, 22, 9999] @ 2104033571592\n",
      "--------------------------------------------------------------------------------\n",
      "Extend: [4, 8, [11, 22, 9999], 2, 10, 15, 18] with list id 2104033571528 \n",
      "simp 8 @ 1716478336, comp [11, 22, 9999] @ 2104033571592\n",
      "--------------------------------------------------------------------------------\n",
      "Shallow: [4, 8, [11, 22, 9999], 2, 10, 15, 18] with list id 2104033571976 \n",
      "simp 8 @ 1716478336, comp [11, 22, 9999] @ 2104033571592\n",
      "--------------------------------------------------------------------------------\n",
      "Deep: [4, 8, [11, 22, 33], 2, 10, 15, 18] with list id 2104033571912 \n",
      "simp 8 @ 1716478336, comp [11, 22, 33] @ 2104033572040\n",
      "**************************************END***************************************\n",
      "*****************Modify the list - Append a ele to complex ele******************\n",
      "Base: [4, 88, [11, 22, 9999, 6666], 2, 10, 15, 18, 7777] with list id 2104033571656 \n",
      "simp 88 @ 1716480896, comp [11, 22, 9999, 6666] @ 2104033571592\n",
      "--------------------------------------------------------------------------------\n",
      "Ref: [4, 88, [11, 22, 9999, 6666], 2, 10, 15, 18, 7777] with list id 2104033571656 \n",
      "simp 88 @ 1716480896, comp [11, 22, 9999, 6666] @ 2104033571592\n",
      "--------------------------------------------------------------------------------\n",
      "Cloning: [4, 8, [11, 22, 9999, 6666], 2, 10, 15, 18] with list id 2104033571720 \n",
      "simp 8 @ 1716478336, comp [11, 22, 9999, 6666] @ 2104033571592\n",
      "--------------------------------------------------------------------------------\n",
      "Extend: [4, 8, [11, 22, 9999, 6666], 2, 10, 15, 18] with list id 2104033571528 \n",
      "simp 8 @ 1716478336, comp [11, 22, 9999, 6666] @ 2104033571592\n",
      "--------------------------------------------------------------------------------\n",
      "Shallow: [4, 8, [11, 22, 9999, 6666], 2, 10, 15, 18] with list id 2104033571976 \n",
      "simp 8 @ 1716478336, comp [11, 22, 9999, 6666] @ 2104033571592\n",
      "--------------------------------------------------------------------------------\n",
      "Deep: [4, 8, [11, 22, 33], 2, 10, 15, 18] with list id 2104033571912 \n",
      "simp 8 @ 1716478336, comp [11, 22, 33] @ 2104033572040\n",
      "**************************************END***************************************\n"
     ]
    }
   ],
   "source": [
    "### Python clone, deep and shallow copy - HCL 26th Dec 2018\n",
    "# https://www.geeksforgeeks.org/python-cloning-copying-list/\n",
    "import copy\n",
    "\n",
    "def printAll():\n",
    "    print(f\"Base: {list_in} with list id {id(list_in)}\",\n",
    "          f\"\\nsimp {list_in[1]} @ {id(list_in[1])}, comp {list_in[2]} @ {id(list_in[2])}\") \n",
    "    print('-'*80)\n",
    "    print(f\"Ref: {list_ref} with list id {id(list_ref)}\",\n",
    "          f\"\\nsimp {list_ref[1]} @ {id(list_ref[1])}, comp {list_ref[2]} @ {id(list_ref[2])}\") \n",
    "    print('-'*80)\n",
    "    print(f\"Cloning: {list_clone} with list id {id(list_clone)}\",\n",
    "          f\"\\nsimp {list_clone[1]} @ {id(list_clone[1])}, comp {list_clone[2]} @ {id(list_clone[2])}\") \n",
    "    print('-'*80)\n",
    "    print(f\"Extend: {list_extend} with list id {id(list_extend)}\",\n",
    "          f\"\\nsimp {list_extend[1]} @ {id(list_extend[1])}, comp {list_extend[2]} @ {id(list_extend[2])}\") \n",
    "    print('-'*80)\n",
    "    print(f\"Shallow: {list_copy} with list id {id(list_copy)}\",\n",
    "          f\"\\nsimp {list_copy[1]} @ {id(list_copy[1])}, comp {list_copy[2]} @ {id(list_copy[2])}\") \n",
    "    print('-'*80) \n",
    "    print(f\"Deep: {list_deepcopy} with list id {id(list_deepcopy)}\",\n",
    "          f\"\\nsimp {list_deepcopy[1]} @ {id(list_deepcopy[1])}, comp {list_deepcopy[2]} @ {id(list_deepcopy[2])}\") \n",
    "    print(\"END\".center(80, '*'))\n",
    "\n",
    "# Driver Code \n",
    "list_in = [4, 8, [11, 22, 33], 2, 10, 15, 18] \n",
    "list_ref = list_in # Reference copy\n",
    "list_clone = list_in[:] # Slice copy or cloning \n",
    "list_extend = [] ; list_extend.extend(list_in) # Copy using extend\n",
    "list_copy = copy.copy(list_in) # Shallow copy\n",
    "list_deepcopy = copy.deepcopy(list_in) # Deep copy\n",
    "\n",
    "print(\"Initial list\".center(80, '*'))                              \n",
    "printAll()                              \n",
    "                              \n",
    "# Modify the list - simple ele\n",
    "print(\"Modify the list - simple ele\".center(80, '*'))\n",
    "list_in[1]= 88\n",
    "printAll()\n",
    "\n",
    "# Modify the list - complex ele\n",
    "print(\"Modify the list - complex ele\".center(80, '*'))\n",
    "list_in[2][2]= 9999\n",
    "printAll()\n",
    "\n",
    "# Modify the list - Append a simple ele\n",
    "print(\"Modify the list - Append a simple ele\".center(80, '*'))\n",
    "list_in.append(7777)\n",
    "printAll()\n",
    "\n",
    "# Modify the list - Append a ele to complex ele\n",
    "print(\"Modify the list - Append a ele to complex ele\".center(80, '*'))\n",
    "list_in[2].append(6666)\n",
    "printAll()"
   ]
  },
  {
   "cell_type": "code",
   "execution_count": 24,
   "metadata": {},
   "outputs": [
    {
     "name": "stdout",
     "output_type": "stream",
     "text": [
      "demmahoM hsodriF misaN\n",
      "demmahoM hsodriF misaN\n"
     ]
    }
   ],
   "source": [
    "### Reverse chars of all words in string - HCL 26th Dec 2018\n",
    "# Input: Mohammed Firdosh Nasim\n",
    "# Output: demmahoM hsodriF misaN\n",
    "\n",
    "in_str = 'Mohammed Firdosh Nasim'\n",
    "\n",
    "out_str = ' '.join(list(map(lambda x: x[::-1] ,in_str.split(' '))))\n",
    "print(out_str)\n",
    "\n",
    "out_str = ' '.join([ii[::-1] for ii in in_str.split(' ')])\n",
    "print(out_str)\n",
    "\n"
   ]
  },
  {
   "cell_type": "code",
   "execution_count": 25,
   "metadata": {},
   "outputs": [
    {
     "name": "stdout",
     "output_type": "stream",
     "text": [
      "Substring found\n"
     ]
    }
   ],
   "source": [
    "### To find if a given string is a substring of another string - HCL 26th Dec 2018\n",
    "# big_str: 'Mohammed Firdosh Nasim'\n",
    "# small_str: 'Firdosh'\n",
    "\n",
    "big_str = 'Mohammed Firdosh Nasim'\n",
    "small_str = 'Firdosh'\n",
    "\n",
    "if big_str.find(small_str) > 0:\n",
    "    print(\"Substring found\")\n",
    "else:\n",
    "    print(\"Substring not found\")\n"
   ]
  },
  {
   "cell_type": "code",
   "execution_count": 26,
   "metadata": {},
   "outputs": [
    {
     "name": "stdout",
     "output_type": "stream",
     "text": [
      "[11, 22, 33, 44, 44, 22, 66, 11]\n",
      "[11, 22, 33, 44, 66]\n",
      "[11, 22, 33, 44, 66]\n"
     ]
    }
   ],
   "source": [
    "### Find unique elements in a list, without using set() - HCL 26th Dec 2018\n",
    "# in_str: [11, 22, 33, 44, 44, 22, 66, 11]\n",
    "# out_str: [11, 22, 33, 44, 66]\n",
    "\n",
    "in_str = [11, 22, 33, 44, 44, 22, 66, 11]\n",
    "print(in_str)\n",
    "out_str = list({ii: 'something' for ii in in_str}.keys())\n",
    "print(out_str)\n",
    "\n",
    "out_str = []\n",
    "for ii in in_str:\n",
    "    if ii not in out_str:\n",
    "        out_str.append(ii)\n",
    "print(out_str)\n"
   ]
  },
  {
   "cell_type": "code",
   "execution_count": 27,
   "metadata": {},
   "outputs": [
    {
     "name": "stdout",
     "output_type": "stream",
     "text": [
      "divisors = [1, 2, 3], sum = 6. num = 6 perfect_num_list = [6]\n",
      "divisors = [1, 2, 4, 7, 14], sum = 28. num = 28 perfect_num_list = [6, 28]\n",
      "divisors = [1, 2, 4, 8, 16, 31, 62, 124, 248], sum = 496. num = 496 perfect_num_list = [6, 28, 496]\n",
      "divisors = [1, 2, 4, 8, 16, 32, 64, 127, 254, 508, 1016, 2032, 4064], sum = 8128. num = 8128 perfect_num_list = [6, 28, 496, 8128]\n"
     ]
    }
   ],
   "source": [
    "### Find the first 10 perfect number  - HCL 26th Dec 2018\n",
    "# https://en.wikipedia.org/wiki/Perfect_number\n",
    "# The first perfect number is 6. Its proper divisors are 1, 2, and 3, and 1 + 2 + 3 = 6.\n",
    "\n",
    "#from functools import lru_cache\n",
    "#@lru_cache(maxsize = 10000)\n",
    "# TBD\n",
    "def is_perfect_num(num):\n",
    "    divisors = [ii for ii in range(1, num//2+1) if (num/ii).is_integer()]\n",
    "    if sum(divisors) == num:\n",
    "        print(f\"divisors = {divisors}, sum = {sum(divisors)}.\", end = ' ')\n",
    "        return True\n",
    "    \n",
    "\n",
    "perfect_num_list = []\n",
    "num = 1\n",
    "while (len(perfect_num_list) < 10 and num < 50000):\n",
    "    \n",
    "    if is_perfect_num(num):\n",
    "        print(f\"num = {num} \", end='')\n",
    "        perfect_num_list.append(num)\n",
    "        print(f\"perfect_num_list = {perfect_num_list}\")\n",
    "    num += 1\n",
    "\n"
   ]
  },
  {
   "cell_type": "code",
   "execution_count": 28,
   "metadata": {},
   "outputs": [
    {
     "name": "stdout",
     "output_type": "stream",
     "text": [
      "divisors = [1, 2, 4, 8, 16, 31, 62, 124, 248], sum = 496. True\n"
     ]
    }
   ],
   "source": [
    "print(is_perfect_num(496))"
   ]
  },
  {
   "cell_type": "code",
   "execution_count": 29,
   "metadata": {},
   "outputs": [
    {
     "name": "stdout",
     "output_type": "stream",
     "text": [
      "1\n",
      "2\n",
      "4\n",
      "7\n",
      "14\n"
     ]
    }
   ],
   "source": [
    "num = 28\n",
    "for ii in range(1,num//2+1):\n",
    "    if (num/ii).is_integer():\n",
    "        print(ii)"
   ]
  },
  {
   "cell_type": "markdown",
   "metadata": {},
   "source": [
    "### Memoization"
   ]
  },
  {
   "cell_type": "code",
   "execution_count": 30,
   "metadata": {},
   "outputs": [
    {
     "name": "stdout",
     "output_type": "stream",
     "text": [
      "1: 1\n",
      "2: 1\n",
      "3: 2\n",
      "4: 3\n",
      "5: 5\n",
      "6: 8\n",
      "7: 13\n",
      "8: 21\n",
      "9: 34\n",
      "10: 55\n",
      "11: 89\n",
      "12: 144\n",
      "13: 233\n",
      "14: 377\n",
      "15: 610\n",
      "16: 987\n",
      "17: 1597\n",
      "18: 2584\n",
      "19: 4181\n",
      "20: 6765\n",
      "21: 10946\n",
      "22: 17711\n",
      "23: 28657\n",
      "24: 46368\n",
      "25: 75025\n",
      "26: 121393\n",
      "27: 196418\n",
      "28: 317811\n",
      "29: 514229\n",
      "30: 832040\n"
     ]
    }
   ],
   "source": [
    "# Without any memoization - Slow \n",
    "def fibonacci(n):\n",
    "    if n == 1:\n",
    "        return 1\n",
    "    elif n == 2:\n",
    "        return 1\n",
    "    elif n > 2:\n",
    "        return fibonacci(n-1) + fibonacci(n-2) \n",
    "\n",
    "\n",
    "if __name__ == \"__main__\":\n",
    "    for ii in range(1,31):\n",
    "        print(f\"{ii}: {fibonacci(ii)}\")"
   ]
  },
  {
   "cell_type": "code",
   "execution_count": 31,
   "metadata": {},
   "outputs": [
    {
     "name": "stdout",
     "output_type": "stream",
     "text": [
      "1: 1\n",
      "2: 1\n",
      "3: 2\n",
      "4: 3\n",
      "5: 5\n",
      "6: 8\n",
      "7: 13\n",
      "8: 21\n",
      "9: 34\n",
      "10: 55\n",
      "11: 89\n",
      "12: 144\n",
      "13: 233\n",
      "14: 377\n",
      "15: 610\n",
      "16: 987\n",
      "17: 1597\n",
      "18: 2584\n",
      "19: 4181\n",
      "20: 6765\n",
      "21: 10946\n",
      "22: 17711\n",
      "23: 28657\n",
      "24: 46368\n",
      "25: 75025\n",
      "26: 121393\n",
      "27: 196418\n",
      "28: 317811\n",
      "29: 514229\n",
      "30: 832040\n",
      "31: 1346269\n",
      "32: 2178309\n",
      "33: 3524578\n",
      "34: 5702887\n",
      "35: 9227465\n",
      "36: 14930352\n",
      "37: 24157817\n",
      "38: 39088169\n",
      "39: 63245986\n",
      "40: 102334155\n",
      "41: 165580141\n",
      "42: 267914296\n",
      "43: 433494437\n",
      "44: 701408733\n",
      "45: 1134903170\n",
      "46: 1836311903\n",
      "47: 2971215073\n",
      "48: 4807526976\n",
      "49: 7778742049\n",
      "50: 12586269025\n",
      "51: 20365011074\n",
      "52: 32951280099\n",
      "53: 53316291173\n",
      "54: 86267571272\n",
      "55: 139583862445\n",
      "56: 225851433717\n",
      "57: 365435296162\n",
      "58: 591286729879\n",
      "59: 956722026041\n",
      "60: 1548008755920\n",
      "61: 2504730781961\n",
      "62: 4052739537881\n",
      "63: 6557470319842\n",
      "64: 10610209857723\n",
      "65: 17167680177565\n",
      "66: 27777890035288\n",
      "67: 44945570212853\n",
      "68: 72723460248141\n",
      "69: 117669030460994\n",
      "70: 190392490709135\n",
      "71: 308061521170129\n",
      "72: 498454011879264\n",
      "73: 806515533049393\n",
      "74: 1304969544928657\n",
      "75: 2111485077978050\n",
      "76: 3416454622906707\n",
      "77: 5527939700884757\n",
      "78: 8944394323791464\n",
      "79: 14472334024676221\n",
      "80: 23416728348467685\n",
      "81: 37889062373143906\n",
      "82: 61305790721611591\n",
      "83: 99194853094755497\n",
      "84: 160500643816367088\n",
      "85: 259695496911122585\n",
      "86: 420196140727489673\n",
      "87: 679891637638612258\n",
      "88: 1100087778366101931\n",
      "89: 1779979416004714189\n",
      "90: 2880067194370816120\n",
      "91: 4660046610375530309\n",
      "92: 7540113804746346429\n",
      "93: 12200160415121876738\n",
      "94: 19740274219868223167\n",
      "95: 31940434634990099905\n",
      "96: 51680708854858323072\n",
      "97: 83621143489848422977\n",
      "98: 135301852344706746049\n",
      "99: 218922995834555169026\n",
      "100: 354224848179261915075\n",
      "101: 573147844013817084101\n",
      "102: 927372692193078999176\n",
      "103: 1500520536206896083277\n",
      "104: 2427893228399975082453\n",
      "105: 3928413764606871165730\n",
      "106: 6356306993006846248183\n",
      "107: 10284720757613717413913\n",
      "108: 16641027750620563662096\n",
      "109: 26925748508234281076009\n",
      "110: 43566776258854844738105\n",
      "111: 70492524767089125814114\n",
      "112: 114059301025943970552219\n",
      "113: 184551825793033096366333\n",
      "114: 298611126818977066918552\n",
      "115: 483162952612010163284885\n",
      "116: 781774079430987230203437\n",
      "117: 1264937032042997393488322\n",
      "118: 2046711111473984623691759\n",
      "119: 3311648143516982017180081\n",
      "120: 5358359254990966640871840\n",
      "121: 8670007398507948658051921\n",
      "122: 14028366653498915298923761\n",
      "123: 22698374052006863956975682\n",
      "124: 36726740705505779255899443\n",
      "125: 59425114757512643212875125\n",
      "126: 96151855463018422468774568\n",
      "127: 155576970220531065681649693\n",
      "128: 251728825683549488150424261\n",
      "129: 407305795904080553832073954\n",
      "130: 659034621587630041982498215\n",
      "131: 1066340417491710595814572169\n",
      "132: 1725375039079340637797070384\n",
      "133: 2791715456571051233611642553\n",
      "134: 4517090495650391871408712937\n",
      "135: 7308805952221443105020355490\n",
      "136: 11825896447871834976429068427\n",
      "137: 19134702400093278081449423917\n",
      "138: 30960598847965113057878492344\n",
      "139: 50095301248058391139327916261\n",
      "140: 81055900096023504197206408605\n",
      "141: 131151201344081895336534324866\n",
      "142: 212207101440105399533740733471\n",
      "143: 343358302784187294870275058337\n",
      "144: 555565404224292694404015791808\n",
      "145: 898923707008479989274290850145\n",
      "146: 1454489111232772683678306641953\n",
      "147: 2353412818241252672952597492098\n",
      "148: 3807901929474025356630904134051\n",
      "149: 6161314747715278029583501626149\n",
      "150: 9969216677189303386214405760200\n",
      "151: 16130531424904581415797907386349\n",
      "152: 26099748102093884802012313146549\n",
      "153: 42230279526998466217810220532898\n",
      "154: 68330027629092351019822533679447\n",
      "155: 110560307156090817237632754212345\n",
      "156: 178890334785183168257455287891792\n",
      "157: 289450641941273985495088042104137\n",
      "158: 468340976726457153752543329995929\n",
      "159: 757791618667731139247631372100066\n",
      "160: 1226132595394188293000174702095995\n",
      "161: 1983924214061919432247806074196061\n",
      "162: 3210056809456107725247980776292056\n",
      "163: 5193981023518027157495786850488117\n",
      "164: 8404037832974134882743767626780173\n",
      "165: 13598018856492162040239554477268290\n",
      "166: 22002056689466296922983322104048463\n",
      "167: 35600075545958458963222876581316753\n",
      "168: 57602132235424755886206198685365216\n",
      "169: 93202207781383214849429075266681969\n",
      "170: 150804340016807970735635273952047185\n",
      "171: 244006547798191185585064349218729154\n",
      "172: 394810887814999156320699623170776339\n",
      "173: 638817435613190341905763972389505493\n",
      "174: 1033628323428189498226463595560281832\n",
      "175: 1672445759041379840132227567949787325\n",
      "176: 2706074082469569338358691163510069157\n",
      "177: 4378519841510949178490918731459856482\n",
      "178: 7084593923980518516849609894969925639\n",
      "179: 11463113765491467695340528626429782121\n",
      "180: 18547707689471986212190138521399707760\n",
      "181: 30010821454963453907530667147829489881\n",
      "182: 48558529144435440119720805669229197641\n",
      "183: 78569350599398894027251472817058687522\n",
      "184: 127127879743834334146972278486287885163\n",
      "185: 205697230343233228174223751303346572685\n",
      "186: 332825110087067562321196029789634457848\n",
      "187: 538522340430300790495419781092981030533\n",
      "188: 871347450517368352816615810882615488381\n",
      "189: 1409869790947669143312035591975596518914\n",
      "190: 2281217241465037496128651402858212007295\n",
      "191: 3691087032412706639440686994833808526209\n",
      "192: 5972304273877744135569338397692020533504\n",
      "193: 9663391306290450775010025392525829059713\n",
      "194: 15635695580168194910579363790217849593217\n",
      "195: 25299086886458645685589389182743678652930\n",
      "196: 40934782466626840596168752972961528246147\n",
      "197: 66233869353085486281758142155705206899077\n",
      "198: 107168651819712326877926895128666735145224\n",
      "199: 173402521172797813159685037284371942044301\n",
      "200: 280571172992510140037611932413038677189525\n",
      "201: 453973694165307953197296969697410619233826\n",
      "202: 734544867157818093234908902110449296423351\n",
      "203: 1188518561323126046432205871807859915657177\n",
      "204: 1923063428480944139667114773918309212080528\n",
      "205: 3111581989804070186099320645726169127737705\n",
      "206: 5034645418285014325766435419644478339818233\n",
      "207: 8146227408089084511865756065370647467555938\n",
      "208: 13180872826374098837632191485015125807374171\n",
      "209: 21327100234463183349497947550385773274930109\n",
      "210: 34507973060837282187130139035400899082304280\n",
      "211: 55835073295300465536628086585786672357234389\n",
      "212: 90343046356137747723758225621187571439538669\n",
      "213: 146178119651438213260386312206974243796773058\n",
      "214: 236521166007575960984144537828161815236311727\n",
      "215: 382699285659014174244530850035136059033084785\n",
      "216: 619220451666590135228675387863297874269396512\n",
      "217: 1001919737325604309473206237898433933302481297\n",
      "218: 1621140188992194444701881625761731807571877809\n",
      "219: 2623059926317798754175087863660165740874359106\n",
      "220: 4244200115309993198876969489421897548446236915\n",
      "221: 6867260041627791953052057353082063289320596021\n",
      "222: 11111460156937785151929026842503960837766832936\n",
      "223: 17978720198565577104981084195586024127087428957\n",
      "224: 29090180355503362256910111038089984964854261893\n",
      "225: 47068900554068939361891195233676009091941690850\n",
      "226: 76159080909572301618801306271765994056795952743\n",
      "227: 123227981463641240980692501505442003148737643593\n",
      "228: 199387062373213542599493807777207997205533596336\n",
      "229: 322615043836854783580186309282650000354271239929\n",
      "230: 522002106210068326179680117059857997559804836265\n",
      "231: 844617150046923109759866426342507997914076076194\n",
      "232: 1366619256256991435939546543402365995473880912459\n",
      "233: 2211236406303914545699412969744873993387956988653\n",
      "234: 3577855662560905981638959513147239988861837901112\n",
      "235: 5789092068864820527338372482892113982249794889765\n",
      "236: 9366947731425726508977331996039353971111632790877\n",
      "237: 15156039800290547036315704478931467953361427680642\n",
      "238: 24522987531716273545293036474970821924473060471519\n",
      "239: 39679027332006820581608740953902289877834488152161\n",
      "240: 64202014863723094126901777428873111802307548623680\n",
      "241: 103881042195729914708510518382775401680142036775841\n",
      "242: 168083057059453008835412295811648513482449585399521\n",
      "243: 271964099255182923543922814194423915162591622175362\n",
      "244: 440047156314635932379335110006072428645041207574883\n",
      "245: 712011255569818855923257924200496343807632829750245\n",
      "246: 1152058411884454788302593034206568772452674037325128\n",
      "247: 1864069667454273644225850958407065116260306867075373\n",
      "248: 3016128079338728432528443992613633888712980904400501\n",
      "249: 4880197746793002076754294951020699004973287771475874\n",
      "250: 7896325826131730509282738943634332893686268675876375\n",
      "251: 12776523572924732586037033894655031898659556447352249\n",
      "252: 20672849399056463095319772838289364792345825123228624\n",
      "253: 33449372971981195681356806732944396691005381570580873\n",
      "254: 54122222371037658776676579571233761483351206693809497\n",
      "255: 87571595343018854458033386304178158174356588264390370\n",
      "256: 141693817714056513234709965875411919657707794958199867\n",
      "257: 229265413057075367692743352179590077832064383222590237\n",
      "258: 370959230771131880927453318055001997489772178180790104\n",
      "259: 600224643828207248620196670234592075321836561403380341\n",
      "260: 971183874599339129547649988289594072811608739584170445\n",
      "261: 1571408518427546378167846658524186148133445300987550786\n",
      "262: 2542592393026885507715496646813780220945054040571721231\n",
      "263: 4114000911454431885883343305337966369078499341559272017\n",
      "264: 6656593304481317393598839952151746590023553382130993248\n",
      "265: 10770594215935749279482183257489712959102052723690265265\n",
      "266: 17427187520417066673081023209641459549125606105821258513\n",
      "267: 28197781736352815952563206467131172508227658829511523778\n",
      "268: 45624969256769882625644229676772632057353264935332782291\n",
      "269: 73822750993122698578207436143903804565580923764844306069\n",
      "270: 119447720249892581203851665820676436622934188700177088360\n",
      "271: 193270471243015279782059101964580241188515112465021394429\n",
      "272: 312718191492907860985910767785256677811449301165198482789\n",
      "273: 505988662735923140767969869749836918999964413630219877218\n",
      "274: 818706854228831001753880637535093596811413714795418360007\n",
      "275: 1324695516964754142521850507284930515811378128425638237225\n",
      "276: 2143402371193585144275731144820024112622791843221056597232\n",
      "277: 3468097888158339286797581652104954628434169971646694834457\n",
      "278: 5611500259351924431073312796924978741056961814867751431689\n",
      "279: 9079598147510263717870894449029933369491131786514446266146\n",
      "280: 14691098406862188148944207245954912110548093601382197697835\n",
      "281: 23770696554372451866815101694984845480039225387896643963981\n",
      "282: 38461794961234640015759308940939757590587318989278841661816\n",
      "283: 62232491515607091882574410635924603070626544377175485625797\n",
      "284: 100694286476841731898333719576864360661213863366454327287613\n",
      "285: 162926777992448823780908130212788963731840407743629812913410\n",
      "286: 263621064469290555679241849789653324393054271110084140201023\n",
      "287: 426547842461739379460149980002442288124894678853713953114433\n",
      "288: 690168906931029935139391829792095612517948949963798093315456\n",
      "289: 1116716749392769314599541809794537900642843628817512046429889\n",
      "290: 1806885656323799249738933639586633513160792578781310139745345\n",
      "291: 2923602405716568564338475449381171413803636207598822186175234\n",
      "292: 4730488062040367814077409088967804926964428786380132325920579\n",
      "293: 7654090467756936378415884538348976340768064993978954512095813\n",
      "294: 12384578529797304192493293627316781267732493780359086838016392\n",
      "295: 20038668997554240570909178165665757608500558774338041350112205\n",
      "296: 32423247527351544763402471792982538876233052554697128188128597\n",
      "297: 52461916524905785334311649958648296484733611329035169538240802\n",
      "298: 84885164052257330097714121751630835360966663883732297726369399\n",
      "299: 137347080577163115432025771710279131845700275212767467264610201\n",
      "300: 222232244629420445529739893461909967206666939096499764990979600\n",
      "301: 359579325206583560961765665172189099052367214309267232255589801\n",
      "302: 581811569836004006491505558634099066259034153405766997246569401\n",
      "303: 941390895042587567453271223806288165311401367715034229502159202\n",
      "304: 1523202464878591573944776782440387231570435521120801226748728603\n",
      "305: 2464593359921179141398048006246675396881836888835835456250887805\n",
      "306: 3987795824799770715342824788687062628452272409956636682999616408\n",
      "307: 6452389184720949856740872794933738025334109298792472139250504213\n",
      "308: 10440185009520720572083697583620800653786381708749108822250120621\n",
      "309: 16892574194241670428824570378554538679120491007541580961500624834\n",
      "310: 27332759203762391000908267962175339332906872716290689783750745455\n",
      "311: 44225333398004061429732838340729878012027363723832270745251370289\n",
      "312: 71558092601766452430641106302905217344934236440122960529002115744\n",
      "313: 115783425999770513860373944643635095356961600163955231274253486033\n",
      "314: 187341518601536966291015050946540312701895836604078191803255601777\n",
      "315: 303124944601307480151388995590175408058857436768033423077509087810\n",
      "316: 490466463202844446442404046536715720760753273372111614880764689587\n",
      "317: 793591407804151926593793042126891128819610710140145037958273777397\n",
      "318: 1284057871006996373036197088663606849580363983512256652839038466984\n",
      "319: 2077649278811148299629990130790497978399974693652401690797312244381\n",
      "320: 3361707149818144672666187219454104827980338677164658343636350711365\n",
      "321: 5439356428629292972296177350244602806380313370817060034433662955746\n",
      "322: 8801063578447437644962364569698707634360652047981718378070013667111\n",
      "323: 14240420007076730617258541919943310440740965418798778412503676622857\n",
      "324: 23041483585524168262220906489642018075101617466780496790573690289968\n",
      "325: 37281903592600898879479448409585328515842582885579275203077366912825\n",
      "326: 60323387178125067141700354899227346590944200352359771993651057202793\n",
      "327: 97605290770725966021179803308812675106786783237939047196728424115618\n",
      "328: 157928677948851033162880158208040021697730983590298819190379481318411\n",
      "329: 255533968719576999184059961516852696804517766828237866387107905434029\n",
      "330: 413462646668428032346940119724892718502248750418536685577487386752440\n",
      "331: 668996615388005031531000081241745415306766517246774551964595292186469\n",
      "332: 1082459262056433063877940200966638133809015267665311237542082678938909\n",
      "333: 1751455877444438095408940282208383549115781784912085789506677971125378\n",
      "334: 2833915139500871159286880483175021682924797052577397027048760650064287\n",
      "335: 4585371016945309254695820765383405232040578837489482816555438621189665\n",
      "336: 7419286156446180413982701248558426914965375890066879843604199271253952\n",
      "337: 12004657173391489668678522013941832147005954727556362660159637892443617\n",
      "338: 19423943329837670082661223262500259061971330617623242503763837163697569\n",
      "339: 31428600503229159751339745276442091208977285345179605163923475056141186\n",
      "340: 50852543833066829834000968538942350270948615962802847667687312219838755\n",
      "341: 82281144336295989585340713815384441479925901307982452831610787275979941\n",
      "342: 133133688169362819419341682354326791750874517270785300499298099495818696\n",
      "343: 215414832505658809004682396169711233230800418578767753330908886771798637\n",
      "344: 348548520675021628424024078524038024981674935849553053830206986267617333\n",
      "345: 563963353180680437428706474693749258212475354428320807161115873039415970\n",
      "346: 912511873855702065852730553217787283194150290277873860991322859307033303\n",
      "347: 1476475227036382503281437027911536541406625644706194668152438732346449273\n",
      "348: 2388987100892084569134167581129323824600775934984068529143761591653482576\n",
      "349: 3865462327928467072415604609040860366007401579690263197296200323999931849\n",
      "350: 6254449428820551641549772190170184190608177514674331726439961915653414425\n",
      "351: 10119911756749018713965376799211044556615579094364594923736162239653346274\n",
      "352: 16374361185569570355515148989381228747223756609038926650176124155306760699\n",
      "353: 26494272942318589069480525788592273303839335703403521573912286394960106973\n",
      "354: 42868634127888159424995674777973502051063092312442448224088410550266867672\n",
      "355: 69362907070206748494476200566565775354902428015845969798000696945226974645\n",
      "356: 112231541198094907919471875344539277405965520328288418022089107495493842317\n",
      "357: 181594448268301656413948075911105052760867948344134387820089804440720816962\n",
      "358: 293825989466396564333419951255644330166833468672422805842178911936214659279\n",
      "359: 475420437734698220747368027166749382927701417016557193662268716376935476241\n",
      "360: 769246427201094785080787978422393713094534885688979999504447628313150135520\n",
      "361: 1244666864935793005828156005589143096022236302705537193166716344690085611761\n",
      "362: 2013913292136887790908943984011536809116771188394517192671163973003235747281\n",
      "363: 3258580157072680796737099989600679905139007491100054385837880317693321359042\n",
      "364: 5272493449209568587646043973612216714255778679494571578509044290696557106323\n",
      "365: 8531073606282249384383143963212896619394786170594625964346924608389878465365\n",
      "366: 13803567055491817972029187936825113333650564850089197542855968899086435571688\n",
      "367: 22334640661774067356412331900038009953045351020683823507202893507476314037053\n",
      "368: 36138207717265885328441519836863123286695915870773021050058862406562749608741\n",
      "369: 58472848379039952684853851736901133239741266891456844557261755914039063645794\n",
      "370: 94611056096305838013295371573764256526437182762229865607320618320601813254535\n",
      "371: 153083904475345790698149223310665389766178449653686710164582374234640876900329\n",
      "372: 247694960571651628711444594884429646292615632415916575771902992555242690154864\n",
      "373: 400778865046997419409593818195095036058794082069603285936485366789883567055193\n",
      "374: 648473825618649048121038413079524682351409714485519861708388359345126257210057\n",
      "375: 1049252690665646467530632231274619718410203796555123147644873726135009824265250\n",
      "376: 1697726516284295515651670644354144400761613511040643009353262085480136081475307\n",
      "377: 2746979206949941983182302875628764119171817307595766156998135811615145905740557\n",
      "378: 4444705723234237498833973519982908519933430818636409166351397897095281987215864\n",
      "379: 7191684930184179482016276395611672639105248126232175323349533708710427892956421\n",
      "380: 11636390653418416980850249915594581159038678944868584489700931605805709880172285\n",
      "381: 18828075583602596462866526311206253798143927071100759813050465314516137773128706\n",
      "382: 30464466237021013443716776226800834957182606015969344302751396920321847653300991\n",
      "383: 49292541820623609906583302538007088755326533087070104115801862234837985426429697\n",
      "384: 79757008057644623350300078764807923712509139103039448418553259155159833079730688\n",
      "385: 129049549878268233256883381302815012467835672190109552534355121389997818506160385\n",
      "386: 208806557935912856607183460067622936180344811293149000952908380545157651585891073\n",
      "387: 337856107814181089864066841370437948648180483483258553487263501935155470092051458\n",
      "388: 546662665750093946471250301438060884828525294776407554440171882480313121677942531\n",
      "389: 884518773564275036335317142808498833476705778259666107927435384415468591769993989\n",
      "390: 1431181439314368982806567444246559718305231073036073662367607266895781713447936520\n",
      "391: 2315700212878644019141884587055058551781936851295739770295042651311250305217930509\n",
      "392: 3746881652193013001948452031301618270087167924331813432662649918207032018665867029\n",
      "393: 6062581865071657021090336618356676821869104775627553202957692569518282323883797538\n",
      "394: 9809463517264670023038788649658295091956272699959366635620342487725314342549664567\n",
      "395: 15872045382336327044129125268014971913825377475586919838578035057243596666433462105\n",
      "396: 25681508899600997067167913917673267005781650175546286474198377544968911008983126672\n",
      "397: 41553554281937324111297039185688238919607027651133206312776412602212507675416588777\n",
      "398: 67235063181538321178464953103361505925388677826679492786974790147181418684399715449\n",
      "399: 108788617463475645289761992289049744844995705477812699099751202749393926359816304226\n",
      "400: 176023680645013966468226945392411250770384383304492191886725992896575345044216019675\n",
      "401: 284812298108489611757988937681460995615380088782304890986477195645969271404032323901\n",
      "402: 460835978753503578226215883073872246385764472086797082873203188542544616448248343576\n",
      "403: 745648276861993189984204820755333242001144560869101973859680384188513887852280667477\n",
      "404: 1206484255615496768210420703829205488386909032955899056732883572731058504300529011053\n",
      "405: 1952132532477489958194625524584538730388053593825001030592563956919572392152809678530\n",
      "406: 3158616788092986726405046228413744218774962626780900087325447529650630896453338689583\n",
      "407: 5110749320570476684599671752998282949163016220605901117918011486570203288606148368113\n",
      "408: 8269366108663463411004717981412027167937978847386801205243459016220834185059487057696\n",
      "409: 13380115429233940095604389734410310117100995067992702323161470502791037473665635425809\n",
      "410: 21649481537897403506609107715822337285038973915379503528404929519011871658725122483505\n",
      "411: 35029596967131343602213497450232647402139968983372205851566400021802909132390757909314\n",
      "412: 56679078505028747108822605166054984687178942898751709379971329540814780791115880392819\n",
      "413: 91708675472160090711036102616287632089318911882123915231537729562617689923506638302133\n",
      "414: 148387753977188837819858707782342616776497854780875624611509059103432470714622518694952\n",
      "415: 240096429449348928530894810398630248865816766662999539843046788666050160638129156997085\n",
      "416: 388484183426537766350753518180972865642314621443875164454555847769482631352751675692037\n",
      "417: 628580612875886694881648328579603114508131388106874704297602636435532791990880832689122\n",
      "418: 1017064796302424461232401846760575980150446009550749868752158484205015423343632508381159\n",
      "419: 1645645409178311156114050175340179094658577397657624573049761120640548215334513341070281\n",
      "420: 2662710205480735617346452022100755074809023407208374441801919604845563638678145849451440\n",
      "421: 4308355614659046773460502197440934169467600804865999014851680725486111854012659190521721\n",
      "422: 6971065820139782390806954219541689244276624212074373456653600330331675492690805039973161\n",
      "423: 11279421434798829164267456416982623413744225016940372471505281055817787346703464230494882\n",
      "424: 18250487254938611555074410636524312658020849229014745928158881386149462839394269270468043\n",
      "425: 29529908689737440719341867053506936071765074245955118399664162441967250186097733500962925\n",
      "426: 47780395944676052274416277690031248729785923474969864327823043828116713025492002771430968\n",
      "427: 77310304634413492993758144743538184801550997720924982727487206270083963211589736272393893\n",
      "428: 125090700579089545268174422433569433531336921195894847055310250098200676237081739043824861\n",
      "429: 202401005213503038261932567177107618332887918916819829782797456368284639448671475316218754\n",
      "430: 327491705792592583530106989610677051864224840112714676838107706466485315685753214360043615\n",
      "431: 529892711006095621792039556787784670197112759029534506620905162834769955134424689676262369\n",
      "432: 857384416798688205322146546398461722061337599142249183459012869301255270820177904036305984\n",
      "433: 1387277127804783827114186103186246392258450358171783690079918032136025225954602593712568353\n",
      "434: 2244661544603472032436332649584708114319787957314032873538930901437280496774780497748874337\n",
      "435: 3631938672408255859550518752770954506578238315485816563618848933573305722729383091461442690\n",
      "436: 5876600217011727891986851402355662620898026272799849437157779835010586219504163589210317027\n",
      "437: 9508538889419983751537370155126617127476264588285666000776628768583891942233546680671759717\n",
      "438: 15385139106431711643524221557482279748374290861085515437934408603594478161737710269882076744\n",
      "439: 24893677995851695395061591712608896875850555449371181438711037372178370103971256950553836461\n",
      "440: 40278817102283407038585813270091176624224846310456696876645445975772848265708967220435913205\n",
      "441: 65172495098135102433647404982700073500075401759827878315356483347951218369680224170989749666\n",
      "442: 105451312200418509472233218252791250124300248070284575192001929323724066635389191391425662871\n",
      "443: 170623807298553611905880623235491323624375649830112453507358412671675285005069415562415412537\n",
      "444: 276075119498972121378113841488282573748675897900397028699360341995399351640458606953841075408\n",
      "445: 446698926797525733283994464723773897373051547730509482206718754667074636645528022516256487945\n",
      "446: 722774046296497854662108306212056471121727445630906510906079096662473988285986629470097563353\n",
      "447: 1169472973094023587946102770935830368494778993361415993112797851329548624931514651986354051298\n",
      "448: 1892247019390521442608211077147886839616506438992322504018876947992022613217501281456451614651\n",
      "449: 3061719992484545030554313848083717208111285432353738497131674799321571238149015933442805665949\n",
      "450: 4953967011875066473162524925231604047727791871346061001150551747313593851366517214899257280600\n",
      "451: 8015687004359611503716838773315321255839077303699799498282226546635165089515533148342062946549\n",
      "452: 12969654016234677976879363698546925303566869175045860499432778293948758940882050363241320227149\n",
      "453: 20985341020594289480596202471862246559405946478745659997715004840583924030397583511583383173698\n",
      "454: 33954995036828967457475566170409171862972815653791520497147783134532682971279633874824703400847\n",
      "455: 54940336057423256938071768642271418422378762132537180494862787975116607001677217386408086574545\n",
      "456: 88895331094252224395547334812680590285351577786328700992010571109649289972956851261232789975392\n",
      "457: 143835667151675481333619103454952008707730339918865881486873359084765896974634068647640876549937\n",
      "458: 232730998245927705729166438267632598993081917705194582478883930194415186947590919908873666525329\n",
      "459: 376566665397603187062785541722584607700812257624060463965757289279181083922224988556514543075266\n",
      "460: 609297663643530892791951979990217206693894175329255046444641219473596270869815908465388209600595\n",
      "461: 985864329041134079854737521712801814394706432953315510410398508752777354792040897021902752675861\n",
      "462: 1595161992684664972646689501703019021088600608282570556855039728226373625661856805487290962276456\n",
      "463: 2581026321725799052501427023415820835483307041235886067265438236979150980453897702509193714952317\n",
      "464: 4176188314410464025148116525118839856571907649518456624120477965205524606115754507996484677228773\n",
      "465: 6757214636136263077649543548534660692055214690754342691385916202184675586569652210505678392181090\n",
      "466: 10933402950546727102797660073653500548627122340272799315506394167390200192685406718502163069409863\n",
      "467: 17690617586682990180447203622188161240682337031027142006892310369574875779255058929007841461590953\n",
      "468: 28624020537229717283244863695841661789309459371299941322398704536965075971940465647510004531000816\n",
      "469: 46314638123912707463692067318029823029991796402327083329291014906539951751195524576517845992591769\n",
      "470: 74938658661142424746936931013871484819301255773627024651689719443505027723135990224027850523592585\n",
      "471: 121253296785055132210628998331901307849293052175954107980980734350044979474331514800545696516184354\n",
      "472: 196191955446197556957565929345772792668594307949581132632670453793550007197467505024573547039776939\n",
      "473: 317445252231252689168194927677674100517887360125535240613651188143594986671799019825119243555961293\n",
      "474: 513637207677450246125760857023446893186481668075116373246321641937144993869266524849692790595738232\n",
      "475: 831082459908702935293955784701120993704369028200651613859972830080739980541065544674812034151699525\n",
      "476: 1344719667586153181419716641724567886890850696275767987106294472017884974410332069524504824747437757\n",
      "477: 2175802127494856116713672426425688880595219724476419600966267302098624954951397614199316858899137282\n",
      "478: 3520521795081009298133389068150256767486070420752187588072561774116509929361729683723821683646575039\n",
      "479: 5696323922575865414847061494575945648081290145228607189038829076215134884313127297923138542545712321\n",
      "480: 9216845717656874712980450562726202415567360565980794777111390850331644813674856981646960226192287360\n",
      "481: 14913169640232740127827512057302148063648650711209401966150219926546779697987984279570098768737999681\n",
      "482: 24130015357889614840807962620028350479216011277190196743261610776878424511662841261217058994930287041\n",
      "483: 39043184998122354968635474677330498542864661988399598709411830703425204209650825540787157763668286722\n",
      "484: 63173200356011969809443437297358849022080673265589795452673441480303628721313666802004216758598573763\n",
      "485: 102216385354134324778078911974689347564945335253989394162085272183728832930964492342791374522266860485\n",
      "486: 165389585710146294587522349272048196587026008519579189614758713664032461652278159144795591280865434248\n",
      "487: 267605971064280619365601261246737544151971343773568583776843985847761294583242651487586965803132294733\n",
      "488: 432995556774426913953123610518785740738997352293147773391602699511793756235520810632382557083997728981\n",
      "489: 700601527838707533318724871765523284890968696066716357168446685359555050818763462119969522887130023714\n",
      "490: 1133597084613134447271848482284309025629966048359864130560049384871348807054284272752352079971127752695\n",
      "491: 1834198612451841980590573354049832310520934744426580487728496070230903857873047734872321602858257776409\n",
      "492: 2967795697064976427862421836334141336150900792786444618288545455102252664927332007624673682829385529104\n",
      "493: 4801994309516818408452995190383973646671835537213025106017041525333156522800379742496995285687643305513\n",
      "494: 7769790006581794836315417026718114982822736329999469724305586980435409187727711750121668968517028834617\n",
      "495: 12571784316098613244768412217102088629494571867212494830322628505768565710528091492618664254204672140130\n",
      "496: 20341574322680408081083829243820203612317308197211964554628215486203974898255803242740333222721700974747\n",
      "497: 32913358638779021325852241460922292241811880064424459384950843991972540608783894735358997476926373114877\n",
      "498: 53254932961459429406936070704742495854129188261636423939579059478176515507039697978099330699648074089624\n",
      "499: 86168291600238450732788312165664788095941068326060883324529903470149056115823592713458328176574447204501\n",
      "500: 139423224561697880139724382870407283950070256587697307264108962948325571622863290691557658876222521294125\n"
     ]
    }
   ],
   "source": [
    "# With memoization - No library\n",
    "lookup_table = dict()\n",
    "\n",
    "def fibonacci(n):\n",
    "    \n",
    "    if n in lookup_table.keys():\n",
    "        return lookup_table[n]\n",
    "    else:\n",
    "        if n == 1:\n",
    "            value = 1\n",
    "        elif n == 2:\n",
    "            value = 1\n",
    "        elif n > 2:\n",
    "            value = fibonacci(n-1) + fibonacci(n-2) \n",
    "        \n",
    "        lookup_table[n] = value\n",
    "        return value\n",
    "\n",
    "if __name__ == \"__main__\":\n",
    "    for ii in range(1,501):\n",
    "        print(f\"{ii}: {fibonacci(ii)}\")"
   ]
  },
  {
   "cell_type": "code",
   "execution_count": 32,
   "metadata": {},
   "outputs": [
    {
     "name": "stdout",
     "output_type": "stream",
     "text": [
      "1: 1\n",
      "2: 1\n",
      "3: 2\n",
      "4: 3\n",
      "5: 5\n",
      "6: 8\n",
      "7: 13\n",
      "8: 21\n",
      "9: 34\n",
      "10: 55\n",
      "11: 89\n",
      "12: 144\n",
      "13: 233\n",
      "14: 377\n",
      "15: 610\n",
      "16: 987\n",
      "17: 1597\n",
      "18: 2584\n",
      "19: 4181\n",
      "20: 6765\n",
      "21: 10946\n",
      "22: 17711\n",
      "23: 28657\n",
      "24: 46368\n",
      "25: 75025\n",
      "26: 121393\n",
      "27: 196418\n",
      "28: 317811\n",
      "29: 514229\n",
      "30: 832040\n",
      "31: 1346269\n",
      "32: 2178309\n",
      "33: 3524578\n",
      "34: 5702887\n",
      "35: 9227465\n",
      "36: 14930352\n",
      "37: 24157817\n",
      "38: 39088169\n",
      "39: 63245986\n",
      "40: 102334155\n",
      "41: 165580141\n",
      "42: 267914296\n",
      "43: 433494437\n",
      "44: 701408733\n",
      "45: 1134903170\n",
      "46: 1836311903\n",
      "47: 2971215073\n",
      "48: 4807526976\n",
      "49: 7778742049\n",
      "50: 12586269025\n",
      "51: 20365011074\n",
      "52: 32951280099\n",
      "53: 53316291173\n",
      "54: 86267571272\n",
      "55: 139583862445\n",
      "56: 225851433717\n",
      "57: 365435296162\n",
      "58: 591286729879\n",
      "59: 956722026041\n",
      "60: 1548008755920\n",
      "61: 2504730781961\n",
      "62: 4052739537881\n",
      "63: 6557470319842\n",
      "64: 10610209857723\n",
      "65: 17167680177565\n",
      "66: 27777890035288\n",
      "67: 44945570212853\n",
      "68: 72723460248141\n",
      "69: 117669030460994\n",
      "70: 190392490709135\n",
      "71: 308061521170129\n",
      "72: 498454011879264\n",
      "73: 806515533049393\n",
      "74: 1304969544928657\n",
      "75: 2111485077978050\n",
      "76: 3416454622906707\n",
      "77: 5527939700884757\n",
      "78: 8944394323791464\n",
      "79: 14472334024676221\n",
      "80: 23416728348467685\n",
      "81: 37889062373143906\n",
      "82: 61305790721611591\n",
      "83: 99194853094755497\n",
      "84: 160500643816367088\n",
      "85: 259695496911122585\n",
      "86: 420196140727489673\n",
      "87: 679891637638612258\n",
      "88: 1100087778366101931\n",
      "89: 1779979416004714189\n",
      "90: 2880067194370816120\n",
      "91: 4660046610375530309\n",
      "92: 7540113804746346429\n",
      "93: 12200160415121876738\n",
      "94: 19740274219868223167\n",
      "95: 31940434634990099905\n",
      "96: 51680708854858323072\n",
      "97: 83621143489848422977\n",
      "98: 135301852344706746049\n",
      "99: 218922995834555169026\n",
      "100: 354224848179261915075\n",
      "101: 573147844013817084101\n",
      "102: 927372692193078999176\n",
      "103: 1500520536206896083277\n",
      "104: 2427893228399975082453\n",
      "105: 3928413764606871165730\n",
      "106: 6356306993006846248183\n",
      "107: 10284720757613717413913\n",
      "108: 16641027750620563662096\n",
      "109: 26925748508234281076009\n",
      "110: 43566776258854844738105\n",
      "111: 70492524767089125814114\n",
      "112: 114059301025943970552219\n",
      "113: 184551825793033096366333\n",
      "114: 298611126818977066918552\n",
      "115: 483162952612010163284885\n",
      "116: 781774079430987230203437\n",
      "117: 1264937032042997393488322\n",
      "118: 2046711111473984623691759\n",
      "119: 3311648143516982017180081\n",
      "120: 5358359254990966640871840\n",
      "121: 8670007398507948658051921\n",
      "122: 14028366653498915298923761\n",
      "123: 22698374052006863956975682\n",
      "124: 36726740705505779255899443\n",
      "125: 59425114757512643212875125\n",
      "126: 96151855463018422468774568\n",
      "127: 155576970220531065681649693\n",
      "128: 251728825683549488150424261\n",
      "129: 407305795904080553832073954\n",
      "130: 659034621587630041982498215\n",
      "131: 1066340417491710595814572169\n",
      "132: 1725375039079340637797070384\n",
      "133: 2791715456571051233611642553\n",
      "134: 4517090495650391871408712937\n",
      "135: 7308805952221443105020355490\n",
      "136: 11825896447871834976429068427\n",
      "137: 19134702400093278081449423917\n",
      "138: 30960598847965113057878492344\n",
      "139: 50095301248058391139327916261\n",
      "140: 81055900096023504197206408605\n",
      "141: 131151201344081895336534324866\n",
      "142: 212207101440105399533740733471\n",
      "143: 343358302784187294870275058337\n",
      "144: 555565404224292694404015791808\n",
      "145: 898923707008479989274290850145\n",
      "146: 1454489111232772683678306641953\n",
      "147: 2353412818241252672952597492098\n",
      "148: 3807901929474025356630904134051\n",
      "149: 6161314747715278029583501626149\n",
      "150: 9969216677189303386214405760200\n",
      "151: 16130531424904581415797907386349\n",
      "152: 26099748102093884802012313146549\n",
      "153: 42230279526998466217810220532898\n",
      "154: 68330027629092351019822533679447\n",
      "155: 110560307156090817237632754212345\n",
      "156: 178890334785183168257455287891792\n",
      "157: 289450641941273985495088042104137\n",
      "158: 468340976726457153752543329995929\n",
      "159: 757791618667731139247631372100066\n",
      "160: 1226132595394188293000174702095995\n",
      "161: 1983924214061919432247806074196061\n",
      "162: 3210056809456107725247980776292056\n",
      "163: 5193981023518027157495786850488117\n",
      "164: 8404037832974134882743767626780173\n",
      "165: 13598018856492162040239554477268290\n",
      "166: 22002056689466296922983322104048463\n",
      "167: 35600075545958458963222876581316753\n",
      "168: 57602132235424755886206198685365216\n",
      "169: 93202207781383214849429075266681969\n",
      "170: 150804340016807970735635273952047185\n",
      "171: 244006547798191185585064349218729154\n",
      "172: 394810887814999156320699623170776339\n",
      "173: 638817435613190341905763972389505493\n",
      "174: 1033628323428189498226463595560281832\n",
      "175: 1672445759041379840132227567949787325\n",
      "176: 2706074082469569338358691163510069157\n",
      "177: 4378519841510949178490918731459856482\n",
      "178: 7084593923980518516849609894969925639\n",
      "179: 11463113765491467695340528626429782121\n",
      "180: 18547707689471986212190138521399707760\n",
      "181: 30010821454963453907530667147829489881\n",
      "182: 48558529144435440119720805669229197641\n",
      "183: 78569350599398894027251472817058687522\n",
      "184: 127127879743834334146972278486287885163\n",
      "185: 205697230343233228174223751303346572685\n",
      "186: 332825110087067562321196029789634457848\n",
      "187: 538522340430300790495419781092981030533\n",
      "188: 871347450517368352816615810882615488381\n",
      "189: 1409869790947669143312035591975596518914\n",
      "190: 2281217241465037496128651402858212007295\n",
      "191: 3691087032412706639440686994833808526209\n",
      "192: 5972304273877744135569338397692020533504\n",
      "193: 9663391306290450775010025392525829059713\n",
      "194: 15635695580168194910579363790217849593217\n",
      "195: 25299086886458645685589389182743678652930\n",
      "196: 40934782466626840596168752972961528246147\n",
      "197: 66233869353085486281758142155705206899077\n",
      "198: 107168651819712326877926895128666735145224\n",
      "199: 173402521172797813159685037284371942044301\n",
      "200: 280571172992510140037611932413038677189525\n",
      "201: 453973694165307953197296969697410619233826\n",
      "202: 734544867157818093234908902110449296423351\n",
      "203: 1188518561323126046432205871807859915657177\n",
      "204: 1923063428480944139667114773918309212080528\n",
      "205: 3111581989804070186099320645726169127737705\n",
      "206: 5034645418285014325766435419644478339818233\n",
      "207: 8146227408089084511865756065370647467555938\n",
      "208: 13180872826374098837632191485015125807374171\n",
      "209: 21327100234463183349497947550385773274930109\n",
      "210: 34507973060837282187130139035400899082304280\n",
      "211: 55835073295300465536628086585786672357234389\n",
      "212: 90343046356137747723758225621187571439538669\n",
      "213: 146178119651438213260386312206974243796773058\n",
      "214: 236521166007575960984144537828161815236311727\n",
      "215: 382699285659014174244530850035136059033084785\n",
      "216: 619220451666590135228675387863297874269396512\n",
      "217: 1001919737325604309473206237898433933302481297\n",
      "218: 1621140188992194444701881625761731807571877809\n",
      "219: 2623059926317798754175087863660165740874359106\n",
      "220: 4244200115309993198876969489421897548446236915\n",
      "221: 6867260041627791953052057353082063289320596021\n",
      "222: 11111460156937785151929026842503960837766832936\n",
      "223: 17978720198565577104981084195586024127087428957\n",
      "224: 29090180355503362256910111038089984964854261893\n",
      "225: 47068900554068939361891195233676009091941690850\n",
      "226: 76159080909572301618801306271765994056795952743\n",
      "227: 123227981463641240980692501505442003148737643593\n",
      "228: 199387062373213542599493807777207997205533596336\n",
      "229: 322615043836854783580186309282650000354271239929\n",
      "230: 522002106210068326179680117059857997559804836265\n",
      "231: 844617150046923109759866426342507997914076076194\n",
      "232: 1366619256256991435939546543402365995473880912459\n",
      "233: 2211236406303914545699412969744873993387956988653\n",
      "234: 3577855662560905981638959513147239988861837901112\n",
      "235: 5789092068864820527338372482892113982249794889765\n",
      "236: 9366947731425726508977331996039353971111632790877\n",
      "237: 15156039800290547036315704478931467953361427680642\n",
      "238: 24522987531716273545293036474970821924473060471519\n",
      "239: 39679027332006820581608740953902289877834488152161\n",
      "240: 64202014863723094126901777428873111802307548623680\n",
      "241: 103881042195729914708510518382775401680142036775841\n",
      "242: 168083057059453008835412295811648513482449585399521\n",
      "243: 271964099255182923543922814194423915162591622175362\n",
      "244: 440047156314635932379335110006072428645041207574883\n",
      "245: 712011255569818855923257924200496343807632829750245\n",
      "246: 1152058411884454788302593034206568772452674037325128\n",
      "247: 1864069667454273644225850958407065116260306867075373\n",
      "248: 3016128079338728432528443992613633888712980904400501\n",
      "249: 4880197746793002076754294951020699004973287771475874\n",
      "250: 7896325826131730509282738943634332893686268675876375\n",
      "251: 12776523572924732586037033894655031898659556447352249\n",
      "252: 20672849399056463095319772838289364792345825123228624\n",
      "253: 33449372971981195681356806732944396691005381570580873\n",
      "254: 54122222371037658776676579571233761483351206693809497\n",
      "255: 87571595343018854458033386304178158174356588264390370\n",
      "256: 141693817714056513234709965875411919657707794958199867\n",
      "257: 229265413057075367692743352179590077832064383222590237\n",
      "258: 370959230771131880927453318055001997489772178180790104\n",
      "259: 600224643828207248620196670234592075321836561403380341\n",
      "260: 971183874599339129547649988289594072811608739584170445\n",
      "261: 1571408518427546378167846658524186148133445300987550786\n",
      "262: 2542592393026885507715496646813780220945054040571721231\n",
      "263: 4114000911454431885883343305337966369078499341559272017\n",
      "264: 6656593304481317393598839952151746590023553382130993248\n",
      "265: 10770594215935749279482183257489712959102052723690265265\n",
      "266: 17427187520417066673081023209641459549125606105821258513\n",
      "267: 28197781736352815952563206467131172508227658829511523778\n",
      "268: 45624969256769882625644229676772632057353264935332782291\n",
      "269: 73822750993122698578207436143903804565580923764844306069\n",
      "270: 119447720249892581203851665820676436622934188700177088360\n",
      "271: 193270471243015279782059101964580241188515112465021394429\n",
      "272: 312718191492907860985910767785256677811449301165198482789\n",
      "273: 505988662735923140767969869749836918999964413630219877218\n",
      "274: 818706854228831001753880637535093596811413714795418360007\n",
      "275: 1324695516964754142521850507284930515811378128425638237225\n",
      "276: 2143402371193585144275731144820024112622791843221056597232\n",
      "277: 3468097888158339286797581652104954628434169971646694834457\n",
      "278: 5611500259351924431073312796924978741056961814867751431689\n",
      "279: 9079598147510263717870894449029933369491131786514446266146\n",
      "280: 14691098406862188148944207245954912110548093601382197697835\n",
      "281: 23770696554372451866815101694984845480039225387896643963981\n",
      "282: 38461794961234640015759308940939757590587318989278841661816\n",
      "283: 62232491515607091882574410635924603070626544377175485625797\n",
      "284: 100694286476841731898333719576864360661213863366454327287613\n",
      "285: 162926777992448823780908130212788963731840407743629812913410\n",
      "286: 263621064469290555679241849789653324393054271110084140201023\n",
      "287: 426547842461739379460149980002442288124894678853713953114433\n",
      "288: 690168906931029935139391829792095612517948949963798093315456\n",
      "289: 1116716749392769314599541809794537900642843628817512046429889\n",
      "290: 1806885656323799249738933639586633513160792578781310139745345\n",
      "291: 2923602405716568564338475449381171413803636207598822186175234\n",
      "292: 4730488062040367814077409088967804926964428786380132325920579\n",
      "293: 7654090467756936378415884538348976340768064993978954512095813\n",
      "294: 12384578529797304192493293627316781267732493780359086838016392\n",
      "295: 20038668997554240570909178165665757608500558774338041350112205\n",
      "296: 32423247527351544763402471792982538876233052554697128188128597\n",
      "297: 52461916524905785334311649958648296484733611329035169538240802\n",
      "298: 84885164052257330097714121751630835360966663883732297726369399\n",
      "299: 137347080577163115432025771710279131845700275212767467264610201\n",
      "300: 222232244629420445529739893461909967206666939096499764990979600\n",
      "301: 359579325206583560961765665172189099052367214309267232255589801\n",
      "302: 581811569836004006491505558634099066259034153405766997246569401\n",
      "303: 941390895042587567453271223806288165311401367715034229502159202\n",
      "304: 1523202464878591573944776782440387231570435521120801226748728603\n",
      "305: 2464593359921179141398048006246675396881836888835835456250887805\n",
      "306: 3987795824799770715342824788687062628452272409956636682999616408\n",
      "307: 6452389184720949856740872794933738025334109298792472139250504213\n",
      "308: 10440185009520720572083697583620800653786381708749108822250120621\n",
      "309: 16892574194241670428824570378554538679120491007541580961500624834\n",
      "310: 27332759203762391000908267962175339332906872716290689783750745455\n",
      "311: 44225333398004061429732838340729878012027363723832270745251370289\n",
      "312: 71558092601766452430641106302905217344934236440122960529002115744\n",
      "313: 115783425999770513860373944643635095356961600163955231274253486033\n",
      "314: 187341518601536966291015050946540312701895836604078191803255601777\n",
      "315: 303124944601307480151388995590175408058857436768033423077509087810\n",
      "316: 490466463202844446442404046536715720760753273372111614880764689587\n",
      "317: 793591407804151926593793042126891128819610710140145037958273777397\n",
      "318: 1284057871006996373036197088663606849580363983512256652839038466984\n",
      "319: 2077649278811148299629990130790497978399974693652401690797312244381\n",
      "320: 3361707149818144672666187219454104827980338677164658343636350711365\n",
      "321: 5439356428629292972296177350244602806380313370817060034433662955746\n",
      "322: 8801063578447437644962364569698707634360652047981718378070013667111\n",
      "323: 14240420007076730617258541919943310440740965418798778412503676622857\n",
      "324: 23041483585524168262220906489642018075101617466780496790573690289968\n",
      "325: 37281903592600898879479448409585328515842582885579275203077366912825\n",
      "326: 60323387178125067141700354899227346590944200352359771993651057202793\n",
      "327: 97605290770725966021179803308812675106786783237939047196728424115618\n",
      "328: 157928677948851033162880158208040021697730983590298819190379481318411\n",
      "329: 255533968719576999184059961516852696804517766828237866387107905434029\n",
      "330: 413462646668428032346940119724892718502248750418536685577487386752440\n",
      "331: 668996615388005031531000081241745415306766517246774551964595292186469\n",
      "332: 1082459262056433063877940200966638133809015267665311237542082678938909\n",
      "333: 1751455877444438095408940282208383549115781784912085789506677971125378\n",
      "334: 2833915139500871159286880483175021682924797052577397027048760650064287\n",
      "335: 4585371016945309254695820765383405232040578837489482816555438621189665\n",
      "336: 7419286156446180413982701248558426914965375890066879843604199271253952\n",
      "337: 12004657173391489668678522013941832147005954727556362660159637892443617\n",
      "338: 19423943329837670082661223262500259061971330617623242503763837163697569\n",
      "339: 31428600503229159751339745276442091208977285345179605163923475056141186\n",
      "340: 50852543833066829834000968538942350270948615962802847667687312219838755\n",
      "341: 82281144336295989585340713815384441479925901307982452831610787275979941\n",
      "342: 133133688169362819419341682354326791750874517270785300499298099495818696\n",
      "343: 215414832505658809004682396169711233230800418578767753330908886771798637\n",
      "344: 348548520675021628424024078524038024981674935849553053830206986267617333\n",
      "345: 563963353180680437428706474693749258212475354428320807161115873039415970\n",
      "346: 912511873855702065852730553217787283194150290277873860991322859307033303\n",
      "347: 1476475227036382503281437027911536541406625644706194668152438732346449273\n",
      "348: 2388987100892084569134167581129323824600775934984068529143761591653482576\n",
      "349: 3865462327928467072415604609040860366007401579690263197296200323999931849\n",
      "350: 6254449428820551641549772190170184190608177514674331726439961915653414425\n",
      "351: 10119911756749018713965376799211044556615579094364594923736162239653346274\n",
      "352: 16374361185569570355515148989381228747223756609038926650176124155306760699\n",
      "353: 26494272942318589069480525788592273303839335703403521573912286394960106973\n",
      "354: 42868634127888159424995674777973502051063092312442448224088410550266867672\n",
      "355: 69362907070206748494476200566565775354902428015845969798000696945226974645\n",
      "356: 112231541198094907919471875344539277405965520328288418022089107495493842317\n",
      "357: 181594448268301656413948075911105052760867948344134387820089804440720816962\n",
      "358: 293825989466396564333419951255644330166833468672422805842178911936214659279\n",
      "359: 475420437734698220747368027166749382927701417016557193662268716376935476241\n",
      "360: 769246427201094785080787978422393713094534885688979999504447628313150135520\n",
      "361: 1244666864935793005828156005589143096022236302705537193166716344690085611761\n",
      "362: 2013913292136887790908943984011536809116771188394517192671163973003235747281\n",
      "363: 3258580157072680796737099989600679905139007491100054385837880317693321359042\n",
      "364: 5272493449209568587646043973612216714255778679494571578509044290696557106323\n",
      "365: 8531073606282249384383143963212896619394786170594625964346924608389878465365\n",
      "366: 13803567055491817972029187936825113333650564850089197542855968899086435571688\n",
      "367: 22334640661774067356412331900038009953045351020683823507202893507476314037053\n",
      "368: 36138207717265885328441519836863123286695915870773021050058862406562749608741\n",
      "369: 58472848379039952684853851736901133239741266891456844557261755914039063645794\n",
      "370: 94611056096305838013295371573764256526437182762229865607320618320601813254535\n",
      "371: 153083904475345790698149223310665389766178449653686710164582374234640876900329\n",
      "372: 247694960571651628711444594884429646292615632415916575771902992555242690154864\n",
      "373: 400778865046997419409593818195095036058794082069603285936485366789883567055193\n",
      "374: 648473825618649048121038413079524682351409714485519861708388359345126257210057\n",
      "375: 1049252690665646467530632231274619718410203796555123147644873726135009824265250\n",
      "376: 1697726516284295515651670644354144400761613511040643009353262085480136081475307\n",
      "377: 2746979206949941983182302875628764119171817307595766156998135811615145905740557\n",
      "378: 4444705723234237498833973519982908519933430818636409166351397897095281987215864\n",
      "379: 7191684930184179482016276395611672639105248126232175323349533708710427892956421\n",
      "380: 11636390653418416980850249915594581159038678944868584489700931605805709880172285\n",
      "381: 18828075583602596462866526311206253798143927071100759813050465314516137773128706\n",
      "382: 30464466237021013443716776226800834957182606015969344302751396920321847653300991\n",
      "383: 49292541820623609906583302538007088755326533087070104115801862234837985426429697\n",
      "384: 79757008057644623350300078764807923712509139103039448418553259155159833079730688\n",
      "385: 129049549878268233256883381302815012467835672190109552534355121389997818506160385\n",
      "386: 208806557935912856607183460067622936180344811293149000952908380545157651585891073\n",
      "387: 337856107814181089864066841370437948648180483483258553487263501935155470092051458\n",
      "388: 546662665750093946471250301438060884828525294776407554440171882480313121677942531\n",
      "389: 884518773564275036335317142808498833476705778259666107927435384415468591769993989\n",
      "390: 1431181439314368982806567444246559718305231073036073662367607266895781713447936520\n",
      "391: 2315700212878644019141884587055058551781936851295739770295042651311250305217930509\n",
      "392: 3746881652193013001948452031301618270087167924331813432662649918207032018665867029\n",
      "393: 6062581865071657021090336618356676821869104775627553202957692569518282323883797538\n",
      "394: 9809463517264670023038788649658295091956272699959366635620342487725314342549664567\n",
      "395: 15872045382336327044129125268014971913825377475586919838578035057243596666433462105\n",
      "396: 25681508899600997067167913917673267005781650175546286474198377544968911008983126672\n",
      "397: 41553554281937324111297039185688238919607027651133206312776412602212507675416588777\n",
      "398: 67235063181538321178464953103361505925388677826679492786974790147181418684399715449\n",
      "399: 108788617463475645289761992289049744844995705477812699099751202749393926359816304226\n",
      "400: 176023680645013966468226945392411250770384383304492191886725992896575345044216019675\n",
      "401: 284812298108489611757988937681460995615380088782304890986477195645969271404032323901\n",
      "402: 460835978753503578226215883073872246385764472086797082873203188542544616448248343576\n",
      "403: 745648276861993189984204820755333242001144560869101973859680384188513887852280667477\n",
      "404: 1206484255615496768210420703829205488386909032955899056732883572731058504300529011053\n",
      "405: 1952132532477489958194625524584538730388053593825001030592563956919572392152809678530\n",
      "406: 3158616788092986726405046228413744218774962626780900087325447529650630896453338689583\n",
      "407: 5110749320570476684599671752998282949163016220605901117918011486570203288606148368113\n",
      "408: 8269366108663463411004717981412027167937978847386801205243459016220834185059487057696\n",
      "409: 13380115429233940095604389734410310117100995067992702323161470502791037473665635425809\n",
      "410: 21649481537897403506609107715822337285038973915379503528404929519011871658725122483505\n",
      "411: 35029596967131343602213497450232647402139968983372205851566400021802909132390757909314\n",
      "412: 56679078505028747108822605166054984687178942898751709379971329540814780791115880392819\n",
      "413: 91708675472160090711036102616287632089318911882123915231537729562617689923506638302133\n",
      "414: 148387753977188837819858707782342616776497854780875624611509059103432470714622518694952\n",
      "415: 240096429449348928530894810398630248865816766662999539843046788666050160638129156997085\n",
      "416: 388484183426537766350753518180972865642314621443875164454555847769482631352751675692037\n",
      "417: 628580612875886694881648328579603114508131388106874704297602636435532791990880832689122\n",
      "418: 1017064796302424461232401846760575980150446009550749868752158484205015423343632508381159\n",
      "419: 1645645409178311156114050175340179094658577397657624573049761120640548215334513341070281\n",
      "420: 2662710205480735617346452022100755074809023407208374441801919604845563638678145849451440\n",
      "421: 4308355614659046773460502197440934169467600804865999014851680725486111854012659190521721\n",
      "422: 6971065820139782390806954219541689244276624212074373456653600330331675492690805039973161\n",
      "423: 11279421434798829164267456416982623413744225016940372471505281055817787346703464230494882\n",
      "424: 18250487254938611555074410636524312658020849229014745928158881386149462839394269270468043\n",
      "425: 29529908689737440719341867053506936071765074245955118399664162441967250186097733500962925\n",
      "426: 47780395944676052274416277690031248729785923474969864327823043828116713025492002771430968\n",
      "427: 77310304634413492993758144743538184801550997720924982727487206270083963211589736272393893\n",
      "428: 125090700579089545268174422433569433531336921195894847055310250098200676237081739043824861\n",
      "429: 202401005213503038261932567177107618332887918916819829782797456368284639448671475316218754\n",
      "430: 327491705792592583530106989610677051864224840112714676838107706466485315685753214360043615\n",
      "431: 529892711006095621792039556787784670197112759029534506620905162834769955134424689676262369\n",
      "432: 857384416798688205322146546398461722061337599142249183459012869301255270820177904036305984\n",
      "433: 1387277127804783827114186103186246392258450358171783690079918032136025225954602593712568353\n",
      "434: 2244661544603472032436332649584708114319787957314032873538930901437280496774780497748874337\n",
      "435: 3631938672408255859550518752770954506578238315485816563618848933573305722729383091461442690\n",
      "436: 5876600217011727891986851402355662620898026272799849437157779835010586219504163589210317027\n",
      "437: 9508538889419983751537370155126617127476264588285666000776628768583891942233546680671759717\n",
      "438: 15385139106431711643524221557482279748374290861085515437934408603594478161737710269882076744\n",
      "439: 24893677995851695395061591712608896875850555449371181438711037372178370103971256950553836461\n",
      "440: 40278817102283407038585813270091176624224846310456696876645445975772848265708967220435913205\n",
      "441: 65172495098135102433647404982700073500075401759827878315356483347951218369680224170989749666\n",
      "442: 105451312200418509472233218252791250124300248070284575192001929323724066635389191391425662871\n",
      "443: 170623807298553611905880623235491323624375649830112453507358412671675285005069415562415412537\n",
      "444: 276075119498972121378113841488282573748675897900397028699360341995399351640458606953841075408\n",
      "445: 446698926797525733283994464723773897373051547730509482206718754667074636645528022516256487945\n",
      "446: 722774046296497854662108306212056471121727445630906510906079096662473988285986629470097563353\n",
      "447: 1169472973094023587946102770935830368494778993361415993112797851329548624931514651986354051298\n",
      "448: 1892247019390521442608211077147886839616506438992322504018876947992022613217501281456451614651\n",
      "449: 3061719992484545030554313848083717208111285432353738497131674799321571238149015933442805665949\n",
      "450: 4953967011875066473162524925231604047727791871346061001150551747313593851366517214899257280600\n",
      "451: 8015687004359611503716838773315321255839077303699799498282226546635165089515533148342062946549\n",
      "452: 12969654016234677976879363698546925303566869175045860499432778293948758940882050363241320227149\n",
      "453: 20985341020594289480596202471862246559405946478745659997715004840583924030397583511583383173698\n",
      "454: 33954995036828967457475566170409171862972815653791520497147783134532682971279633874824703400847\n",
      "455: 54940336057423256938071768642271418422378762132537180494862787975116607001677217386408086574545\n",
      "456: 88895331094252224395547334812680590285351577786328700992010571109649289972956851261232789975392\n",
      "457: 143835667151675481333619103454952008707730339918865881486873359084765896974634068647640876549937\n",
      "458: 232730998245927705729166438267632598993081917705194582478883930194415186947590919908873666525329\n",
      "459: 376566665397603187062785541722584607700812257624060463965757289279181083922224988556514543075266\n",
      "460: 609297663643530892791951979990217206693894175329255046444641219473596270869815908465388209600595\n",
      "461: 985864329041134079854737521712801814394706432953315510410398508752777354792040897021902752675861\n",
      "462: 1595161992684664972646689501703019021088600608282570556855039728226373625661856805487290962276456\n",
      "463: 2581026321725799052501427023415820835483307041235886067265438236979150980453897702509193714952317\n",
      "464: 4176188314410464025148116525118839856571907649518456624120477965205524606115754507996484677228773\n",
      "465: 6757214636136263077649543548534660692055214690754342691385916202184675586569652210505678392181090\n",
      "466: 10933402950546727102797660073653500548627122340272799315506394167390200192685406718502163069409863\n",
      "467: 17690617586682990180447203622188161240682337031027142006892310369574875779255058929007841461590953\n",
      "468: 28624020537229717283244863695841661789309459371299941322398704536965075971940465647510004531000816\n",
      "469: 46314638123912707463692067318029823029991796402327083329291014906539951751195524576517845992591769\n",
      "470: 74938658661142424746936931013871484819301255773627024651689719443505027723135990224027850523592585\n",
      "471: 121253296785055132210628998331901307849293052175954107980980734350044979474331514800545696516184354\n",
      "472: 196191955446197556957565929345772792668594307949581132632670453793550007197467505024573547039776939\n",
      "473: 317445252231252689168194927677674100517887360125535240613651188143594986671799019825119243555961293\n",
      "474: 513637207677450246125760857023446893186481668075116373246321641937144993869266524849692790595738232\n",
      "475: 831082459908702935293955784701120993704369028200651613859972830080739980541065544674812034151699525\n",
      "476: 1344719667586153181419716641724567886890850696275767987106294472017884974410332069524504824747437757\n",
      "477: 2175802127494856116713672426425688880595219724476419600966267302098624954951397614199316858899137282\n",
      "478: 3520521795081009298133389068150256767486070420752187588072561774116509929361729683723821683646575039\n",
      "479: 5696323922575865414847061494575945648081290145228607189038829076215134884313127297923138542545712321\n",
      "480: 9216845717656874712980450562726202415567360565980794777111390850331644813674856981646960226192287360\n",
      "481: 14913169640232740127827512057302148063648650711209401966150219926546779697987984279570098768737999681\n",
      "482: 24130015357889614840807962620028350479216011277190196743261610776878424511662841261217058994930287041\n",
      "483: 39043184998122354968635474677330498542864661988399598709411830703425204209650825540787157763668286722\n",
      "484: 63173200356011969809443437297358849022080673265589795452673441480303628721313666802004216758598573763\n",
      "485: 102216385354134324778078911974689347564945335253989394162085272183728832930964492342791374522266860485\n",
      "486: 165389585710146294587522349272048196587026008519579189614758713664032461652278159144795591280865434248\n",
      "487: 267605971064280619365601261246737544151971343773568583776843985847761294583242651487586965803132294733\n",
      "488: 432995556774426913953123610518785740738997352293147773391602699511793756235520810632382557083997728981\n",
      "489: 700601527838707533318724871765523284890968696066716357168446685359555050818763462119969522887130023714\n",
      "490: 1133597084613134447271848482284309025629966048359864130560049384871348807054284272752352079971127752695\n",
      "491: 1834198612451841980590573354049832310520934744426580487728496070230903857873047734872321602858257776409\n",
      "492: 2967795697064976427862421836334141336150900792786444618288545455102252664927332007624673682829385529104\n",
      "493: 4801994309516818408452995190383973646671835537213025106017041525333156522800379742496995285687643305513\n",
      "494: 7769790006581794836315417026718114982822736329999469724305586980435409187727711750121668968517028834617\n",
      "495: 12571784316098613244768412217102088629494571867212494830322628505768565710528091492618664254204672140130\n",
      "496: 20341574322680408081083829243820203612317308197211964554628215486203974898255803242740333222721700974747\n",
      "497: 32913358638779021325852241460922292241811880064424459384950843991972540608783894735358997476926373114877\n",
      "498: 53254932961459429406936070704742495854129188261636423939579059478176515507039697978099330699648074089624\n",
      "499: 86168291600238450732788312165664788095941068326060883324529903470149056115823592713458328176574447204501\n",
      "500: 139423224561697880139724382870407283950070256587697307264108962948325571622863290691557658876222521294125\n"
     ]
    }
   ],
   "source": [
    "# With memoization - With library\n",
    "from functools import lru_cache\n",
    "\n",
    "@lru_cache(maxsize = 1000)\n",
    "def fibonacci(n):\n",
    "    if n == 1:\n",
    "        return 1\n",
    "    elif n == 2:\n",
    "        return 1\n",
    "    elif n > 2:\n",
    "        return (fibonacci(n-1) + fibonacci(n-2))\n",
    "\n",
    "if __name__ == \"__main__\":\n",
    "    for ii in range(1,501):\n",
    "        print(f\"{ii}: {fibonacci(ii)}\")"
   ]
  },
  {
   "cell_type": "code",
   "execution_count": 33,
   "metadata": {},
   "outputs": [
    {
     "name": "stdout",
     "output_type": "stream",
     "text": [
      "1: 1.0\n",
      "2: 2.0\n",
      "3: 1.5\n",
      "4: 1.6666666666666667\n",
      "5: 1.6\n",
      "6: 1.625\n",
      "7: 1.6153846153846154\n",
      "8: 1.619047619047619\n",
      "9: 1.6176470588235294\n",
      "10: 1.6181818181818182\n",
      "11: 1.6179775280898876\n",
      "12: 1.6180555555555556\n",
      "13: 1.6180257510729614\n",
      "14: 1.6180371352785146\n",
      "15: 1.618032786885246\n",
      "16: 1.618034447821682\n",
      "17: 1.6180338134001253\n",
      "18: 1.618034055727554\n",
      "19: 1.6180339631667064\n",
      "20: 1.6180339985218033\n",
      "21: 1.618033985017358\n",
      "22: 1.6180339901755971\n",
      "23: 1.618033988205325\n",
      "24: 1.618033988957902\n",
      "25: 1.6180339886704431\n",
      "26: 1.6180339887802426\n",
      "27: 1.618033988738303\n",
      "28: 1.6180339887543225\n",
      "29: 1.6180339887482036\n",
      "30: 1.6180339887505408\n",
      "31: 1.6180339887496482\n",
      "32: 1.618033988749989\n",
      "33: 1.618033988749859\n",
      "34: 1.6180339887499087\n",
      "35: 1.6180339887498896\n",
      "36: 1.618033988749897\n",
      "37: 1.618033988749894\n",
      "38: 1.6180339887498951\n",
      "39: 1.6180339887498947\n",
      "40: 1.618033988749895\n",
      "41: 1.618033988749895\n",
      "42: 1.618033988749895\n",
      "43: 1.618033988749895\n",
      "44: 1.618033988749895\n",
      "45: 1.618033988749895\n",
      "46: 1.618033988749895\n",
      "47: 1.618033988749895\n",
      "48: 1.618033988749895\n",
      "49: 1.618033988749895\n",
      "50: 1.618033988749895\n",
      "51: 1.618033988749895\n",
      "52: 1.618033988749895\n",
      "53: 1.618033988749895\n",
      "54: 1.618033988749895\n",
      "55: 1.618033988749895\n",
      "56: 1.618033988749895\n",
      "57: 1.618033988749895\n",
      "58: 1.618033988749895\n",
      "59: 1.618033988749895\n",
      "60: 1.618033988749895\n",
      "61: 1.618033988749895\n",
      "62: 1.618033988749895\n",
      "63: 1.618033988749895\n",
      "64: 1.618033988749895\n",
      "65: 1.618033988749895\n",
      "66: 1.618033988749895\n",
      "67: 1.618033988749895\n",
      "68: 1.618033988749895\n",
      "69: 1.618033988749895\n",
      "70: 1.618033988749895\n",
      "71: 1.618033988749895\n",
      "72: 1.618033988749895\n",
      "73: 1.618033988749895\n",
      "74: 1.618033988749895\n",
      "75: 1.618033988749895\n",
      "76: 1.618033988749895\n",
      "77: 1.618033988749895\n",
      "78: 1.618033988749895\n",
      "79: 1.618033988749895\n",
      "80: 1.618033988749895\n",
      "81: 1.618033988749895\n",
      "82: 1.618033988749895\n",
      "83: 1.618033988749895\n",
      "84: 1.618033988749895\n",
      "85: 1.618033988749895\n",
      "86: 1.618033988749895\n",
      "87: 1.618033988749895\n",
      "88: 1.618033988749895\n",
      "89: 1.618033988749895\n",
      "90: 1.618033988749895\n",
      "91: 1.618033988749895\n",
      "92: 1.618033988749895\n",
      "93: 1.618033988749895\n",
      "94: 1.618033988749895\n",
      "95: 1.618033988749895\n",
      "96: 1.618033988749895\n",
      "97: 1.618033988749895\n",
      "98: 1.618033988749895\n",
      "99: 1.618033988749895\n",
      "100: 1.618033988749895\n",
      "101: 1.618033988749895\n",
      "102: 1.618033988749895\n",
      "103: 1.618033988749895\n",
      "104: 1.618033988749895\n",
      "105: 1.618033988749895\n",
      "106: 1.618033988749895\n",
      "107: 1.618033988749895\n",
      "108: 1.618033988749895\n",
      "109: 1.618033988749895\n",
      "110: 1.618033988749895\n",
      "111: 1.618033988749895\n",
      "112: 1.618033988749895\n",
      "113: 1.618033988749895\n",
      "114: 1.618033988749895\n",
      "115: 1.618033988749895\n",
      "116: 1.618033988749895\n",
      "117: 1.618033988749895\n",
      "118: 1.618033988749895\n",
      "119: 1.618033988749895\n",
      "120: 1.618033988749895\n",
      "121: 1.618033988749895\n",
      "122: 1.618033988749895\n",
      "123: 1.618033988749895\n",
      "124: 1.618033988749895\n",
      "125: 1.618033988749895\n",
      "126: 1.618033988749895\n",
      "127: 1.618033988749895\n",
      "128: 1.618033988749895\n",
      "129: 1.618033988749895\n",
      "130: 1.618033988749895\n",
      "131: 1.618033988749895\n",
      "132: 1.618033988749895\n",
      "133: 1.618033988749895\n",
      "134: 1.618033988749895\n",
      "135: 1.618033988749895\n",
      "136: 1.618033988749895\n",
      "137: 1.618033988749895\n",
      "138: 1.618033988749895\n",
      "139: 1.618033988749895\n",
      "140: 1.618033988749895\n",
      "141: 1.618033988749895\n",
      "142: 1.618033988749895\n",
      "143: 1.618033988749895\n",
      "144: 1.618033988749895\n",
      "145: 1.618033988749895\n",
      "146: 1.618033988749895\n",
      "147: 1.618033988749895\n",
      "148: 1.618033988749895\n",
      "149: 1.618033988749895\n",
      "150: 1.618033988749895\n",
      "151: 1.618033988749895\n",
      "152: 1.618033988749895\n",
      "153: 1.618033988749895\n",
      "154: 1.618033988749895\n",
      "155: 1.618033988749895\n",
      "156: 1.618033988749895\n",
      "157: 1.618033988749895\n",
      "158: 1.618033988749895\n",
      "159: 1.618033988749895\n",
      "160: 1.618033988749895\n",
      "161: 1.618033988749895\n",
      "162: 1.618033988749895\n",
      "163: 1.618033988749895\n",
      "164: 1.618033988749895\n",
      "165: 1.618033988749895\n",
      "166: 1.618033988749895\n",
      "167: 1.618033988749895\n",
      "168: 1.618033988749895\n",
      "169: 1.618033988749895\n",
      "170: 1.618033988749895\n",
      "171: 1.618033988749895\n",
      "172: 1.618033988749895\n",
      "173: 1.618033988749895\n",
      "174: 1.618033988749895\n",
      "175: 1.618033988749895\n",
      "176: 1.618033988749895\n",
      "177: 1.618033988749895\n",
      "178: 1.618033988749895\n",
      "179: 1.618033988749895\n",
      "180: 1.618033988749895\n",
      "181: 1.618033988749895\n",
      "182: 1.618033988749895\n",
      "183: 1.618033988749895\n",
      "184: 1.618033988749895\n",
      "185: 1.618033988749895\n",
      "186: 1.618033988749895\n",
      "187: 1.618033988749895\n",
      "188: 1.618033988749895\n",
      "189: 1.618033988749895\n",
      "190: 1.618033988749895\n",
      "191: 1.618033988749895\n",
      "192: 1.618033988749895\n",
      "193: 1.618033988749895\n",
      "194: 1.618033988749895\n",
      "195: 1.618033988749895\n",
      "196: 1.618033988749895\n",
      "197: 1.618033988749895\n",
      "198: 1.618033988749895\n",
      "199: 1.618033988749895\n",
      "200: 1.618033988749895\n",
      "201: 1.618033988749895\n",
      "202: 1.618033988749895\n",
      "203: 1.618033988749895\n",
      "204: 1.618033988749895\n",
      "205: 1.618033988749895\n",
      "206: 1.618033988749895\n",
      "207: 1.618033988749895\n",
      "208: 1.618033988749895\n",
      "209: 1.618033988749895\n",
      "210: 1.618033988749895\n",
      "211: 1.618033988749895\n",
      "212: 1.618033988749895\n",
      "213: 1.618033988749895\n",
      "214: 1.618033988749895\n",
      "215: 1.618033988749895\n",
      "216: 1.618033988749895\n",
      "217: 1.618033988749895\n",
      "218: 1.618033988749895\n",
      "219: 1.618033988749895\n",
      "220: 1.618033988749895\n",
      "221: 1.618033988749895\n",
      "222: 1.618033988749895\n",
      "223: 1.618033988749895\n",
      "224: 1.618033988749895\n",
      "225: 1.618033988749895\n",
      "226: 1.618033988749895\n",
      "227: 1.618033988749895\n",
      "228: 1.618033988749895\n",
      "229: 1.618033988749895\n",
      "230: 1.618033988749895\n",
      "231: 1.618033988749895\n",
      "232: 1.618033988749895\n",
      "233: 1.618033988749895\n",
      "234: 1.618033988749895\n",
      "235: 1.618033988749895\n",
      "236: 1.618033988749895\n",
      "237: 1.618033988749895\n",
      "238: 1.618033988749895\n",
      "239: 1.618033988749895\n",
      "240: 1.618033988749895\n",
      "241: 1.618033988749895\n",
      "242: 1.618033988749895\n",
      "243: 1.618033988749895\n",
      "244: 1.618033988749895\n",
      "245: 1.618033988749895\n",
      "246: 1.618033988749895\n",
      "247: 1.618033988749895\n",
      "248: 1.618033988749895\n",
      "249: 1.618033988749895\n",
      "250: 1.618033988749895\n",
      "251: 1.618033988749895\n",
      "252: 1.618033988749895\n",
      "253: 1.618033988749895\n",
      "254: 1.618033988749895\n",
      "255: 1.618033988749895\n",
      "256: 1.618033988749895\n",
      "257: 1.618033988749895\n",
      "258: 1.618033988749895\n",
      "259: 1.618033988749895\n",
      "260: 1.618033988749895\n",
      "261: 1.618033988749895\n",
      "262: 1.618033988749895\n",
      "263: 1.618033988749895\n",
      "264: 1.618033988749895\n",
      "265: 1.618033988749895\n",
      "266: 1.618033988749895\n",
      "267: 1.618033988749895\n",
      "268: 1.618033988749895\n",
      "269: 1.618033988749895\n",
      "270: 1.618033988749895\n",
      "271: 1.618033988749895\n",
      "272: 1.618033988749895\n",
      "273: 1.618033988749895\n",
      "274: 1.618033988749895\n",
      "275: 1.618033988749895\n",
      "276: 1.618033988749895\n",
      "277: 1.618033988749895\n",
      "278: 1.618033988749895\n",
      "279: 1.618033988749895\n",
      "280: 1.618033988749895\n",
      "281: 1.618033988749895\n",
      "282: 1.618033988749895\n",
      "283: 1.618033988749895\n",
      "284: 1.618033988749895\n",
      "285: 1.618033988749895\n",
      "286: 1.618033988749895\n",
      "287: 1.618033988749895\n",
      "288: 1.618033988749895\n",
      "289: 1.618033988749895\n",
      "290: 1.618033988749895\n",
      "291: 1.618033988749895\n",
      "292: 1.618033988749895\n",
      "293: 1.618033988749895\n",
      "294: 1.618033988749895\n",
      "295: 1.618033988749895\n",
      "296: 1.618033988749895\n",
      "297: 1.618033988749895\n",
      "298: 1.618033988749895\n",
      "299: 1.618033988749895\n",
      "300: 1.618033988749895\n",
      "301: 1.618033988749895\n",
      "302: 1.618033988749895\n",
      "303: 1.618033988749895\n",
      "304: 1.618033988749895\n",
      "305: 1.618033988749895\n",
      "306: 1.618033988749895\n",
      "307: 1.618033988749895\n",
      "308: 1.618033988749895\n",
      "309: 1.618033988749895\n",
      "310: 1.618033988749895\n",
      "311: 1.618033988749895\n",
      "312: 1.618033988749895\n",
      "313: 1.618033988749895\n",
      "314: 1.618033988749895\n",
      "315: 1.618033988749895\n",
      "316: 1.618033988749895\n",
      "317: 1.618033988749895\n",
      "318: 1.618033988749895\n",
      "319: 1.618033988749895\n",
      "320: 1.618033988749895\n",
      "321: 1.618033988749895\n",
      "322: 1.618033988749895\n",
      "323: 1.618033988749895\n",
      "324: 1.618033988749895\n",
      "325: 1.618033988749895\n",
      "326: 1.618033988749895\n",
      "327: 1.618033988749895\n",
      "328: 1.618033988749895\n",
      "329: 1.618033988749895\n",
      "330: 1.618033988749895\n",
      "331: 1.618033988749895\n",
      "332: 1.618033988749895\n",
      "333: 1.618033988749895\n",
      "334: 1.618033988749895\n",
      "335: 1.618033988749895\n",
      "336: 1.618033988749895\n",
      "337: 1.618033988749895\n",
      "338: 1.618033988749895\n",
      "339: 1.618033988749895\n",
      "340: 1.618033988749895\n",
      "341: 1.618033988749895\n",
      "342: 1.618033988749895\n",
      "343: 1.618033988749895\n",
      "344: 1.618033988749895\n",
      "345: 1.618033988749895\n",
      "346: 1.618033988749895\n",
      "347: 1.618033988749895\n",
      "348: 1.618033988749895\n",
      "349: 1.618033988749895\n",
      "350: 1.618033988749895\n",
      "351: 1.618033988749895\n",
      "352: 1.618033988749895\n",
      "353: 1.618033988749895\n",
      "354: 1.618033988749895\n",
      "355: 1.618033988749895\n",
      "356: 1.618033988749895\n",
      "357: 1.618033988749895\n",
      "358: 1.618033988749895\n",
      "359: 1.618033988749895\n",
      "360: 1.618033988749895\n",
      "361: 1.618033988749895\n",
      "362: 1.618033988749895\n",
      "363: 1.618033988749895\n",
      "364: 1.618033988749895\n",
      "365: 1.618033988749895\n",
      "366: 1.618033988749895\n",
      "367: 1.618033988749895\n",
      "368: 1.618033988749895\n",
      "369: 1.618033988749895\n",
      "370: 1.618033988749895\n",
      "371: 1.618033988749895\n",
      "372: 1.618033988749895\n",
      "373: 1.618033988749895\n",
      "374: 1.618033988749895\n",
      "375: 1.618033988749895\n",
      "376: 1.618033988749895\n",
      "377: 1.618033988749895\n",
      "378: 1.618033988749895\n",
      "379: 1.618033988749895\n",
      "380: 1.618033988749895\n",
      "381: 1.618033988749895\n",
      "382: 1.618033988749895\n",
      "383: 1.618033988749895\n",
      "384: 1.618033988749895\n",
      "385: 1.618033988749895\n",
      "386: 1.618033988749895\n",
      "387: 1.618033988749895\n",
      "388: 1.618033988749895\n",
      "389: 1.618033988749895\n",
      "390: 1.618033988749895\n",
      "391: 1.618033988749895\n",
      "392: 1.618033988749895\n",
      "393: 1.618033988749895\n",
      "394: 1.618033988749895\n",
      "395: 1.618033988749895\n",
      "396: 1.618033988749895\n",
      "397: 1.618033988749895\n",
      "398: 1.618033988749895\n",
      "399: 1.618033988749895\n",
      "400: 1.618033988749895\n",
      "401: 1.618033988749895\n",
      "402: 1.618033988749895\n",
      "403: 1.618033988749895\n",
      "404: 1.618033988749895\n",
      "405: 1.618033988749895\n",
      "406: 1.618033988749895\n",
      "407: 1.618033988749895\n",
      "408: 1.618033988749895\n",
      "409: 1.618033988749895\n",
      "410: 1.618033988749895\n",
      "411: 1.618033988749895\n",
      "412: 1.618033988749895\n",
      "413: 1.618033988749895\n",
      "414: 1.618033988749895\n",
      "415: 1.618033988749895\n",
      "416: 1.618033988749895\n",
      "417: 1.618033988749895\n",
      "418: 1.618033988749895\n",
      "419: 1.618033988749895\n",
      "420: 1.618033988749895\n",
      "421: 1.618033988749895\n",
      "422: 1.618033988749895\n",
      "423: 1.618033988749895\n",
      "424: 1.618033988749895\n",
      "425: 1.618033988749895\n",
      "426: 1.618033988749895\n",
      "427: 1.618033988749895\n",
      "428: 1.618033988749895\n",
      "429: 1.618033988749895\n",
      "430: 1.618033988749895\n",
      "431: 1.618033988749895\n",
      "432: 1.618033988749895\n",
      "433: 1.618033988749895\n",
      "434: 1.618033988749895\n",
      "435: 1.618033988749895\n",
      "436: 1.618033988749895\n",
      "437: 1.618033988749895\n",
      "438: 1.618033988749895\n",
      "439: 1.618033988749895\n",
      "440: 1.618033988749895\n",
      "441: 1.618033988749895\n",
      "442: 1.618033988749895\n",
      "443: 1.618033988749895\n",
      "444: 1.618033988749895\n",
      "445: 1.618033988749895\n",
      "446: 1.618033988749895\n",
      "447: 1.618033988749895\n",
      "448: 1.618033988749895\n",
      "449: 1.618033988749895\n",
      "450: 1.618033988749895\n",
      "451: 1.618033988749895\n",
      "452: 1.618033988749895\n",
      "453: 1.618033988749895\n",
      "454: 1.618033988749895\n",
      "455: 1.618033988749895\n",
      "456: 1.618033988749895\n",
      "457: 1.618033988749895\n",
      "458: 1.618033988749895\n",
      "459: 1.618033988749895\n",
      "460: 1.618033988749895\n",
      "461: 1.618033988749895\n",
      "462: 1.618033988749895\n",
      "463: 1.618033988749895\n",
      "464: 1.618033988749895\n",
      "465: 1.618033988749895\n",
      "466: 1.618033988749895\n",
      "467: 1.618033988749895\n",
      "468: 1.618033988749895\n",
      "469: 1.618033988749895\n",
      "470: 1.618033988749895\n",
      "471: 1.618033988749895\n",
      "472: 1.618033988749895\n",
      "473: 1.618033988749895\n",
      "474: 1.618033988749895\n",
      "475: 1.618033988749895\n",
      "476: 1.618033988749895\n",
      "477: 1.618033988749895\n",
      "478: 1.618033988749895\n",
      "479: 1.618033988749895\n",
      "480: 1.618033988749895\n",
      "481: 1.618033988749895\n",
      "482: 1.618033988749895\n",
      "483: 1.618033988749895\n",
      "484: 1.618033988749895\n",
      "485: 1.618033988749895\n",
      "486: 1.618033988749895\n",
      "487: 1.618033988749895\n",
      "488: 1.618033988749895\n",
      "489: 1.618033988749895\n",
      "490: 1.618033988749895\n",
      "491: 1.618033988749895\n",
      "492: 1.618033988749895\n",
      "493: 1.618033988749895\n",
      "494: 1.618033988749895\n",
      "495: 1.618033988749895\n",
      "496: 1.618033988749895\n",
      "497: 1.618033988749895\n",
      "498: 1.618033988749895\n",
      "499: 1.618033988749895\n",
      "500: 1.618033988749895\n"
     ]
    }
   ],
   "source": [
    "# With memoization - With library and error check\n",
    "\n",
    "from functools import lru_cache\n",
    "\n",
    "@lru_cache(maxsize = 1000)\n",
    "def fibonacci(n):\n",
    "\n",
    "    if type(n) != int:\n",
    "        raise TypeError (\"n must be integer\")\n",
    "    elif n < 1:\n",
    "        raise ValueError (\"n must be positive\")\n",
    "\n",
    "    if n == 1:\n",
    "        return 1\n",
    "    elif n == 2:\n",
    "        return 1\n",
    "    elif n > 2:\n",
    "        return (fibonacci(n-1) + fibonacci(n-2))\n",
    "\n",
    "if __name__ == \"__main__\":\n",
    "    #print(fibonacci(-1))\n",
    "    #print(fibonacci('xyz'))\n",
    "\n",
    "    for ii in range(1,501):\n",
    "        #print(f\"{ii}: {fibonacci(ii)}\")\n",
    "        print(f\"{ii}: {fibonacci(ii+1)/fibonacci(ii)}\")"
   ]
  },
  {
   "cell_type": "code",
   "execution_count": null,
   "metadata": {
    "collapsed": true
   },
   "outputs": [],
   "source": []
  },
  {
   "cell_type": "code",
   "execution_count": null,
   "metadata": {
    "collapsed": true
   },
   "outputs": [],
   "source": []
  },
  {
   "cell_type": "markdown",
   "metadata": {},
   "source": [
    "### Map, Filter and Reduce"
   ]
  },
  {
   "cell_type": "code",
   "execution_count": 34,
   "metadata": {},
   "outputs": [
    {
     "name": "stdout",
     "output_type": "stream",
     "text": [
      "[0.0, 3.141592653589793, 12.566370614359172, 28.274333882308138, 50.26548245743669, 78.53981633974483, 113.09733552923255, 153.93804002589985, 201.06192982974676, 254.46900494077323]\n"
     ]
    }
   ],
   "source": [
    "# Map\n",
    "import math\n",
    "area = lambda r: math.pi*(r**2)\n",
    "\n",
    "print(list(map(area, range(10))))    "
   ]
  },
  {
   "cell_type": "code",
   "execution_count": 35,
   "metadata": {},
   "outputs": [
    {
     "name": "stdout",
     "output_type": "stream",
     "text": [
      "['Delhi', 'Kolkata', 'Mumbai', 'Bangalore', 'Chennai']\n"
     ]
    }
   ],
   "source": [
    "# Filter\n",
    "city_list = [\"\", \"Delhi\", \"Kolkata\", \"Mumbai\", \"\", \"Bangalore\", \"Chennai\", \"\"]\n",
    "print(list(filter(None, city_list)))"
   ]
  },
  {
   "cell_type": "code",
   "execution_count": 36,
   "metadata": {},
   "outputs": [
    {
     "name": "stdout",
     "output_type": "stream",
     "text": [
      "[11, 22, 33]\n"
     ]
    }
   ],
   "source": [
    "in_list = [11, 22, 'ff', 33, '44', 0.35]\n",
    "print(list(filter(lambda x: type(x) == int, in_list)))"
   ]
  },
  {
   "cell_type": "code",
   "execution_count": 37,
   "metadata": {
    "collapsed": true
   },
   "outputs": [],
   "source": [
    "# Reduce"
   ]
  },
  {
   "cell_type": "code",
   "execution_count": 38,
   "metadata": {},
   "outputs": [
    {
     "name": "stdout",
     "output_type": "stream",
     "text": [
      "45\n"
     ]
    }
   ],
   "source": [
    "from functools import reduce \n",
    "foo = lambda x, y: x+y\n",
    "print(reduce(foo, range(10)))"
   ]
  },
  {
   "cell_type": "markdown",
   "metadata": {},
   "source": [
    "### Zip an Unzip"
   ]
  },
  {
   "cell_type": "code",
   "execution_count": 39,
   "metadata": {},
   "outputs": [
    {
     "name": "stdout",
     "output_type": "stream",
     "text": [
      "The zipped result is : [('Manjeet', 4, 40), ('Nikhil', 1, 50), ('Shambhavi', 3, 60), ('Astha', 2, 70)]\n",
      "\n",
      "\n",
      "The unzipped result: \n",
      "The name list is : ('Manjeet', 'Nikhil', 'Shambhavi', 'Astha')\n",
      "The roll_no list is : (4, 1, 3, 2)\n",
      "The marks list is : (40, 50, 60, 70)\n"
     ]
    }
   ],
   "source": [
    "# Python code to demonstrate the working of  \n",
    "# unzip \n",
    "  \n",
    "# initializing lists \n",
    "  \n",
    "name = [ \"Manjeet\", \"Nikhil\", \"Shambhavi\", \"Astha\" ] \n",
    "roll_no = [ 4, 1, 3, 2 ] \n",
    "marks = [ 40, 50, 60, 70 ] \n",
    "  \n",
    "# using zip() to map values \n",
    "mapped = zip(name, roll_no, marks) \n",
    "  \n",
    "# converting values to print as list \n",
    "mapped = list(mapped) \n",
    "  \n",
    "# printing resultant values  \n",
    "print (\"The zipped result is : \",end=\"\") \n",
    "print (mapped) \n",
    "  \n",
    "print(\"\\n\") \n",
    "  \n",
    "# unzipping values \n",
    "namz, roll_noz, marksz = zip(*mapped) \n",
    "  \n",
    "print (\"The unzipped result: \\n\",end=\"\") \n",
    "  \n",
    "# printing initial lists \n",
    "print (\"The name list is : \",end=\"\") \n",
    "print (namz) \n",
    "  \n",
    "print (\"The roll_no list is : \",end=\"\") \n",
    "print (roll_noz) \n",
    "  \n",
    "print (\"The marks list is : \",end=\"\") \n",
    "print (marksz) "
   ]
  },
  {
   "cell_type": "markdown",
   "metadata": {},
   "source": [
    "### Itertools"
   ]
  },
  {
   "cell_type": "code",
   "execution_count": 40,
   "metadata": {},
   "outputs": [
    {
     "data": {
      "text/plain": [
       "[2104033940144, 2104033940144]"
      ]
     },
     "execution_count": 40,
     "metadata": {},
     "output_type": "execute_result"
    }
   ],
   "source": [
    "nums = [1, 2, 3, 4, 5, 6, 7, 8, 9, 10]\n",
    "iters = [iter(nums)] * 2\n",
    "list(id(itr) for itr in iters)  # IDs are the same."
   ]
  },
  {
   "cell_type": "code",
   "execution_count": 41,
   "metadata": {},
   "outputs": [
    {
     "name": "stdout",
     "output_type": "stream",
     "text": [
      "[1, 2, 3, 4, 5, 6, 7, 8, 9, 10]\n"
     ]
    }
   ],
   "source": [
    "print(list(iters[1]))"
   ]
  },
  {
   "cell_type": "code",
   "execution_count": 42,
   "metadata": {
    "collapsed": true
   },
   "outputs": [],
   "source": [
    "def better_grouper(inputs, n):\n",
    "    iters = [iter(inputs)] * n\n",
    "    return zip(*iters)"
   ]
  },
  {
   "cell_type": "code",
   "execution_count": 43,
   "metadata": {},
   "outputs": [
    {
     "data": {
      "text/plain": [
       "[(1, 2), (3, 4), (5, 6), (7, 8), (9, 10)]"
      ]
     },
     "execution_count": 43,
     "metadata": {},
     "output_type": "execute_result"
    }
   ],
   "source": [
    "nums = [1, 2, 3, 4, 5, 6, 7, 8, 9, 10]\n",
    "list(better_grouper(nums, 2))"
   ]
  },
  {
   "cell_type": "code",
   "execution_count": 44,
   "metadata": {},
   "outputs": [
    {
     "name": "stdout",
     "output_type": "stream",
     "text": [
      "2104033623112\n",
      "2104033623112\n"
     ]
    }
   ],
   "source": [
    "a = [1,2 ,3, 4]\n",
    "b = a\n",
    "print(id(a))\n",
    "print(id(b))"
   ]
  },
  {
   "cell_type": "code",
   "execution_count": 45,
   "metadata": {},
   "outputs": [
    {
     "name": "stdout",
     "output_type": "stream",
     "text": [
      "(1, 2, 3, 4)\n",
      "(1, 2, 3, 4)\n"
     ]
    }
   ],
   "source": [
    "c = zip(a, b)\n",
    "#print(list(c))\n",
    "d, e = zip(*c)\n",
    "print(d)\n",
    "print(e)"
   ]
  },
  {
   "cell_type": "code",
   "execution_count": 46,
   "metadata": {},
   "outputs": [
    {
     "name": "stdout",
     "output_type": "stream",
     "text": [
      "[(1, 'a'), (2, 'b'), (3, 'c')]\n",
      "[(1, 'a'), (2, 'b'), (3, 'c'), (4, None), (5, None)]\n"
     ]
    }
   ],
   "source": [
    "import itertools as it\n",
    "x = [1, 2, 3, 4, 5]\n",
    "y = ['a', 'b', 'c']\n",
    "print(list(zip(x, y)))\n",
    "\n",
    "print(list(it.zip_longest(x, y)))"
   ]
  },
  {
   "cell_type": "code",
   "execution_count": 47,
   "metadata": {},
   "outputs": [
    {
     "name": "stdout",
     "output_type": "stream",
     "text": [
      "[(20, 10, 5, 1)]\n",
      "[(20, 20, 20), (20, 20, 10), (20, 20, 5), (20, 20, 1), (20, 10, 10), (20, 10, 5), (20, 10, 1), (20, 5, 5), (20, 5, 1), (20, 1, 1), (10, 10, 10), (10, 10, 5), (10, 10, 1), (10, 5, 5), (10, 5, 1), (10, 1, 1), (5, 5, 5), (5, 5, 1), (5, 1, 1), (1, 1, 1)]\n"
     ]
    }
   ],
   "source": [
    "bills = [20, 20, 20, 10, 10, 10, 10, 10, 5, 5, 1, 1, 1, 1, 1]\n",
    "bills = [20, 10, 5, 1]\n",
    "print(list(it.combinations(bills, 4)))\n",
    "print(list(it.combinations_with_replacement(bills, 3)))"
   ]
  },
  {
   "cell_type": "code",
   "execution_count": 48,
   "metadata": {
    "collapsed": true
   },
   "outputs": [],
   "source": [
    "bills = [20, 20, 20, 10, 10, 10, 10, 10, 5, 5, 1, 1, 1, 1, 1]\n"
   ]
  },
  {
   "cell_type": "code",
   "execution_count": 49,
   "metadata": {},
   "outputs": [
    {
     "data": {
      "text/plain": [
       "[20, 20, 20, 10, 10, 10, 10, 10, 5, 5, 1, 1, 1, 1, 1]"
      ]
     },
     "execution_count": 49,
     "metadata": {},
     "output_type": "execute_result"
    }
   ],
   "source": [
    "a_20 = [20]*3\n",
    "a_10 = [10]*5\n",
    "a_5 = [5]*2\n",
    "a_1 = [1]*5\n",
    "bills = a_20 + a_10 + a_5 + a_1\n",
    "bills"
   ]
  },
  {
   "cell_type": "code",
   "execution_count": 50,
   "metadata": {},
   "outputs": [
    {
     "data": {
      "text/plain": [
       "[(20, 20, 20),\n",
       " (20, 20, 10),\n",
       " (20, 20, 10),\n",
       " (20, 20, 10),\n",
       " (20, 20, 10),\n",
       " (20, 20, 10),\n",
       " (20, 20, 5),\n",
       " (20, 20, 5),\n",
       " (20, 20, 1),\n",
       " (20, 20, 1),\n",
       " (20, 20, 1),\n",
       " (20, 20, 1),\n",
       " (20, 20, 1),\n",
       " (20, 20, 10),\n",
       " (20, 20, 10),\n",
       " (20, 20, 10),\n",
       " (20, 20, 10),\n",
       " (20, 20, 10),\n",
       " (20, 20, 5),\n",
       " (20, 20, 5),\n",
       " (20, 20, 1),\n",
       " (20, 20, 1),\n",
       " (20, 20, 1),\n",
       " (20, 20, 1),\n",
       " (20, 20, 1),\n",
       " (20, 10, 10),\n",
       " (20, 10, 10),\n",
       " (20, 10, 10),\n",
       " (20, 10, 10),\n",
       " (20, 10, 5),\n",
       " (20, 10, 5),\n",
       " (20, 10, 1),\n",
       " (20, 10, 1),\n",
       " (20, 10, 1),\n",
       " (20, 10, 1),\n",
       " (20, 10, 1),\n",
       " (20, 10, 10),\n",
       " (20, 10, 10),\n",
       " (20, 10, 10),\n",
       " (20, 10, 5),\n",
       " (20, 10, 5),\n",
       " (20, 10, 1),\n",
       " (20, 10, 1),\n",
       " (20, 10, 1),\n",
       " (20, 10, 1),\n",
       " (20, 10, 1),\n",
       " (20, 10, 10),\n",
       " (20, 10, 10),\n",
       " (20, 10, 5),\n",
       " (20, 10, 5),\n",
       " (20, 10, 1),\n",
       " (20, 10, 1),\n",
       " (20, 10, 1),\n",
       " (20, 10, 1),\n",
       " (20, 10, 1),\n",
       " (20, 10, 10),\n",
       " (20, 10, 5),\n",
       " (20, 10, 5),\n",
       " (20, 10, 1),\n",
       " (20, 10, 1),\n",
       " (20, 10, 1),\n",
       " (20, 10, 1),\n",
       " (20, 10, 1),\n",
       " (20, 10, 5),\n",
       " (20, 10, 5),\n",
       " (20, 10, 1),\n",
       " (20, 10, 1),\n",
       " (20, 10, 1),\n",
       " (20, 10, 1),\n",
       " (20, 10, 1),\n",
       " (20, 5, 5),\n",
       " (20, 5, 1),\n",
       " (20, 5, 1),\n",
       " (20, 5, 1),\n",
       " (20, 5, 1),\n",
       " (20, 5, 1),\n",
       " (20, 5, 1),\n",
       " (20, 5, 1),\n",
       " (20, 5, 1),\n",
       " (20, 5, 1),\n",
       " (20, 5, 1),\n",
       " (20, 1, 1),\n",
       " (20, 1, 1),\n",
       " (20, 1, 1),\n",
       " (20, 1, 1),\n",
       " (20, 1, 1),\n",
       " (20, 1, 1),\n",
       " (20, 1, 1),\n",
       " (20, 1, 1),\n",
       " (20, 1, 1),\n",
       " (20, 1, 1),\n",
       " (20, 20, 10),\n",
       " (20, 20, 10),\n",
       " (20, 20, 10),\n",
       " (20, 20, 10),\n",
       " (20, 20, 10),\n",
       " (20, 20, 5),\n",
       " (20, 20, 5),\n",
       " (20, 20, 1),\n",
       " (20, 20, 1),\n",
       " (20, 20, 1),\n",
       " (20, 20, 1),\n",
       " (20, 20, 1),\n",
       " (20, 10, 10),\n",
       " (20, 10, 10),\n",
       " (20, 10, 10),\n",
       " (20, 10, 10),\n",
       " (20, 10, 5),\n",
       " (20, 10, 5),\n",
       " (20, 10, 1),\n",
       " (20, 10, 1),\n",
       " (20, 10, 1),\n",
       " (20, 10, 1),\n",
       " (20, 10, 1),\n",
       " (20, 10, 10),\n",
       " (20, 10, 10),\n",
       " (20, 10, 10),\n",
       " (20, 10, 5),\n",
       " (20, 10, 5),\n",
       " (20, 10, 1),\n",
       " (20, 10, 1),\n",
       " (20, 10, 1),\n",
       " (20, 10, 1),\n",
       " (20, 10, 1),\n",
       " (20, 10, 10),\n",
       " (20, 10, 10),\n",
       " (20, 10, 5),\n",
       " (20, 10, 5),\n",
       " (20, 10, 1),\n",
       " (20, 10, 1),\n",
       " (20, 10, 1),\n",
       " (20, 10, 1),\n",
       " (20, 10, 1),\n",
       " (20, 10, 10),\n",
       " (20, 10, 5),\n",
       " (20, 10, 5),\n",
       " (20, 10, 1),\n",
       " (20, 10, 1),\n",
       " (20, 10, 1),\n",
       " (20, 10, 1),\n",
       " (20, 10, 1),\n",
       " (20, 10, 5),\n",
       " (20, 10, 5),\n",
       " (20, 10, 1),\n",
       " (20, 10, 1),\n",
       " (20, 10, 1),\n",
       " (20, 10, 1),\n",
       " (20, 10, 1),\n",
       " (20, 5, 5),\n",
       " (20, 5, 1),\n",
       " (20, 5, 1),\n",
       " (20, 5, 1),\n",
       " (20, 5, 1),\n",
       " (20, 5, 1),\n",
       " (20, 5, 1),\n",
       " (20, 5, 1),\n",
       " (20, 5, 1),\n",
       " (20, 5, 1),\n",
       " (20, 5, 1),\n",
       " (20, 1, 1),\n",
       " (20, 1, 1),\n",
       " (20, 1, 1),\n",
       " (20, 1, 1),\n",
       " (20, 1, 1),\n",
       " (20, 1, 1),\n",
       " (20, 1, 1),\n",
       " (20, 1, 1),\n",
       " (20, 1, 1),\n",
       " (20, 1, 1),\n",
       " (20, 10, 10),\n",
       " (20, 10, 10),\n",
       " (20, 10, 10),\n",
       " (20, 10, 10),\n",
       " (20, 10, 5),\n",
       " (20, 10, 5),\n",
       " (20, 10, 1),\n",
       " (20, 10, 1),\n",
       " (20, 10, 1),\n",
       " (20, 10, 1),\n",
       " (20, 10, 1),\n",
       " (20, 10, 10),\n",
       " (20, 10, 10),\n",
       " (20, 10, 10),\n",
       " (20, 10, 5),\n",
       " (20, 10, 5),\n",
       " (20, 10, 1),\n",
       " (20, 10, 1),\n",
       " (20, 10, 1),\n",
       " (20, 10, 1),\n",
       " (20, 10, 1),\n",
       " (20, 10, 10),\n",
       " (20, 10, 10),\n",
       " (20, 10, 5),\n",
       " (20, 10, 5),\n",
       " (20, 10, 1),\n",
       " (20, 10, 1),\n",
       " (20, 10, 1),\n",
       " (20, 10, 1),\n",
       " (20, 10, 1),\n",
       " (20, 10, 10),\n",
       " (20, 10, 5),\n",
       " (20, 10, 5),\n",
       " (20, 10, 1),\n",
       " (20, 10, 1),\n",
       " (20, 10, 1),\n",
       " (20, 10, 1),\n",
       " (20, 10, 1),\n",
       " (20, 10, 5),\n",
       " (20, 10, 5),\n",
       " (20, 10, 1),\n",
       " (20, 10, 1),\n",
       " (20, 10, 1),\n",
       " (20, 10, 1),\n",
       " (20, 10, 1),\n",
       " (20, 5, 5),\n",
       " (20, 5, 1),\n",
       " (20, 5, 1),\n",
       " (20, 5, 1),\n",
       " (20, 5, 1),\n",
       " (20, 5, 1),\n",
       " (20, 5, 1),\n",
       " (20, 5, 1),\n",
       " (20, 5, 1),\n",
       " (20, 5, 1),\n",
       " (20, 5, 1),\n",
       " (20, 1, 1),\n",
       " (20, 1, 1),\n",
       " (20, 1, 1),\n",
       " (20, 1, 1),\n",
       " (20, 1, 1),\n",
       " (20, 1, 1),\n",
       " (20, 1, 1),\n",
       " (20, 1, 1),\n",
       " (20, 1, 1),\n",
       " (20, 1, 1),\n",
       " (10, 10, 10),\n",
       " (10, 10, 10),\n",
       " (10, 10, 10),\n",
       " (10, 10, 5),\n",
       " (10, 10, 5),\n",
       " (10, 10, 1),\n",
       " (10, 10, 1),\n",
       " (10, 10, 1),\n",
       " (10, 10, 1),\n",
       " (10, 10, 1),\n",
       " (10, 10, 10),\n",
       " (10, 10, 10),\n",
       " (10, 10, 5),\n",
       " (10, 10, 5),\n",
       " (10, 10, 1),\n",
       " (10, 10, 1),\n",
       " (10, 10, 1),\n",
       " (10, 10, 1),\n",
       " (10, 10, 1),\n",
       " (10, 10, 10),\n",
       " (10, 10, 5),\n",
       " (10, 10, 5),\n",
       " (10, 10, 1),\n",
       " (10, 10, 1),\n",
       " (10, 10, 1),\n",
       " (10, 10, 1),\n",
       " (10, 10, 1),\n",
       " (10, 10, 5),\n",
       " (10, 10, 5),\n",
       " (10, 10, 1),\n",
       " (10, 10, 1),\n",
       " (10, 10, 1),\n",
       " (10, 10, 1),\n",
       " (10, 10, 1),\n",
       " (10, 5, 5),\n",
       " (10, 5, 1),\n",
       " (10, 5, 1),\n",
       " (10, 5, 1),\n",
       " (10, 5, 1),\n",
       " (10, 5, 1),\n",
       " (10, 5, 1),\n",
       " (10, 5, 1),\n",
       " (10, 5, 1),\n",
       " (10, 5, 1),\n",
       " (10, 5, 1),\n",
       " (10, 1, 1),\n",
       " (10, 1, 1),\n",
       " (10, 1, 1),\n",
       " (10, 1, 1),\n",
       " (10, 1, 1),\n",
       " (10, 1, 1),\n",
       " (10, 1, 1),\n",
       " (10, 1, 1),\n",
       " (10, 1, 1),\n",
       " (10, 1, 1),\n",
       " (10, 10, 10),\n",
       " (10, 10, 10),\n",
       " (10, 10, 5),\n",
       " (10, 10, 5),\n",
       " (10, 10, 1),\n",
       " (10, 10, 1),\n",
       " (10, 10, 1),\n",
       " (10, 10, 1),\n",
       " (10, 10, 1),\n",
       " (10, 10, 10),\n",
       " (10, 10, 5),\n",
       " (10, 10, 5),\n",
       " (10, 10, 1),\n",
       " (10, 10, 1),\n",
       " (10, 10, 1),\n",
       " (10, 10, 1),\n",
       " (10, 10, 1),\n",
       " (10, 10, 5),\n",
       " (10, 10, 5),\n",
       " (10, 10, 1),\n",
       " (10, 10, 1),\n",
       " (10, 10, 1),\n",
       " (10, 10, 1),\n",
       " (10, 10, 1),\n",
       " (10, 5, 5),\n",
       " (10, 5, 1),\n",
       " (10, 5, 1),\n",
       " (10, 5, 1),\n",
       " (10, 5, 1),\n",
       " (10, 5, 1),\n",
       " (10, 5, 1),\n",
       " (10, 5, 1),\n",
       " (10, 5, 1),\n",
       " (10, 5, 1),\n",
       " (10, 5, 1),\n",
       " (10, 1, 1),\n",
       " (10, 1, 1),\n",
       " (10, 1, 1),\n",
       " (10, 1, 1),\n",
       " (10, 1, 1),\n",
       " (10, 1, 1),\n",
       " (10, 1, 1),\n",
       " (10, 1, 1),\n",
       " (10, 1, 1),\n",
       " (10, 1, 1),\n",
       " (10, 10, 10),\n",
       " (10, 10, 5),\n",
       " (10, 10, 5),\n",
       " (10, 10, 1),\n",
       " (10, 10, 1),\n",
       " (10, 10, 1),\n",
       " (10, 10, 1),\n",
       " (10, 10, 1),\n",
       " (10, 10, 5),\n",
       " (10, 10, 5),\n",
       " (10, 10, 1),\n",
       " (10, 10, 1),\n",
       " (10, 10, 1),\n",
       " (10, 10, 1),\n",
       " (10, 10, 1),\n",
       " (10, 5, 5),\n",
       " (10, 5, 1),\n",
       " (10, 5, 1),\n",
       " (10, 5, 1),\n",
       " (10, 5, 1),\n",
       " (10, 5, 1),\n",
       " (10, 5, 1),\n",
       " (10, 5, 1),\n",
       " (10, 5, 1),\n",
       " (10, 5, 1),\n",
       " (10, 5, 1),\n",
       " (10, 1, 1),\n",
       " (10, 1, 1),\n",
       " (10, 1, 1),\n",
       " (10, 1, 1),\n",
       " (10, 1, 1),\n",
       " (10, 1, 1),\n",
       " (10, 1, 1),\n",
       " (10, 1, 1),\n",
       " (10, 1, 1),\n",
       " (10, 1, 1),\n",
       " (10, 10, 5),\n",
       " (10, 10, 5),\n",
       " (10, 10, 1),\n",
       " (10, 10, 1),\n",
       " (10, 10, 1),\n",
       " (10, 10, 1),\n",
       " (10, 10, 1),\n",
       " (10, 5, 5),\n",
       " (10, 5, 1),\n",
       " (10, 5, 1),\n",
       " (10, 5, 1),\n",
       " (10, 5, 1),\n",
       " (10, 5, 1),\n",
       " (10, 5, 1),\n",
       " (10, 5, 1),\n",
       " (10, 5, 1),\n",
       " (10, 5, 1),\n",
       " (10, 5, 1),\n",
       " (10, 1, 1),\n",
       " (10, 1, 1),\n",
       " (10, 1, 1),\n",
       " (10, 1, 1),\n",
       " (10, 1, 1),\n",
       " (10, 1, 1),\n",
       " (10, 1, 1),\n",
       " (10, 1, 1),\n",
       " (10, 1, 1),\n",
       " (10, 1, 1),\n",
       " (10, 5, 5),\n",
       " (10, 5, 1),\n",
       " (10, 5, 1),\n",
       " (10, 5, 1),\n",
       " (10, 5, 1),\n",
       " (10, 5, 1),\n",
       " (10, 5, 1),\n",
       " (10, 5, 1),\n",
       " (10, 5, 1),\n",
       " (10, 5, 1),\n",
       " (10, 5, 1),\n",
       " (10, 1, 1),\n",
       " (10, 1, 1),\n",
       " (10, 1, 1),\n",
       " (10, 1, 1),\n",
       " (10, 1, 1),\n",
       " (10, 1, 1),\n",
       " (10, 1, 1),\n",
       " (10, 1, 1),\n",
       " (10, 1, 1),\n",
       " (10, 1, 1),\n",
       " (5, 5, 1),\n",
       " (5, 5, 1),\n",
       " (5, 5, 1),\n",
       " (5, 5, 1),\n",
       " (5, 5, 1),\n",
       " (5, 1, 1),\n",
       " (5, 1, 1),\n",
       " (5, 1, 1),\n",
       " (5, 1, 1),\n",
       " (5, 1, 1),\n",
       " (5, 1, 1),\n",
       " (5, 1, 1),\n",
       " (5, 1, 1),\n",
       " (5, 1, 1),\n",
       " (5, 1, 1),\n",
       " (5, 1, 1),\n",
       " (5, 1, 1),\n",
       " (5, 1, 1),\n",
       " (5, 1, 1),\n",
       " (5, 1, 1),\n",
       " (5, 1, 1),\n",
       " (5, 1, 1),\n",
       " (5, 1, 1),\n",
       " (5, 1, 1),\n",
       " (5, 1, 1),\n",
       " (1, 1, 1),\n",
       " (1, 1, 1),\n",
       " (1, 1, 1),\n",
       " (1, 1, 1),\n",
       " (1, 1, 1),\n",
       " (1, 1, 1),\n",
       " (1, 1, 1),\n",
       " (1, 1, 1),\n",
       " (1, 1, 1),\n",
       " (1, 1, 1)]"
      ]
     },
     "execution_count": 50,
     "metadata": {},
     "output_type": "execute_result"
    }
   ],
   "source": [
    "list(it.combinations(bills, 3))"
   ]
  },
  {
   "cell_type": "code",
   "execution_count": 51,
   "metadata": {},
   "outputs": [
    {
     "name": "stdout",
     "output_type": "stream",
     "text": [
      "{(20, 20, 20, 10, 10, 10, 5, 5), (20, 20, 20, 10, 10, 10, 5, 1, 1, 1, 1, 1), (20, 20, 10, 10, 10, 10, 10, 5, 5), (20, 20, 10, 10, 10, 10, 10, 5, 1, 1, 1, 1, 1), (20, 20, 20, 10, 10, 10, 10)}\n"
     ]
    }
   ],
   "source": [
    "makes_100 = []\n",
    "for n in range(1, len(bills) + 1):\n",
    "    for combination in it.combinations(bills, n):\n",
    "        if sum(combination) == 100:\n",
    "            makes_100.append(combination)\n",
    "print(set(makes_100))"
   ]
  },
  {
   "cell_type": "code",
   "execution_count": 52,
   "metadata": {},
   "outputs": [
    {
     "name": "stdout",
     "output_type": "stream",
     "text": [
      "{(2, 3), (1, 4)}\n"
     ]
    }
   ],
   "source": [
    "total_5 = []\n",
    "nums = [1, 4, 0, 6, 2, 3]\n",
    "for combination in it.combinations(nums, 2):\n",
    "    if sum(combination) == 5:\n",
    "        total_5.append(combination)\n",
    "print(set(total_5))"
   ]
  },
  {
   "cell_type": "markdown",
   "metadata": {},
   "source": [
    "### Unittest"
   ]
  },
  {
   "cell_type": "code",
   "execution_count": 53,
   "metadata": {},
   "outputs": [
    {
     "name": "stderr",
     "output_type": "stream",
     "text": [
      "E\n",
      "======================================================================\n",
      "ERROR: C:\\Users\\firdo\\AppData\\Roaming\\jupyter\\runtime\\kernel-87ced550-d3e5-4883-8beb-2bbaedc1849c (unittest.loader._FailedTest)\n",
      "----------------------------------------------------------------------\n",
      "AttributeError: module '__main__' has no attribute 'C:\\Users\\firdo\\AppData\\Roaming\\jupyter\\runtime\\kernel-87ced550-d3e5-4883-8beb-2bbaedc1849c'\n",
      "\n",
      "----------------------------------------------------------------------\n",
      "Ran 1 test in 0.002s\n",
      "\n",
      "FAILED (errors=1)\n"
     ]
    },
    {
     "ename": "SystemExit",
     "evalue": "True",
     "output_type": "error",
     "traceback": [
      "An exception has occurred, use %tb to see the full traceback.\n",
      "\u001b[1;31mSystemExit\u001b[0m\u001b[1;31m:\u001b[0m True\n"
     ]
    },
    {
     "name": "stderr",
     "output_type": "stream",
     "text": [
      "C:\\Users\\firdo\\Anaconda3\\lib\\site-packages\\IPython\\core\\interactiveshell.py:2870: UserWarning: To exit: use 'exit', 'quit', or Ctrl-D.\n",
      "  warn(\"To exit: use 'exit', 'quit', or Ctrl-D.\", stacklevel=1)\n"
     ]
    }
   ],
   "source": [
    "# -*- coding: utf-8 -*-\n",
    "\"\"\"\n",
    "Created on Fri Nov 16 18:35:06 2018\n",
    "\n",
    "@author: firdo\n",
    "\"\"\"\n",
    "\n",
    "import unittest\n",
    "\n",
    "\"\"\"\n",
    "Below is the function under test\n",
    "\"\"\"\n",
    "\n",
    "\n",
    "def format_zipcode(zip_code):\n",
    "    if len(zip_code) <= 5:\n",
    "        return '{:>05}'.format(zip_code)\n",
    "\n",
    "    if len(zip_code) == 10:\n",
    "        return str(zip_code)\n",
    "\n",
    "    if len(zip_code) == 9:\n",
    "        return '{}-{}'.format(zip_code[:5], zip_code[5:])\n",
    "\n",
    "\n",
    "\"\"\"\n",
    "Below is the unit testing class\n",
    "\"\"\"\n",
    "\n",
    "\n",
    "class TestZipCode(unittest.TestCase):\n",
    "    def test_1_happy_path(self):\n",
    "        \"\"\"\n",
    "        Testcase to exercise positive test points\n",
    "        \"\"\"\n",
    "\n",
    "        print(\" Testing Positive Scenarios \".center(80, '*'))\n",
    "\n",
    "        # Dictionary with the possible test points, in the form of\n",
    "        # key : input argument value\n",
    "        # value: expected result\n",
    "        testcases = {\n",
    "            # Below 4 tests to exercise the condition len(zip_code) <= 5\n",
    "            '': '00000',\n",
    "            '1': '00001',\n",
    "            '1234': '01234',\n",
    "            '12345': '12345',\n",
    "\n",
    "            # Below test to exercise the condition len(zip_code) == 10\n",
    "            '1234567890': '1234567890',\n",
    "\n",
    "            # Below test to exercise the condition len(zip_code) == 9\n",
    "            '123456789': '12345-6789',\n",
    "\n",
    "        }\n",
    "\n",
    "        # Iterate through the test points\n",
    "        for input_val, expected_result in testcases.items():\n",
    "            obtained_result = format_zipcode(input_val)\n",
    "            print(f\"Testing with input: '{input_val}'.\"\n",
    "                  f\" Expecting: '{expected_result}'.\"\n",
    "                  f\" Obtained: '{obtained_result}'\")\n",
    "\n",
    "            self.assertEqual(expected_result, obtained_result)\n",
    "\n",
    "        print('*' * 80)\n",
    "\n",
    "    def test_2_unhandled_inputs(self):\n",
    "        \"\"\"\n",
    "        Testcase to exercise unhandled test input scenarios\n",
    "        \"\"\"\n",
    "\n",
    "        print(\" Testing Unhandled Input Scenarios \".center(80, '*'))\n",
    "\n",
    "        # Dictionary with the possible test points, in the form of\n",
    "        # key : input argument value\n",
    "        # value: expected result\n",
    "        testcases = {\n",
    "            # When 6 <= len(zip_code) <= 8.\n",
    "            # Considering only boundaries, i.e. 6 & 8\n",
    "            '123456': None,\n",
    "            '12345678': None,\n",
    "\n",
    "            # When len(zip_code) > 10\n",
    "            # Considering only boundaries, i.e. 11\n",
    "            '12345678901': None,\n",
    "\n",
    "        }\n",
    "\n",
    "        # Iterate through the test points\n",
    "        for input_val, expected_result in testcases.items():\n",
    "            obtained_result = format_zipcode(input_val)\n",
    "            print(f\"Testing with input: '{input_val}'.\"\n",
    "                  f\" Expecting: '{expected_result}'.\" \n",
    "                  f\" Obtained: '{obtained_result}'\")\n",
    "\n",
    "            self.assertIsNone(obtained_result)\n",
    "\n",
    "        print('*' * 80)\n",
    "\n",
    "    def test_3_special_char_inputs(self):\n",
    "        \"\"\"\n",
    "        Testcase to exercise special character input values\n",
    "        Note: The function under test will give us the output, as there is no\n",
    "              check whether the given input in valid or not\n",
    "        \"\"\"\n",
    "\n",
    "        print(\" Testing Special Char Input Scenarios \".center(80, '*'))\n",
    "\n",
    "        # Dictionary with the possible test points, in the form of\n",
    "        # key : input argument value\n",
    "        # value: expected result\n",
    "        testcases = {\n",
    "            # 9 '-' will return 10 '-'\n",
    "            '---------': '----------',\n",
    "            # @#$%^\n",
    "            '@#$%': '0@#$%'\n",
    "\n",
    "        }\n",
    "\n",
    "        # Iterate through the test points\n",
    "        for input_val, expected_result in testcases.items():\n",
    "            obtained_result = format_zipcode(input_val)\n",
    "            print(f\"Testing with input: '{input_val}'.\"\n",
    "                  f\" Expecting: '{expected_result}'.\"\n",
    "                  f\" Obtained: '{obtained_result}'\")\n",
    "\n",
    "            self.assertEqual(expected_result, obtained_result)\n",
    "\n",
    "        print('*' * 80)\n",
    "\n",
    "    def test_4_exception(self):\n",
    "        \"\"\"\n",
    "        Testcase to exercise exceptions\n",
    "        \"\"\"\n",
    "        \n",
    "        print(\" Testing Exceptions \".center(80, '*'))\n",
    "        \n",
    "        # Testing scenario, without passing the input argument.\n",
    "        # This is expected to throw a 'TypeError'\n",
    "        print(\"Testing without providing the function argument\")\n",
    "        self.assertRaises(TypeError, format_zipcode)\n",
    "        \n",
    "        # Testing scenario, passing an integer input argument.\n",
    "        # This is expected to throw a 'TypeError'\n",
    "        print(\"Testing with passing integer argument, instead of string\")\n",
    "        self.assertRaises(TypeError, format_zipcode, 12345)\n",
    "        \n",
    "        print('*' * 80)\n",
    "\n",
    "\n",
    "# main() routine to call the unit test\n",
    "if __name__ == \"__main__\":\n",
    "    unittest.main()\n"
   ]
  },
  {
   "cell_type": "code",
   "execution_count": 54,
   "metadata": {},
   "outputs": [
    {
     "name": "stdout",
     "output_type": "stream",
     "text": [
      "\u0001\n"
     ]
    }
   ],
   "source": [
    "print(\"\\1\")"
   ]
  },
  {
   "cell_type": "code",
   "execution_count": 56,
   "metadata": {},
   "outputs": [
    {
     "name": "stdout",
     "output_type": "stream",
     "text": [
      "With arg\n"
     ]
    }
   ],
   "source": [
    "def foo1():\n",
    "    print(\"No Arg\")\n",
    "    \n",
    "def foo1(ar):\n",
    "    print(\"With arg\")\n",
    "    \n",
    "    \n",
    "foo1('x')"
   ]
  },
  {
   "cell_type": "markdown",
   "metadata": {},
   "source": [
    "## Raymond Hettinger"
   ]
  },
  {
   "cell_type": "code",
   "execution_count": 57,
   "metadata": {},
   "outputs": [
    {
     "data": {
      "text/plain": [
       "'lim x ⟶ ∞, 1/sin²(x)'"
      ]
     },
     "execution_count": 57,
     "metadata": {},
     "output_type": "execute_result"
    }
   ],
   "source": [
    "str(b'lim x \\xe2\\x9f\\xb6 \\xe2\\x88\\x9e, 1/sin\\xc2\\xb2(x)', 'utf-8')"
   ]
  },
  {
   "cell_type": "code",
   "execution_count": 58,
   "metadata": {},
   "outputs": [
    {
     "data": {
      "text/plain": [
       "b'Merry Christmas!'"
      ]
     },
     "execution_count": 58,
     "metadata": {},
     "output_type": "execute_result"
    }
   ],
   "source": [
    "bytes.fromhex('4d 65 72 72 79 20 43 68 72 69 73 74 6d 61 73 21')"
   ]
  },
  {
   "cell_type": "code",
   "execution_count": 59,
   "metadata": {},
   "outputs": [
    {
     "ename": "NameError",
     "evalue": "name 'info' is not defined",
     "output_type": "error",
     "traceback": [
      "\u001b[1;31m---------------------------------------------------------------------------\u001b[0m",
      "\u001b[1;31mNameError\u001b[0m                                 Traceback (most recent call last)",
      "\u001b[1;32m<ipython-input-59-64009dfbba23>\u001b[0m in \u001b[0;36m<module>\u001b[1;34m()\u001b[0m\n\u001b[0;32m      2\u001b[0m \u001b[1;33m\u001b[0m\u001b[0m\n\u001b[0;32m      3\u001b[0m \u001b[1;31m#Pretty way:\u001b[0m\u001b[1;33m\u001b[0m\u001b[1;33m\u001b[0m\u001b[0m\n\u001b[1;32m----> 4\u001b[1;33m \u001b[0mprint\u001b[0m\u001b[1;33m(\u001b[0m\u001b[1;34m'{name} works at {status} {company}'\u001b[0m\u001b[1;33m.\u001b[0m\u001b[0mformat_map\u001b[0m\u001b[1;33m(\u001b[0m\u001b[0minfo\u001b[0m\u001b[1;33m)\u001b[0m\u001b[1;33m)\u001b[0m\u001b[1;33m\u001b[0m\u001b[0m\n\u001b[0m\u001b[0;32m      5\u001b[0m \u001b[1;33m\u001b[0m\u001b[0m\n\u001b[0;32m      6\u001b[0m \u001b[1;31m#Less pretty:\u001b[0m\u001b[1;33m\u001b[0m\u001b[1;33m\u001b[0m\u001b[0m\n",
      "\u001b[1;31mNameError\u001b[0m: name 'info' is not defined"
     ]
    }
   ],
   "source": [
    "#Python tip:  If your data is in a dictionary, perhaps from a JSON file, then str.format_map() is your new best friend.\n",
    "\n",
    "#Pretty way:\n",
    "print('{name} works at {status} {company}'.format_map(info))\n",
    "\n",
    "#Less pretty:\n",
    "print(f'{info[\"name\"]} works at {info[\"status\"]} {info[\"company\"]}')"
   ]
  },
  {
   "cell_type": "code",
   "execution_count": 61,
   "metadata": {},
   "outputs": [
    {
     "name": "stdout",
     "output_type": "stream",
     "text": [
      "50 ⟶ Hawaiʻi\n"
     ]
    }
   ],
   "source": [
    "ordinal, state = 50, \"Hawaiʻi\"\n",
    "print(f'{ordinal} \\N{long rightwards arrow} {state}')"
   ]
  },
  {
   "cell_type": "code",
   "execution_count": 62,
   "metadata": {},
   "outputs": [
    {
     "name": "stdout",
     "output_type": "stream",
     "text": [
      "False\n",
      "False\n",
      "True\n"
     ]
    }
   ],
   "source": [
    "a = {2, 4}\n",
    "b = {4, 2}\n",
    "print(a < b)\n",
    "print(b < a)\n",
    "\n",
    "print(min(a, b) == min(b, a))"
   ]
  },
  {
   "cell_type": "code",
   "execution_count": null,
   "metadata": {
    "collapsed": true
   },
   "outputs": [],
   "source": []
  },
  {
   "cell_type": "code",
   "execution_count": 63,
   "metadata": {},
   "outputs": [
    {
     "name": "stdout",
     "output_type": "stream",
     "text": [
      "10 20\n",
      "20 10\n"
     ]
    }
   ],
   "source": [
    "a = 10\n",
    "b = 20\n",
    "print(a, b)\n",
    "a, b = b, a\n",
    "print(a, b)"
   ]
  },
  {
   "cell_type": "code",
   "execution_count": 64,
   "metadata": {},
   "outputs": [
    {
     "name": "stdout",
     "output_type": "stream",
     "text": [
      "1\n",
      "1\n"
     ]
    }
   ],
   "source": [
    "def foo():\n",
    "    #global a\n",
    "    a = 2\n",
    "\n",
    "a = 1\n",
    "print(a)\n",
    "foo()\n",
    "print(a)"
   ]
  },
  {
   "cell_type": "markdown",
   "metadata": {},
   "source": [
    "### Monkey Patching"
   ]
  },
  {
   "cell_type": "code",
   "execution_count": 65,
   "metadata": {},
   "outputs": [
    {
     "name": "stdout",
     "output_type": "stream",
     "text": [
      "Inside foo()\n",
      "new_foo() start\n",
      "new_foo() end\n",
      "new_foo() start\n",
      "new_foo() end\n"
     ]
    }
   ],
   "source": [
    "class MonkeyPatch(object):\n",
    "    def foo(self):\n",
    "        print(\"Inside foo()\")\n",
    "        \n",
    "\n",
    "def new_foo(self):\n",
    "    print(\"new_foo() start\")\n",
    "    print(\"new_foo() end\")\n",
    "    \n",
    "obj1 = MonkeyPatch()\n",
    "obj1.foo()\n",
    "\n",
    "MonkeyPatch.foo = new_foo\n",
    "\n",
    "obj2 = MonkeyPatch()\n",
    "obj2.foo()\n",
    "\n",
    "obj1.foo()"
   ]
  },
  {
   "cell_type": "markdown",
   "metadata": {},
   "source": [
    "### Garbage Collection"
   ]
  },
  {
   "cell_type": "code",
   "execution_count": 66,
   "metadata": {},
   "outputs": [
    {
     "data": {
      "text/plain": [
       "1212"
      ]
     },
     "execution_count": 66,
     "metadata": {},
     "output_type": "execute_result"
    }
   ],
   "source": [
    "import gc\n",
    "gc.collect()"
   ]
  }
 ],
 "metadata": {
  "kernelspec": {
   "display_name": "Python 3",
   "language": "python",
   "name": "python3"
  },
  "language_info": {
   "codemirror_mode": {
    "name": "ipython",
    "version": 3
   },
   "file_extension": ".py",
   "mimetype": "text/x-python",
   "name": "python",
   "nbconvert_exporter": "python",
   "pygments_lexer": "ipython3",
   "version": "3.6.3"
  }
 },
 "nbformat": 4,
 "nbformat_minor": 2
}
